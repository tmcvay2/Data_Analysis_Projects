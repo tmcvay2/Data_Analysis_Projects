{
 "cells": [
  {
   "cell_type": "markdown",
   "source": [
    "## Likes Report \n",
    "\n",
    "### EMAT 22110 - Data in Emerging Media and Technology\n",
    "\n",
    "### Tovin McVay Jr\n",
    "\n",
    "### Created February 9th, 2020"
   ],
   "metadata": {}
  },
  {
   "cell_type": "markdown",
   "source": [
    "### Purpose\n",
    "\n",
    "**With the instagram data I have collected, I want to analyze information regarding my likes over the years that I have been usng instagram. I want to be able see how many total likes i have given, the number of likes other accounts has from me, and which accounts have the most likes from me. I asked these questions because we are in a time of where social media plays a huge roll for many people and being able to analyze my interaction with Instagram is something I find very interesting.**\n",
    "\n",
    "**DISCLAIMER- There are very long list of data in this report**"
   ],
   "metadata": {}
  },
  {
   "cell_type": "markdown",
   "source": [
    "### Sources\n",
    "\n",
    "**I aacquired this data from Instagram.com and logged in to my account. I then requested Instagram to create a folder with all of my data of using Instagram and so I can download it.**"
   ],
   "metadata": {}
  },
  {
   "cell_type": "markdown",
   "source": [
    "# Data\n",
    "\n",
    "**To start off I needed to import all of the tools that I will be using for this report. I will be using json, pandas, matplot.lib, and seaborn.**"
   ],
   "metadata": {}
  },
  {
   "cell_type": "code",
   "execution_count": 1,
   "source": [
    "from platform import python_version\n",
    "\n",
    "print(python_version())"
   ],
   "outputs": [
    {
     "output_type": "stream",
     "name": "stdout",
     "text": [
      "3.9.6\n"
     ]
    }
   ],
   "metadata": {}
  },
  {
   "cell_type": "code",
   "execution_count": 2,
   "source": [
    "import json\n",
    "import os\n",
    "import pandas as pd\n",
    "import matplotlib.pyplot as mat\n",
    "import numpy as np"
   ],
   "outputs": [],
   "metadata": {}
  },
  {
   "cell_type": "code",
   "execution_count": 3,
   "source": [
    "f = open(os.path.expanduser(\"~/Desktop/Python/_tj99_20210204/likes/liked_posts.json\"))\n",
    "\n",
    "likes = json.load(f)\n",
    "#likes"
   ],
   "outputs": [],
   "metadata": {}
  },
  {
   "cell_type": "markdown",
   "source": [
    "**Line 1:I am verifying what latest version of python is running on my system.**\n",
    "\n",
    "**Line 2: I am importing allthe tools I will be using for this report.**\n",
    "\n",
    "**Line 3: I am not loading in my likes file and wanted to run it to make sure eveything is working properly which it is and is very long.**\n",
    "\n",
    "\n"
   ],
   "metadata": {}
  },
  {
   "cell_type": "markdown",
   "source": [
    "## Analyzing my \"likes\"."
   ],
   "metadata": {}
  },
  {
   "cell_type": "code",
   "execution_count": 4,
   "source": [
    "len(likes['likes_media_likes'])"
   ],
   "outputs": [
    {
     "output_type": "execute_result",
     "data": {
      "text/plain": [
       "2022"
      ]
     },
     "metadata": {},
     "execution_count": 4
    }
   ],
   "metadata": {}
  },
  {
   "cell_type": "code",
   "execution_count": 5,
   "source": [
    "likes['likes_media_likes'][0]['title']"
   ],
   "outputs": [
    {
     "output_type": "execute_result",
     "data": {
      "text/plain": [
       "'sheterria.sparks'"
      ]
     },
     "metadata": {},
     "execution_count": 5
    }
   ],
   "metadata": {}
  },
  {
   "cell_type": "code",
   "execution_count": 6,
   "source": [
    "accounts = [x['title'][:15] for x in likes['likes_media_likes']]\n",
    "#accounts"
   ],
   "outputs": [],
   "metadata": {}
  },
  {
   "cell_type": "code",
   "execution_count": 7,
   "source": [
    "timestamp = [x['string_list_data'][0]['timestamp']for x in likes['likes_media_likes']]\n",
    "#timestamp"
   ],
   "outputs": [],
   "metadata": {}
  },
  {
   "cell_type": "markdown",
   "source": [
    "**In line 4 I found my total number of likes that I have given to other accounts since I made an Instagram. The total is 2022 likes which may seem like alot but it really isnt compared to other users.**\n",
    "\n",
    "**Line 5 shows my most recent account I have given a \"like\" to on the their recent post.**\n",
    "\n",
    "**Line 6-7, I am compiling every account that I have given a \"like\" to and every date of when I gave that \"like\".**\n",
    "\n"
   ],
   "metadata": {}
  },
  {
   "cell_type": "markdown",
   "source": [
    "### Compiling the data in tables"
   ],
   "metadata": {}
  },
  {
   "cell_type": "code",
   "execution_count": 8,
   "source": [
    "likes_df = pd.DataFrame({'accounts' : accounts, 'timestamp': timestamp})\n",
    "likes_df"
   ],
   "outputs": [
    {
     "output_type": "execute_result",
     "data": {
      "text/plain": [
       "             accounts   timestamp\n",
       "0     sheterria.spark  1612405458\n",
       "1        hope.jazmyne  1612395584\n",
       "2         chloebailey  1612395461\n",
       "3         chloebailey  1612322008\n",
       "4          dontoliver  1612314149\n",
       "...               ...         ...\n",
       "2017      rockemsocks  1368064629\n",
       "2018      kicksonfire  1367875838\n",
       "2019      kicksonfire  1367875686\n",
       "2020      kicksonfire  1365464843\n",
       "2021    paigeebear143  1348102406\n",
       "\n",
       "[2022 rows x 2 columns]"
      ],
      "text/html": [
       "<div>\n",
       "<style scoped>\n",
       "    .dataframe tbody tr th:only-of-type {\n",
       "        vertical-align: middle;\n",
       "    }\n",
       "\n",
       "    .dataframe tbody tr th {\n",
       "        vertical-align: top;\n",
       "    }\n",
       "\n",
       "    .dataframe thead th {\n",
       "        text-align: right;\n",
       "    }\n",
       "</style>\n",
       "<table border=\"1\" class=\"dataframe\">\n",
       "  <thead>\n",
       "    <tr style=\"text-align: right;\">\n",
       "      <th></th>\n",
       "      <th>accounts</th>\n",
       "      <th>timestamp</th>\n",
       "    </tr>\n",
       "  </thead>\n",
       "  <tbody>\n",
       "    <tr>\n",
       "      <th>0</th>\n",
       "      <td>sheterria.spark</td>\n",
       "      <td>1612405458</td>\n",
       "    </tr>\n",
       "    <tr>\n",
       "      <th>1</th>\n",
       "      <td>hope.jazmyne</td>\n",
       "      <td>1612395584</td>\n",
       "    </tr>\n",
       "    <tr>\n",
       "      <th>2</th>\n",
       "      <td>chloebailey</td>\n",
       "      <td>1612395461</td>\n",
       "    </tr>\n",
       "    <tr>\n",
       "      <th>3</th>\n",
       "      <td>chloebailey</td>\n",
       "      <td>1612322008</td>\n",
       "    </tr>\n",
       "    <tr>\n",
       "      <th>4</th>\n",
       "      <td>dontoliver</td>\n",
       "      <td>1612314149</td>\n",
       "    </tr>\n",
       "    <tr>\n",
       "      <th>...</th>\n",
       "      <td>...</td>\n",
       "      <td>...</td>\n",
       "    </tr>\n",
       "    <tr>\n",
       "      <th>2017</th>\n",
       "      <td>rockemsocks</td>\n",
       "      <td>1368064629</td>\n",
       "    </tr>\n",
       "    <tr>\n",
       "      <th>2018</th>\n",
       "      <td>kicksonfire</td>\n",
       "      <td>1367875838</td>\n",
       "    </tr>\n",
       "    <tr>\n",
       "      <th>2019</th>\n",
       "      <td>kicksonfire</td>\n",
       "      <td>1367875686</td>\n",
       "    </tr>\n",
       "    <tr>\n",
       "      <th>2020</th>\n",
       "      <td>kicksonfire</td>\n",
       "      <td>1365464843</td>\n",
       "    </tr>\n",
       "    <tr>\n",
       "      <th>2021</th>\n",
       "      <td>paigeebear143</td>\n",
       "      <td>1348102406</td>\n",
       "    </tr>\n",
       "  </tbody>\n",
       "</table>\n",
       "<p>2022 rows × 2 columns</p>\n",
       "</div>"
      ]
     },
     "metadata": {},
     "execution_count": 8
    }
   ],
   "metadata": {}
  },
  {
   "cell_type": "code",
   "execution_count": 9,
   "source": [
    "count_likes = likes_df.groupby('accounts').count().rename(columns = {'timestamp': 'likes'})\n",
    "count_likes"
   ],
   "outputs": [
    {
     "output_type": "execute_result",
     "data": {
      "text/plain": [
       "                 likes\n",
       "accounts              \n",
       "1.0.26_              1\n",
       "1o1pak               4\n",
       "216.superman         1\n",
       "219setty             1\n",
       "24k.dayday           1\n",
       "...                ...\n",
       "yvettenicolebro      1\n",
       "zendaya              4\n",
       "zgreenawald4         1\n",
       "zoeisabellakrav      3\n",
       "zoersims             1\n",
       "\n",
       "[554 rows x 1 columns]"
      ],
      "text/html": [
       "<div>\n",
       "<style scoped>\n",
       "    .dataframe tbody tr th:only-of-type {\n",
       "        vertical-align: middle;\n",
       "    }\n",
       "\n",
       "    .dataframe tbody tr th {\n",
       "        vertical-align: top;\n",
       "    }\n",
       "\n",
       "    .dataframe thead th {\n",
       "        text-align: right;\n",
       "    }\n",
       "</style>\n",
       "<table border=\"1\" class=\"dataframe\">\n",
       "  <thead>\n",
       "    <tr style=\"text-align: right;\">\n",
       "      <th></th>\n",
       "      <th>likes</th>\n",
       "    </tr>\n",
       "    <tr>\n",
       "      <th>accounts</th>\n",
       "      <th></th>\n",
       "    </tr>\n",
       "  </thead>\n",
       "  <tbody>\n",
       "    <tr>\n",
       "      <th>1.0.26_</th>\n",
       "      <td>1</td>\n",
       "    </tr>\n",
       "    <tr>\n",
       "      <th>1o1pak</th>\n",
       "      <td>4</td>\n",
       "    </tr>\n",
       "    <tr>\n",
       "      <th>216.superman</th>\n",
       "      <td>1</td>\n",
       "    </tr>\n",
       "    <tr>\n",
       "      <th>219setty</th>\n",
       "      <td>1</td>\n",
       "    </tr>\n",
       "    <tr>\n",
       "      <th>24k.dayday</th>\n",
       "      <td>1</td>\n",
       "    </tr>\n",
       "    <tr>\n",
       "      <th>...</th>\n",
       "      <td>...</td>\n",
       "    </tr>\n",
       "    <tr>\n",
       "      <th>yvettenicolebro</th>\n",
       "      <td>1</td>\n",
       "    </tr>\n",
       "    <tr>\n",
       "      <th>zendaya</th>\n",
       "      <td>4</td>\n",
       "    </tr>\n",
       "    <tr>\n",
       "      <th>zgreenawald4</th>\n",
       "      <td>1</td>\n",
       "    </tr>\n",
       "    <tr>\n",
       "      <th>zoeisabellakrav</th>\n",
       "      <td>3</td>\n",
       "    </tr>\n",
       "    <tr>\n",
       "      <th>zoersims</th>\n",
       "      <td>1</td>\n",
       "    </tr>\n",
       "  </tbody>\n",
       "</table>\n",
       "<p>554 rows × 1 columns</p>\n",
       "</div>"
      ]
     },
     "metadata": {},
     "execution_count": 9
    }
   ],
   "metadata": {}
  },
  {
   "cell_type": "markdown",
   "source": [
    "**Line 8-9, I created a table using pandas that shows the most recent accounts I have given a \"like\" on their posts, and then creating another table showing the total number of likes I have given each account i have interactted with in alphabetical order. This is very intersting but this isnt the end goal I want to find out who are the top accounts I have given the most likes to.**"
   ],
   "metadata": {}
  },
  {
   "cell_type": "markdown",
   "source": [
    "### Final table results"
   ],
   "metadata": {}
  },
  {
   "cell_type": "code",
   "execution_count": 10,
   "source": [
    "count_likes = likes_df.groupby('accounts').count().rename(columns = {'timestamp': 'likes'}).sort_values('likes' , ascending=False)\n",
    "count_likes"
   ],
   "outputs": [
    {
     "output_type": "execute_result",
     "data": {
      "text/plain": [
       "                 likes\n",
       "accounts              \n",
       "mlb                 53\n",
       "ranyah.chahine      41\n",
       "blackgreeklifes     40\n",
       "_cicimichele        38\n",
       "nba                 36\n",
       "...                ...\n",
       "jaazzzyy._           1\n",
       "its.don.juan         1\n",
       "indialove            1\n",
       "iamdocakh            1\n",
       "zoersims             1\n",
       "\n",
       "[554 rows x 1 columns]"
      ],
      "text/html": [
       "<div>\n",
       "<style scoped>\n",
       "    .dataframe tbody tr th:only-of-type {\n",
       "        vertical-align: middle;\n",
       "    }\n",
       "\n",
       "    .dataframe tbody tr th {\n",
       "        vertical-align: top;\n",
       "    }\n",
       "\n",
       "    .dataframe thead th {\n",
       "        text-align: right;\n",
       "    }\n",
       "</style>\n",
       "<table border=\"1\" class=\"dataframe\">\n",
       "  <thead>\n",
       "    <tr style=\"text-align: right;\">\n",
       "      <th></th>\n",
       "      <th>likes</th>\n",
       "    </tr>\n",
       "    <tr>\n",
       "      <th>accounts</th>\n",
       "      <th></th>\n",
       "    </tr>\n",
       "  </thead>\n",
       "  <tbody>\n",
       "    <tr>\n",
       "      <th>mlb</th>\n",
       "      <td>53</td>\n",
       "    </tr>\n",
       "    <tr>\n",
       "      <th>ranyah.chahine</th>\n",
       "      <td>41</td>\n",
       "    </tr>\n",
       "    <tr>\n",
       "      <th>blackgreeklifes</th>\n",
       "      <td>40</td>\n",
       "    </tr>\n",
       "    <tr>\n",
       "      <th>_cicimichele</th>\n",
       "      <td>38</td>\n",
       "    </tr>\n",
       "    <tr>\n",
       "      <th>nba</th>\n",
       "      <td>36</td>\n",
       "    </tr>\n",
       "    <tr>\n",
       "      <th>...</th>\n",
       "      <td>...</td>\n",
       "    </tr>\n",
       "    <tr>\n",
       "      <th>jaazzzyy._</th>\n",
       "      <td>1</td>\n",
       "    </tr>\n",
       "    <tr>\n",
       "      <th>its.don.juan</th>\n",
       "      <td>1</td>\n",
       "    </tr>\n",
       "    <tr>\n",
       "      <th>indialove</th>\n",
       "      <td>1</td>\n",
       "    </tr>\n",
       "    <tr>\n",
       "      <th>iamdocakh</th>\n",
       "      <td>1</td>\n",
       "    </tr>\n",
       "    <tr>\n",
       "      <th>zoersims</th>\n",
       "      <td>1</td>\n",
       "    </tr>\n",
       "  </tbody>\n",
       "</table>\n",
       "<p>554 rows × 1 columns</p>\n",
       "</div>"
      ]
     },
     "metadata": {},
     "execution_count": 10
    }
   ],
   "metadata": {}
  },
  {
   "cell_type": "markdown",
   "source": [
    "**Line 10 is just creating a table to show me all of the users and their total number of likes they have recieved from me from greatest to least.**"
   ],
   "metadata": {}
  },
  {
   "cell_type": "code",
   "execution_count": 13,
   "source": [
    "toplikes = count_likes['likes'] > 25\n",
    "countstop, countsbot = sortcount[toplikes], sortcount[-toplikes]\n",
    "other = countsbot.sum()\n",
    "\n",
    "piedat = countstop.append(pd.DataFrame(other['likes'], columns = ['likes'], index = ['other < 25']))\n",
    "piedat"
   ],
   "outputs": [
    {
     "output_type": "stream",
     "name": "stderr",
     "text": [
      "/var/folders/n7/_wh3305x3gvf0lyg6pvxdl_40000gn/T/ipykernel_60543/2329127615.py:2: UserWarning: Boolean Series key will be reindexed to match DataFrame index.\n",
      "  countstop, countsbot = sortcount[toplikes], sortcount[-toplikes]\n"
     ]
    },
    {
     "output_type": "execute_result",
     "data": {
      "text/plain": [
       "                 likes\n",
       "mlb                 53\n",
       "ranyah.chahine      41\n",
       "blackgreeklifes     40\n",
       "_cicimichele        38\n",
       "nba                 36\n",
       "camrynhowell        27\n",
       "isiahceo            27\n",
       "houseofhighligh     27\n",
       "travisscott         26\n",
       "other < 25        1707"
      ],
      "text/html": [
       "<div>\n",
       "<style scoped>\n",
       "    .dataframe tbody tr th:only-of-type {\n",
       "        vertical-align: middle;\n",
       "    }\n",
       "\n",
       "    .dataframe tbody tr th {\n",
       "        vertical-align: top;\n",
       "    }\n",
       "\n",
       "    .dataframe thead th {\n",
       "        text-align: right;\n",
       "    }\n",
       "</style>\n",
       "<table border=\"1\" class=\"dataframe\">\n",
       "  <thead>\n",
       "    <tr style=\"text-align: right;\">\n",
       "      <th></th>\n",
       "      <th>likes</th>\n",
       "    </tr>\n",
       "  </thead>\n",
       "  <tbody>\n",
       "    <tr>\n",
       "      <th>mlb</th>\n",
       "      <td>53</td>\n",
       "    </tr>\n",
       "    <tr>\n",
       "      <th>ranyah.chahine</th>\n",
       "      <td>41</td>\n",
       "    </tr>\n",
       "    <tr>\n",
       "      <th>blackgreeklifes</th>\n",
       "      <td>40</td>\n",
       "    </tr>\n",
       "    <tr>\n",
       "      <th>_cicimichele</th>\n",
       "      <td>38</td>\n",
       "    </tr>\n",
       "    <tr>\n",
       "      <th>nba</th>\n",
       "      <td>36</td>\n",
       "    </tr>\n",
       "    <tr>\n",
       "      <th>camrynhowell</th>\n",
       "      <td>27</td>\n",
       "    </tr>\n",
       "    <tr>\n",
       "      <th>isiahceo</th>\n",
       "      <td>27</td>\n",
       "    </tr>\n",
       "    <tr>\n",
       "      <th>houseofhighligh</th>\n",
       "      <td>27</td>\n",
       "    </tr>\n",
       "    <tr>\n",
       "      <th>travisscott</th>\n",
       "      <td>26</td>\n",
       "    </tr>\n",
       "    <tr>\n",
       "      <th>other &lt; 25</th>\n",
       "      <td>1707</td>\n",
       "    </tr>\n",
       "  </tbody>\n",
       "</table>\n",
       "</div>"
      ]
     },
     "metadata": {},
     "execution_count": 13
    }
   ],
   "metadata": {}
  },
  {
   "cell_type": "markdown",
   "source": [
    "\n",
    "\n",
    "**Line 11, I created a function to reorder the number of likes each user has recieved by making the function only show me likes with more than 25 and then creating a row title \"other < 25\" which are all of the other users who I did not give them over 25 likes to.**"
   ],
   "metadata": {}
  },
  {
   "cell_type": "markdown",
   "source": [
    "## Final Presentation with Graphs"
   ],
   "metadata": {}
  },
  {
   "cell_type": "code",
   "execution_count": 12,
   "source": [
    "sortcount = count_likes.sort_values('likes' ,ascending=False)\n",
    "labels = sortcount['likes'][:10].keys()\n",
    "vals = sortcount['likes'][:10]\n",
    "width = .5\n",
    "\n",
    "fig, ax = mat.subplots(figsize=(17,17), dpi = 80, facecolor = 'w', edgecolor = 'k')\n",
    "ax.bar(labels,vals)\n",
    "ax.set_ylabel('Likes')\n",
    "mat.xticks(rotation=90, fontsize = 'medium')\n",
    "mat.show()"
   ],
   "outputs": [
    {
     "output_type": "display_data",
     "data": {
      "text/plain": [
       "<Figure size 1360x1360 with 1 Axes>"
      ],
      "image/svg+xml": "<?xml version=\"1.0\" encoding=\"utf-8\" standalone=\"no\"?>\n<!DOCTYPE svg PUBLIC \"-//W3C//DTD SVG 1.1//EN\"\n  \"http://www.w3.org/Graphics/SVG/1.1/DTD/svg11.dtd\">\n<svg height=\"1025.359063pt\" version=\"1.1\" viewBox=\"0 0 996.403125 1025.359063\" width=\"996.403125pt\" xmlns=\"http://www.w3.org/2000/svg\" xmlns:xlink=\"http://www.w3.org/1999/xlink\">\n <metadata>\n  <rdf:RDF xmlns:cc=\"http://creativecommons.org/ns#\" xmlns:dc=\"http://purl.org/dc/elements/1.1/\" xmlns:rdf=\"http://www.w3.org/1999/02/22-rdf-syntax-ns#\">\n   <cc:Work>\n    <dc:type rdf:resource=\"http://purl.org/dc/dcmitype/StillImage\"/>\n    <dc:date>2021-08-10T16:23:12.492097</dc:date>\n    <dc:format>image/svg+xml</dc:format>\n    <dc:creator>\n     <cc:Agent>\n      <dc:title>Matplotlib v3.4.2, https://matplotlib.org/</dc:title>\n     </cc:Agent>\n    </dc:creator>\n   </cc:Work>\n  </rdf:RDF>\n </metadata>\n <defs>\n  <style type=\"text/css\">*{stroke-linecap:butt;stroke-linejoin:round;}</style>\n </defs>\n <g id=\"figure_1\">\n  <g id=\"patch_1\">\n   <path d=\"M 0 1025.359063 \nL 996.403125 1025.359063 \nL 996.403125 0 \nL 0 0 \nz\n\" style=\"fill:#ffffff;\"/>\n  </g>\n  <g id=\"axes_1\">\n   <g id=\"patch_2\">\n    <path d=\"M 40.603125 931.32 \nL 989.203125 931.32 \nL 989.203125 7.2 \nL 40.603125 7.2 \nz\n\" style=\"fill:#ffffff;\"/>\n   </g>\n   <g id=\"patch_3\">\n    <path clip-path=\"url(#p5fc1fb8f0f)\" d=\"M 83.721307 931.32 \nL 154.118338 931.32 \nL 154.118338 51.205714 \nL 83.721307 51.205714 \nz\n\" style=\"fill:#1f77b4;\"/>\n   </g>\n   <g id=\"patch_4\">\n    <path clip-path=\"url(#p5fc1fb8f0f)\" d=\"M 171.717596 931.32 \nL 242.114628 931.32 \nL 242.114628 250.476873 \nL 171.717596 250.476873 \nz\n\" style=\"fill:#1f77b4;\"/>\n   </g>\n   <g id=\"patch_5\">\n    <path clip-path=\"url(#p5fc1fb8f0f)\" d=\"M 259.713886 931.32 \nL 330.110917 931.32 \nL 330.110917 267.082803 \nL 259.713886 267.082803 \nz\n\" style=\"fill:#1f77b4;\"/>\n   </g>\n   <g id=\"patch_6\">\n    <path clip-path=\"url(#p5fc1fb8f0f)\" d=\"M 347.710175 931.32 \nL 418.107207 931.32 \nL 418.107207 300.294663 \nL 347.710175 300.294663 \nz\n\" style=\"fill:#1f77b4;\"/>\n   </g>\n   <g id=\"patch_7\">\n    <path clip-path=\"url(#p5fc1fb8f0f)\" d=\"M 435.706465 931.32 \nL 506.103496 931.32 \nL 506.103496 333.506523 \nL 435.706465 333.506523 \nz\n\" style=\"fill:#1f77b4;\"/>\n   </g>\n   <g id=\"patch_8\">\n    <path clip-path=\"url(#p5fc1fb8f0f)\" d=\"M 523.702754 931.32 \nL 594.099785 931.32 \nL 594.099785 482.959892 \nL 523.702754 482.959892 \nz\n\" style=\"fill:#1f77b4;\"/>\n   </g>\n   <g id=\"patch_9\">\n    <path clip-path=\"url(#p5fc1fb8f0f)\" d=\"M 611.699043 931.32 \nL 682.096075 931.32 \nL 682.096075 482.959892 \nL 611.699043 482.959892 \nz\n\" style=\"fill:#1f77b4;\"/>\n   </g>\n   <g id=\"patch_10\">\n    <path clip-path=\"url(#p5fc1fb8f0f)\" d=\"M 699.695333 931.32 \nL 770.092364 931.32 \nL 770.092364 482.959892 \nL 699.695333 482.959892 \nz\n\" style=\"fill:#1f77b4;\"/>\n   </g>\n   <g id=\"patch_11\">\n    <path clip-path=\"url(#p5fc1fb8f0f)\" d=\"M 787.691622 931.32 \nL 858.088654 931.32 \nL 858.088654 499.565822 \nL 787.691622 499.565822 \nz\n\" style=\"fill:#1f77b4;\"/>\n   </g>\n   <g id=\"patch_12\">\n    <path clip-path=\"url(#p5fc1fb8f0f)\" d=\"M 875.687912 931.32 \nL 946.084943 931.32 \nL 946.084943 532.777682 \nL 875.687912 532.777682 \nz\n\" style=\"fill:#1f77b4;\"/>\n   </g>\n   <g id=\"matplotlib.axis_1\">\n    <g id=\"xtick_1\">\n     <g id=\"line2d_1\">\n      <defs>\n       <path d=\"M 0 0 \nL 0 3.5 \n\" id=\"mbe5be3e3c6\" style=\"stroke:#000000;stroke-width:0.8;\"/>\n      </defs>\n      <g>\n       <use style=\"stroke:#000000;stroke-width:0.8;\" x=\"118.919823\" xlink:href=\"#mbe5be3e3c6\" y=\"931.32\"/>\n      </g>\n     </g>\n     <g id=\"text_1\">\n      <!-- mlb -->\n      <g transform=\"translate(121.679198 957.187188)rotate(-90)scale(0.1 -0.1)\">\n       <defs>\n        <path d=\"M 3328 2828 \nQ 3544 3216 3844 3400 \nQ 4144 3584 4550 3584 \nQ 5097 3584 5394 3201 \nQ 5691 2819 5691 2113 \nL 5691 0 \nL 5113 0 \nL 5113 2094 \nQ 5113 2597 4934 2840 \nQ 4756 3084 4391 3084 \nQ 3944 3084 3684 2787 \nQ 3425 2491 3425 1978 \nL 3425 0 \nL 2847 0 \nL 2847 2094 \nQ 2847 2600 2669 2842 \nQ 2491 3084 2119 3084 \nQ 1678 3084 1418 2786 \nQ 1159 2488 1159 1978 \nL 1159 0 \nL 581 0 \nL 581 3500 \nL 1159 3500 \nL 1159 2956 \nQ 1356 3278 1631 3431 \nQ 1906 3584 2284 3584 \nQ 2666 3584 2933 3390 \nQ 3200 3197 3328 2828 \nz\n\" id=\"DejaVuSans-6d\" transform=\"scale(0.015625)\"/>\n        <path d=\"M 603 4863 \nL 1178 4863 \nL 1178 0 \nL 603 0 \nL 603 4863 \nz\n\" id=\"DejaVuSans-6c\" transform=\"scale(0.015625)\"/>\n        <path d=\"M 3116 1747 \nQ 3116 2381 2855 2742 \nQ 2594 3103 2138 3103 \nQ 1681 3103 1420 2742 \nQ 1159 2381 1159 1747 \nQ 1159 1113 1420 752 \nQ 1681 391 2138 391 \nQ 2594 391 2855 752 \nQ 3116 1113 3116 1747 \nz\nM 1159 2969 \nQ 1341 3281 1617 3432 \nQ 1894 3584 2278 3584 \nQ 2916 3584 3314 3078 \nQ 3713 2572 3713 1747 \nQ 3713 922 3314 415 \nQ 2916 -91 2278 -91 \nQ 1894 -91 1617 61 \nQ 1341 213 1159 525 \nL 1159 0 \nL 581 0 \nL 581 4863 \nL 1159 4863 \nL 1159 2969 \nz\n\" id=\"DejaVuSans-62\" transform=\"scale(0.015625)\"/>\n       </defs>\n       <use xlink:href=\"#DejaVuSans-6d\"/>\n       <use x=\"97.412109\" xlink:href=\"#DejaVuSans-6c\"/>\n       <use x=\"125.195312\" xlink:href=\"#DejaVuSans-62\"/>\n      </g>\n     </g>\n    </g>\n    <g id=\"xtick_2\">\n     <g id=\"line2d_2\">\n      <g>\n       <use style=\"stroke:#000000;stroke-width:0.8;\" x=\"206.916112\" xlink:href=\"#mbe5be3e3c6\" y=\"931.32\"/>\n      </g>\n     </g>\n     <g id=\"text_2\">\n      <!-- ranyah.chahine -->\n      <g transform=\"translate(209.675487 1016.029375)rotate(-90)scale(0.1 -0.1)\">\n       <defs>\n        <path d=\"M 2631 2963 \nQ 2534 3019 2420 3045 \nQ 2306 3072 2169 3072 \nQ 1681 3072 1420 2755 \nQ 1159 2438 1159 1844 \nL 1159 0 \nL 581 0 \nL 581 3500 \nL 1159 3500 \nL 1159 2956 \nQ 1341 3275 1631 3429 \nQ 1922 3584 2338 3584 \nQ 2397 3584 2469 3576 \nQ 2541 3569 2628 3553 \nL 2631 2963 \nz\n\" id=\"DejaVuSans-72\" transform=\"scale(0.015625)\"/>\n        <path d=\"M 2194 1759 \nQ 1497 1759 1228 1600 \nQ 959 1441 959 1056 \nQ 959 750 1161 570 \nQ 1363 391 1709 391 \nQ 2188 391 2477 730 \nQ 2766 1069 2766 1631 \nL 2766 1759 \nL 2194 1759 \nz\nM 3341 1997 \nL 3341 0 \nL 2766 0 \nL 2766 531 \nQ 2569 213 2275 61 \nQ 1981 -91 1556 -91 \nQ 1019 -91 701 211 \nQ 384 513 384 1019 \nQ 384 1609 779 1909 \nQ 1175 2209 1959 2209 \nL 2766 2209 \nL 2766 2266 \nQ 2766 2663 2505 2880 \nQ 2244 3097 1772 3097 \nQ 1472 3097 1187 3025 \nQ 903 2953 641 2809 \nL 641 3341 \nQ 956 3463 1253 3523 \nQ 1550 3584 1831 3584 \nQ 2591 3584 2966 3190 \nQ 3341 2797 3341 1997 \nz\n\" id=\"DejaVuSans-61\" transform=\"scale(0.015625)\"/>\n        <path d=\"M 3513 2113 \nL 3513 0 \nL 2938 0 \nL 2938 2094 \nQ 2938 2591 2744 2837 \nQ 2550 3084 2163 3084 \nQ 1697 3084 1428 2787 \nQ 1159 2491 1159 1978 \nL 1159 0 \nL 581 0 \nL 581 3500 \nL 1159 3500 \nL 1159 2956 \nQ 1366 3272 1645 3428 \nQ 1925 3584 2291 3584 \nQ 2894 3584 3203 3211 \nQ 3513 2838 3513 2113 \nz\n\" id=\"DejaVuSans-6e\" transform=\"scale(0.015625)\"/>\n        <path d=\"M 2059 -325 \nQ 1816 -950 1584 -1140 \nQ 1353 -1331 966 -1331 \nL 506 -1331 \nL 506 -850 \nL 844 -850 \nQ 1081 -850 1212 -737 \nQ 1344 -625 1503 -206 \nL 1606 56 \nL 191 3500 \nL 800 3500 \nL 1894 763 \nL 2988 3500 \nL 3597 3500 \nL 2059 -325 \nz\n\" id=\"DejaVuSans-79\" transform=\"scale(0.015625)\"/>\n        <path d=\"M 3513 2113 \nL 3513 0 \nL 2938 0 \nL 2938 2094 \nQ 2938 2591 2744 2837 \nQ 2550 3084 2163 3084 \nQ 1697 3084 1428 2787 \nQ 1159 2491 1159 1978 \nL 1159 0 \nL 581 0 \nL 581 4863 \nL 1159 4863 \nL 1159 2956 \nQ 1366 3272 1645 3428 \nQ 1925 3584 2291 3584 \nQ 2894 3584 3203 3211 \nQ 3513 2838 3513 2113 \nz\n\" id=\"DejaVuSans-68\" transform=\"scale(0.015625)\"/>\n        <path d=\"M 684 794 \nL 1344 794 \nL 1344 0 \nL 684 0 \nL 684 794 \nz\n\" id=\"DejaVuSans-2e\" transform=\"scale(0.015625)\"/>\n        <path d=\"M 3122 3366 \nL 3122 2828 \nQ 2878 2963 2633 3030 \nQ 2388 3097 2138 3097 \nQ 1578 3097 1268 2742 \nQ 959 2388 959 1747 \nQ 959 1106 1268 751 \nQ 1578 397 2138 397 \nQ 2388 397 2633 464 \nQ 2878 531 3122 666 \nL 3122 134 \nQ 2881 22 2623 -34 \nQ 2366 -91 2075 -91 \nQ 1284 -91 818 406 \nQ 353 903 353 1747 \nQ 353 2603 823 3093 \nQ 1294 3584 2113 3584 \nQ 2378 3584 2631 3529 \nQ 2884 3475 3122 3366 \nz\n\" id=\"DejaVuSans-63\" transform=\"scale(0.015625)\"/>\n        <path d=\"M 603 3500 \nL 1178 3500 \nL 1178 0 \nL 603 0 \nL 603 3500 \nz\nM 603 4863 \nL 1178 4863 \nL 1178 4134 \nL 603 4134 \nL 603 4863 \nz\n\" id=\"DejaVuSans-69\" transform=\"scale(0.015625)\"/>\n        <path d=\"M 3597 1894 \nL 3597 1613 \nL 953 1613 \nQ 991 1019 1311 708 \nQ 1631 397 2203 397 \nQ 2534 397 2845 478 \nQ 3156 559 3463 722 \nL 3463 178 \nQ 3153 47 2828 -22 \nQ 2503 -91 2169 -91 \nQ 1331 -91 842 396 \nQ 353 884 353 1716 \nQ 353 2575 817 3079 \nQ 1281 3584 2069 3584 \nQ 2775 3584 3186 3129 \nQ 3597 2675 3597 1894 \nz\nM 3022 2063 \nQ 3016 2534 2758 2815 \nQ 2500 3097 2075 3097 \nQ 1594 3097 1305 2825 \nQ 1016 2553 972 2059 \nL 3022 2063 \nz\n\" id=\"DejaVuSans-65\" transform=\"scale(0.015625)\"/>\n       </defs>\n       <use xlink:href=\"#DejaVuSans-72\"/>\n       <use x=\"41.113281\" xlink:href=\"#DejaVuSans-61\"/>\n       <use x=\"102.392578\" xlink:href=\"#DejaVuSans-6e\"/>\n       <use x=\"165.771484\" xlink:href=\"#DejaVuSans-79\"/>\n       <use x=\"224.951172\" xlink:href=\"#DejaVuSans-61\"/>\n       <use x=\"286.230469\" xlink:href=\"#DejaVuSans-68\"/>\n       <use x=\"349.609375\" xlink:href=\"#DejaVuSans-2e\"/>\n       <use x=\"381.396484\" xlink:href=\"#DejaVuSans-63\"/>\n       <use x=\"436.376953\" xlink:href=\"#DejaVuSans-68\"/>\n       <use x=\"499.755859\" xlink:href=\"#DejaVuSans-61\"/>\n       <use x=\"561.035156\" xlink:href=\"#DejaVuSans-68\"/>\n       <use x=\"624.414062\" xlink:href=\"#DejaVuSans-69\"/>\n       <use x=\"652.197266\" xlink:href=\"#DejaVuSans-6e\"/>\n       <use x=\"715.576172\" xlink:href=\"#DejaVuSans-65\"/>\n      </g>\n     </g>\n    </g>\n    <g id=\"xtick_3\">\n     <g id=\"line2d_3\">\n      <g>\n       <use style=\"stroke:#000000;stroke-width:0.8;\" x=\"294.912401\" xlink:href=\"#mbe5be3e3c6\" y=\"931.32\"/>\n      </g>\n     </g>\n     <g id=\"text_3\">\n      <!-- blackgreeklifes -->\n      <g transform=\"translate(297.671776 1013.634063)rotate(-90)scale(0.1 -0.1)\">\n       <defs>\n        <path d=\"M 581 4863 \nL 1159 4863 \nL 1159 1991 \nL 2875 3500 \nL 3609 3500 \nL 1753 1863 \nL 3688 0 \nL 2938 0 \nL 1159 1709 \nL 1159 0 \nL 581 0 \nL 581 4863 \nz\n\" id=\"DejaVuSans-6b\" transform=\"scale(0.015625)\"/>\n        <path d=\"M 2906 1791 \nQ 2906 2416 2648 2759 \nQ 2391 3103 1925 3103 \nQ 1463 3103 1205 2759 \nQ 947 2416 947 1791 \nQ 947 1169 1205 825 \nQ 1463 481 1925 481 \nQ 2391 481 2648 825 \nQ 2906 1169 2906 1791 \nz\nM 3481 434 \nQ 3481 -459 3084 -895 \nQ 2688 -1331 1869 -1331 \nQ 1566 -1331 1297 -1286 \nQ 1028 -1241 775 -1147 \nL 775 -588 \nQ 1028 -725 1275 -790 \nQ 1522 -856 1778 -856 \nQ 2344 -856 2625 -561 \nQ 2906 -266 2906 331 \nL 2906 616 \nQ 2728 306 2450 153 \nQ 2172 0 1784 0 \nQ 1141 0 747 490 \nQ 353 981 353 1791 \nQ 353 2603 747 3093 \nQ 1141 3584 1784 3584 \nQ 2172 3584 2450 3431 \nQ 2728 3278 2906 2969 \nL 2906 3500 \nL 3481 3500 \nL 3481 434 \nz\n\" id=\"DejaVuSans-67\" transform=\"scale(0.015625)\"/>\n        <path d=\"M 2375 4863 \nL 2375 4384 \nL 1825 4384 \nQ 1516 4384 1395 4259 \nQ 1275 4134 1275 3809 \nL 1275 3500 \nL 2222 3500 \nL 2222 3053 \nL 1275 3053 \nL 1275 0 \nL 697 0 \nL 697 3053 \nL 147 3053 \nL 147 3500 \nL 697 3500 \nL 697 3744 \nQ 697 4328 969 4595 \nQ 1241 4863 1831 4863 \nL 2375 4863 \nz\n\" id=\"DejaVuSans-66\" transform=\"scale(0.015625)\"/>\n        <path d=\"M 2834 3397 \nL 2834 2853 \nQ 2591 2978 2328 3040 \nQ 2066 3103 1784 3103 \nQ 1356 3103 1142 2972 \nQ 928 2841 928 2578 \nQ 928 2378 1081 2264 \nQ 1234 2150 1697 2047 \nL 1894 2003 \nQ 2506 1872 2764 1633 \nQ 3022 1394 3022 966 \nQ 3022 478 2636 193 \nQ 2250 -91 1575 -91 \nQ 1294 -91 989 -36 \nQ 684 19 347 128 \nL 347 722 \nQ 666 556 975 473 \nQ 1284 391 1588 391 \nQ 1994 391 2212 530 \nQ 2431 669 2431 922 \nQ 2431 1156 2273 1281 \nQ 2116 1406 1581 1522 \nL 1381 1569 \nQ 847 1681 609 1914 \nQ 372 2147 372 2553 \nQ 372 3047 722 3315 \nQ 1072 3584 1716 3584 \nQ 2034 3584 2315 3537 \nQ 2597 3491 2834 3397 \nz\n\" id=\"DejaVuSans-73\" transform=\"scale(0.015625)\"/>\n       </defs>\n       <use xlink:href=\"#DejaVuSans-62\"/>\n       <use x=\"63.476562\" xlink:href=\"#DejaVuSans-6c\"/>\n       <use x=\"91.259766\" xlink:href=\"#DejaVuSans-61\"/>\n       <use x=\"152.539062\" xlink:href=\"#DejaVuSans-63\"/>\n       <use x=\"207.519531\" xlink:href=\"#DejaVuSans-6b\"/>\n       <use x=\"265.429688\" xlink:href=\"#DejaVuSans-67\"/>\n       <use x=\"328.90625\" xlink:href=\"#DejaVuSans-72\"/>\n       <use x=\"367.769531\" xlink:href=\"#DejaVuSans-65\"/>\n       <use x=\"429.292969\" xlink:href=\"#DejaVuSans-65\"/>\n       <use x=\"490.816406\" xlink:href=\"#DejaVuSans-6b\"/>\n       <use x=\"548.726562\" xlink:href=\"#DejaVuSans-6c\"/>\n       <use x=\"576.509766\" xlink:href=\"#DejaVuSans-69\"/>\n       <use x=\"604.292969\" xlink:href=\"#DejaVuSans-66\"/>\n       <use x=\"639.498047\" xlink:href=\"#DejaVuSans-65\"/>\n       <use x=\"701.021484\" xlink:href=\"#DejaVuSans-73\"/>\n      </g>\n     </g>\n    </g>\n    <g id=\"xtick_4\">\n     <g id=\"line2d_4\">\n      <g>\n       <use style=\"stroke:#000000;stroke-width:0.8;\" x=\"382.908691\" xlink:href=\"#mbe5be3e3c6\" y=\"931.32\"/>\n      </g>\n     </g>\n     <g id=\"text_4\">\n      <!-- _cicimichele -->\n      <g transform=\"translate(385.529003 999.312188)rotate(-90)scale(0.1 -0.1)\">\n       <defs>\n        <path d=\"M 3263 -1063 \nL 3263 -1509 \nL -63 -1509 \nL -63 -1063 \nL 3263 -1063 \nz\n\" id=\"DejaVuSans-5f\" transform=\"scale(0.015625)\"/>\n       </defs>\n       <use xlink:href=\"#DejaVuSans-5f\"/>\n       <use x=\"50\" xlink:href=\"#DejaVuSans-63\"/>\n       <use x=\"104.980469\" xlink:href=\"#DejaVuSans-69\"/>\n       <use x=\"132.763672\" xlink:href=\"#DejaVuSans-63\"/>\n       <use x=\"187.744141\" xlink:href=\"#DejaVuSans-69\"/>\n       <use x=\"215.527344\" xlink:href=\"#DejaVuSans-6d\"/>\n       <use x=\"312.939453\" xlink:href=\"#DejaVuSans-69\"/>\n       <use x=\"340.722656\" xlink:href=\"#DejaVuSans-63\"/>\n       <use x=\"395.703125\" xlink:href=\"#DejaVuSans-68\"/>\n       <use x=\"459.082031\" xlink:href=\"#DejaVuSans-65\"/>\n       <use x=\"520.605469\" xlink:href=\"#DejaVuSans-6c\"/>\n       <use x=\"548.388672\" xlink:href=\"#DejaVuSans-65\"/>\n      </g>\n     </g>\n    </g>\n    <g id=\"xtick_5\">\n     <g id=\"line2d_5\">\n      <g>\n       <use style=\"stroke:#000000;stroke-width:0.8;\" x=\"470.90498\" xlink:href=\"#mbe5be3e3c6\" y=\"931.32\"/>\n      </g>\n     </g>\n     <g id=\"text_5\">\n      <!-- nba -->\n      <g transform=\"translate(473.664355 957.134063)rotate(-90)scale(0.1 -0.1)\">\n       <use xlink:href=\"#DejaVuSans-6e\"/>\n       <use x=\"63.378906\" xlink:href=\"#DejaVuSans-62\"/>\n       <use x=\"126.855469\" xlink:href=\"#DejaVuSans-61\"/>\n      </g>\n     </g>\n    </g>\n    <g id=\"xtick_6\">\n     <g id=\"line2d_6\">\n      <g>\n       <use style=\"stroke:#000000;stroke-width:0.8;\" x=\"558.90127\" xlink:href=\"#mbe5be3e3c6\" y=\"931.32\"/>\n      </g>\n     </g>\n     <g id=\"text_6\">\n      <!-- camrynhowell -->\n      <g transform=\"translate(561.660645 1008.398125)rotate(-90)scale(0.1 -0.1)\">\n       <defs>\n        <path d=\"M 1959 3097 \nQ 1497 3097 1228 2736 \nQ 959 2375 959 1747 \nQ 959 1119 1226 758 \nQ 1494 397 1959 397 \nQ 2419 397 2687 759 \nQ 2956 1122 2956 1747 \nQ 2956 2369 2687 2733 \nQ 2419 3097 1959 3097 \nz\nM 1959 3584 \nQ 2709 3584 3137 3096 \nQ 3566 2609 3566 1747 \nQ 3566 888 3137 398 \nQ 2709 -91 1959 -91 \nQ 1206 -91 779 398 \nQ 353 888 353 1747 \nQ 353 2609 779 3096 \nQ 1206 3584 1959 3584 \nz\n\" id=\"DejaVuSans-6f\" transform=\"scale(0.015625)\"/>\n        <path d=\"M 269 3500 \nL 844 3500 \nL 1563 769 \nL 2278 3500 \nL 2956 3500 \nL 3675 769 \nL 4391 3500 \nL 4966 3500 \nL 4050 0 \nL 3372 0 \nL 2619 2869 \nL 1863 0 \nL 1184 0 \nL 269 3500 \nz\n\" id=\"DejaVuSans-77\" transform=\"scale(0.015625)\"/>\n       </defs>\n       <use xlink:href=\"#DejaVuSans-63\"/>\n       <use x=\"54.980469\" xlink:href=\"#DejaVuSans-61\"/>\n       <use x=\"116.259766\" xlink:href=\"#DejaVuSans-6d\"/>\n       <use x=\"213.671875\" xlink:href=\"#DejaVuSans-72\"/>\n       <use x=\"254.785156\" xlink:href=\"#DejaVuSans-79\"/>\n       <use x=\"313.964844\" xlink:href=\"#DejaVuSans-6e\"/>\n       <use x=\"377.34375\" xlink:href=\"#DejaVuSans-68\"/>\n       <use x=\"440.722656\" xlink:href=\"#DejaVuSans-6f\"/>\n       <use x=\"501.904297\" xlink:href=\"#DejaVuSans-77\"/>\n       <use x=\"583.691406\" xlink:href=\"#DejaVuSans-65\"/>\n       <use x=\"645.214844\" xlink:href=\"#DejaVuSans-6c\"/>\n       <use x=\"672.998047\" xlink:href=\"#DejaVuSans-6c\"/>\n      </g>\n     </g>\n    </g>\n    <g id=\"xtick_7\">\n     <g id=\"line2d_7\">\n      <g>\n       <use style=\"stroke:#000000;stroke-width:0.8;\" x=\"646.897559\" xlink:href=\"#mbe5be3e3c6\" y=\"931.32\"/>\n      </g>\n     </g>\n     <g id=\"text_7\">\n      <!-- isiahceo -->\n      <g transform=\"translate(649.656934 979.321563)rotate(-90)scale(0.1 -0.1)\">\n       <use xlink:href=\"#DejaVuSans-69\"/>\n       <use x=\"27.783203\" xlink:href=\"#DejaVuSans-73\"/>\n       <use x=\"79.882812\" xlink:href=\"#DejaVuSans-69\"/>\n       <use x=\"107.666016\" xlink:href=\"#DejaVuSans-61\"/>\n       <use x=\"168.945312\" xlink:href=\"#DejaVuSans-68\"/>\n       <use x=\"232.324219\" xlink:href=\"#DejaVuSans-63\"/>\n       <use x=\"287.304688\" xlink:href=\"#DejaVuSans-65\"/>\n       <use x=\"348.828125\" xlink:href=\"#DejaVuSans-6f\"/>\n      </g>\n     </g>\n    </g>\n    <g id=\"xtick_8\">\n     <g id=\"line2d_8\">\n      <g>\n       <use style=\"stroke:#000000;stroke-width:0.8;\" x=\"734.893849\" xlink:href=\"#mbe5be3e3c6\" y=\"931.32\"/>\n      </g>\n     </g>\n     <g id=\"text_8\">\n      <!-- houseofhighligh -->\n      <g transform=\"translate(737.653224 1018.159063)rotate(-90)scale(0.1 -0.1)\">\n       <defs>\n        <path d=\"M 544 1381 \nL 544 3500 \nL 1119 3500 \nL 1119 1403 \nQ 1119 906 1312 657 \nQ 1506 409 1894 409 \nQ 2359 409 2629 706 \nQ 2900 1003 2900 1516 \nL 2900 3500 \nL 3475 3500 \nL 3475 0 \nL 2900 0 \nL 2900 538 \nQ 2691 219 2414 64 \nQ 2138 -91 1772 -91 \nQ 1169 -91 856 284 \nQ 544 659 544 1381 \nz\nM 1991 3584 \nL 1991 3584 \nz\n\" id=\"DejaVuSans-75\" transform=\"scale(0.015625)\"/>\n       </defs>\n       <use xlink:href=\"#DejaVuSans-68\"/>\n       <use x=\"63.378906\" xlink:href=\"#DejaVuSans-6f\"/>\n       <use x=\"124.560547\" xlink:href=\"#DejaVuSans-75\"/>\n       <use x=\"187.939453\" xlink:href=\"#DejaVuSans-73\"/>\n       <use x=\"240.039062\" xlink:href=\"#DejaVuSans-65\"/>\n       <use x=\"301.5625\" xlink:href=\"#DejaVuSans-6f\"/>\n       <use x=\"362.744141\" xlink:href=\"#DejaVuSans-66\"/>\n       <use x=\"397.949219\" xlink:href=\"#DejaVuSans-68\"/>\n       <use x=\"461.328125\" xlink:href=\"#DejaVuSans-69\"/>\n       <use x=\"489.111328\" xlink:href=\"#DejaVuSans-67\"/>\n       <use x=\"552.587891\" xlink:href=\"#DejaVuSans-68\"/>\n       <use x=\"615.966797\" xlink:href=\"#DejaVuSans-6c\"/>\n       <use x=\"643.75\" xlink:href=\"#DejaVuSans-69\"/>\n       <use x=\"671.533203\" xlink:href=\"#DejaVuSans-67\"/>\n       <use x=\"735.009766\" xlink:href=\"#DejaVuSans-68\"/>\n      </g>\n     </g>\n    </g>\n    <g id=\"xtick_9\">\n     <g id=\"line2d_9\">\n      <g>\n       <use style=\"stroke:#000000;stroke-width:0.8;\" x=\"822.890138\" xlink:href=\"#mbe5be3e3c6\" y=\"931.32\"/>\n      </g>\n     </g>\n     <g id=\"text_9\">\n      <!-- travisscott -->\n      <g transform=\"translate(825.649513 991.052813)rotate(-90)scale(0.1 -0.1)\">\n       <defs>\n        <path d=\"M 1172 4494 \nL 1172 3500 \nL 2356 3500 \nL 2356 3053 \nL 1172 3053 \nL 1172 1153 \nQ 1172 725 1289 603 \nQ 1406 481 1766 481 \nL 2356 481 \nL 2356 0 \nL 1766 0 \nQ 1100 0 847 248 \nQ 594 497 594 1153 \nL 594 3053 \nL 172 3053 \nL 172 3500 \nL 594 3500 \nL 594 4494 \nL 1172 4494 \nz\n\" id=\"DejaVuSans-74\" transform=\"scale(0.015625)\"/>\n        <path d=\"M 191 3500 \nL 800 3500 \nL 1894 563 \nL 2988 3500 \nL 3597 3500 \nL 2284 0 \nL 1503 0 \nL 191 3500 \nz\n\" id=\"DejaVuSans-76\" transform=\"scale(0.015625)\"/>\n       </defs>\n       <use xlink:href=\"#DejaVuSans-74\"/>\n       <use x=\"39.208984\" xlink:href=\"#DejaVuSans-72\"/>\n       <use x=\"80.322266\" xlink:href=\"#DejaVuSans-61\"/>\n       <use x=\"141.601562\" xlink:href=\"#DejaVuSans-76\"/>\n       <use x=\"200.78125\" xlink:href=\"#DejaVuSans-69\"/>\n       <use x=\"228.564453\" xlink:href=\"#DejaVuSans-73\"/>\n       <use x=\"280.664062\" xlink:href=\"#DejaVuSans-73\"/>\n       <use x=\"332.763672\" xlink:href=\"#DejaVuSans-63\"/>\n       <use x=\"387.744141\" xlink:href=\"#DejaVuSans-6f\"/>\n       <use x=\"448.925781\" xlink:href=\"#DejaVuSans-74\"/>\n       <use x=\"488.134766\" xlink:href=\"#DejaVuSans-74\"/>\n      </g>\n     </g>\n    </g>\n    <g id=\"xtick_10\">\n     <g id=\"line2d_10\">\n      <g>\n       <use style=\"stroke:#000000;stroke-width:0.8;\" x=\"910.886427\" xlink:href=\"#mbe5be3e3c6\" y=\"931.32\"/>\n      </g>\n     </g>\n     <g id=\"text_10\">\n      <!-- fredulla -->\n      <g transform=\"translate(913.645802 976.249688)rotate(-90)scale(0.1 -0.1)\">\n       <defs>\n        <path d=\"M 2906 2969 \nL 2906 4863 \nL 3481 4863 \nL 3481 0 \nL 2906 0 \nL 2906 525 \nQ 2725 213 2448 61 \nQ 2172 -91 1784 -91 \nQ 1150 -91 751 415 \nQ 353 922 353 1747 \nQ 353 2572 751 3078 \nQ 1150 3584 1784 3584 \nQ 2172 3584 2448 3432 \nQ 2725 3281 2906 2969 \nz\nM 947 1747 \nQ 947 1113 1208 752 \nQ 1469 391 1925 391 \nQ 2381 391 2643 752 \nQ 2906 1113 2906 1747 \nQ 2906 2381 2643 2742 \nQ 2381 3103 1925 3103 \nQ 1469 3103 1208 2742 \nQ 947 2381 947 1747 \nz\n\" id=\"DejaVuSans-64\" transform=\"scale(0.015625)\"/>\n       </defs>\n       <use xlink:href=\"#DejaVuSans-66\"/>\n       <use x=\"35.205078\" xlink:href=\"#DejaVuSans-72\"/>\n       <use x=\"74.068359\" xlink:href=\"#DejaVuSans-65\"/>\n       <use x=\"135.591797\" xlink:href=\"#DejaVuSans-64\"/>\n       <use x=\"199.068359\" xlink:href=\"#DejaVuSans-75\"/>\n       <use x=\"262.447266\" xlink:href=\"#DejaVuSans-6c\"/>\n       <use x=\"290.230469\" xlink:href=\"#DejaVuSans-6c\"/>\n       <use x=\"318.013672\" xlink:href=\"#DejaVuSans-61\"/>\n      </g>\n     </g>\n    </g>\n   </g>\n   <g id=\"matplotlib.axis_2\">\n    <g id=\"ytick_1\">\n     <g id=\"line2d_11\">\n      <defs>\n       <path d=\"M 0 0 \nL -3.5 0 \n\" id=\"mf4bad4ff10\" style=\"stroke:#000000;stroke-width:0.8;\"/>\n      </defs>\n      <g>\n       <use style=\"stroke:#000000;stroke-width:0.8;\" x=\"40.603125\" xlink:href=\"#mf4bad4ff10\" y=\"931.32\"/>\n      </g>\n     </g>\n     <g id=\"text_11\">\n      <!-- 0 -->\n      <g transform=\"translate(27.240625 935.119219)scale(0.1 -0.1)\">\n       <defs>\n        <path d=\"M 2034 4250 \nQ 1547 4250 1301 3770 \nQ 1056 3291 1056 2328 \nQ 1056 1369 1301 889 \nQ 1547 409 2034 409 \nQ 2525 409 2770 889 \nQ 3016 1369 3016 2328 \nQ 3016 3291 2770 3770 \nQ 2525 4250 2034 4250 \nz\nM 2034 4750 \nQ 2819 4750 3233 4129 \nQ 3647 3509 3647 2328 \nQ 3647 1150 3233 529 \nQ 2819 -91 2034 -91 \nQ 1250 -91 836 529 \nQ 422 1150 422 2328 \nQ 422 3509 836 4129 \nQ 1250 4750 2034 4750 \nz\n\" id=\"DejaVuSans-30\" transform=\"scale(0.015625)\"/>\n       </defs>\n       <use xlink:href=\"#DejaVuSans-30\"/>\n      </g>\n     </g>\n    </g>\n    <g id=\"ytick_2\">\n     <g id=\"line2d_12\">\n      <g>\n       <use style=\"stroke:#000000;stroke-width:0.8;\" x=\"40.603125\" xlink:href=\"#mf4bad4ff10\" y=\"765.260701\"/>\n      </g>\n     </g>\n     <g id=\"text_12\">\n      <!-- 10 -->\n      <g transform=\"translate(20.878125 769.05992)scale(0.1 -0.1)\">\n       <defs>\n        <path d=\"M 794 531 \nL 1825 531 \nL 1825 4091 \nL 703 3866 \nL 703 4441 \nL 1819 4666 \nL 2450 4666 \nL 2450 531 \nL 3481 531 \nL 3481 0 \nL 794 0 \nL 794 531 \nz\n\" id=\"DejaVuSans-31\" transform=\"scale(0.015625)\"/>\n       </defs>\n       <use xlink:href=\"#DejaVuSans-31\"/>\n       <use x=\"63.623047\" xlink:href=\"#DejaVuSans-30\"/>\n      </g>\n     </g>\n    </g>\n    <g id=\"ytick_3\">\n     <g id=\"line2d_13\">\n      <g>\n       <use style=\"stroke:#000000;stroke-width:0.8;\" x=\"40.603125\" xlink:href=\"#mf4bad4ff10\" y=\"599.201402\"/>\n      </g>\n     </g>\n     <g id=\"text_13\">\n      <!-- 20 -->\n      <g transform=\"translate(20.878125 603.00062)scale(0.1 -0.1)\">\n       <defs>\n        <path d=\"M 1228 531 \nL 3431 531 \nL 3431 0 \nL 469 0 \nL 469 531 \nQ 828 903 1448 1529 \nQ 2069 2156 2228 2338 \nQ 2531 2678 2651 2914 \nQ 2772 3150 2772 3378 \nQ 2772 3750 2511 3984 \nQ 2250 4219 1831 4219 \nQ 1534 4219 1204 4116 \nQ 875 4013 500 3803 \nL 500 4441 \nQ 881 4594 1212 4672 \nQ 1544 4750 1819 4750 \nQ 2544 4750 2975 4387 \nQ 3406 4025 3406 3419 \nQ 3406 3131 3298 2873 \nQ 3191 2616 2906 2266 \nQ 2828 2175 2409 1742 \nQ 1991 1309 1228 531 \nz\n\" id=\"DejaVuSans-32\" transform=\"scale(0.015625)\"/>\n       </defs>\n       <use xlink:href=\"#DejaVuSans-32\"/>\n       <use x=\"63.623047\" xlink:href=\"#DejaVuSans-30\"/>\n      </g>\n     </g>\n    </g>\n    <g id=\"ytick_4\">\n     <g id=\"line2d_14\">\n      <g>\n       <use style=\"stroke:#000000;stroke-width:0.8;\" x=\"40.603125\" xlink:href=\"#mf4bad4ff10\" y=\"433.142102\"/>\n      </g>\n     </g>\n     <g id=\"text_14\">\n      <!-- 30 -->\n      <g transform=\"translate(20.878125 436.941321)scale(0.1 -0.1)\">\n       <defs>\n        <path d=\"M 2597 2516 \nQ 3050 2419 3304 2112 \nQ 3559 1806 3559 1356 \nQ 3559 666 3084 287 \nQ 2609 -91 1734 -91 \nQ 1441 -91 1130 -33 \nQ 819 25 488 141 \nL 488 750 \nQ 750 597 1062 519 \nQ 1375 441 1716 441 \nQ 2309 441 2620 675 \nQ 2931 909 2931 1356 \nQ 2931 1769 2642 2001 \nQ 2353 2234 1838 2234 \nL 1294 2234 \nL 1294 2753 \nL 1863 2753 \nQ 2328 2753 2575 2939 \nQ 2822 3125 2822 3475 \nQ 2822 3834 2567 4026 \nQ 2313 4219 1838 4219 \nQ 1578 4219 1281 4162 \nQ 984 4106 628 3988 \nL 628 4550 \nQ 988 4650 1302 4700 \nQ 1616 4750 1894 4750 \nQ 2613 4750 3031 4423 \nQ 3450 4097 3450 3541 \nQ 3450 3153 3228 2886 \nQ 3006 2619 2597 2516 \nz\n\" id=\"DejaVuSans-33\" transform=\"scale(0.015625)\"/>\n       </defs>\n       <use xlink:href=\"#DejaVuSans-33\"/>\n       <use x=\"63.623047\" xlink:href=\"#DejaVuSans-30\"/>\n      </g>\n     </g>\n    </g>\n    <g id=\"ytick_5\">\n     <g id=\"line2d_15\">\n      <g>\n       <use style=\"stroke:#000000;stroke-width:0.8;\" x=\"40.603125\" xlink:href=\"#mf4bad4ff10\" y=\"267.082803\"/>\n      </g>\n     </g>\n     <g id=\"text_15\">\n      <!-- 40 -->\n      <g transform=\"translate(20.878125 270.882022)scale(0.1 -0.1)\">\n       <defs>\n        <path d=\"M 2419 4116 \nL 825 1625 \nL 2419 1625 \nL 2419 4116 \nz\nM 2253 4666 \nL 3047 4666 \nL 3047 1625 \nL 3713 1625 \nL 3713 1100 \nL 3047 1100 \nL 3047 0 \nL 2419 0 \nL 2419 1100 \nL 313 1100 \nL 313 1709 \nL 2253 4666 \nz\n\" id=\"DejaVuSans-34\" transform=\"scale(0.015625)\"/>\n       </defs>\n       <use xlink:href=\"#DejaVuSans-34\"/>\n       <use x=\"63.623047\" xlink:href=\"#DejaVuSans-30\"/>\n      </g>\n     </g>\n    </g>\n    <g id=\"ytick_6\">\n     <g id=\"line2d_16\">\n      <g>\n       <use style=\"stroke:#000000;stroke-width:0.8;\" x=\"40.603125\" xlink:href=\"#mf4bad4ff10\" y=\"101.023504\"/>\n      </g>\n     </g>\n     <g id=\"text_16\">\n      <!-- 50 -->\n      <g transform=\"translate(20.878125 104.822723)scale(0.1 -0.1)\">\n       <defs>\n        <path d=\"M 691 4666 \nL 3169 4666 \nL 3169 4134 \nL 1269 4134 \nL 1269 2991 \nQ 1406 3038 1543 3061 \nQ 1681 3084 1819 3084 \nQ 2600 3084 3056 2656 \nQ 3513 2228 3513 1497 \nQ 3513 744 3044 326 \nQ 2575 -91 1722 -91 \nQ 1428 -91 1123 -41 \nQ 819 9 494 109 \nL 494 744 \nQ 775 591 1075 516 \nQ 1375 441 1709 441 \nQ 2250 441 2565 725 \nQ 2881 1009 2881 1497 \nQ 2881 1984 2565 2268 \nQ 2250 2553 1709 2553 \nQ 1456 2553 1204 2497 \nQ 953 2441 691 2322 \nL 691 4666 \nz\n\" id=\"DejaVuSans-35\" transform=\"scale(0.015625)\"/>\n       </defs>\n       <use xlink:href=\"#DejaVuSans-35\"/>\n       <use x=\"63.623047\" xlink:href=\"#DejaVuSans-30\"/>\n      </g>\n     </g>\n    </g>\n    <g id=\"text_17\">\n     <!-- Likes -->\n     <g transform=\"translate(14.798438 481.830313)rotate(-90)scale(0.1 -0.1)\">\n      <defs>\n       <path d=\"M 628 4666 \nL 1259 4666 \nL 1259 531 \nL 3531 531 \nL 3531 0 \nL 628 0 \nL 628 4666 \nz\n\" id=\"DejaVuSans-4c\" transform=\"scale(0.015625)\"/>\n      </defs>\n      <use xlink:href=\"#DejaVuSans-4c\"/>\n      <use x=\"55.712891\" xlink:href=\"#DejaVuSans-69\"/>\n      <use x=\"83.496094\" xlink:href=\"#DejaVuSans-6b\"/>\n      <use x=\"137.78125\" xlink:href=\"#DejaVuSans-65\"/>\n      <use x=\"199.304688\" xlink:href=\"#DejaVuSans-73\"/>\n     </g>\n    </g>\n   </g>\n   <g id=\"patch_13\">\n    <path d=\"M 40.603125 931.32 \nL 40.603125 7.2 \n\" style=\"fill:none;stroke:#000000;stroke-linecap:square;stroke-linejoin:miter;stroke-width:0.8;\"/>\n   </g>\n   <g id=\"patch_14\">\n    <path d=\"M 989.203125 931.32 \nL 989.203125 7.2 \n\" style=\"fill:none;stroke:#000000;stroke-linecap:square;stroke-linejoin:miter;stroke-width:0.8;\"/>\n   </g>\n   <g id=\"patch_15\">\n    <path d=\"M 40.603125 931.32 \nL 989.203125 931.32 \n\" style=\"fill:none;stroke:#000000;stroke-linecap:square;stroke-linejoin:miter;stroke-width:0.8;\"/>\n   </g>\n   <g id=\"patch_16\">\n    <path d=\"M 40.603125 7.2 \nL 989.203125 7.2 \n\" style=\"fill:none;stroke:#000000;stroke-linecap:square;stroke-linejoin:miter;stroke-width:0.8;\"/>\n   </g>\n  </g>\n </g>\n <defs>\n  <clipPath id=\"p5fc1fb8f0f\">\n   <rect height=\"924.12\" width=\"948.6\" x=\"40.603125\" y=\"7.2\"/>\n  </clipPath>\n </defs>\n</svg>\n",
      "image/png": "[encoded data removed]"
     },
     "metadata": {}
    }
   ],
   "metadata": {}
  },
  {
   "cell_type": "code",
   "execution_count": null,
   "source": [
    "fig2, ax2 = mat.subplots()\n",
    "ax2.pie(vals, labels = labels)\n",
    "ax2.axis('equal')\n",
    "mat.show()"
   ],
   "outputs": [
    {
     "output_type": "display_data",
     "data": {
      "text/plain": [
       "<Figure size 432x288 with 1 Axes>"
      ],
      "image/svg+xml": "<?xml version=\"1.0\" encoding=\"utf-8\" standalone=\"no\"?>\n<!DOCTYPE svg PUBLIC \"-//W3C//DTD SVG 1.1//EN\"\n  \"http://www.w3.org/Graphics/SVG/1.1/DTD/svg11.dtd\">\n<svg height=\"237.455863pt\" version=\"1.1\" viewBox=\"0 0 349.2 237.455863\" width=\"349.2pt\" xmlns=\"http://www.w3.org/2000/svg\" xmlns:xlink=\"http://www.w3.org/1999/xlink\">\n <metadata>\n  <rdf:RDF xmlns:cc=\"http://creativecommons.org/ns#\" xmlns:dc=\"http://purl.org/dc/elements/1.1/\" xmlns:rdf=\"http://www.w3.org/1999/02/22-rdf-syntax-ns#\">\n   <cc:Work>\n    <dc:type rdf:resource=\"http://purl.org/dc/dcmitype/StillImage\"/>\n    <dc:date>2021-08-10T16:19:24.099312</dc:date>\n    <dc:format>image/svg+xml</dc:format>\n    <dc:creator>\n     <cc:Agent>\n      <dc:title>Matplotlib v3.4.2, https://matplotlib.org/</dc:title>\n     </cc:Agent>\n    </dc:creator>\n   </cc:Work>\n  </rdf:RDF>\n </metadata>\n <defs>\n  <style type=\"text/css\">*{stroke-linecap:butt;stroke-linejoin:round;}</style>\n </defs>\n <g id=\"figure_1\">\n  <g id=\"patch_1\">\n   <path d=\"M 0 237.455863 \nL 349.2 237.455863 \nL 349.2 0 \nL 0 0 \nz\n\" style=\"fill:none;\"/>\n  </g>\n  <g id=\"axes_1\">\n   <g id=\"patch_2\">\n    <path d=\"M 273.149042 117.863319 \nC 273.149042 101.683525 269.155718 85.751073 261.524484 71.483978 \nC 253.89325 57.216882 242.857424 45.051349 229.399213 36.07013 \nL 174.815248 117.863319 \nL 273.149042 117.863319 \nz\n\" style=\"fill:#1f77b4;\"/>\n   </g>\n   <g id=\"patch_3\">\n    <path d=\"M 229.399213 36.07013 \nC 219.008868 29.136224 207.391811 24.24526 195.170849 21.659449 \nC 182.949887 19.073638 170.347389 18.840031 158.038991 20.971151 \nL 174.815248 117.863319 \nL 229.399213 36.07013 \nz\n\" style=\"fill:#ff7f0e;\"/>\n   </g>\n   <g id=\"patch_4\">\n    <path d=\"M 158.038991 20.971151 \nC 146.032523 23.049994 134.516385 27.342528 124.078499 33.629612 \nC 113.640614 39.916696 104.461682 48.089486 97.010308 57.730746 \nL 174.815248 117.863319 \nL 158.038991 20.971151 \nz\n\" style=\"fill:#2ca02c;\"/>\n   </g>\n   <g id=\"patch_5\">\n    <path d=\"M 97.010308 57.730746 \nC 89.933461 66.887408 84.528292 77.221877 81.044067 88.257565 \nC 77.559842 99.293253 76.050958 110.85787 76.586998 122.418099 \nL 174.815248 117.863319 \nL 97.010308 57.730746 \nz\n\" style=\"fill:#d62728;\"/>\n   </g>\n   <g id=\"patch_6\">\n    <path d=\"M 76.586998 122.418099 \nC 77.094693 133.367018 79.429449 144.1544 83.494549 154.333374 \nC 87.559649 164.512349 93.298174 173.940394 100.472405 182.226948 \nL 174.815248 117.863319 \nL 76.586998 122.418099 \nz\n\" style=\"fill:#9467bd;\"/>\n   </g>\n   <g id=\"patch_7\">\n    <path d=\"M 100.472405 182.226948 \nC 105.847653 188.435598 111.979555 193.946505 118.724753 198.630833 \nC 125.469952 203.315161 132.77547 207.136118 140.470516 210.004376 \nL 174.815248 117.863319 \nL 100.472405 182.226948 \nz\n\" style=\"fill:#8c564b;\"/>\n   </g>\n   <g id=\"patch_8\">\n    <path d=\"M 140.470516 210.004376 \nC 148.165562 212.872633 156.189697 214.765664 164.355329 215.639211 \nC 172.520961 216.512758 180.763956 216.359961 188.891604 215.184392 \nL 174.815248 117.863319 \nL 140.470516 210.004376 \nz\n\" style=\"fill:#e377c2;\"/>\n   </g>\n   <g id=\"patch_9\">\n    <path d=\"M 188.891604 215.184392 \nC 197.019252 214.008822 204.967719 211.819714 212.551179 208.668244 \nC 220.13464 205.516775 227.293533 201.427697 233.860494 196.496606 \nL 174.815248 117.863319 \nL 188.891604 215.184392 \nz\n\" style=\"fill:#7f7f7f;\"/>\n   </g>\n   <g id=\"patch_10\">\n    <path d=\"M 233.860494 196.496606 \nC 240.183637 191.748598 245.911057 186.25518 250.918552 180.135481 \nC 255.926046 174.015782 260.177155 167.31436 263.579691 160.17654 \nL 174.815248 117.863319 \nL 233.860494 196.496606 \nz\n\" style=\"fill:#bcbd22;\"/>\n   </g>\n   <g id=\"patch_11\">\n    <path d=\"M 263.579691 160.17654 \nC 266.719933 153.588958 269.1171 146.672225 270.726873 139.55422 \nC 272.336646 132.436215 273.149042 125.161078 273.149042 117.863314 \nL 174.815248 117.863319 \nL 263.579691 160.17654 \nz\n\" style=\"fill:#17becf;\"/>\n   </g>\n   <g id=\"matplotlib.axis_1\"/>\n   <g id=\"matplotlib.axis_2\"/>\n   <g id=\"text_1\">\n    <!-- mlb -->\n    <g transform=\"translate(270.195408 69.605418)scale(0.1 -0.1)\">\n     <defs>\n      <path d=\"M 3328 2828 \nQ 3544 3216 3844 3400 \nQ 4144 3584 4550 3584 \nQ 5097 3584 5394 3201 \nQ 5691 2819 5691 2113 \nL 5691 0 \nL 5113 0 \nL 5113 2094 \nQ 5113 2597 4934 2840 \nQ 4756 3084 4391 3084 \nQ 3944 3084 3684 2787 \nQ 3425 2491 3425 1978 \nL 3425 0 \nL 2847 0 \nL 2847 2094 \nQ 2847 2600 2669 2842 \nQ 2491 3084 2119 3084 \nQ 1678 3084 1418 2786 \nQ 1159 2488 1159 1978 \nL 1159 0 \nL 581 0 \nL 581 3500 \nL 1159 3500 \nL 1159 2956 \nQ 1356 3278 1631 3431 \nQ 1906 3584 2284 3584 \nQ 2666 3584 2933 3390 \nQ 3200 3197 3328 2828 \nz\n\" id=\"DejaVuSans-6d\" transform=\"scale(0.015625)\"/>\n      <path d=\"M 603 4863 \nL 1178 4863 \nL 1178 0 \nL 603 0 \nL 603 4863 \nz\n\" id=\"DejaVuSans-6c\" transform=\"scale(0.015625)\"/>\n      <path d=\"M 3116 1747 \nQ 3116 2381 2855 2742 \nQ 2594 3103 2138 3103 \nQ 1681 3103 1420 2742 \nQ 1159 2381 1159 1747 \nQ 1159 1113 1420 752 \nQ 1681 391 2138 391 \nQ 2594 391 2855 752 \nQ 3116 1113 3116 1747 \nz\nM 1159 2969 \nQ 1341 3281 1617 3432 \nQ 1894 3584 2278 3584 \nQ 2916 3584 3314 3078 \nQ 3713 2572 3713 1747 \nQ 3713 922 3314 415 \nQ 2916 -91 2278 -91 \nQ 1894 -91 1617 61 \nQ 1341 213 1159 525 \nL 1159 0 \nL 581 0 \nL 581 4863 \nL 1159 4863 \nL 1159 2969 \nz\n\" id=\"DejaVuSans-62\" transform=\"scale(0.015625)\"/>\n     </defs>\n     <use xlink:href=\"#DejaVuSans-6d\"/>\n     <use x=\"97.412109\" xlink:href=\"#DejaVuSans-6c\"/>\n     <use x=\"125.195312\" xlink:href=\"#DejaVuSans-62\"/>\n    </g>\n   </g>\n   <g id=\"text_2\">\n    <!-- ranyah.chahine -->\n    <g transform=\"translate(197.206409 14.798438)scale(0.1 -0.1)\">\n     <defs>\n      <path d=\"M 2631 2963 \nQ 2534 3019 2420 3045 \nQ 2306 3072 2169 3072 \nQ 1681 3072 1420 2755 \nQ 1159 2438 1159 1844 \nL 1159 0 \nL 581 0 \nL 581 3500 \nL 1159 3500 \nL 1159 2956 \nQ 1341 3275 1631 3429 \nQ 1922 3584 2338 3584 \nQ 2397 3584 2469 3576 \nQ 2541 3569 2628 3553 \nL 2631 2963 \nz\n\" id=\"DejaVuSans-72\" transform=\"scale(0.015625)\"/>\n      <path d=\"M 2194 1759 \nQ 1497 1759 1228 1600 \nQ 959 1441 959 1056 \nQ 959 750 1161 570 \nQ 1363 391 1709 391 \nQ 2188 391 2477 730 \nQ 2766 1069 2766 1631 \nL 2766 1759 \nL 2194 1759 \nz\nM 3341 1997 \nL 3341 0 \nL 2766 0 \nL 2766 531 \nQ 2569 213 2275 61 \nQ 1981 -91 1556 -91 \nQ 1019 -91 701 211 \nQ 384 513 384 1019 \nQ 384 1609 779 1909 \nQ 1175 2209 1959 2209 \nL 2766 2209 \nL 2766 2266 \nQ 2766 2663 2505 2880 \nQ 2244 3097 1772 3097 \nQ 1472 3097 1187 3025 \nQ 903 2953 641 2809 \nL 641 3341 \nQ 956 3463 1253 3523 \nQ 1550 3584 1831 3584 \nQ 2591 3584 2966 3190 \nQ 3341 2797 3341 1997 \nz\n\" id=\"DejaVuSans-61\" transform=\"scale(0.015625)\"/>\n      <path d=\"M 3513 2113 \nL 3513 0 \nL 2938 0 \nL 2938 2094 \nQ 2938 2591 2744 2837 \nQ 2550 3084 2163 3084 \nQ 1697 3084 1428 2787 \nQ 1159 2491 1159 1978 \nL 1159 0 \nL 581 0 \nL 581 3500 \nL 1159 3500 \nL 1159 2956 \nQ 1366 3272 1645 3428 \nQ 1925 3584 2291 3584 \nQ 2894 3584 3203 3211 \nQ 3513 2838 3513 2113 \nz\n\" id=\"DejaVuSans-6e\" transform=\"scale(0.015625)\"/>\n      <path d=\"M 2059 -325 \nQ 1816 -950 1584 -1140 \nQ 1353 -1331 966 -1331 \nL 506 -1331 \nL 506 -850 \nL 844 -850 \nQ 1081 -850 1212 -737 \nQ 1344 -625 1503 -206 \nL 1606 56 \nL 191 3500 \nL 800 3500 \nL 1894 763 \nL 2988 3500 \nL 3597 3500 \nL 2059 -325 \nz\n\" id=\"DejaVuSans-79\" transform=\"scale(0.015625)\"/>\n      <path d=\"M 3513 2113 \nL 3513 0 \nL 2938 0 \nL 2938 2094 \nQ 2938 2591 2744 2837 \nQ 2550 3084 2163 3084 \nQ 1697 3084 1428 2787 \nQ 1159 2491 1159 1978 \nL 1159 0 \nL 581 0 \nL 581 4863 \nL 1159 4863 \nL 1159 2956 \nQ 1366 3272 1645 3428 \nQ 1925 3584 2291 3584 \nQ 2894 3584 3203 3211 \nQ 3513 2838 3513 2113 \nz\n\" id=\"DejaVuSans-68\" transform=\"scale(0.015625)\"/>\n      <path d=\"M 684 794 \nL 1344 794 \nL 1344 0 \nL 684 0 \nL 684 794 \nz\n\" id=\"DejaVuSans-2e\" transform=\"scale(0.015625)\"/>\n      <path d=\"M 3122 3366 \nL 3122 2828 \nQ 2878 2963 2633 3030 \nQ 2388 3097 2138 3097 \nQ 1578 3097 1268 2742 \nQ 959 2388 959 1747 \nQ 959 1106 1268 751 \nQ 1578 397 2138 397 \nQ 2388 397 2633 464 \nQ 2878 531 3122 666 \nL 3122 134 \nQ 2881 22 2623 -34 \nQ 2366 -91 2075 -91 \nQ 1284 -91 818 406 \nQ 353 903 353 1747 \nQ 353 2603 823 3093 \nQ 1294 3584 2113 3584 \nQ 2378 3584 2631 3529 \nQ 2884 3475 3122 3366 \nz\n\" id=\"DejaVuSans-63\" transform=\"scale(0.015625)\"/>\n      <path d=\"M 603 3500 \nL 1178 3500 \nL 1178 0 \nL 603 0 \nL 603 3500 \nz\nM 603 4863 \nL 1178 4863 \nL 1178 4134 \nL 603 4134 \nL 603 4863 \nz\n\" id=\"DejaVuSans-69\" transform=\"scale(0.015625)\"/>\n      <path d=\"M 3597 1894 \nL 3597 1613 \nL 953 1613 \nQ 991 1019 1311 708 \nQ 1631 397 2203 397 \nQ 2534 397 2845 478 \nQ 3156 559 3463 722 \nL 3463 178 \nQ 3153 47 2828 -22 \nQ 2503 -91 2169 -91 \nQ 1331 -91 842 396 \nQ 353 884 353 1716 \nQ 353 2575 817 3079 \nQ 1281 3584 2069 3584 \nQ 2775 3584 3186 3129 \nQ 3597 2675 3597 1894 \nz\nM 3022 2063 \nQ 3016 2534 2758 2815 \nQ 2500 3097 2075 3097 \nQ 1594 3097 1305 2825 \nQ 1016 2553 972 2059 \nL 3022 2063 \nz\n\" id=\"DejaVuSans-65\" transform=\"scale(0.015625)\"/>\n     </defs>\n     <use xlink:href=\"#DejaVuSans-72\"/>\n     <use x=\"41.113281\" xlink:href=\"#DejaVuSans-61\"/>\n     <use x=\"102.392578\" xlink:href=\"#DejaVuSans-6e\"/>\n     <use x=\"165.771484\" xlink:href=\"#DejaVuSans-79\"/>\n     <use x=\"224.951172\" xlink:href=\"#DejaVuSans-61\"/>\n     <use x=\"286.230469\" xlink:href=\"#DejaVuSans-68\"/>\n     <use x=\"349.609375\" xlink:href=\"#DejaVuSans-2e\"/>\n     <use x=\"381.396484\" xlink:href=\"#DejaVuSans-63\"/>\n     <use x=\"436.376953\" xlink:href=\"#DejaVuSans-68\"/>\n     <use x=\"499.755859\" xlink:href=\"#DejaVuSans-61\"/>\n     <use x=\"561.035156\" xlink:href=\"#DejaVuSans-68\"/>\n     <use x=\"624.414062\" xlink:href=\"#DejaVuSans-69\"/>\n     <use x=\"652.197266\" xlink:href=\"#DejaVuSans-6e\"/>\n     <use x=\"715.576172\" xlink:href=\"#DejaVuSans-65\"/>\n    </g>\n   </g>\n   <g id=\"text_3\">\n    <!-- blackgreeklifes -->\n    <g transform=\"translate(43.690762 27.965616)scale(0.1 -0.1)\">\n     <defs>\n      <path d=\"M 581 4863 \nL 1159 4863 \nL 1159 1991 \nL 2875 3500 \nL 3609 3500 \nL 1753 1863 \nL 3688 0 \nL 2938 0 \nL 1159 1709 \nL 1159 0 \nL 581 0 \nL 581 4863 \nz\n\" id=\"DejaVuSans-6b\" transform=\"scale(0.015625)\"/>\n      <path d=\"M 2906 1791 \nQ 2906 2416 2648 2759 \nQ 2391 3103 1925 3103 \nQ 1463 3103 1205 2759 \nQ 947 2416 947 1791 \nQ 947 1169 1205 825 \nQ 1463 481 1925 481 \nQ 2391 481 2648 825 \nQ 2906 1169 2906 1791 \nz\nM 3481 434 \nQ 3481 -459 3084 -895 \nQ 2688 -1331 1869 -1331 \nQ 1566 -1331 1297 -1286 \nQ 1028 -1241 775 -1147 \nL 775 -588 \nQ 1028 -725 1275 -790 \nQ 1522 -856 1778 -856 \nQ 2344 -856 2625 -561 \nQ 2906 -266 2906 331 \nL 2906 616 \nQ 2728 306 2450 153 \nQ 2172 0 1784 0 \nQ 1141 0 747 490 \nQ 353 981 353 1791 \nQ 353 2603 747 3093 \nQ 1141 3584 1784 3584 \nQ 2172 3584 2450 3431 \nQ 2728 3278 2906 2969 \nL 2906 3500 \nL 3481 3500 \nL 3481 434 \nz\n\" id=\"DejaVuSans-67\" transform=\"scale(0.015625)\"/>\n      <path d=\"M 2375 4863 \nL 2375 4384 \nL 1825 4384 \nQ 1516 4384 1395 4259 \nQ 1275 4134 1275 3809 \nL 1275 3500 \nL 2222 3500 \nL 2222 3053 \nL 1275 3053 \nL 1275 0 \nL 697 0 \nL 697 3053 \nL 147 3053 \nL 147 3500 \nL 697 3500 \nL 697 3744 \nQ 697 4328 969 4595 \nQ 1241 4863 1831 4863 \nL 2375 4863 \nz\n\" id=\"DejaVuSans-66\" transform=\"scale(0.015625)\"/>\n      <path d=\"M 2834 3397 \nL 2834 2853 \nQ 2591 2978 2328 3040 \nQ 2066 3103 1784 3103 \nQ 1356 3103 1142 2972 \nQ 928 2841 928 2578 \nQ 928 2378 1081 2264 \nQ 1234 2150 1697 2047 \nL 1894 2003 \nQ 2506 1872 2764 1633 \nQ 3022 1394 3022 966 \nQ 3022 478 2636 193 \nQ 2250 -91 1575 -91 \nQ 1294 -91 989 -36 \nQ 684 19 347 128 \nL 347 722 \nQ 666 556 975 473 \nQ 1284 391 1588 391 \nQ 1994 391 2212 530 \nQ 2431 669 2431 922 \nQ 2431 1156 2273 1281 \nQ 2116 1406 1581 1522 \nL 1381 1569 \nQ 847 1681 609 1914 \nQ 372 2147 372 2553 \nQ 372 3047 722 3315 \nQ 1072 3584 1716 3584 \nQ 2034 3584 2315 3537 \nQ 2597 3491 2834 3397 \nz\n\" id=\"DejaVuSans-73\" transform=\"scale(0.015625)\"/>\n     </defs>\n     <use xlink:href=\"#DejaVuSans-62\"/>\n     <use x=\"63.476562\" xlink:href=\"#DejaVuSans-6c\"/>\n     <use x=\"91.259766\" xlink:href=\"#DejaVuSans-61\"/>\n     <use x=\"152.539062\" xlink:href=\"#DejaVuSans-63\"/>\n     <use x=\"207.519531\" xlink:href=\"#DejaVuSans-6b\"/>\n     <use x=\"265.429688\" xlink:href=\"#DejaVuSans-67\"/>\n     <use x=\"328.90625\" xlink:href=\"#DejaVuSans-72\"/>\n     <use x=\"367.769531\" xlink:href=\"#DejaVuSans-65\"/>\n     <use x=\"429.292969\" xlink:href=\"#DejaVuSans-65\"/>\n     <use x=\"490.816406\" xlink:href=\"#DejaVuSans-6b\"/>\n     <use x=\"548.726562\" xlink:href=\"#DejaVuSans-6c\"/>\n     <use x=\"576.509766\" xlink:href=\"#DejaVuSans-69\"/>\n     <use x=\"604.292969\" xlink:href=\"#DejaVuSans-66\"/>\n     <use x=\"639.498047\" xlink:href=\"#DejaVuSans-65\"/>\n     <use x=\"701.021484\" xlink:href=\"#DejaVuSans-73\"/>\n    </g>\n   </g>\n   <g id=\"text_4\">\n    <!-- _cicimichele -->\n    <g transform=\"translate(10.674761 87.917302)scale(0.1 -0.1)\">\n     <defs>\n      <path d=\"M 3263 -1063 \nL 3263 -1509 \nL -63 -1509 \nL -63 -1063 \nL 3263 -1063 \nz\n\" id=\"DejaVuSans-5f\" transform=\"scale(0.015625)\"/>\n     </defs>\n     <use xlink:href=\"#DejaVuSans-5f\"/>\n     <use x=\"50\" xlink:href=\"#DejaVuSans-63\"/>\n     <use x=\"104.980469\" xlink:href=\"#DejaVuSans-69\"/>\n     <use x=\"132.763672\" xlink:href=\"#DejaVuSans-63\"/>\n     <use x=\"187.744141\" xlink:href=\"#DejaVuSans-69\"/>\n     <use x=\"215.527344\" xlink:href=\"#DejaVuSans-6d\"/>\n     <use x=\"312.939453\" xlink:href=\"#DejaVuSans-69\"/>\n     <use x=\"340.722656\" xlink:href=\"#DejaVuSans-63\"/>\n     <use x=\"395.703125\" xlink:href=\"#DejaVuSans-68\"/>\n     <use x=\"459.082031\" xlink:href=\"#DejaVuSans-65\"/>\n     <use x=\"520.605469\" xlink:href=\"#DejaVuSans-6c\"/>\n     <use x=\"548.388672\" xlink:href=\"#DejaVuSans-65\"/>\n    </g>\n   </g>\n   <g id=\"text_5\">\n    <!-- nba -->\n    <g transform=\"translate(55.548417 160.739755)scale(0.1 -0.1)\">\n     <use xlink:href=\"#DejaVuSans-6e\"/>\n     <use x=\"63.378906\" xlink:href=\"#DejaVuSans-62\"/>\n     <use x=\"126.855469\" xlink:href=\"#DejaVuSans-61\"/>\n    </g>\n   </g>\n   <g id=\"text_6\">\n    <!-- camrynhowell -->\n    <g transform=\"translate(43.037579 209.46696)scale(0.1 -0.1)\">\n     <defs>\n      <path d=\"M 1959 3097 \nQ 1497 3097 1228 2736 \nQ 959 2375 959 1747 \nQ 959 1119 1226 758 \nQ 1494 397 1959 397 \nQ 2419 397 2687 759 \nQ 2956 1122 2956 1747 \nQ 2956 2369 2687 2733 \nQ 2419 3097 1959 3097 \nz\nM 1959 3584 \nQ 2709 3584 3137 3096 \nQ 3566 2609 3566 1747 \nQ 3566 888 3137 398 \nQ 2709 -91 1959 -91 \nQ 1206 -91 779 398 \nQ 353 888 353 1747 \nQ 353 2609 779 3096 \nQ 1206 3584 1959 3584 \nz\n\" id=\"DejaVuSans-6f\" transform=\"scale(0.015625)\"/>\n      <path d=\"M 269 3500 \nL 844 3500 \nL 1563 769 \nL 2278 3500 \nL 2956 3500 \nL 3675 769 \nL 4391 3500 \nL 4966 3500 \nL 4050 0 \nL 3372 0 \nL 2619 2869 \nL 1863 0 \nL 1184 0 \nL 269 3500 \nz\n\" id=\"DejaVuSans-77\" transform=\"scale(0.015625)\"/>\n     </defs>\n     <use xlink:href=\"#DejaVuSans-63\"/>\n     <use x=\"54.980469\" xlink:href=\"#DejaVuSans-61\"/>\n     <use x=\"116.259766\" xlink:href=\"#DejaVuSans-6d\"/>\n     <use x=\"213.671875\" xlink:href=\"#DejaVuSans-72\"/>\n     <use x=\"254.785156\" xlink:href=\"#DejaVuSans-79\"/>\n     <use x=\"313.964844\" xlink:href=\"#DejaVuSans-6e\"/>\n     <use x=\"377.34375\" xlink:href=\"#DejaVuSans-68\"/>\n     <use x=\"440.722656\" xlink:href=\"#DejaVuSans-6f\"/>\n     <use x=\"501.904297\" xlink:href=\"#DejaVuSans-77\"/>\n     <use x=\"583.691406\" xlink:href=\"#DejaVuSans-65\"/>\n     <use x=\"645.214844\" xlink:href=\"#DejaVuSans-6c\"/>\n     <use x=\"672.998047\" xlink:href=\"#DejaVuSans-6c\"/>\n    </g>\n   </g>\n   <g id=\"text_7\">\n    <!-- isiahceo -->\n    <g transform=\"translate(122.307775 228.176175)scale(0.1 -0.1)\">\n     <use xlink:href=\"#DejaVuSans-69\"/>\n     <use x=\"27.783203\" xlink:href=\"#DejaVuSans-73\"/>\n     <use x=\"79.882812\" xlink:href=\"#DejaVuSans-69\"/>\n     <use x=\"107.666016\" xlink:href=\"#DejaVuSans-61\"/>\n     <use x=\"168.945312\" xlink:href=\"#DejaVuSans-68\"/>\n     <use x=\"232.324219\" xlink:href=\"#DejaVuSans-63\"/>\n     <use x=\"287.304688\" xlink:href=\"#DejaVuSans-65\"/>\n     <use x=\"348.828125\" xlink:href=\"#DejaVuSans-6f\"/>\n    </g>\n   </g>\n   <g id=\"text_8\">\n    <!-- houseofhighligh -->\n    <g transform=\"translate(216.324772 220.508112)scale(0.1 -0.1)\">\n     <defs>\n      <path d=\"M 544 1381 \nL 544 3500 \nL 1119 3500 \nL 1119 1403 \nQ 1119 906 1312 657 \nQ 1506 409 1894 409 \nQ 2359 409 2629 706 \nQ 2900 1003 2900 1516 \nL 2900 3500 \nL 3475 3500 \nL 3475 0 \nL 2900 0 \nL 2900 538 \nQ 2691 219 2414 64 \nQ 2138 -91 1772 -91 \nQ 1169 -91 856 284 \nQ 544 659 544 1381 \nz\nM 1991 3584 \nL 1991 3584 \nz\n\" id=\"DejaVuSans-75\" transform=\"scale(0.015625)\"/>\n     </defs>\n     <use xlink:href=\"#DejaVuSans-68\"/>\n     <use x=\"63.378906\" xlink:href=\"#DejaVuSans-6f\"/>\n     <use x=\"124.560547\" xlink:href=\"#DejaVuSans-75\"/>\n     <use x=\"187.939453\" xlink:href=\"#DejaVuSans-73\"/>\n     <use x=\"240.039062\" xlink:href=\"#DejaVuSans-65\"/>\n     <use x=\"301.5625\" xlink:href=\"#DejaVuSans-6f\"/>\n     <use x=\"362.744141\" xlink:href=\"#DejaVuSans-66\"/>\n     <use x=\"397.949219\" xlink:href=\"#DejaVuSans-68\"/>\n     <use x=\"461.328125\" xlink:href=\"#DejaVuSans-69\"/>\n     <use x=\"489.111328\" xlink:href=\"#DejaVuSans-67\"/>\n     <use x=\"552.587891\" xlink:href=\"#DejaVuSans-68\"/>\n     <use x=\"615.966797\" xlink:href=\"#DejaVuSans-6c\"/>\n     <use x=\"643.75\" xlink:href=\"#DejaVuSans-69\"/>\n     <use x=\"671.533203\" xlink:href=\"#DejaVuSans-67\"/>\n     <use x=\"735.009766\" xlink:href=\"#DejaVuSans-68\"/>\n    </g>\n   </g>\n   <g id=\"text_9\">\n    <!-- travisscott -->\n    <g transform=\"translate(258.528882 189.122072)scale(0.1 -0.1)\">\n     <defs>\n      <path d=\"M 1172 4494 \nL 1172 3500 \nL 2356 3500 \nL 2356 3053 \nL 1172 3053 \nL 1172 1153 \nQ 1172 725 1289 603 \nQ 1406 481 1766 481 \nL 2356 481 \nL 2356 0 \nL 1766 0 \nQ 1100 0 847 248 \nQ 594 497 594 1153 \nL 594 3053 \nL 172 3053 \nL 172 3500 \nL 594 3500 \nL 594 4494 \nL 1172 4494 \nz\n\" id=\"DejaVuSans-74\" transform=\"scale(0.015625)\"/>\n      <path d=\"M 191 3500 \nL 800 3500 \nL 1894 563 \nL 2988 3500 \nL 3597 3500 \nL 2284 0 \nL 1503 0 \nL 191 3500 \nz\n\" id=\"DejaVuSans-76\" transform=\"scale(0.015625)\"/>\n     </defs>\n     <use xlink:href=\"#DejaVuSans-74\"/>\n     <use x=\"39.208984\" xlink:href=\"#DejaVuSans-72\"/>\n     <use x=\"80.322266\" xlink:href=\"#DejaVuSans-61\"/>\n     <use x=\"141.601562\" xlink:href=\"#DejaVuSans-76\"/>\n     <use x=\"200.78125\" xlink:href=\"#DejaVuSans-69\"/>\n     <use x=\"228.564453\" xlink:href=\"#DejaVuSans-73\"/>\n     <use x=\"280.664062\" xlink:href=\"#DejaVuSans-73\"/>\n     <use x=\"332.763672\" xlink:href=\"#DejaVuSans-63\"/>\n     <use x=\"387.744141\" xlink:href=\"#DejaVuSans-6f\"/>\n     <use x=\"448.925781\" xlink:href=\"#DejaVuSans-74\"/>\n     <use x=\"488.134766\" xlink:href=\"#DejaVuSans-74\"/>\n    </g>\n   </g>\n   <g id=\"text_10\">\n    <!-- fredulla -->\n    <g transform=\"translate(280.318035 144.482685)scale(0.1 -0.1)\">\n     <defs>\n      <path d=\"M 2906 2969 \nL 2906 4863 \nL 3481 4863 \nL 3481 0 \nL 2906 0 \nL 2906 525 \nQ 2725 213 2448 61 \nQ 2172 -91 1784 -91 \nQ 1150 -91 751 415 \nQ 353 922 353 1747 \nQ 353 2572 751 3078 \nQ 1150 3584 1784 3584 \nQ 2172 3584 2448 3432 \nQ 2725 3281 2906 2969 \nz\nM 947 1747 \nQ 947 1113 1208 752 \nQ 1469 391 1925 391 \nQ 2381 391 2643 752 \nQ 2906 1113 2906 1747 \nQ 2906 2381 2643 2742 \nQ 2381 3103 1925 3103 \nQ 1469 3103 1208 2742 \nQ 947 2381 947 1747 \nz\n\" id=\"DejaVuSans-64\" transform=\"scale(0.015625)\"/>\n     </defs>\n     <use xlink:href=\"#DejaVuSans-66\"/>\n     <use x=\"35.205078\" xlink:href=\"#DejaVuSans-72\"/>\n     <use x=\"74.068359\" xlink:href=\"#DejaVuSans-65\"/>\n     <use x=\"135.591797\" xlink:href=\"#DejaVuSans-64\"/>\n     <use x=\"199.068359\" xlink:href=\"#DejaVuSans-75\"/>\n     <use x=\"262.447266\" xlink:href=\"#DejaVuSans-6c\"/>\n     <use x=\"290.230469\" xlink:href=\"#DejaVuSans-6c\"/>\n     <use x=\"318.013672\" xlink:href=\"#DejaVuSans-61\"/>\n    </g>\n   </g>\n  </g>\n </g>\n</svg>\n",
      "image/png": "[encoded data removed]"
     },
     "metadata": {}
    }
   ],
   "metadata": {}
  },
  {
   "cell_type": "markdown",
   "source": [
    "**Line 12, I computed a bar graph using matplotlib showing the data of the top accounts with the most likes they have recieved going from greatest to least likes.**\n",
    "\n",
    "**Line 13, Is just the same representation but in a pie chart.**"
   ],
   "metadata": {}
  },
  {
   "cell_type": "markdown",
   "source": [
    "## Conclusion\n",
    "\n",
    "**So in conclusion we can see that I have given the MLB account which is the Major League Baseball, the most likes to any account on Instagram over the years. Before loading in my data, I had no idea who I thought I have given the most likes to since I have been on Instagram. I have a huge love for baseball, I have played since I was 4 and played competitively from 12-18 years of age. So I forsure like a lot of baseball content on my Instagram and so that explains why its the top one.**"
   ],
   "metadata": {}
  }
 ],
 "metadata": {
  "kernelspec": {
   "name": "python3",
   "display_name": "Python 3.9.6 64-bit ('data_science': conda)"
  },
  "language_info": {
   "codemirror_mode": {
    "name": "ipython",
    "version": 3
   },
   "file_extension": ".py",
   "mimetype": "text/x-python",
   "name": "python",
   "nbconvert_exporter": "python",
   "pygments_lexer": "ipython3",
   "version": "3.9.6"
  },
  "metadata": {
   "interpreter": {
    "hash": "7812ea015bdcee6f23a998adcdd2ef97c151c0c241b7b7070987d9313e41299d"
   }
  },
  "interpreter": {
   "hash": "670b0bb49efa43f8d2bcfaa5bac87275253872cc6049e04ea4c254870d9ba8ee"
  }
 },
 "nbformat": 4,
 "nbformat_minor": 5
}