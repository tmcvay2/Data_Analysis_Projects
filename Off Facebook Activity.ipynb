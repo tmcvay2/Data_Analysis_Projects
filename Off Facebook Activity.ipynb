{
 "cells": [
  {
   "cell_type": "markdown",
   "id": "minor-tragedy",
   "metadata": {},
   "source": [
    "# Off Facebook Activity Report\n",
    "\n",
    "## Author: Tovin McVay Jr"
   ]
  },
  {
   "cell_type": "markdown",
   "id": "included-plain",
   "metadata": {},
   "source": [
    "### Overview\n",
    "In this report I will be analyzing my off facebook activity data. My hypothesis over this is what app or website looks at my interactions the most.\n",
    "\n",
    "What is off facebook activity ?\n",
    "Off-Facebook activity is a summary of activity that businesses and organizations share with us about your interactions with them, such as visiting their apps or websites."
   ]
  },
  {
   "cell_type": "markdown",
   "id": "eleven-mixer",
   "metadata": {},
   "source": [
    "### Data\n",
    "\n",
    "For this report the data is from Facebook, and I requested to download it so I can use the data for thie purpose."
   ]
  },
  {
   "cell_type": "code",
   "execution_count": 8,
   "id": "diverse-collection",
   "metadata": {},
   "outputs": [],
   "source": [
    "import json\n",
    "from datetime import datetime as dt\n",
    "import matplotlib.pyplot as plt\n",
    "import numpy as ny\n",
    "import time \n",
    "import pandas as pd"
   ]
  },
  {
   "cell_type": "markdown",
   "id": "satellite-germany",
   "metadata": {},
   "source": [
    "Above is all of the packages that I may or may not use to determine my hypothesis."
   ]
  },
  {
   "cell_type": "code",
   "execution_count": 9,
   "id": "productive-reggae",
   "metadata": {},
   "outputs": [
    {
     "data": {
      "text/plain": [
       "dict_keys(['off_facebook_activity'])"
      ]
     },
     "execution_count": 9,
     "metadata": {},
     "output_type": "execute_result"
    }
   ],
   "source": [
    "with open(r'C:\\Users\\tjrai\\EMAT22110\\TM_FB_Data\\ads_and_businesses\\your_off-facebook_activity.json') as f:\n",
    "    act = json.load(f)\n",
    "act.keys()"
   ]
  },
  {
   "cell_type": "markdown",
   "id": "muslim-plaintiff",
   "metadata": {},
   "source": [
    "Above is getting ready to load in my file to analyze my off facebook activity."
   ]
  },
  {
   "cell_type": "code",
   "execution_count": 10,
   "id": "innocent-paintball",
   "metadata": {},
   "outputs": [
    {
     "data": {
      "text/plain": [
       "list"
      ]
     },
     "execution_count": 10,
     "metadata": {},
     "output_type": "execute_result"
    }
   ],
   "source": [
    "type(act['off_facebook_activity'])"
   ]
  },
  {
   "cell_type": "code",
   "execution_count": 11,
   "id": "color-behalf",
   "metadata": {},
   "outputs": [
    {
     "data": {
      "text/plain": [
       "{'name': 'Rockstar Games',\n",
       " 'events': [{'id': 334424681143086,\n",
       "   'type': 'PURCHASE',\n",
       "   'timestamp': 1611294900}]}"
      ]
     },
     "execution_count": 11,
     "metadata": {},
     "output_type": "execute_result"
    }
   ],
   "source": [
    "act['off_facebook_activity'][0]"
   ]
  },
  {
   "cell_type": "code",
   "execution_count": 12,
   "id": "prerequisite-student",
   "metadata": {},
   "outputs": [
    {
     "data": {
      "text/plain": [
       "dict_keys(['name', 'events'])"
      ]
     },
     "execution_count": 12,
     "metadata": {},
     "output_type": "execute_result"
    }
   ],
   "source": [
    "act['off_facebook_activity'][0].keys()"
   ]
  },
  {
   "cell_type": "code",
   "execution_count": 13,
   "id": "vulnerable-setting",
   "metadata": {},
   "outputs": [
    {
     "data": {
      "text/plain": [
       "'PURCHASE'"
      ]
     },
     "execution_count": 13,
     "metadata": {},
     "output_type": "execute_result"
    }
   ],
   "source": [
    "act['off_facebook_activity'][0]['events'][0]['type']"
   ]
  },
  {
   "cell_type": "code",
   "execution_count": 44,
   "id": "aquatic-gravity",
   "metadata": {},
   "outputs": [
    {
     "data": {
      "text/plain": [
       "True"
      ]
     },
     "execution_count": 44,
     "metadata": {},
     "output_type": "execute_result"
    }
   ],
   "source": [
    "act['off_facebook_activity'][0]['events'][0]['type'] == 'PURCHASE'"
   ]
  },
  {
   "cell_type": "markdown",
   "id": "conventional-tribute",
   "metadata": {},
   "source": [
    "Here I am showing the exmaples of pulling the information from the file. It is showing the most recent actvity type which was a purchase made to a website."
   ]
  },
  {
   "cell_type": "code",
   "execution_count": 15,
   "id": "thousand-pacific",
   "metadata": {},
   "outputs": [],
   "source": [
    "apps_requests = [x['name'] for x in act['off_facebook_activity']]\n",
    "all_event_count = [len(x['events']) for x in act['off_facebook_activity']]\n",
    "activation_count = [len([x for x in j['events'] if x['type'] == 'ACTIVATE_APP']) for j in act['off_facebook_activity']]\n",
    "custom_count = [len([x for x in j['events'] if x['type'] == 'CUSTOM']) for j in act['off_facebook_activity']]\n",
    "search_count = [len([x for x in j['events'] if x['type'] == 'SEARCH']) for j in act['off_facebook_activity']]\n",
    "view_content_count = [len([x for x in j['events'] if x['type'] == 'VIEW_CONTENT']) for j in act['off_facebook_activity']]\n",
    "ad_request_count = [len([x for x in j['events'] if x['type'] == 'AD_REQUEST']) for j in act['off_facebook_activity']]\n",
    "page_view_count = [len([x for x in j['events'] if x['type'] == 'PAGE_VIEW']) for j in act['off_facebook_activity']]\n",
    "purchase_count =[len([x for x in j['events'] if x['type'] == 'PURCHASE']) for j in act['off_facebook_activity']]"
   ]
  },
  {
   "cell_type": "code",
   "execution_count": 16,
   "id": "integral-niagara",
   "metadata": {},
   "outputs": [],
   "source": [
    "apps = []\n",
    "events = []\n",
    "actapp = []\n",
    "custom = []\n",
    "search = []\n",
    "viewc = []\n",
    "ad = []\n",
    "pview = []\n",
    "purchase = []\n",
    "\n",
    "for i in act['off_facebook_activity']:\n",
    "    apps.append(i['name'])\n",
    "    events.append((len(i['events'])))\n",
    "    actapp.append(len([x for x in i['events'] if x['type'] == 'ACTIVATE_APP']))\n",
    "    custom.append(len([x for x in i['events'] if x['type'] == 'CUSTOM']))\n",
    "    search.append(len([x for x in i['events'] if x['type'] == 'SEARCH']))\n",
    "    viewc.append(len([x for x in i['events'] if x['type'] == 'VIEW_CONTENT']))\n",
    "    ad.append(len([x for x in i['events'] if x['type'] == 'AD_REQUEST']))\n",
    "    pview.append(len([x for x in i['events'] if x['type'] == 'PAGE_VIEW']))\n",
    "    purchase.append(len([x for x in i['events'] if x['type'] == 'PURCHASE']))"
   ]
  },
  {
   "cell_type": "markdown",
   "id": "revolutionary-handling",
   "metadata": {},
   "source": [
    "Above is me gathering all the event types that are associated with my facebook activity, getting ready to create a table to organize the information"
   ]
  },
  {
   "cell_type": "code",
   "execution_count": 46,
   "id": "regular-sentence",
   "metadata": {},
   "outputs": [
    {
     "data": {
      "text/html": [
       "<div>\n",
       "<style scoped>\n",
       "    .dataframe tbody tr th:only-of-type {\n",
       "        vertical-align: middle;\n",
       "    }\n",
       "\n",
       "    .dataframe tbody tr th {\n",
       "        vertical-align: top;\n",
       "    }\n",
       "\n",
       "    .dataframe thead th {\n",
       "        text-align: right;\n",
       "    }\n",
       "</style>\n",
       "<table border=\"1\" class=\"dataframe\">\n",
       "  <thead>\n",
       "    <tr style=\"text-align: right;\">\n",
       "      <th></th>\n",
       "      <th>App/Website</th>\n",
       "      <th>Event Count</th>\n",
       "      <th>Activate App</th>\n",
       "      <th>Custom</th>\n",
       "      <th>Search</th>\n",
       "      <th>View Content</th>\n",
       "      <th>Ad Request</th>\n",
       "      <th>Page Views</th>\n",
       "      <th>Purchase</th>\n",
       "    </tr>\n",
       "  </thead>\n",
       "  <tbody>\n",
       "    <tr>\n",
       "      <th>0</th>\n",
       "      <td>Rockstar Games</td>\n",
       "      <td>1</td>\n",
       "      <td>0</td>\n",
       "      <td>0</td>\n",
       "      <td>0</td>\n",
       "      <td>0</td>\n",
       "      <td>0</td>\n",
       "      <td>0</td>\n",
       "      <td>0</td>\n",
       "    </tr>\n",
       "    <tr>\n",
       "      <th>1</th>\n",
       "      <td>andarwallets.com</td>\n",
       "      <td>1</td>\n",
       "      <td>0</td>\n",
       "      <td>0</td>\n",
       "      <td>0</td>\n",
       "      <td>0</td>\n",
       "      <td>0</td>\n",
       "      <td>1</td>\n",
       "      <td>1</td>\n",
       "    </tr>\n",
       "    <tr>\n",
       "      <th>2</th>\n",
       "      <td>groupon.com</td>\n",
       "      <td>4</td>\n",
       "      <td>0</td>\n",
       "      <td>0</td>\n",
       "      <td>0</td>\n",
       "      <td>1</td>\n",
       "      <td>0</td>\n",
       "      <td>3</td>\n",
       "      <td>3</td>\n",
       "    </tr>\n",
       "    <tr>\n",
       "      <th>3</th>\n",
       "      <td>buffalowildwings.com</td>\n",
       "      <td>1</td>\n",
       "      <td>0</td>\n",
       "      <td>0</td>\n",
       "      <td>0</td>\n",
       "      <td>0</td>\n",
       "      <td>0</td>\n",
       "      <td>1</td>\n",
       "      <td>1</td>\n",
       "    </tr>\n",
       "    <tr>\n",
       "      <th>4</th>\n",
       "      <td>footlocker.com</td>\n",
       "      <td>1</td>\n",
       "      <td>0</td>\n",
       "      <td>0</td>\n",
       "      <td>0</td>\n",
       "      <td>0</td>\n",
       "      <td>0</td>\n",
       "      <td>1</td>\n",
       "      <td>1</td>\n",
       "    </tr>\n",
       "  </tbody>\n",
       "</table>\n",
       "</div>"
      ],
      "text/plain": [
       "            App/Website  Event Count  Activate App  Custom  Search  \\\n",
       "0        Rockstar Games            1             0       0       0   \n",
       "1      andarwallets.com            1             0       0       0   \n",
       "2           groupon.com            4             0       0       0   \n",
       "3  buffalowildwings.com            1             0       0       0   \n",
       "4        footlocker.com            1             0       0       0   \n",
       "\n",
       "   View Content  Ad Request  Page Views  Purchase  \n",
       "0             0           0           0         0  \n",
       "1             0           0           1         1  \n",
       "2             1           0           3         3  \n",
       "3             0           0           1         1  \n",
       "4             0           0           1         1  "
      ]
     },
     "execution_count": 46,
     "metadata": {},
     "output_type": "execute_result"
    }
   ],
   "source": [
    "appbyevent = pd.DataFrame(columns = ('App/Website', 'Event Count', 'Activate App', 'Custom', 'Search', 'View Content', 'Ad Request', 'Page Views', 'Purchase'))\n",
    "appbyevent['App/Website'] = apps\n",
    "appbyevent['Event Count'] = events\n",
    "appbyevent['Activate App'] = actapp\n",
    "appbyevent['Custom'] = custom\n",
    "appbyevent['Search'] = search\n",
    "appbyevent['View Content'] = viewc\n",
    "appbyevent['Ad Request'] = ad\n",
    "appbyevent['Page Views'] = pview\n",
    "appbyevent['Purchase'] = pview\n",
    "appbyevent.head()"
   ]
  },
  {
   "cell_type": "markdown",
   "id": "executive-necessity",
   "metadata": {},
   "source": [
    "From all the event types a table was made to show the 5 most recent Apps and Websites we can see in the table that these sites have not been doing much with my information. I am rarely on facebook as I use to be years before and so that could be the reason for not much going on."
   ]
  },
  {
   "cell_type": "code",
   "execution_count": 47,
   "id": "unavailable-moral",
   "metadata": {},
   "outputs": [
    {
     "data": {
      "text/html": [
       "<div>\n",
       "<style scoped>\n",
       "    .dataframe tbody tr th:only-of-type {\n",
       "        vertical-align: middle;\n",
       "    }\n",
       "\n",
       "    .dataframe tbody tr th {\n",
       "        vertical-align: top;\n",
       "    }\n",
       "\n",
       "    .dataframe thead th {\n",
       "        text-align: right;\n",
       "    }\n",
       "</style>\n",
       "<table border=\"1\" class=\"dataframe\">\n",
       "  <thead>\n",
       "    <tr style=\"text-align: right;\">\n",
       "      <th></th>\n",
       "      <th>App/Website</th>\n",
       "      <th>Event Count</th>\n",
       "      <th>Activate App</th>\n",
       "      <th>Custom</th>\n",
       "      <th>View Content</th>\n",
       "      <th>Page Views</th>\n",
       "      <th>Purchase</th>\n",
       "    </tr>\n",
       "  </thead>\n",
       "  <tbody>\n",
       "    <tr>\n",
       "      <th>11</th>\n",
       "      <td>Dick's Sporting Goods</td>\n",
       "      <td>6</td>\n",
       "      <td>0</td>\n",
       "      <td>0</td>\n",
       "      <td>0</td>\n",
       "      <td>0</td>\n",
       "      <td>0</td>\n",
       "    </tr>\n",
       "    <tr>\n",
       "      <th>14</th>\n",
       "      <td>Spotify: Music and Podcasts</td>\n",
       "      <td>8</td>\n",
       "      <td>3</td>\n",
       "      <td>5</td>\n",
       "      <td>0</td>\n",
       "      <td>0</td>\n",
       "      <td>0</td>\n",
       "    </tr>\n",
       "    <tr>\n",
       "      <th>15</th>\n",
       "      <td>Twitch: Live Game Streaming</td>\n",
       "      <td>6</td>\n",
       "      <td>6</td>\n",
       "      <td>0</td>\n",
       "      <td>0</td>\n",
       "      <td>0</td>\n",
       "      <td>0</td>\n",
       "    </tr>\n",
       "    <tr>\n",
       "      <th>20</th>\n",
       "      <td>Walgreens</td>\n",
       "      <td>9</td>\n",
       "      <td>9</td>\n",
       "      <td>0</td>\n",
       "      <td>0</td>\n",
       "      <td>0</td>\n",
       "      <td>0</td>\n",
       "    </tr>\n",
       "    <tr>\n",
       "      <th>21</th>\n",
       "      <td>goldenrulelabs.com</td>\n",
       "      <td>10</td>\n",
       "      <td>0</td>\n",
       "      <td>0</td>\n",
       "      <td>0</td>\n",
       "      <td>10</td>\n",
       "      <td>10</td>\n",
       "    </tr>\n",
       "    <tr>\n",
       "      <th>22</th>\n",
       "      <td>Airbnb</td>\n",
       "      <td>41</td>\n",
       "      <td>18</td>\n",
       "      <td>23</td>\n",
       "      <td>0</td>\n",
       "      <td>0</td>\n",
       "      <td>0</td>\n",
       "    </tr>\n",
       "    <tr>\n",
       "      <th>23</th>\n",
       "      <td>kent.edu</td>\n",
       "      <td>59</td>\n",
       "      <td>0</td>\n",
       "      <td>0</td>\n",
       "      <td>16</td>\n",
       "      <td>43</td>\n",
       "      <td>43</td>\n",
       "    </tr>\n",
       "    <tr>\n",
       "      <th>29</th>\n",
       "      <td>The Home Depot</td>\n",
       "      <td>10</td>\n",
       "      <td>0</td>\n",
       "      <td>10</td>\n",
       "      <td>0</td>\n",
       "      <td>0</td>\n",
       "      <td>0</td>\n",
       "    </tr>\n",
       "    <tr>\n",
       "      <th>36</th>\n",
       "      <td>TikTok - Make Your Day</td>\n",
       "      <td>79</td>\n",
       "      <td>27</td>\n",
       "      <td>52</td>\n",
       "      <td>0</td>\n",
       "      <td>0</td>\n",
       "      <td>0</td>\n",
       "    </tr>\n",
       "    <tr>\n",
       "      <th>39</th>\n",
       "      <td>Quizlet</td>\n",
       "      <td>91</td>\n",
       "      <td>0</td>\n",
       "      <td>71</td>\n",
       "      <td>0</td>\n",
       "      <td>0</td>\n",
       "      <td>0</td>\n",
       "    </tr>\n",
       "    <tr>\n",
       "      <th>47</th>\n",
       "      <td>Genius: Song Lyrics &amp; More</td>\n",
       "      <td>9</td>\n",
       "      <td>9</td>\n",
       "      <td>0</td>\n",
       "      <td>0</td>\n",
       "      <td>0</td>\n",
       "      <td>0</td>\n",
       "    </tr>\n",
       "    <tr>\n",
       "      <th>48</th>\n",
       "      <td>SoundCloud - Music &amp; Audio</td>\n",
       "      <td>60</td>\n",
       "      <td>0</td>\n",
       "      <td>60</td>\n",
       "      <td>0</td>\n",
       "      <td>0</td>\n",
       "      <td>0</td>\n",
       "    </tr>\n",
       "    <tr>\n",
       "      <th>59</th>\n",
       "      <td>MADDEN NFL MOBILE FOOTBALL</td>\n",
       "      <td>12</td>\n",
       "      <td>0</td>\n",
       "      <td>12</td>\n",
       "      <td>0</td>\n",
       "      <td>0</td>\n",
       "      <td>0</td>\n",
       "    </tr>\n",
       "    <tr>\n",
       "      <th>68</th>\n",
       "      <td>Mario Kart Tour</td>\n",
       "      <td>7</td>\n",
       "      <td>7</td>\n",
       "      <td>0</td>\n",
       "      <td>0</td>\n",
       "      <td>0</td>\n",
       "      <td>0</td>\n",
       "    </tr>\n",
       "    <tr>\n",
       "      <th>74</th>\n",
       "      <td>Picker 3D</td>\n",
       "      <td>8</td>\n",
       "      <td>0</td>\n",
       "      <td>8</td>\n",
       "      <td>0</td>\n",
       "      <td>0</td>\n",
       "      <td>0</td>\n",
       "    </tr>\n",
       "  </tbody>\n",
       "</table>\n",
       "</div>"
      ],
      "text/plain": [
       "                    App/Website  Event Count  Activate App  Custom  \\\n",
       "11        Dick's Sporting Goods            6             0       0   \n",
       "14  Spotify: Music and Podcasts            8             3       5   \n",
       "15  Twitch: Live Game Streaming            6             6       0   \n",
       "20                    Walgreens            9             9       0   \n",
       "21           goldenrulelabs.com           10             0       0   \n",
       "22                       Airbnb           41            18      23   \n",
       "23                     kent.edu           59             0       0   \n",
       "29               The Home Depot           10             0      10   \n",
       "36       TikTok - Make Your Day           79            27      52   \n",
       "39                      Quizlet           91             0      71   \n",
       "47   Genius: Song Lyrics & More            9             9       0   \n",
       "48   SoundCloud - Music & Audio           60             0      60   \n",
       "59   MADDEN NFL MOBILE FOOTBALL           12             0      12   \n",
       "68              Mario Kart Tour            7             7       0   \n",
       "74                    Picker 3D            8             0       8   \n",
       "\n",
       "    View Content  Page Views  Purchase  \n",
       "11             0           0         0  \n",
       "14             0           0         0  \n",
       "15             0           0         0  \n",
       "20             0           0         0  \n",
       "21             0          10        10  \n",
       "22             0           0         0  \n",
       "23            16          43        43  \n",
       "29             0           0         0  \n",
       "36             0           0         0  \n",
       "39             0           0         0  \n",
       "47             0           0         0  \n",
       "48             0           0         0  \n",
       "59             0           0         0  \n",
       "68             0           0         0  \n",
       "74             0           0         0  "
      ]
     },
     "execution_count": 47,
     "metadata": {},
     "output_type": "execute_result"
    }
   ],
   "source": [
    "sub_apps = appbyevent[['App/Website', 'Event Count', 'Activate App', 'Custom', 'View Content', 'Page Views', 'Purchase']].loc[appbyevent['Event Count'] > 5]\n",
    "sub_apps"
   ]
  },
  {
   "cell_type": "markdown",
   "id": "dying-digit",
   "metadata": {},
   "source": [
    "The goal for this report is to see whihch app or website show the most interaction I have had with it and so a new table was made to show the event count of the site that have more than 25 interactions that I have made with it."
   ]
  },
  {
   "cell_type": "code",
   "execution_count": 27,
   "id": "orange-delivery",
   "metadata": {},
   "outputs": [],
   "source": [
    "from scipy import stats"
   ]
  },
  {
   "cell_type": "markdown",
   "id": "extensive-still",
   "metadata": {},
   "source": [
    "Imported a package to view the statistic of it"
   ]
  },
  {
   "cell_type": "code",
   "execution_count": 36,
   "id": "threatened-tracy",
   "metadata": {},
   "outputs": [
    {
     "data": {
      "text/plain": [
       "Power_divergenceResult(statistic=3054.1873804971315, pvalue=0.0)"
      ]
     },
     "execution_count": 36,
     "metadata": {},
     "output_type": "execute_result"
    }
   ],
   "source": [
    "stats.chisquare(appbyevent['Event Count'])"
   ]
  },
  {
   "cell_type": "markdown",
   "id": "parental-sampling",
   "metadata": {},
   "source": [
    "This was more of observation of it just to see what the result would be above, its giving the stat of all of this files event counts are and totaling them up to create an average."
   ]
  },
  {
   "cell_type": "code",
   "execution_count": 11,
   "id": "certified-confidence",
   "metadata": {},
   "outputs": [
    {
     "data": {
      "image/png": "[encoded data removed]",
      "text/plain": [
       "<Figure size 432x288 with 1 Axes>"
      ]
     },
     "metadata": {
      "needs_background": "light"
     },
     "output_type": "display_data"
    }
   ],
   "source": [
    "appbyevent = appbyevent.sort_values(by = ['Event Count'], ascending = False)\n",
    "X = ny.arange(30)\n",
    "fig = plt.figure()\n",
    "ax = fig.add_axes([0,0,1,1])\n",
    "ax.bar(X + 0.00, appbyevent['Activate App'][0:30], color='b', width = .5)\n",
    "ax.bar(X + 0.15, appbyevent['Custom'][0:30], color='g', width = .25)\n",
    "ax.bar(X + 0.30, appbyevent['Page Views'][0:30], color='r', width = .5)\n",
    "ax.bar(X+.60, appbyevent['Purchase'][0:30], color = 'b', alpha =.5, width = .5)\n",
    "plt.xticks(ticks=X+.2, labels = list(appbyevent['App'][0:30]), rotation=90)\n",
    "ax.legend(labels=['Activate App', 'Custom', 'Page Views', 'Purchase'])\n",
    "plt.show()"
   ]
  },
  {
   "cell_type": "markdown",
   "id": "first-slide",
   "metadata": {},
   "source": [
    "Here I decided to add a similar graph from the examples just because I was having some difficulties producing one from scratch but it shows the 30 apps and sites I have interacted with from greatest to least."
   ]
  },
  {
   "cell_type": "markdown",
   "id": "extensive-winning",
   "metadata": {},
   "source": [
    "## Analysis/Conclusion\n",
    "\n",
    "The report showed that Quizlet was the top account with the most interaction I had with it with having 79 \"Custom\" Then Tiktok with being the highest for \"Active App\" at 29 and Kent.edu tied with \"Page View\" and \"Purchase\" at 47. This report was very complex in my opinion trying to put the data into differnt forms to visualize it was the hardest part of it. But I am very surprised that from all my apps that quizlet would be the highest one. I do use it to create flash cards or looking premade ones to study with. The others I agree with because the type it falls under are what I usally do with it when I am on that website or app. To wrap this up I learned a little more about what facebook does with my account and it really makes you think what other apps are watching what you are doing. "
   ]
  }
 ],
 "metadata": {
  "kernelspec": {
   "display_name": "Python 3",
   "language": "python",
   "name": "python3"
  },
  "language_info": {
   "codemirror_mode": {
    "name": "ipython",
    "version": 3
   },
   "file_extension": ".py",
   "mimetype": "text/x-python",
   "name": "python",
   "nbconvert_exporter": "python",
   "pygments_lexer": "ipython3",
   "version": "3.8.5"
  }
 },
 "nbformat": 4,
 "nbformat_minor": 5
}
