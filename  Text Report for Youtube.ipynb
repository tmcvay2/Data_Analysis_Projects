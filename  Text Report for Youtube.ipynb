{
 "cells": [
  {
   "cell_type": "markdown",
   "source": [
    "# Youtube Text Report\n",
    "\n",
    "## Author: Tovin McVay Jr"
   ],
   "metadata": {}
  },
  {
   "cell_type": "markdown",
   "source": [
    "### Overview\n",
    "\n",
    "The idea of this project is to really take a look and analyze what peoples thoughts are on getting vaccninated. As we know we are in a pandemic where we have had a huge rise in cased for the last year, and pharmacudical companies have potentially created a vaccine for COVID-19. With that being announced we can assume many people have mixed thoughts on the vaccine such as it being produced so quickly, or how effective it, and the morst important of them all, is it even safe? and so in the dataset I have, it is a collection of comments from youtube from a news video on the vaccine being out. I analyzed the comments that were left for the video on what peoples thoughts are about the whole vaccine being out and seeing if there are more positve or negative comments. The way I will be analyzing the comments is by calculating the value of how positve, negative, or nuetral the comments. The way that this can be determined is by a tool called Vader Sentiment. \n",
    "\n",
    "\n",
    "VADER which stands for \"Valence Aware Dictionary and sEntiment Reasoner\" is a lexicon and rule-based sentiment analysis tool that is specifically attuned to sentiments expressed in social media. VADER uses a combination of A sentiment lexicon is a list of lexical features, basically words which are generally labeled according to their semantic orientation as either positive or negative. VADER not only tells about the positivity and pegativity score but also tells us about how positive or negative a sentiment is.\n",
    "\n",
    "Why Sentiment Analysis?\n",
    "\n",
    "\n",
    "Well this is the process of computationally determing whether a comment, quote, writing, and more is positve, negative, or nuetral as said earlier. It is also known as \"opinion mining\" where we can derive the opnion or attitude of the person who make the comment. Its very helpful in the marketing field to get an idea of what user thoughts are on product, company, and etc. Companies can use this tool to figure out what people think of their company and if its more so a negative aspect, companies then figure out what to do go forward to receive more of a positive sentiment for the future, same for politics same strategies apply for a campaign team as well.\n",
    "\n",
    "Data used:\n",
    "\n",
    "\n",
    "Pandas\n",
    "\n",
    "\n",
    "Vader\n",
    "\n",
    "\n",
    "Matplotlib\n",
    "\n",
    "\n",
    "Natural Language Tool Kit(NLTK)\n"
   ],
   "metadata": {}
  },
  {
   "cell_type": "code",
   "execution_count": 2,
   "source": [
    "import pandas as pd\n",
    "from vaderSentiment.vaderSentiment import SentimentIntensityAnalyzer\n",
    "import warnings"
   ],
   "outputs": [],
   "metadata": {}
  },
  {
   "cell_type": "code",
   "execution_count": 3,
   "source": [
    "yt_vac = pd.read_csv('YouTubeVaccination_Dec14-Dec26_2021_fixed.csv')\n",
    "yt_vac.keys()"
   ],
   "outputs": [
    {
     "output_type": "execute_result",
     "data": {
      "text/plain": [
       "Index(['Date', 'Title', 'Url', 'Domain', 'Page Type', 'Language', 'Author',\n",
       "       'Full Name', 'Full Text', 'Original Url', 'Thread Entry Type',\n",
       "       'Page Type Name', 'Pub Type'],\n",
       "      dtype='object')"
      ]
     },
     "metadata": {},
     "execution_count": 3
    }
   ],
   "metadata": {}
  },
  {
   "cell_type": "code",
   "execution_count": 4,
   "source": [
    "en_only = yt_vac.loc[yt_vac['Language'] == 'en']\n",
    "en_only"
   ],
   "outputs": [
    {
     "output_type": "execute_result",
     "data": {
      "text/plain": [
       "                   Date                                              Title  \\\n",
       "0      12/26/2020 23:56  Comment on video https://www.youtube.com/watch...   \n",
       "1      12/26/2020 23:36  Comment on video https://www.youtube.com/watch...   \n",
       "2      12/26/2020 23:34  Comment on video https://www.youtube.com/watch...   \n",
       "3      12/26/2020 23:30  Comment on video https://www.youtube.com/watch...   \n",
       "4      12/26/2020 23:27  Comment on video https://www.youtube.com/watch...   \n",
       "...                 ...                                                ...   \n",
       "12486   12/13/2020 0:12  Comment on video https://www.youtube.com/watch...   \n",
       "12487   12/13/2020 0:11  Comment on video https://www.youtube.com/watch...   \n",
       "12488   12/13/2020 0:07  Comment on video https://www.youtube.com/watch...   \n",
       "12489   12/13/2020 0:02  Comment on video https://www.youtube.com/watch...   \n",
       "12490   12/13/2020 0:01  Comment on video https://www.youtube.com/watch...   \n",
       "\n",
       "                                                     Url       Domain  \\\n",
       "0      https://www.youtube.com/watch?v=sT80A5uPREolc=...  youtube.com   \n",
       "1      https://www.youtube.com/watch?v=dxVCqwAD8gQlc=...  youtube.com   \n",
       "2      https://www.youtube.com/watch?v=2Wz7KvLFgYQlc=...  youtube.com   \n",
       "3      https://www.youtube.com/watch?v=dxVCqwAD8gQlc=...  youtube.com   \n",
       "4      https://www.youtube.com/watch?v=7VG_s2PCH_clc=...  youtube.com   \n",
       "...                                                  ...          ...   \n",
       "12486  http://www.youtube.com/all_comments?v=JMEK0-zO...  youtube.com   \n",
       "12487  https://www.youtube.com/watch?v=aWAly3INavMlc=...  youtube.com   \n",
       "12488  http://www.youtube.com/all_comments?v=XWG_Jypo...  youtube.com   \n",
       "12489  http://www.youtube.com/all_comments?v=tG7CzK5J...  youtube.com   \n",
       "12490  http://www.youtube.com/all_comments?v=zhTmjZVR...  youtube.com   \n",
       "\n",
       "      Page Type Language             Author      Full Name  \\\n",
       "0       youtube       en        RJ MacReady    RJ MacReady   \n",
       "1       youtube       en          dontaskme      dontaskme   \n",
       "2       youtube       en            Salavin        Salavin   \n",
       "3       youtube       en          dontaskme      dontaskme   \n",
       "4       youtube       en      Kristi Allman  Kristi Allman   \n",
       "...         ...      ...                ...            ...   \n",
       "12486   youtube       en        Sarah Wales            NaN   \n",
       "12487   youtube       en  Damoreah Mitchell            NaN   \n",
       "12488   youtube       en   Adelaide Hemlock            NaN   \n",
       "12489   youtube       en         Flumazenil            NaN   \n",
       "12490   youtube       en                  H            NaN   \n",
       "\n",
       "                                               Full Text  \\\n",
       "0      I got the Moderna vaccine, hereâ€™s my list of...   \n",
       "1      @Charlotte Haggerty Do you really believe ever...   \n",
       "2      I hate it when they say \"You don't want a covi...   \n",
       "3      @Sweet Heart Well, Quantas, an Australian airl...   \n",
       "4      @AngryAngy Here they recommend a flu shot duri...   \n",
       "...                                                  ...   \n",
       "12486  Pfizer - The most fined Corporation in the US ...   \n",
       "12487  How is this women the first person to get the ...   \n",
       "12488  Breast cancer survivor: good question! Iâ€™ve ...   \n",
       "12489            Panel members first to get the vaccine.   \n",
       "12490  @Tom R It won't return that easily. Many busin...   \n",
       "\n",
       "                                            Original Url Thread Entry Type  \\\n",
       "0      https://www.youtube.com/watch?v=sT80A5uPREolc=...             reply   \n",
       "1      https://www.youtube.com/watch?v=dxVCqwAD8gQlc=...             reply   \n",
       "2      https://www.youtube.com/watch?v=2Wz7KvLFgYQlc=...             reply   \n",
       "3      https://www.youtube.com/watch?v=dxVCqwAD8gQlc=...             reply   \n",
       "4      https://www.youtube.com/watch?v=7VG_s2PCH_clc=...             reply   \n",
       "...                                                  ...               ...   \n",
       "12486  http://www.youtube.com/all_comments?v=JMEK0-zO...             reply   \n",
       "12487  https://www.youtube.com/watch?v=aWAly3INavMlc=...             reply   \n",
       "12488  http://www.youtube.com/all_comments?v=XWG_Jypo...             reply   \n",
       "12489  http://www.youtube.com/all_comments?v=tG7CzK5J...             reply   \n",
       "12490  http://www.youtube.com/all_comments?v=zhTmjZVR...             reply   \n",
       "\n",
       "      Page Type Name  Pub Type  \n",
       "0            YouTube  VCOMMENT  \n",
       "1            YouTube  VCOMMENT  \n",
       "2            YouTube  VCOMMENT  \n",
       "3            YouTube  VCOMMENT  \n",
       "4            YouTube  VCOMMENT  \n",
       "...              ...       ...  \n",
       "12486        YouTube  VCOMMENT  \n",
       "12487        YouTube  VCOMMENT  \n",
       "12488        YouTube  VCOMMENT  \n",
       "12489        YouTube  VCOMMENT  \n",
       "12490        YouTube  VCOMMENT  \n",
       "\n",
       "[12491 rows x 13 columns]"
      ],
      "text/html": [
       "<div>\n",
       "<style scoped>\n",
       "    .dataframe tbody tr th:only-of-type {\n",
       "        vertical-align: middle;\n",
       "    }\n",
       "\n",
       "    .dataframe tbody tr th {\n",
       "        vertical-align: top;\n",
       "    }\n",
       "\n",
       "    .dataframe thead th {\n",
       "        text-align: right;\n",
       "    }\n",
       "</style>\n",
       "<table border=\"1\" class=\"dataframe\">\n",
       "  <thead>\n",
       "    <tr style=\"text-align: right;\">\n",
       "      <th></th>\n",
       "      <th>Date</th>\n",
       "      <th>Title</th>\n",
       "      <th>Url</th>\n",
       "      <th>Domain</th>\n",
       "      <th>Page Type</th>\n",
       "      <th>Language</th>\n",
       "      <th>Author</th>\n",
       "      <th>Full Name</th>\n",
       "      <th>Full Text</th>\n",
       "      <th>Original Url</th>\n",
       "      <th>Thread Entry Type</th>\n",
       "      <th>Page Type Name</th>\n",
       "      <th>Pub Type</th>\n",
       "    </tr>\n",
       "  </thead>\n",
       "  <tbody>\n",
       "    <tr>\n",
       "      <th>0</th>\n",
       "      <td>12/26/2020 23:56</td>\n",
       "      <td>Comment on video https://www.youtube.com/watch...</td>\n",
       "      <td>https://www.youtube.com/watch?v=sT80A5uPREolc=...</td>\n",
       "      <td>youtube.com</td>\n",
       "      <td>youtube</td>\n",
       "      <td>en</td>\n",
       "      <td>RJ MacReady</td>\n",
       "      <td>RJ MacReady</td>\n",
       "      <td>I got the Moderna vaccine, hereâ€™s my list of...</td>\n",
       "      <td>https://www.youtube.com/watch?v=sT80A5uPREolc=...</td>\n",
       "      <td>reply</td>\n",
       "      <td>YouTube</td>\n",
       "      <td>VCOMMENT</td>\n",
       "    </tr>\n",
       "    <tr>\n",
       "      <th>1</th>\n",
       "      <td>12/26/2020 23:36</td>\n",
       "      <td>Comment on video https://www.youtube.com/watch...</td>\n",
       "      <td>https://www.youtube.com/watch?v=dxVCqwAD8gQlc=...</td>\n",
       "      <td>youtube.com</td>\n",
       "      <td>youtube</td>\n",
       "      <td>en</td>\n",
       "      <td>dontaskme</td>\n",
       "      <td>dontaskme</td>\n",
       "      <td>@Charlotte Haggerty Do you really believe ever...</td>\n",
       "      <td>https://www.youtube.com/watch?v=dxVCqwAD8gQlc=...</td>\n",
       "      <td>reply</td>\n",
       "      <td>YouTube</td>\n",
       "      <td>VCOMMENT</td>\n",
       "    </tr>\n",
       "    <tr>\n",
       "      <th>2</th>\n",
       "      <td>12/26/2020 23:34</td>\n",
       "      <td>Comment on video https://www.youtube.com/watch...</td>\n",
       "      <td>https://www.youtube.com/watch?v=2Wz7KvLFgYQlc=...</td>\n",
       "      <td>youtube.com</td>\n",
       "      <td>youtube</td>\n",
       "      <td>en</td>\n",
       "      <td>Salavin</td>\n",
       "      <td>Salavin</td>\n",
       "      <td>I hate it when they say \"You don't want a covi...</td>\n",
       "      <td>https://www.youtube.com/watch?v=2Wz7KvLFgYQlc=...</td>\n",
       "      <td>reply</td>\n",
       "      <td>YouTube</td>\n",
       "      <td>VCOMMENT</td>\n",
       "    </tr>\n",
       "    <tr>\n",
       "      <th>3</th>\n",
       "      <td>12/26/2020 23:30</td>\n",
       "      <td>Comment on video https://www.youtube.com/watch...</td>\n",
       "      <td>https://www.youtube.com/watch?v=dxVCqwAD8gQlc=...</td>\n",
       "      <td>youtube.com</td>\n",
       "      <td>youtube</td>\n",
       "      <td>en</td>\n",
       "      <td>dontaskme</td>\n",
       "      <td>dontaskme</td>\n",
       "      <td>@Sweet Heart Well, Quantas, an Australian airl...</td>\n",
       "      <td>https://www.youtube.com/watch?v=dxVCqwAD8gQlc=...</td>\n",
       "      <td>reply</td>\n",
       "      <td>YouTube</td>\n",
       "      <td>VCOMMENT</td>\n",
       "    </tr>\n",
       "    <tr>\n",
       "      <th>4</th>\n",
       "      <td>12/26/2020 23:27</td>\n",
       "      <td>Comment on video https://www.youtube.com/watch...</td>\n",
       "      <td>https://www.youtube.com/watch?v=7VG_s2PCH_clc=...</td>\n",
       "      <td>youtube.com</td>\n",
       "      <td>youtube</td>\n",
       "      <td>en</td>\n",
       "      <td>Kristi Allman</td>\n",
       "      <td>Kristi Allman</td>\n",
       "      <td>@AngryAngy Here they recommend a flu shot duri...</td>\n",
       "      <td>https://www.youtube.com/watch?v=7VG_s2PCH_clc=...</td>\n",
       "      <td>reply</td>\n",
       "      <td>YouTube</td>\n",
       "      <td>VCOMMENT</td>\n",
       "    </tr>\n",
       "    <tr>\n",
       "      <th>...</th>\n",
       "      <td>...</td>\n",
       "      <td>...</td>\n",
       "      <td>...</td>\n",
       "      <td>...</td>\n",
       "      <td>...</td>\n",
       "      <td>...</td>\n",
       "      <td>...</td>\n",
       "      <td>...</td>\n",
       "      <td>...</td>\n",
       "      <td>...</td>\n",
       "      <td>...</td>\n",
       "      <td>...</td>\n",
       "      <td>...</td>\n",
       "    </tr>\n",
       "    <tr>\n",
       "      <th>12486</th>\n",
       "      <td>12/13/2020 0:12</td>\n",
       "      <td>Comment on video https://www.youtube.com/watch...</td>\n",
       "      <td>http://www.youtube.com/all_comments?v=JMEK0-zO...</td>\n",
       "      <td>youtube.com</td>\n",
       "      <td>youtube</td>\n",
       "      <td>en</td>\n",
       "      <td>Sarah Wales</td>\n",
       "      <td>NaN</td>\n",
       "      <td>Pfizer - The most fined Corporation in the US ...</td>\n",
       "      <td>http://www.youtube.com/all_comments?v=JMEK0-zO...</td>\n",
       "      <td>reply</td>\n",
       "      <td>YouTube</td>\n",
       "      <td>VCOMMENT</td>\n",
       "    </tr>\n",
       "    <tr>\n",
       "      <th>12487</th>\n",
       "      <td>12/13/2020 0:11</td>\n",
       "      <td>Comment on video https://www.youtube.com/watch...</td>\n",
       "      <td>https://www.youtube.com/watch?v=aWAly3INavMlc=...</td>\n",
       "      <td>youtube.com</td>\n",
       "      <td>youtube</td>\n",
       "      <td>en</td>\n",
       "      <td>Damoreah Mitchell</td>\n",
       "      <td>NaN</td>\n",
       "      <td>How is this women the first person to get the ...</td>\n",
       "      <td>https://www.youtube.com/watch?v=aWAly3INavMlc=...</td>\n",
       "      <td>reply</td>\n",
       "      <td>YouTube</td>\n",
       "      <td>VCOMMENT</td>\n",
       "    </tr>\n",
       "    <tr>\n",
       "      <th>12488</th>\n",
       "      <td>12/13/2020 0:07</td>\n",
       "      <td>Comment on video https://www.youtube.com/watch...</td>\n",
       "      <td>http://www.youtube.com/all_comments?v=XWG_Jypo...</td>\n",
       "      <td>youtube.com</td>\n",
       "      <td>youtube</td>\n",
       "      <td>en</td>\n",
       "      <td>Adelaide Hemlock</td>\n",
       "      <td>NaN</td>\n",
       "      <td>Breast cancer survivor: good question! Iâ€™ve ...</td>\n",
       "      <td>http://www.youtube.com/all_comments?v=XWG_Jypo...</td>\n",
       "      <td>reply</td>\n",
       "      <td>YouTube</td>\n",
       "      <td>VCOMMENT</td>\n",
       "    </tr>\n",
       "    <tr>\n",
       "      <th>12489</th>\n",
       "      <td>12/13/2020 0:02</td>\n",
       "      <td>Comment on video https://www.youtube.com/watch...</td>\n",
       "      <td>http://www.youtube.com/all_comments?v=tG7CzK5J...</td>\n",
       "      <td>youtube.com</td>\n",
       "      <td>youtube</td>\n",
       "      <td>en</td>\n",
       "      <td>Flumazenil</td>\n",
       "      <td>NaN</td>\n",
       "      <td>Panel members first to get the vaccine.</td>\n",
       "      <td>http://www.youtube.com/all_comments?v=tG7CzK5J...</td>\n",
       "      <td>reply</td>\n",
       "      <td>YouTube</td>\n",
       "      <td>VCOMMENT</td>\n",
       "    </tr>\n",
       "    <tr>\n",
       "      <th>12490</th>\n",
       "      <td>12/13/2020 0:01</td>\n",
       "      <td>Comment on video https://www.youtube.com/watch...</td>\n",
       "      <td>http://www.youtube.com/all_comments?v=zhTmjZVR...</td>\n",
       "      <td>youtube.com</td>\n",
       "      <td>youtube</td>\n",
       "      <td>en</td>\n",
       "      <td>H</td>\n",
       "      <td>NaN</td>\n",
       "      <td>@Tom R It won't return that easily. Many busin...</td>\n",
       "      <td>http://www.youtube.com/all_comments?v=zhTmjZVR...</td>\n",
       "      <td>reply</td>\n",
       "      <td>YouTube</td>\n",
       "      <td>VCOMMENT</td>\n",
       "    </tr>\n",
       "  </tbody>\n",
       "</table>\n",
       "<p>12491 rows × 13 columns</p>\n",
       "</div>"
      ]
     },
     "metadata": {},
     "execution_count": 4
    }
   ],
   "metadata": {}
  },
  {
   "cell_type": "code",
   "execution_count": 5,
   "source": [
    "yt_vac['Full Text'].reset_index()"
   ],
   "outputs": [
    {
     "output_type": "execute_result",
     "data": {
      "text/plain": [
       "       index                                          Full Text\n",
       "0          0  I got the Moderna vaccine, hereâ€™s my list of...\n",
       "1          1  @Charlotte Haggerty Do you really believe ever...\n",
       "2          2  I hate it when they say \"You don't want a covi...\n",
       "3          3  @Sweet Heart Well, Quantas, an Australian airl...\n",
       "4          4  @AngryAngy Here they recommend a flu shot duri...\n",
       "...      ...                                                ...\n",
       "12486  12486  Pfizer - The most fined Corporation in the US ...\n",
       "12487  12487  How is this women the first person to get the ...\n",
       "12488  12488  Breast cancer survivor: good question! Iâ€™ve ...\n",
       "12489  12489            Panel members first to get the vaccine.\n",
       "12490  12490  @Tom R It won't return that easily. Many busin...\n",
       "\n",
       "[12491 rows x 2 columns]"
      ],
      "text/html": [
       "<div>\n",
       "<style scoped>\n",
       "    .dataframe tbody tr th:only-of-type {\n",
       "        vertical-align: middle;\n",
       "    }\n",
       "\n",
       "    .dataframe tbody tr th {\n",
       "        vertical-align: top;\n",
       "    }\n",
       "\n",
       "    .dataframe thead th {\n",
       "        text-align: right;\n",
       "    }\n",
       "</style>\n",
       "<table border=\"1\" class=\"dataframe\">\n",
       "  <thead>\n",
       "    <tr style=\"text-align: right;\">\n",
       "      <th></th>\n",
       "      <th>index</th>\n",
       "      <th>Full Text</th>\n",
       "    </tr>\n",
       "  </thead>\n",
       "  <tbody>\n",
       "    <tr>\n",
       "      <th>0</th>\n",
       "      <td>0</td>\n",
       "      <td>I got the Moderna vaccine, hereâ€™s my list of...</td>\n",
       "    </tr>\n",
       "    <tr>\n",
       "      <th>1</th>\n",
       "      <td>1</td>\n",
       "      <td>@Charlotte Haggerty Do you really believe ever...</td>\n",
       "    </tr>\n",
       "    <tr>\n",
       "      <th>2</th>\n",
       "      <td>2</td>\n",
       "      <td>I hate it when they say \"You don't want a covi...</td>\n",
       "    </tr>\n",
       "    <tr>\n",
       "      <th>3</th>\n",
       "      <td>3</td>\n",
       "      <td>@Sweet Heart Well, Quantas, an Australian airl...</td>\n",
       "    </tr>\n",
       "    <tr>\n",
       "      <th>4</th>\n",
       "      <td>4</td>\n",
       "      <td>@AngryAngy Here they recommend a flu shot duri...</td>\n",
       "    </tr>\n",
       "    <tr>\n",
       "      <th>...</th>\n",
       "      <td>...</td>\n",
       "      <td>...</td>\n",
       "    </tr>\n",
       "    <tr>\n",
       "      <th>12486</th>\n",
       "      <td>12486</td>\n",
       "      <td>Pfizer - The most fined Corporation in the US ...</td>\n",
       "    </tr>\n",
       "    <tr>\n",
       "      <th>12487</th>\n",
       "      <td>12487</td>\n",
       "      <td>How is this women the first person to get the ...</td>\n",
       "    </tr>\n",
       "    <tr>\n",
       "      <th>12488</th>\n",
       "      <td>12488</td>\n",
       "      <td>Breast cancer survivor: good question! Iâ€™ve ...</td>\n",
       "    </tr>\n",
       "    <tr>\n",
       "      <th>12489</th>\n",
       "      <td>12489</td>\n",
       "      <td>Panel members first to get the vaccine.</td>\n",
       "    </tr>\n",
       "    <tr>\n",
       "      <th>12490</th>\n",
       "      <td>12490</td>\n",
       "      <td>@Tom R It won't return that easily. Many busin...</td>\n",
       "    </tr>\n",
       "  </tbody>\n",
       "</table>\n",
       "<p>12491 rows × 2 columns</p>\n",
       "</div>"
      ]
     },
     "metadata": {},
     "execution_count": 5
    }
   ],
   "metadata": {
    "scrolled": true
   }
  },
  {
   "cell_type": "code",
   "execution_count": 6,
   "source": [
    "yt_vac[\"Full Text\"][3]"
   ],
   "outputs": [
    {
     "output_type": "execute_result",
     "data": {
      "text/plain": [
       "\"@Sweet Heart Well, Quantas, an Australian airline, has already made it that no one can fly with them unless they have a stamp on their passport showing that they got the vaccine. What will be next? Maybe a tattoo on your hand. Look, China is already doing this with their citizens, controlling all their moves. You do something wrong, you get a strike, meaning that you won't be allowed in a supermarket, or public places, or in an airport. The vaccine is just one step to get there where they (the U.N. and their 2030 agenda....look it up) want you.\""
      ]
     },
     "metadata": {},
     "execution_count": 6
    }
   ],
   "metadata": {}
  },
  {
   "cell_type": "markdown",
   "source": [
    "Lines 3-5 \n",
    "\n",
    "In these I am loading in my data and looking over the comments seeing that people have been saying about the vaccine."
   ],
   "metadata": {}
  },
  {
   "cell_type": "code",
   "execution_count": 7,
   "source": [
    "analyser = SentimentIntensityAnalyzer()\n",
    "warnings.filterwarnings('ignore')"
   ],
   "outputs": [],
   "metadata": {}
  },
  {
   "cell_type": "code",
   "execution_count": 8,
   "source": [
    "print(yt_vac['Full Text'][:10])\n",
    "print(analyser.polarity_scores(yt_vac['Full Text'][:10]))"
   ],
   "outputs": [
    {
     "output_type": "stream",
     "name": "stdout",
     "text": [
      "0    I got the Moderna vaccine, hereâ€™s my list of...\n",
      "1    @Charlotte Haggerty Do you really believe ever...\n",
      "2    I hate it when they say \"You don't want a covi...\n",
      "3    @Sweet Heart Well, Quantas, an Australian airl...\n",
      "4    @AngryAngy Here they recommend a flu shot duri...\n",
      "5    We don't need a Corona vaccine, we need a come...\n",
      "6    I had no idea of who this guy was prior to thi...\n",
      "7    @AngryAngy ZERO medical test is done before se...\n",
      "8    @Justin Kirschenman I don't know about your lo...\n",
      "9    Remember when the French scientist said test a...\n",
      "Name: Full Text, dtype: object\n",
      "{'neg': 0.092, 'neu': 0.79, 'pos': 0.118, 'compound': 0.9435}\n"
     ]
    }
   ],
   "metadata": {}
  },
  {
   "cell_type": "code",
   "execution_count": 9,
   "source": [
    "yt_vac['vader_scores'] = [analyser.polarity_scores(x) for x in en_only['Full Text']]\n",
    "yt_vac['vader_scores'].head(20).reset_index()"
   ],
   "outputs": [
    {
     "output_type": "execute_result",
     "data": {
      "text/plain": [
       "    index                                       vader_scores\n",
       "0       0  {'neg': 0.0, 'neu': 1.0, 'pos': 0.0, 'compound...\n",
       "1       1  {'neg': 0.0, 'neu': 1.0, 'pos': 0.0, 'compound...\n",
       "2       2  {'neg': 0.076, 'neu': 0.728, 'pos': 0.196, 'co...\n",
       "3       3  {'neg': 0.06, 'neu': 0.817, 'pos': 0.123, 'com...\n",
       "4       4  {'neg': 0.105, 'neu': 0.792, 'pos': 0.103, 'co...\n",
       "5       5  {'neg': 0.0, 'neu': 0.949, 'pos': 0.051, 'comp...\n",
       "6       6  {'neg': 0.098, 'neu': 0.902, 'pos': 0.0, 'comp...\n",
       "7       7  {'neg': 0.0, 'neu': 0.851, 'pos': 0.149, 'comp...\n",
       "8       8  {'neg': 0.036, 'neu': 0.811, 'pos': 0.154, 'co...\n",
       "9       9  {'neg': 0.0, 'neu': 1.0, 'pos': 0.0, 'compound...\n",
       "10     10  {'neg': 0.047, 'neu': 0.886, 'pos': 0.067, 'co...\n",
       "11     11  {'neg': 0.246, 'neu': 0.719, 'pos': 0.035, 'co...\n",
       "12     12  {'neg': 0.051, 'neu': 0.882, 'pos': 0.067, 'co...\n",
       "13     13  {'neg': 0.135, 'neu': 0.778, 'pos': 0.087, 'co...\n",
       "14     14  {'neg': 0.0, 'neu': 1.0, 'pos': 0.0, 'compound...\n",
       "15     15  {'neg': 0.155, 'neu': 0.845, 'pos': 0.0, 'comp...\n",
       "16     16  {'neg': 0.134, 'neu': 0.841, 'pos': 0.025, 'co...\n",
       "17     17  {'neg': 0.064, 'neu': 0.638, 'pos': 0.298, 'co...\n",
       "18     18  {'neg': 0.118, 'neu': 0.82, 'pos': 0.062, 'com...\n",
       "19     19  {'neg': 0.055, 'neu': 0.936, 'pos': 0.009, 'co..."
      ],
      "text/html": [
       "<div>\n",
       "<style scoped>\n",
       "    .dataframe tbody tr th:only-of-type {\n",
       "        vertical-align: middle;\n",
       "    }\n",
       "\n",
       "    .dataframe tbody tr th {\n",
       "        vertical-align: top;\n",
       "    }\n",
       "\n",
       "    .dataframe thead th {\n",
       "        text-align: right;\n",
       "    }\n",
       "</style>\n",
       "<table border=\"1\" class=\"dataframe\">\n",
       "  <thead>\n",
       "    <tr style=\"text-align: right;\">\n",
       "      <th></th>\n",
       "      <th>index</th>\n",
       "      <th>vader_scores</th>\n",
       "    </tr>\n",
       "  </thead>\n",
       "  <tbody>\n",
       "    <tr>\n",
       "      <th>0</th>\n",
       "      <td>0</td>\n",
       "      <td>{'neg': 0.0, 'neu': 1.0, 'pos': 0.0, 'compound...</td>\n",
       "    </tr>\n",
       "    <tr>\n",
       "      <th>1</th>\n",
       "      <td>1</td>\n",
       "      <td>{'neg': 0.0, 'neu': 1.0, 'pos': 0.0, 'compound...</td>\n",
       "    </tr>\n",
       "    <tr>\n",
       "      <th>2</th>\n",
       "      <td>2</td>\n",
       "      <td>{'neg': 0.076, 'neu': 0.728, 'pos': 0.196, 'co...</td>\n",
       "    </tr>\n",
       "    <tr>\n",
       "      <th>3</th>\n",
       "      <td>3</td>\n",
       "      <td>{'neg': 0.06, 'neu': 0.817, 'pos': 0.123, 'com...</td>\n",
       "    </tr>\n",
       "    <tr>\n",
       "      <th>4</th>\n",
       "      <td>4</td>\n",
       "      <td>{'neg': 0.105, 'neu': 0.792, 'pos': 0.103, 'co...</td>\n",
       "    </tr>\n",
       "    <tr>\n",
       "      <th>5</th>\n",
       "      <td>5</td>\n",
       "      <td>{'neg': 0.0, 'neu': 0.949, 'pos': 0.051, 'comp...</td>\n",
       "    </tr>\n",
       "    <tr>\n",
       "      <th>6</th>\n",
       "      <td>6</td>\n",
       "      <td>{'neg': 0.098, 'neu': 0.902, 'pos': 0.0, 'comp...</td>\n",
       "    </tr>\n",
       "    <tr>\n",
       "      <th>7</th>\n",
       "      <td>7</td>\n",
       "      <td>{'neg': 0.0, 'neu': 0.851, 'pos': 0.149, 'comp...</td>\n",
       "    </tr>\n",
       "    <tr>\n",
       "      <th>8</th>\n",
       "      <td>8</td>\n",
       "      <td>{'neg': 0.036, 'neu': 0.811, 'pos': 0.154, 'co...</td>\n",
       "    </tr>\n",
       "    <tr>\n",
       "      <th>9</th>\n",
       "      <td>9</td>\n",
       "      <td>{'neg': 0.0, 'neu': 1.0, 'pos': 0.0, 'compound...</td>\n",
       "    </tr>\n",
       "    <tr>\n",
       "      <th>10</th>\n",
       "      <td>10</td>\n",
       "      <td>{'neg': 0.047, 'neu': 0.886, 'pos': 0.067, 'co...</td>\n",
       "    </tr>\n",
       "    <tr>\n",
       "      <th>11</th>\n",
       "      <td>11</td>\n",
       "      <td>{'neg': 0.246, 'neu': 0.719, 'pos': 0.035, 'co...</td>\n",
       "    </tr>\n",
       "    <tr>\n",
       "      <th>12</th>\n",
       "      <td>12</td>\n",
       "      <td>{'neg': 0.051, 'neu': 0.882, 'pos': 0.067, 'co...</td>\n",
       "    </tr>\n",
       "    <tr>\n",
       "      <th>13</th>\n",
       "      <td>13</td>\n",
       "      <td>{'neg': 0.135, 'neu': 0.778, 'pos': 0.087, 'co...</td>\n",
       "    </tr>\n",
       "    <tr>\n",
       "      <th>14</th>\n",
       "      <td>14</td>\n",
       "      <td>{'neg': 0.0, 'neu': 1.0, 'pos': 0.0, 'compound...</td>\n",
       "    </tr>\n",
       "    <tr>\n",
       "      <th>15</th>\n",
       "      <td>15</td>\n",
       "      <td>{'neg': 0.155, 'neu': 0.845, 'pos': 0.0, 'comp...</td>\n",
       "    </tr>\n",
       "    <tr>\n",
       "      <th>16</th>\n",
       "      <td>16</td>\n",
       "      <td>{'neg': 0.134, 'neu': 0.841, 'pos': 0.025, 'co...</td>\n",
       "    </tr>\n",
       "    <tr>\n",
       "      <th>17</th>\n",
       "      <td>17</td>\n",
       "      <td>{'neg': 0.064, 'neu': 0.638, 'pos': 0.298, 'co...</td>\n",
       "    </tr>\n",
       "    <tr>\n",
       "      <th>18</th>\n",
       "      <td>18</td>\n",
       "      <td>{'neg': 0.118, 'neu': 0.82, 'pos': 0.062, 'com...</td>\n",
       "    </tr>\n",
       "    <tr>\n",
       "      <th>19</th>\n",
       "      <td>19</td>\n",
       "      <td>{'neg': 0.055, 'neu': 0.936, 'pos': 0.009, 'co...</td>\n",
       "    </tr>\n",
       "  </tbody>\n",
       "</table>\n",
       "</div>"
      ]
     },
     "metadata": {},
     "execution_count": 9
    }
   ],
   "metadata": {
    "scrolled": true
   }
  },
  {
   "cell_type": "code",
   "execution_count": 10,
   "source": [
    "yt_vac['pos'] = [x['pos'] for x in yt_vac['vader_scores']]\n",
    "yt_vac['pos']"
   ],
   "outputs": [
    {
     "output_type": "execute_result",
     "data": {
      "text/plain": [
       "0        0.000\n",
       "1        0.000\n",
       "2        0.196\n",
       "3        0.123\n",
       "4        0.103\n",
       "         ...  \n",
       "12486    0.127\n",
       "12487    0.131\n",
       "12488    0.178\n",
       "12489    0.000\n",
       "12490    0.000\n",
       "Name: pos, Length: 12491, dtype: float64"
      ]
     },
     "metadata": {},
     "execution_count": 10
    }
   ],
   "metadata": {
    "scrolled": true
   }
  },
  {
   "cell_type": "code",
   "execution_count": 11,
   "source": [
    "yt_vac['neg'] = [x['neg']for x in yt_vac['vader_scores']]\n",
    "yt_vac['neg'].reset_index()"
   ],
   "outputs": [
    {
     "output_type": "execute_result",
     "data": {
      "text/plain": [
       "       index    neg\n",
       "0          0  0.000\n",
       "1          1  0.000\n",
       "2          2  0.076\n",
       "3          3  0.060\n",
       "4          4  0.105\n",
       "...      ...    ...\n",
       "12486  12486  0.229\n",
       "12487  12487  0.000\n",
       "12488  12488  0.271\n",
       "12489  12489  0.000\n",
       "12490  12490  0.187\n",
       "\n",
       "[12491 rows x 2 columns]"
      ],
      "text/html": [
       "<div>\n",
       "<style scoped>\n",
       "    .dataframe tbody tr th:only-of-type {\n",
       "        vertical-align: middle;\n",
       "    }\n",
       "\n",
       "    .dataframe tbody tr th {\n",
       "        vertical-align: top;\n",
       "    }\n",
       "\n",
       "    .dataframe thead th {\n",
       "        text-align: right;\n",
       "    }\n",
       "</style>\n",
       "<table border=\"1\" class=\"dataframe\">\n",
       "  <thead>\n",
       "    <tr style=\"text-align: right;\">\n",
       "      <th></th>\n",
       "      <th>index</th>\n",
       "      <th>neg</th>\n",
       "    </tr>\n",
       "  </thead>\n",
       "  <tbody>\n",
       "    <tr>\n",
       "      <th>0</th>\n",
       "      <td>0</td>\n",
       "      <td>0.000</td>\n",
       "    </tr>\n",
       "    <tr>\n",
       "      <th>1</th>\n",
       "      <td>1</td>\n",
       "      <td>0.000</td>\n",
       "    </tr>\n",
       "    <tr>\n",
       "      <th>2</th>\n",
       "      <td>2</td>\n",
       "      <td>0.076</td>\n",
       "    </tr>\n",
       "    <tr>\n",
       "      <th>3</th>\n",
       "      <td>3</td>\n",
       "      <td>0.060</td>\n",
       "    </tr>\n",
       "    <tr>\n",
       "      <th>4</th>\n",
       "      <td>4</td>\n",
       "      <td>0.105</td>\n",
       "    </tr>\n",
       "    <tr>\n",
       "      <th>...</th>\n",
       "      <td>...</td>\n",
       "      <td>...</td>\n",
       "    </tr>\n",
       "    <tr>\n",
       "      <th>12486</th>\n",
       "      <td>12486</td>\n",
       "      <td>0.229</td>\n",
       "    </tr>\n",
       "    <tr>\n",
       "      <th>12487</th>\n",
       "      <td>12487</td>\n",
       "      <td>0.000</td>\n",
       "    </tr>\n",
       "    <tr>\n",
       "      <th>12488</th>\n",
       "      <td>12488</td>\n",
       "      <td>0.271</td>\n",
       "    </tr>\n",
       "    <tr>\n",
       "      <th>12489</th>\n",
       "      <td>12489</td>\n",
       "      <td>0.000</td>\n",
       "    </tr>\n",
       "    <tr>\n",
       "      <th>12490</th>\n",
       "      <td>12490</td>\n",
       "      <td>0.187</td>\n",
       "    </tr>\n",
       "  </tbody>\n",
       "</table>\n",
       "<p>12491 rows × 2 columns</p>\n",
       "</div>"
      ]
     },
     "metadata": {},
     "execution_count": 11
    }
   ],
   "metadata": {}
  },
  {
   "cell_type": "markdown",
   "source": [
    "Lines 6 - 9\n",
    "\n",
    "In these I am running a vader polarity test to see what these comments are being considered either postive, negative or neutral. From the numbers we see that most of the comments are high in being neutral looking in line 8, the 'neu' stands for neutral and we see that is has the higher number than pos or neg. So we can assume most people feel no type of way about the vaccine."
   ],
   "metadata": {}
  },
  {
   "cell_type": "code",
   "execution_count": 12,
   "source": [
    "from matplotlib import pyplot as plt"
   ],
   "outputs": [],
   "metadata": {}
  },
  {
   "cell_type": "code",
   "execution_count": 13,
   "source": [
    "fig, ax0 = plt.subplots(figsize = (10,10))\n",
    "ax0.plot(yt_vac['neg'])\n",
    "plt.yticks(fontsize = 'small')\n",
    "plt.xticks(fontsize = 'small')\n",
    "plt.show()"
   ],
   "outputs": [
    {
     "output_type": "display_data",
     "data": {
      "text/plain": [
       "<Figure size 720x720 with 1 Axes>"
      ],
      "image/svg+xml": "<?xml version=\"1.0\" encoding=\"utf-8\" standalone=\"no\"?>\n<!DOCTYPE svg PUBLIC \"-//W3C//DTD SVG 1.1//EN\"\n  \"http://www.w3.org/Graphics/SVG/1.1/DTD/svg11.dtd\">\n<svg height=\"573.061878pt\" version=\"1.1\" viewBox=\"0 0 592.647303 573.061878\" width=\"592.647303pt\" xmlns=\"http://www.w3.org/2000/svg\" xmlns:xlink=\"http://www.w3.org/1999/xlink\">\n <metadata>\n  <rdf:RDF xmlns:cc=\"http://creativecommons.org/ns#\" xmlns:dc=\"http://purl.org/dc/elements/1.1/\" xmlns:rdf=\"http://www.w3.org/1999/02/22-rdf-syntax-ns#\">\n   <cc:Work>\n    <dc:type rdf:resource=\"http://purl.org/dc/dcmitype/StillImage\"/>\n    <dc:date>2021-08-10T17:39:54.297345</dc:date>\n    <dc:format>image/svg+xml</dc:format>\n    <dc:creator>\n     <cc:Agent>\n      <dc:title>Matplotlib v3.4.2, https://matplotlib.org/</dc:title>\n     </cc:Agent>\n    </dc:creator>\n   </cc:Work>\n  </rdf:RDF>\n </metadata>\n <defs>\n  <style type=\"text/css\">*{stroke-linecap:butt;stroke-linejoin:round;}</style>\n </defs>\n <g id=\"figure_1\">\n  <g id=\"patch_1\">\n   <path d=\"M 0 573.061878 \nL 592.647303 573.061878 \nL 592.647303 0 \nL 0 0 \nz\n\" style=\"fill:none;\"/>\n  </g>\n  <g id=\"axes_1\">\n   <g id=\"patch_2\">\n    <path d=\"M 27.447303 550.8 \nL 585.447303 550.8 \nL 585.447303 7.2 \nL 27.447303 7.2 \nz\n\" style=\"fill:#ffffff;\"/>\n   </g>\n   <g id=\"matplotlib.axis_1\">\n    <g id=\"xtick_1\">\n     <g id=\"line2d_1\">\n      <defs>\n       <path d=\"M 0 0 \nL 0 3.5 \n\" id=\"m9aaf034923\" style=\"stroke:#000000;stroke-width:0.8;\"/>\n      </defs>\n      <g>\n       <use style=\"stroke:#000000;stroke-width:0.8;\" x=\"52.810939\" xlink:href=\"#m9aaf034923\" y=\"550.8\"/>\n      </g>\n     </g>\n     <g id=\"text_1\">\n      <!-- 0 -->\n      <g transform=\"translate(50.160958 564.129498)scale(0.0833 -0.0833)\">\n       <defs>\n        <path d=\"M 2034 4250 \nQ 1547 4250 1301 3770 \nQ 1056 3291 1056 2328 \nQ 1056 1369 1301 889 \nQ 1547 409 2034 409 \nQ 2525 409 2770 889 \nQ 3016 1369 3016 2328 \nQ 3016 3291 2770 3770 \nQ 2525 4250 2034 4250 \nz\nM 2034 4750 \nQ 2819 4750 3233 4129 \nQ 3647 3509 3647 2328 \nQ 3647 1150 3233 529 \nQ 2819 -91 2034 -91 \nQ 1250 -91 836 529 \nQ 422 1150 422 2328 \nQ 422 3509 836 4129 \nQ 1250 4750 2034 4750 \nz\n\" id=\"DejaVuSans-30\" transform=\"scale(0.015625)\"/>\n       </defs>\n       <use xlink:href=\"#DejaVuSans-30\"/>\n      </g>\n     </g>\n    </g>\n    <g id=\"xtick_2\">\n     <g id=\"line2d_2\">\n      <g>\n       <use style=\"stroke:#000000;stroke-width:0.8;\" x=\"134.039559\" xlink:href=\"#m9aaf034923\" y=\"550.8\"/>\n      </g>\n     </g>\n     <g id=\"text_2\">\n      <!-- 2000 -->\n      <g transform=\"translate(123.439634 564.129498)scale(0.0833 -0.0833)\">\n       <defs>\n        <path d=\"M 1228 531 \nL 3431 531 \nL 3431 0 \nL 469 0 \nL 469 531 \nQ 828 903 1448 1529 \nQ 2069 2156 2228 2338 \nQ 2531 2678 2651 2914 \nQ 2772 3150 2772 3378 \nQ 2772 3750 2511 3984 \nQ 2250 4219 1831 4219 \nQ 1534 4219 1204 4116 \nQ 875 4013 500 3803 \nL 500 4441 \nQ 881 4594 1212 4672 \nQ 1544 4750 1819 4750 \nQ 2544 4750 2975 4387 \nQ 3406 4025 3406 3419 \nQ 3406 3131 3298 2873 \nQ 3191 2616 2906 2266 \nQ 2828 2175 2409 1742 \nQ 1991 1309 1228 531 \nz\n\" id=\"DejaVuSans-32\" transform=\"scale(0.015625)\"/>\n       </defs>\n       <use xlink:href=\"#DejaVuSans-32\"/>\n       <use x=\"63.623047\" xlink:href=\"#DejaVuSans-30\"/>\n       <use x=\"127.246094\" xlink:href=\"#DejaVuSans-30\"/>\n       <use x=\"190.869141\" xlink:href=\"#DejaVuSans-30\"/>\n      </g>\n     </g>\n    </g>\n    <g id=\"xtick_3\">\n     <g id=\"line2d_3\">\n      <g>\n       <use style=\"stroke:#000000;stroke-width:0.8;\" x=\"215.268178\" xlink:href=\"#m9aaf034923\" y=\"550.8\"/>\n      </g>\n     </g>\n     <g id=\"text_3\">\n      <!-- 4000 -->\n      <g transform=\"translate(204.668253 564.129498)scale(0.0833 -0.0833)\">\n       <defs>\n        <path d=\"M 2419 4116 \nL 825 1625 \nL 2419 1625 \nL 2419 4116 \nz\nM 2253 4666 \nL 3047 4666 \nL 3047 1625 \nL 3713 1625 \nL 3713 1100 \nL 3047 1100 \nL 3047 0 \nL 2419 0 \nL 2419 1100 \nL 313 1100 \nL 313 1709 \nL 2253 4666 \nz\n\" id=\"DejaVuSans-34\" transform=\"scale(0.015625)\"/>\n       </defs>\n       <use xlink:href=\"#DejaVuSans-34\"/>\n       <use x=\"63.623047\" xlink:href=\"#DejaVuSans-30\"/>\n       <use x=\"127.246094\" xlink:href=\"#DejaVuSans-30\"/>\n       <use x=\"190.869141\" xlink:href=\"#DejaVuSans-30\"/>\n      </g>\n     </g>\n    </g>\n    <g id=\"xtick_4\">\n     <g id=\"line2d_4\">\n      <g>\n       <use style=\"stroke:#000000;stroke-width:0.8;\" x=\"296.496797\" xlink:href=\"#m9aaf034923\" y=\"550.8\"/>\n      </g>\n     </g>\n     <g id=\"text_4\">\n      <!-- 6000 -->\n      <g transform=\"translate(285.896872 564.129498)scale(0.0833 -0.0833)\">\n       <defs>\n        <path d=\"M 2113 2584 \nQ 1688 2584 1439 2293 \nQ 1191 2003 1191 1497 \nQ 1191 994 1439 701 \nQ 1688 409 2113 409 \nQ 2538 409 2786 701 \nQ 3034 994 3034 1497 \nQ 3034 2003 2786 2293 \nQ 2538 2584 2113 2584 \nz\nM 3366 4563 \nL 3366 3988 \nQ 3128 4100 2886 4159 \nQ 2644 4219 2406 4219 \nQ 1781 4219 1451 3797 \nQ 1122 3375 1075 2522 \nQ 1259 2794 1537 2939 \nQ 1816 3084 2150 3084 \nQ 2853 3084 3261 2657 \nQ 3669 2231 3669 1497 \nQ 3669 778 3244 343 \nQ 2819 -91 2113 -91 \nQ 1303 -91 875 529 \nQ 447 1150 447 2328 \nQ 447 3434 972 4092 \nQ 1497 4750 2381 4750 \nQ 2619 4750 2861 4703 \nQ 3103 4656 3366 4563 \nz\n\" id=\"DejaVuSans-36\" transform=\"scale(0.015625)\"/>\n       </defs>\n       <use xlink:href=\"#DejaVuSans-36\"/>\n       <use x=\"63.623047\" xlink:href=\"#DejaVuSans-30\"/>\n       <use x=\"127.246094\" xlink:href=\"#DejaVuSans-30\"/>\n       <use x=\"190.869141\" xlink:href=\"#DejaVuSans-30\"/>\n      </g>\n     </g>\n    </g>\n    <g id=\"xtick_5\">\n     <g id=\"line2d_5\">\n      <g>\n       <use style=\"stroke:#000000;stroke-width:0.8;\" x=\"377.725417\" xlink:href=\"#m9aaf034923\" y=\"550.8\"/>\n      </g>\n     </g>\n     <g id=\"text_5\">\n      <!-- 8000 -->\n      <g transform=\"translate(367.125492 564.129498)scale(0.0833 -0.0833)\">\n       <defs>\n        <path d=\"M 2034 2216 \nQ 1584 2216 1326 1975 \nQ 1069 1734 1069 1313 \nQ 1069 891 1326 650 \nQ 1584 409 2034 409 \nQ 2484 409 2743 651 \nQ 3003 894 3003 1313 \nQ 3003 1734 2745 1975 \nQ 2488 2216 2034 2216 \nz\nM 1403 2484 \nQ 997 2584 770 2862 \nQ 544 3141 544 3541 \nQ 544 4100 942 4425 \nQ 1341 4750 2034 4750 \nQ 2731 4750 3128 4425 \nQ 3525 4100 3525 3541 \nQ 3525 3141 3298 2862 \nQ 3072 2584 2669 2484 \nQ 3125 2378 3379 2068 \nQ 3634 1759 3634 1313 \nQ 3634 634 3220 271 \nQ 2806 -91 2034 -91 \nQ 1263 -91 848 271 \nQ 434 634 434 1313 \nQ 434 1759 690 2068 \nQ 947 2378 1403 2484 \nz\nM 1172 3481 \nQ 1172 3119 1398 2916 \nQ 1625 2713 2034 2713 \nQ 2441 2713 2670 2916 \nQ 2900 3119 2900 3481 \nQ 2900 3844 2670 4047 \nQ 2441 4250 2034 4250 \nQ 1625 4250 1398 4047 \nQ 1172 3844 1172 3481 \nz\n\" id=\"DejaVuSans-38\" transform=\"scale(0.015625)\"/>\n       </defs>\n       <use xlink:href=\"#DejaVuSans-38\"/>\n       <use x=\"63.623047\" xlink:href=\"#DejaVuSans-30\"/>\n       <use x=\"127.246094\" xlink:href=\"#DejaVuSans-30\"/>\n       <use x=\"190.869141\" xlink:href=\"#DejaVuSans-30\"/>\n      </g>\n     </g>\n    </g>\n    <g id=\"xtick_6\">\n     <g id=\"line2d_6\">\n      <g>\n       <use style=\"stroke:#000000;stroke-width:0.8;\" x=\"458.954036\" xlink:href=\"#m9aaf034923\" y=\"550.8\"/>\n      </g>\n     </g>\n     <g id=\"text_6\">\n      <!-- 10000 -->\n      <g transform=\"translate(445.70413 564.129498)scale(0.0833 -0.0833)\">\n       <defs>\n        <path d=\"M 794 531 \nL 1825 531 \nL 1825 4091 \nL 703 3866 \nL 703 4441 \nL 1819 4666 \nL 2450 4666 \nL 2450 531 \nL 3481 531 \nL 3481 0 \nL 794 0 \nL 794 531 \nz\n\" id=\"DejaVuSans-31\" transform=\"scale(0.015625)\"/>\n       </defs>\n       <use xlink:href=\"#DejaVuSans-31\"/>\n       <use x=\"63.623047\" xlink:href=\"#DejaVuSans-30\"/>\n       <use x=\"127.246094\" xlink:href=\"#DejaVuSans-30\"/>\n       <use x=\"190.869141\" xlink:href=\"#DejaVuSans-30\"/>\n       <use x=\"254.492188\" xlink:href=\"#DejaVuSans-30\"/>\n      </g>\n     </g>\n    </g>\n    <g id=\"xtick_7\">\n     <g id=\"line2d_7\">\n      <g>\n       <use style=\"stroke:#000000;stroke-width:0.8;\" x=\"540.182655\" xlink:href=\"#m9aaf034923\" y=\"550.8\"/>\n      </g>\n     </g>\n     <g id=\"text_7\">\n      <!-- 12000 -->\n      <g transform=\"translate(526.932749 564.129498)scale(0.0833 -0.0833)\">\n       <use xlink:href=\"#DejaVuSans-31\"/>\n       <use x=\"63.623047\" xlink:href=\"#DejaVuSans-32\"/>\n       <use x=\"127.246094\" xlink:href=\"#DejaVuSans-30\"/>\n       <use x=\"190.869141\" xlink:href=\"#DejaVuSans-30\"/>\n       <use x=\"254.492188\" xlink:href=\"#DejaVuSans-30\"/>\n      </g>\n     </g>\n    </g>\n   </g>\n   <g id=\"matplotlib.axis_2\">\n    <g id=\"ytick_1\">\n     <g id=\"line2d_8\">\n      <defs>\n       <path d=\"M 0 0 \nL -3.5 0 \n\" id=\"md44d3b5754\" style=\"stroke:#000000;stroke-width:0.8;\"/>\n      </defs>\n      <g>\n       <use style=\"stroke:#000000;stroke-width:0.8;\" x=\"27.447303\" xlink:href=\"#md44d3b5754\" y=\"526.090909\"/>\n      </g>\n     </g>\n     <g id=\"text_8\">\n      <!-- 0.0 -->\n      <g transform=\"translate(7.2 529.255658)scale(0.0833 -0.0833)\">\n       <defs>\n        <path d=\"M 684 794 \nL 1344 794 \nL 1344 0 \nL 684 0 \nL 684 794 \nz\n\" id=\"DejaVuSans-2e\" transform=\"scale(0.015625)\"/>\n       </defs>\n       <use xlink:href=\"#DejaVuSans-30\"/>\n       <use x=\"63.623047\" xlink:href=\"#DejaVuSans-2e\"/>\n       <use x=\"95.410156\" xlink:href=\"#DejaVuSans-30\"/>\n      </g>\n     </g>\n    </g>\n    <g id=\"ytick_2\">\n     <g id=\"line2d_9\">\n      <g>\n       <use style=\"stroke:#000000;stroke-width:0.8;\" x=\"27.447303\" xlink:href=\"#md44d3b5754\" y=\"409.124798\"/>\n      </g>\n     </g>\n     <g id=\"text_9\">\n      <!-- 0.2 -->\n      <g transform=\"translate(7.2 412.289547)scale(0.0833 -0.0833)\">\n       <use xlink:href=\"#DejaVuSans-30\"/>\n       <use x=\"63.623047\" xlink:href=\"#DejaVuSans-2e\"/>\n       <use x=\"95.410156\" xlink:href=\"#DejaVuSans-32\"/>\n      </g>\n     </g>\n    </g>\n    <g id=\"ytick_3\">\n     <g id=\"line2d_10\">\n      <g>\n       <use style=\"stroke:#000000;stroke-width:0.8;\" x=\"27.447303\" xlink:href=\"#md44d3b5754\" y=\"292.158687\"/>\n      </g>\n     </g>\n     <g id=\"text_10\">\n      <!-- 0.4 -->\n      <g transform=\"translate(7.2 295.323437)scale(0.0833 -0.0833)\">\n       <use xlink:href=\"#DejaVuSans-30\"/>\n       <use x=\"63.623047\" xlink:href=\"#DejaVuSans-2e\"/>\n       <use x=\"95.410156\" xlink:href=\"#DejaVuSans-34\"/>\n      </g>\n     </g>\n    </g>\n    <g id=\"ytick_4\">\n     <g id=\"line2d_11\">\n      <g>\n       <use style=\"stroke:#000000;stroke-width:0.8;\" x=\"27.447303\" xlink:href=\"#md44d3b5754\" y=\"175.192577\"/>\n      </g>\n     </g>\n     <g id=\"text_11\">\n      <!-- 0.6 -->\n      <g transform=\"translate(7.2 178.357326)scale(0.0833 -0.0833)\">\n       <use xlink:href=\"#DejaVuSans-30\"/>\n       <use x=\"63.623047\" xlink:href=\"#DejaVuSans-2e\"/>\n       <use x=\"95.410156\" xlink:href=\"#DejaVuSans-36\"/>\n      </g>\n     </g>\n    </g>\n    <g id=\"ytick_5\">\n     <g id=\"line2d_12\">\n      <g>\n       <use style=\"stroke:#000000;stroke-width:0.8;\" x=\"27.447303\" xlink:href=\"#md44d3b5754\" y=\"58.226466\"/>\n      </g>\n     </g>\n     <g id=\"text_12\">\n      <!-- 0.8 -->\n      <g transform=\"translate(7.2 61.391215)scale(0.0833 -0.0833)\">\n       <use xlink:href=\"#DejaVuSans-30\"/>\n       <use x=\"63.623047\" xlink:href=\"#DejaVuSans-2e\"/>\n       <use x=\"95.410156\" xlink:href=\"#DejaVuSans-38\"/>\n      </g>\n     </g>\n    </g>\n   </g>\n   <g id=\"line2d_13\">\n    <path clip-path=\"url(#pf499886148)\" d=\"M 52.810939 526.090909 \nL 52.851554 526.090909 \nL 52.973397 464.683701 \nL 53.09524 526.090909 \nL 53.217083 498.603873 \nL 53.257697 382.222593 \nL 53.338926 447.138784 \nL 53.37954 526.090909 \nL 53.420154 435.442173 \nL 53.623226 494.510059 \nL 53.66384 425.500054 \nL 53.704454 472.286498 \nL 53.826297 526.090909 \nL 53.94814 382.807423 \nL 54.029369 433.687682 \nL 54.069983 440.120818 \nL 54.110597 526.090909 \nL 54.151212 455.911243 \nL 54.191826 429.009037 \nL 54.23244 526.090909 \nL 54.273055 498.019042 \nL 54.313669 407.955137 \nL 54.354283 451.817429 \nL 54.394898 490.416245 \nL 54.435512 454.741581 \nL 54.51674 447.723615 \nL 54.557355 429.593868 \nL 54.638583 526.090909 \nL 54.679198 452.98709 \nL 54.719812 440.120818 \nL 54.760426 444.214632 \nL 54.841655 452.402259 \nL 54.882269 441.875309 \nL 54.922884 452.402259 \nL 55.044727 526.090909 \nL 55.085341 526.090909 \nL 55.125955 462.929209 \nL 55.207184 496.264551 \nL 55.247798 521.997095 \nL 55.329027 381.052932 \nL 55.369641 414.973104 \nL 55.410255 501.528026 \nL 55.491484 476.965143 \nL 55.532098 373.450134 \nL 55.613327 427.839376 \nL 55.653941 510.300484 \nL 55.73517 501.528026 \nL 55.775784 385.146746 \nL 55.857013 452.98709 \nL 55.938241 526.090909 \nL 55.978856 430.763529 \nL 56.060084 443.04497 \nL 56.181927 526.090909 \nL 56.222541 225.488004 \nL 56.263156 453.57192 \nL 56.30377 456.496073 \nL 56.344384 375.789457 \nL 56.384999 462.929209 \nL 56.425613 476.380312 \nL 56.466227 471.701668 \nL 56.506842 457.665734 \nL 56.547456 491.585906 \nL 56.669299 416.727595 \nL 56.791142 526.090909 \nL 56.831756 488.661754 \nL 56.87237 447.138784 \nL 56.953599 526.090909 \nL 56.994213 468.192684 \nL 57.034828 468.192684 \nL 57.116056 457.080904 \nL 57.156671 526.090909 \nL 57.197285 441.290479 \nL 57.278514 452.98709 \nL 57.359742 424.915223 \nL 57.400356 526.090909 \nL 57.481585 396.843357 \nL 57.603428 526.090909 \nL 57.644042 526.090909 \nL 57.725271 408.539968 \nL 57.765885 495.67972 \nL 57.8065 526.090909 \nL 57.847114 488.076923 \nL 57.928343 495.67972 \nL 58.009571 413.218612 \nL 58.131414 526.090909 \nL 58.212643 405.615815 \nL 58.253257 526.090909 \nL 58.293871 431.93319 \nL 58.334486 416.142765 \nL 58.3751 419.066918 \nL 58.415714 499.188704 \nL 58.496943 441.290479 \nL 58.537557 444.799462 \nL 58.618786 526.090909 \nL 58.6594 277.537924 \nL 58.700014 457.080904 \nL 58.781243 526.090909 \nL 58.821857 419.066918 \nL 58.862472 526.090909 \nL 58.903086 526.090909 \nL 59.106157 420.821409 \nL 59.146772 501.528026 \nL 59.187386 427.254545 \nL 59.228 354.735557 \nL 59.268615 512.054976 \nL 59.349843 445.384293 \nL 59.431072 526.090909 \nL 59.471686 507.376331 \nL 59.552915 526.090909 \nL 59.593529 211.452071 \nL 59.634144 442.46014 \nL 59.674758 526.090909 \nL 59.715372 385.146746 \nL 59.755986 487.492093 \nL 59.796601 422.575901 \nL 59.837215 487.492093 \nL 59.877829 500.943195 \nL 59.959058 526.090909 \nL 59.999672 451.232598 \nL 60.040287 512.054976 \nL 60.080901 421.99107 \nL 60.121515 493.925229 \nL 60.243358 526.090909 \nL 60.324587 526.090909 \nL 60.527658 434.857343 \nL 60.568273 526.090909 \nL 60.649501 486.322431 \nL 60.690116 507.961162 \nL 60.73073 434.857343 \nL 60.771344 502.112856 \nL 60.811958 526.090909 \nL 60.852573 395.673696 \nL 60.933801 445.969123 \nL 61.096259 526.090909 \nL 61.136873 398.013018 \nL 61.218102 444.214632 \nL 61.339945 526.090909 \nL 61.380559 461.759548 \nL 61.461787 488.076923 \nL 61.502402 450.647768 \nL 61.543016 526.090909 \nL 61.58363 424.915223 \nL 61.624245 408.539968 \nL 61.664859 476.965143 \nL 61.705473 475.795481 \nL 61.746088 407.955137 \nL 61.786702 526.090909 \nL 61.827316 447.138784 \nL 61.908545 481.643787 \nL 61.989773 338.360301 \nL 62.071002 499.773534 \nL 62.152231 484.56794 \nL 62.192845 526.090909 \nL 62.233459 442.46014 \nL 62.314688 461.759548 \nL 62.477145 526.090909 \nL 62.517759 434.272512 \nL 62.598988 466.438193 \nL 62.639602 526.090909 \nL 62.680217 299.761485 \nL 62.761445 465.853362 \nL 62.80206 399.182679 \nL 62.923903 526.090909 \nL 62.964517 526.090909 \nL 63.005131 429.009037 \nL 63.045746 482.228618 \nL 63.08636 526.090909 \nL 63.167588 290.404196 \nL 63.208203 526.090909 \nL 63.289431 486.322431 \nL 63.330046 498.019042 \nL 63.492503 447.138784 \nL 63.573732 500.943195 \nL 63.614346 491.585906 \nL 63.65496 471.701668 \nL 63.695574 382.807423 \nL 63.736189 492.170737 \nL 63.776803 503.282517 \nL 63.817417 483.983109 \nL 63.898646 467.023023 \nL 63.93926 526.090909 \nL 64.061103 259.408176 \nL 64.182946 526.090909 \nL 64.22356 526.090909 \nL 64.264175 398.597848 \nL 64.345403 469.947176 \nL 64.426632 526.090909 \nL 64.548475 400.35234 \nL 64.710932 526.090909 \nL 64.832775 413.803443 \nL 64.873389 526.090909 \nL 64.914004 506.20667 \nL 64.995232 385.146746 \nL 65.035847 411.46412 \nL 65.076461 406.785476 \nL 65.238918 526.090909 \nL 65.279533 457.080904 \nL 65.320147 526.090909 \nL 65.360761 526.090909 \nL 65.44199 458.250565 \nL 65.482604 526.090909 \nL 65.523218 506.20667 \nL 65.645061 249.466057 \nL 65.685676 379.883271 \nL 65.72629 526.090909 \nL 65.807519 475.210651 \nL 65.888747 385.146746 \nL 65.969976 501.528026 \nL 66.01059 498.019042 \nL 66.051204 464.09887 \nL 66.091819 476.380312 \nL 66.132433 526.090909 \nL 66.213662 404.446154 \nL 66.254276 526.090909 \nL 66.29489 404.446154 \nL 66.741648 404.446154 \nL 66.782262 384.561915 \nL 66.822876 404.446154 \nL 66.985334 404.446154 \nL 67.025948 419.651748 \nL 67.066562 526.090909 \nL 67.107176 404.446154 \nL 67.147791 404.446154 \nL 67.269634 490.416245 \nL 67.350862 404.446154 \nL 67.391477 416.727595 \nL 67.51332 404.446154 \nL 67.553934 426.669715 \nL 67.635163 526.090909 \nL 67.675777 395.673696 \nL 67.757005 405.030984 \nL 67.919463 526.090909 \nL 68.000691 369.941151 \nL 68.041306 435.442173 \nL 68.08192 526.090909 \nL 68.122534 358.829371 \nL 68.163149 526.090909 \nL 68.203763 526.090909 \nL 68.284991 494.510059 \nL 68.325606 526.090909 \nL 68.447449 427.839376 \nL 68.569292 526.090909 \nL 68.609906 495.09489 \nL 68.65052 416.142765 \nL 68.691135 526.090909 \nL 68.731749 479.889295 \nL 68.772363 526.090909 \nL 68.812977 526.090909 \nL 68.894206 465.853362 \nL 68.93482 469.947176 \nL 69.056663 526.090909 \nL 69.097278 526.090909 \nL 69.137892 411.46412 \nL 69.178506 526.090909 \nL 69.340964 526.090909 \nL 69.381578 513.809467 \nL 69.422192 526.090909 \nL 69.462806 526.090909 \nL 69.503421 438.951157 \nL 69.544035 458.250565 \nL 69.584649 526.090909 \nL 69.625264 446.553954 \nL 69.665878 485.15277 \nL 69.706492 358.829371 \nL 69.747107 526.090909 \nL 69.828335 526.090909 \nL 69.909564 479.889295 \nL 70.031407 526.090909 \nL 70.072021 406.785476 \nL 70.112635 526.090909 \nL 70.193864 526.090909 \nL 70.275093 375.789457 \nL 70.315707 502.112856 \nL 70.396936 459.420226 \nL 70.518778 526.090909 \nL 70.681236 409.124798 \nL 70.72185 526.090909 \nL 70.803079 461.759548 \nL 70.843693 526.090909 \nL 70.924922 118.464013 \nL 70.965536 452.98709 \nL 71.00615 255.314363 \nL 71.046765 526.090909 \nL 71.168607 419.066918 \nL 71.249836 417.897257 \nL 71.331065 506.20667 \nL 71.371679 433.102851 \nL 71.452908 471.116837 \nL 71.493522 487.492093 \nL 71.534136 413.218612 \nL 71.574751 475.795481 \nL 71.655979 526.090909 \nL 71.696593 437.781495 \nL 71.737208 482.228618 \nL 71.818436 512.639806 \nL 71.980894 403.861323 \nL 72.062122 341.284454 \nL 72.102737 526.090909 \nL 72.143351 526.090909 \nL 72.224579 451.232598 \nL 72.265194 526.090909 \nL 72.305808 509.715654 \nL 72.346422 392.749543 \nL 72.387037 474.04099 \nL 72.427651 482.228618 \nL 72.468265 385.731576 \nL 72.50888 405.615815 \nL 72.630723 526.090909 \nL 72.671337 493.340398 \nL 72.711951 393.334373 \nL 72.752566 437.781495 \nL 72.833794 526.090909 \nL 72.915023 437.196665 \nL 72.955637 483.983109 \nL 72.996251 467.023023 \nL 73.036866 526.090909 \nL 73.07748 421.99107 \nL 73.118094 455.326412 \nL 73.199323 526.090909 \nL 73.239937 500.943195 \nL 73.280552 493.925229 \nL 73.321166 457.080904 \nL 73.443009 526.090909 \nL 73.564852 278.707585 \nL 73.727309 526.090909 \nL 73.849152 472.871329 \nL 73.93038 490.416245 \nL 73.970995 306.779451 \nL 74.011609 526.090909 \nL 74.052223 526.090909 \nL 74.092838 358.24454 \nL 74.174066 463.51404 \nL 74.214681 458.250565 \nL 74.255295 526.090909 \nL 74.295909 351.226573 \nL 74.377138 431.93319 \nL 74.417752 526.090909 \nL 74.498981 501.528026 \nL 74.661438 388.070898 \nL 74.742667 526.090909 \nL 74.783281 427.254545 \nL 74.823895 443.04497 \nL 74.86451 421.99107 \nL 74.905124 421.99107 \nL 75.026967 526.090909 \nL 75.14881 298.006993 \nL 75.189424 415.557934 \nL 75.230038 423.745562 \nL 75.351881 503.867348 \nL 75.43311 526.090909 \nL 75.473724 381.637762 \nL 75.554953 485.737601 \nL 75.595567 305.02496 \nL 75.636182 465.268531 \nL 75.758024 526.090909 \nL 75.879867 434.857343 \nL 75.920482 441.875309 \nL 76.042325 526.090909 \nL 76.204782 381.637762 \nL 76.448468 526.090909 \nL 76.489082 365.262507 \nL 76.529696 476.380312 \nL 76.610925 526.090909 \nL 76.773382 362.338354 \nL 76.976454 526.090909 \nL 77.098297 474.04099 \nL 77.138911 517.318451 \nL 77.179525 466.438193 \nL 77.260754 403.276493 \nL 77.382597 526.090909 \nL 77.50444 396.843357 \nL 77.545054 444.214632 \nL 77.666897 526.090909 \nL 77.707511 526.090909 \nL 77.829354 411.46412 \nL 77.869969 526.090909 \nL 77.951197 494.510059 \nL 77.991811 526.090909 \nL 78.154269 259.408176 \nL 78.276112 526.090909 \nL 78.397955 444.799462 \nL 78.438569 526.090909 \nL 78.519797 486.907262 \nL 78.682255 526.090909 \nL 78.804098 478.719634 \nL 78.844712 526.090909 \nL 78.885326 429.009037 \nL 78.966555 486.322431 \nL 79.007169 487.492093 \nL 79.047784 474.62582 \nL 79.129012 497.434212 \nL 79.169626 422.575901 \nL 79.210241 526.090909 \nL 79.291469 513.224637 \nL 79.332084 450.647768 \nL 79.372698 526.090909 \nL 79.413312 454.741581 \nL 79.494541 526.090909 \nL 79.535155 405.615815 \nL 79.57577 526.090909 \nL 79.778841 362.338354 \nL 79.819455 512.639806 \nL 79.900684 499.188704 \nL 80.022527 303.855299 \nL 80.14437 526.090909 \nL 80.306827 406.200646 \nL 80.347441 526.090909 \nL 80.388056 499.188704 \nL 80.42867 347.13276 \nL 80.469284 526.090909 \nL 80.509899 526.090909 \nL 80.672356 424.915223 \nL 80.71297 526.090909 \nL 80.794199 473.456159 \nL 80.834813 480.474126 \nL 80.875427 393.334373 \nL 80.916042 418.482087 \nL 80.99727 526.090909 \nL 81.119113 359.999032 \nL 81.200342 526.090909 \nL 81.240956 474.04099 \nL 81.281571 526.090909 \nL 81.322185 475.795481 \nL 81.362799 463.51404 \nL 81.403413 369.356321 \nL 81.444028 521.412265 \nL 81.484642 403.861323 \nL 81.565871 483.983109 \nL 81.606485 458.250565 \nL 81.647099 453.57192 \nL 81.728328 526.090909 \nL 81.809557 374.619796 \nL 81.850171 410.294459 \nL 81.972014 374.619796 \nL 82.012628 515.563959 \nL 82.093857 444.214632 \nL 82.296928 526.090909 \nL 83.190443 526.090909 \nL 83.231057 430.178698 \nL 83.271672 499.773534 \nL 83.3529 526.090909 \nL 83.474743 417.312426 \nL 83.515358 526.090909 \nL 83.555972 471.116837 \nL 83.677815 395.673696 \nL 83.799658 526.090909 \nL 83.880886 421.99107 \nL 83.921501 465.853362 \nL 83.962115 471.116837 \nL 84.002729 502.697687 \nL 84.043344 446.553954 \nL 84.083958 507.961162 \nL 84.124572 526.090909 \nL 84.205801 414.388273 \nL 84.246415 477.549973 \nL 84.368258 526.090909 \nL 84.408872 449.478107 \nL 84.449487 458.250565 \nL 84.530715 520.242604 \nL 84.652558 407.370307 \nL 84.733787 526.090909 \nL 84.774401 392.164712 \nL 84.85563 457.665734 \nL 84.936858 505.62184 \nL 84.977473 417.897257 \nL 85.018087 526.090909 \nL 85.058701 526.090909 \nL 85.099316 464.09887 \nL 85.180544 476.965143 \nL 85.221159 526.090909 \nL 85.261773 431.348359 \nL 85.343002 464.683701 \nL 85.464844 398.597848 \nL 85.586687 526.090909 \nL 85.627302 441.290479 \nL 85.667916 526.090909 \nL 85.70853 526.090909 \nL 85.789759 498.019042 \nL 85.830373 526.090909 \nL 85.870988 344.208607 \nL 85.911602 468.192684 \nL 85.99283 526.090909 \nL 86.033445 458.250565 \nL 86.114673 474.04099 \nL 86.195902 460.005056 \nL 86.277131 526.090909 \nL 86.317745 491.001076 \nL 86.358359 426.669715 \nL 86.398974 458.835395 \nL 86.480202 526.090909 \nL 86.520816 420.236579 \nL 86.602045 489.246584 \nL 86.764502 326.66369 \nL 86.845731 259.408176 \nL 86.886345 526.090909 \nL 87.008188 423.745562 \nL 87.048803 526.090909 \nL 87.130031 461.174718 \nL 87.170645 448.893276 \nL 87.292488 526.090909 \nL 87.333103 382.222593 \nL 87.414331 455.911243 \nL 87.698631 455.911243 \nL 87.739246 493.925229 \nL 87.77986 491.001076 \nL 87.901703 455.911243 \nL 87.982932 455.911243 \nL 88.023546 433.102851 \nL 88.06416 464.09887 \nL 88.104775 503.867348 \nL 88.226617 398.013018 \nL 88.34846 526.090909 \nL 88.429689 398.013018 \nL 88.470303 442.46014 \nL 88.510918 459.420226 \nL 88.551532 415.557934 \nL 88.592146 476.380312 \nL 88.632761 458.250565 \nL 88.673375 526.090909 \nL 88.713989 449.478107 \nL 88.754604 479.889295 \nL 88.795218 526.090909 \nL 88.835832 474.04099 \nL 88.876446 445.969123 \nL 88.917061 526.090909 \nL 88.957675 444.214632 \nL 88.998289 443.04497 \nL 89.038904 376.959118 \nL 89.120132 526.090909 \nL 89.160747 452.402259 \nL 89.241975 526.090909 \nL 89.28259 510.885315 \nL 89.404432 526.090909 \nL 89.445047 526.090909 \nL 89.56689 414.973104 \nL 89.607504 426.084884 \nL 89.648118 499.773534 \nL 89.688733 434.272512 \nL 89.729347 362.923185 \nL 89.769961 484.56794 \nL 89.85119 441.290479 \nL 89.932418 392.164712 \nL 89.973033 526.090909 \nL 90.13549 526.090909 \nL 90.216719 488.076923 \nL 90.257333 526.090909 \nL 90.297947 403.861323 \nL 90.338562 526.090909 \nL 90.41979 526.090909 \nL 90.501019 430.763529 \nL 90.622862 526.090909 \nL 90.785319 433.102851 \nL 90.825933 481.058956 \nL 90.866548 458.250565 \nL 90.907162 317.306401 \nL 90.947776 503.867348 \nL 90.988391 498.019042 \nL 91.029005 526.090909 \nL 91.069619 408.539968 \nL 91.150848 441.290479 \nL 91.191462 435.442173 \nL 91.232076 526.090909 \nL 91.313305 494.510059 \nL 91.353919 526.090909 \nL 91.394534 495.09489 \nL 91.475762 403.276493 \nL 91.516377 488.076923 \nL 91.556991 365.262507 \nL 91.719448 526.090909 \nL 91.800677 496.849381 \nL 91.841291 464.09887 \nL 91.881905 500.943195 \nL 91.963134 526.090909 \nL 92.003748 490.416245 \nL 92.044363 526.090909 \nL 92.084977 526.090909 \nL 92.166206 375.204626 \nL 92.247434 422.575901 \nL 92.288048 382.807423 \nL 92.328663 450.062937 \nL 92.369277 485.15277 \nL 92.409891 412.048951 \nL 92.450506 526.090909 \nL 92.531734 457.665734 \nL 92.572349 526.090909 \nL 92.612963 394.504034 \nL 92.694192 472.286498 \nL 92.816034 406.785476 \nL 92.897263 526.090909 \nL 92.937877 475.210651 \nL 92.978492 442.46014 \nL 93.019106 484.56794 \nL 93.05972 521.997095 \nL 93.100335 503.867348 \nL 93.140949 486.907262 \nL 93.222178 479.304465 \nL 93.262792 526.090909 \nL 93.303406 526.090909 \nL 93.34402 395.673696 \nL 93.384635 502.697687 \nL 93.425249 493.925229 \nL 93.465863 526.090909 \nL 93.506478 450.647768 \nL 93.547092 482.228618 \nL 93.587706 526.090909 \nL 93.628321 452.98709 \nL 93.668935 452.98709 \nL 93.709549 526.090909 \nL 93.750164 440.120818 \nL 93.790778 440.705648 \nL 93.872007 526.090909 \nL 93.912621 454.741581 \nL 93.953235 483.398279 \nL 93.993849 526.090909 \nL 94.034464 423.160732 \nL 94.075078 426.669715 \nL 94.115692 526.090909 \nL 94.196921 471.701668 \nL 94.237535 526.090909 \nL 94.27815 478.134804 \nL 94.318764 469.947176 \nL 94.440607 526.090909 \nL 94.481221 416.142765 \nL 94.56245 421.99107 \nL 94.603064 407.370307 \nL 94.765521 526.090909 \nL 94.887364 526.090909 \nL 95.009207 460.005056 \nL 95.049822 493.340398 \nL 95.090436 420.821409 \nL 95.13105 434.857343 \nL 95.252893 526.090909 \nL 95.293507 434.857343 \nL 95.374736 460.589887 \nL 95.496579 526.090909 \nL 95.577808 462.929209 \nL 95.618422 507.376331 \nL 95.659036 526.090909 \nL 95.69965 498.019042 \nL 95.740265 488.076923 \nL 95.780879 378.128779 \nL 95.821493 526.090909 \nL 95.943336 526.090909 \nL 95.983951 426.669715 \nL 96.065179 491.001076 \nL 96.105794 526.090909 \nL 96.146408 361.168693 \nL 96.187022 526.090909 \nL 96.308865 406.200646 \nL 96.390094 526.090909 \nL 96.430708 457.080904 \nL 96.511937 436.027004 \nL 96.552551 526.090909 \nL 96.593165 440.705648 \nL 96.63378 499.773534 \nL 96.674394 526.090909 \nL 96.796237 350.641743 \nL 96.836851 526.090909 \nL 96.91808 479.304465 \nL 96.958694 368.186659 \nL 97.039923 429.593868 \nL 97.121151 526.090909 \nL 97.161766 513.809467 \nL 97.242994 517.318451 \nL 97.283609 454.741581 \nL 97.446066 526.090909 \nL 97.567909 430.178698 \nL 97.608523 501.528026 \nL 97.649137 330.757504 \nL 97.689752 501.528026 \nL 97.730366 490.416245 \nL 97.77098 406.200646 \nL 97.811595 469.362345 \nL 97.852209 495.09489 \nL 97.933437 382.807423 \nL 97.974052 497.434212 \nL 98.014666 461.174718 \nL 98.05528 409.124798 \nL 98.095895 474.62582 \nL 98.177123 445.384293 \nL 98.217738 526.090909 \nL 98.461424 526.090909 \nL 98.502038 446.553954 \nL 98.542652 526.090909 \nL 98.664495 526.090909 \nL 98.705109 400.35234 \nL 98.745724 509.130823 \nL 98.826952 526.090909 \nL 98.948795 398.597848 \nL 98.98941 464.683701 \nL 99.030024 473.456159 \nL 99.151867 403.861323 \nL 99.192481 407.955137 \nL 99.233095 492.755568 \nL 99.27371 345.378268 \nL 99.314324 526.090909 \nL 99.354938 442.46014 \nL 99.395553 449.478107 \nL 99.436167 232.505971 \nL 99.476781 343.038946 \nL 99.598624 526.090909 \nL 99.639238 526.090909 \nL 99.679853 405.030984 \nL 99.720467 498.019042 \nL 99.761081 526.090909 \nL 99.882924 447.723615 \nL 100.12661 447.723615 \nL 100.167225 479.304465 \nL 100.207839 458.835395 \nL 100.248453 438.366326 \nL 100.289067 479.889295 \nL 100.329682 442.46014 \nL 100.370296 360.583862 \nL 100.41091 455.326412 \nL 100.451525 462.344379 \nL 100.492139 359.414201 \nL 100.532753 474.04099 \nL 100.573368 474.04099 \nL 100.613982 430.763529 \nL 100.654596 474.04099 \nL 100.776439 474.04099 \nL 100.817053 430.763529 \nL 100.857668 474.04099 \nL 101.141968 474.04099 \nL 101.182582 467.023023 \nL 101.223197 427.839376 \nL 101.263811 457.080904 \nL 101.345039 526.090909 \nL 101.426268 427.839376 \nL 101.466882 440.120818 \nL 101.588725 526.090909 \nL 101.62934 526.090909 \nL 101.791797 406.200646 \nL 101.873026 381.052932 \nL 101.954254 526.090909 \nL 102.035483 430.763529 \nL 102.076097 526.090909 \nL 102.116711 434.857343 \nL 102.157326 431.348359 \nL 102.238554 526.090909 \nL 102.279169 412.633782 \nL 102.360397 471.701668 \nL 102.401012 526.090909 \nL 102.441626 485.15277 \nL 102.48224 471.701668 \nL 102.522854 343.623776 \nL 102.563469 452.402259 \nL 102.604083 526.090909 \nL 102.644697 507.961162 \nL 102.685312 424.330393 \nL 102.725926 526.090909 \nL 102.76654 526.090909 \nL 102.888383 419.066918 \nL 103.010226 526.090909 \nL 103.091455 526.090909 \nL 103.132069 437.196665 \nL 103.213298 501.528026 \nL 103.253912 526.090909 \nL 103.294526 259.408176 \nL 103.375755 437.781495 \nL 103.497598 526.090909 \nL 103.578827 342.454115 \nL 103.619441 359.414201 \nL 103.660055 526.090909 \nL 103.741284 471.116837 \nL 103.781898 336.60581 \nL 103.822512 526.090909 \nL 103.944355 289.234535 \nL 104.025584 526.090909 \nL 104.066198 462.344379 \nL 104.147427 526.090909 \nL 104.188041 435.442173 \nL 104.228655 526.090909 \nL 104.26927 526.090909 \nL 104.391113 495.09489 \nL 104.431727 495.09489 \nL 104.55357 526.090909 \nL 104.594184 237.184615 \nL 104.634799 526.090909 \nL 104.83787 406.785476 \nL 105.081556 526.090909 \nL 105.12217 526.090909 \nL 105.162785 506.791501 \nL 105.203399 526.090909 \nL 105.244013 526.090909 \nL 105.284628 506.20667 \nL 105.325242 275.783432 \nL 105.365856 470.532006 \nL 105.40647 526.090909 \nL 105.447085 374.619796 \nL 105.487699 497.434212 \nL 105.568928 486.322431 \nL 105.609542 526.090909 \nL 105.650156 497.434212 \nL 105.690771 365.847337 \nL 105.731385 526.090909 \nL 105.771999 435.442173 \nL 105.812614 526.090909 \nL 105.853228 458.250565 \nL 105.893842 427.254545 \nL 105.975071 526.090909 \nL 106.015685 485.15277 \nL 106.056299 526.090909 \nL 106.137528 444.214632 \nL 106.259371 526.090909 \nL 106.299985 320.230554 \nL 106.381214 393.919204 \nL 106.543671 526.090909 \nL 106.584285 526.090909 \nL 106.6249 431.348359 \nL 106.665514 526.090909 \nL 106.746743 526.090909 \nL 106.827971 302.100807 \nL 106.868586 461.759548 \nL 106.9092 429.009037 \nL 106.949814 476.380312 \nL 106.990429 488.076923 \nL 107.031043 433.687682 \nL 107.071657 486.322431 \nL 107.234114 526.090909 \nL 107.315343 307.364282 \nL 107.355957 434.857343 \nL 107.396572 526.090909 \nL 107.437186 383.977084 \nL 107.4778 479.304465 \nL 107.518415 432.51802 \nL 107.559029 459.420226 \nL 107.599643 526.090909 \nL 107.640257 483.983109 \nL 107.680872 436.611834 \nL 107.721486 490.416245 \nL 107.7621 510.300484 \nL 107.802715 481.058956 \nL 107.924558 483.983109 \nL 107.965172 526.090909 \nL 108.005786 483.983109 \nL 108.046401 481.643787 \nL 108.087015 483.983109 \nL 108.208858 526.090909 \nL 108.371315 483.983109 \nL 108.411929 510.300484 \nL 108.452544 483.983109 \nL 108.493158 483.983109 \nL 108.533772 490.416245 \nL 108.574387 483.983109 \nL 108.655615 483.983109 \nL 108.69623 488.661754 \nL 108.777458 420.821409 \nL 108.818072 526.090909 \nL 108.858687 471.116837 \nL 108.899301 445.384293 \nL 109.021144 526.090909 \nL 109.102373 468.192684 \nL 109.183601 526.090909 \nL 109.224216 471.116837 \nL 109.26483 526.090909 \nL 109.305444 526.090909 \nL 109.346058 516.73362 \nL 109.386673 462.929209 \nL 109.427287 479.304465 \nL 109.467901 526.090909 \nL 109.508516 486.322431 \nL 109.54913 477.549973 \nL 109.589744 442.46014 \nL 109.630359 484.56794 \nL 109.670973 526.090909 \nL 109.752202 439.535987 \nL 109.792816 444.214632 \nL 109.83343 526.090909 \nL 109.874045 489.831415 \nL 109.914659 460.005056 \nL 109.955273 526.090909 \nL 110.036502 487.492093 \nL 110.11773 526.090909 \nL 110.239573 431.348359 \nL 110.320802 526.090909 \nL 110.361416 476.380312 \nL 110.402031 361.168693 \nL 110.483259 425.500054 \nL 110.564488 526.090909 \nL 110.605102 455.326412 \nL 110.686331 454.741581 \nL 110.726945 505.62184 \nL 110.767559 441.290479 \nL 110.848788 469.947176 \nL 110.889402 488.076923 \nL 110.930017 451.817429 \nL 110.970631 480.474126 \nL 111.011245 526.090909 \nL 111.051859 483.983109 \nL 111.214317 415.557934 \nL 111.254931 484.56794 \nL 111.33616 455.911243 \nL 111.498617 526.090909 \nL 111.579846 407.370307 \nL 111.62046 483.983109 \nL 111.661074 495.67972 \nL 111.742303 419.651748 \nL 111.782917 526.090909 \nL 111.823531 519.657773 \nL 111.864146 379.883271 \nL 111.945374 479.889295 \nL 111.985989 444.799462 \nL 112.107832 526.090909 \nL 112.148446 382.222593 \nL 112.18906 526.090909 \nL 112.310903 526.090909 \nL 112.351517 414.388273 \nL 112.432746 424.915223 \nL 112.595203 526.090909 \nL 112.717046 452.98709 \nL 112.838889 526.090909 \nL 112.879503 526.090909 \nL 113.041961 454.741581 \nL 113.123189 526.090909 \nL 113.163804 489.246584 \nL 113.204418 455.326412 \nL 113.245032 479.304465 \nL 113.285647 485.737601 \nL 113.326261 479.304465 \nL 113.366875 475.795481 \nL 113.407489 368.186659 \nL 113.448104 492.170737 \nL 113.488718 505.62184 \nL 113.529332 500.358365 \nL 113.569947 385.146746 \nL 113.610561 526.090909 \nL 113.69179 464.683701 \nL 113.773018 477.549973 \nL 113.854247 457.665734 \nL 113.894861 526.090909 \nL 113.935475 442.46014 \nL 113.97609 495.67972 \nL 114.097933 376.959118 \nL 114.057318 526.090909 \nL 114.138547 386.316407 \nL 114.26039 526.090909 \nL 114.341619 395.088865 \nL 114.463462 526.090909 \nL 114.504076 455.911243 \nL 114.54469 487.492093 \nL 114.585304 513.809467 \nL 114.625919 433.102851 \nL 114.666533 526.090909 \nL 114.747762 526.090909 \nL 114.788376 472.871329 \nL 114.82899 526.090909 \nL 114.910219 526.090909 \nL 114.950833 317.891232 \nL 115.032062 368.186659 \nL 115.072676 479.304465 \nL 115.11329 471.701668 \nL 115.153905 389.82539 \nL 115.194519 502.697687 \nL 115.275748 431.93319 \nL 115.438205 526.090909 \nL 115.560048 283.386229 \nL 115.600662 447.138784 \nL 115.722505 526.090909 \nL 115.763119 283.386229 \nL 115.844348 432.51802 \nL 115.884962 382.222593 \nL 115.925577 526.090909 \nL 115.966191 374.619796 \nL 116.006805 484.56794 \nL 116.04742 382.807423 \nL 116.088034 526.090909 \nL 116.169263 526.090909 \nL 116.209877 493.925229 \nL 116.250491 320.230554 \nL 116.291105 447.723615 \nL 116.33172 508.545992 \nL 116.412948 485.15277 \nL 116.453563 500.943195 \nL 116.494177 421.40624 \nL 116.534791 447.723615 \nL 116.575406 526.090909 \nL 116.61602 460.005056 \nL 116.656634 461.174718 \nL 116.697249 526.090909 \nL 116.737863 470.532006 \nL 116.778477 406.200646 \nL 116.859706 526.090909 \nL 116.90032 437.196665 \nL 116.981549 474.62582 \nL 117.022163 455.326412 \nL 117.103392 526.090909 \nL 117.144006 436.611834 \nL 117.225235 460.589887 \nL 117.265849 460.005056 \nL 117.306463 461.759548 \nL 117.428306 526.090909 \nL 117.46892 418.482087 \nL 117.509535 526.090909 \nL 117.550149 526.090909 \nL 117.590763 381.637762 \nL 117.671992 487.492093 \nL 117.712606 526.090909 \nL 117.753221 448.308445 \nL 117.834449 450.647768 \nL 117.956292 526.090909 \nL 118.078135 442.46014 \nL 118.159364 514.979129 \nL 118.199978 506.20667 \nL 118.281207 476.380312 \nL 118.321821 370.525982 \nL 118.362435 453.57192 \nL 118.40305 526.090909 \nL 118.443664 426.669715 \nL 118.484278 488.076923 \nL 118.646735 390.410221 \nL 118.727964 526.090909 \nL 118.768578 500.943195 \nL 118.809193 526.090909 \nL 118.97165 398.013018 \nL 119.012264 526.090909 \nL 119.093493 498.019042 \nL 119.134107 526.090909 \nL 119.174721 521.997095 \nL 119.215336 442.46014 \nL 119.296564 485.737601 \nL 119.337179 441.875309 \nL 119.418407 450.647768 \nL 119.459022 475.795481 \nL 119.499636 438.951157 \nL 119.54025 392.164712 \nL 119.580865 526.090909 \nL 119.662093 483.398279 \nL 119.702707 526.090909 \nL 119.743322 503.867348 \nL 119.82455 415.557934 \nL 119.865165 526.090909 \nL 119.905779 428.424207 \nL 119.946393 372.280473 \nL 120.068236 526.090909 \nL 120.108851 452.402259 \nL 120.190079 489.831415 \nL 120.230693 526.090909 \nL 120.311922 428.424207 \nL 120.433765 526.090909 \nL 120.474379 526.090909 \nL 120.677451 393.334373 \nL 120.718065 526.090909 \nL 120.758679 516.14879 \nL 120.799294 341.284454 \nL 120.880522 457.080904 \nL 120.921137 526.090909 \nL 120.961751 487.492093 \nL 121.002365 446.553954 \nL 121.04298 510.300484 \nL 121.124208 526.090909 \nL 121.205437 442.46014 \nL 121.246051 500.943195 \nL 121.408508 526.090909 \nL 121.489737 382.807423 \nL 121.570966 426.669715 \nL 121.61158 424.330393 \nL 121.652194 514.979129 \nL 121.692809 465.268531 \nL 121.733423 439.535987 \nL 121.814652 526.090909 \nL 121.855266 447.723615 \nL 121.89588 464.09887 \nL 122.017723 526.090909 \nL 122.058337 464.09887 \nL 122.098952 526.090909 \nL 122.139566 512.639806 \nL 122.18018 526.090909 \nL 122.220795 526.090909 \nL 122.423866 458.250565 \nL 122.464481 462.929209 \nL 122.586323 526.090909 \nL 122.626938 526.090909 \nL 122.708166 472.871329 \nL 122.748781 400.937171 \nL 122.830009 526.090909 \nL 122.870624 410.294459 \nL 122.911238 417.897257 \nL 123.033081 526.090909 \nL 123.073695 412.048951 \nL 123.114309 468.192684 \nL 123.154924 516.14879 \nL 123.195538 430.178698 \nL 123.236152 456.496073 \nL 123.276767 499.773534 \nL 123.317381 370.525982 \nL 123.357995 526.090909 \nL 123.39861 434.857343 \nL 123.479838 526.090909 \nL 123.520453 462.344379 \nL 123.642295 526.090909 \nL 123.764138 447.723615 \nL 123.804753 373.450134 \nL 123.845367 526.090909 \nL 123.926596 416.142765 \nL 123.96721 361.168693 \nL 124.007824 526.090909 \nL 124.089053 483.983109 \nL 124.170282 354.735557 \nL 124.292124 526.090909 \nL 124.332739 494.510059 \nL 124.373353 526.090909 \nL 124.413967 526.090909 \nL 124.53581 413.803443 \nL 124.657653 526.090909 \nL 124.698268 343.038946 \nL 124.779496 448.893276 \nL 124.901339 526.090909 \nL 124.941953 416.727595 \nL 125.023182 463.51404 \nL 125.145025 526.090909 \nL 125.185639 526.090909 \nL 125.226254 493.925229 \nL 125.266868 526.090909 \nL 125.307482 526.090909 \nL 125.429325 428.424207 \nL 125.469939 452.402259 \nL 125.510554 526.090909 \nL 125.551168 302.685637 \nL 125.591782 411.46412 \nL 125.673011 526.090909 \nL 125.713625 418.482087 \nL 125.794854 452.402259 \nL 125.876083 526.090909 \nL 125.916697 474.04099 \nL 125.957311 505.037009 \nL 125.997925 481.058956 \nL 126.03854 426.084884 \nL 126.079154 505.037009 \nL 126.119768 505.037009 \nL 126.200997 398.013018 \nL 126.241611 458.250565 \nL 126.282226 398.013018 \nL 126.404069 526.090909 \nL 126.444683 526.090909 \nL 126.485297 455.911243 \nL 126.525911 506.791501 \nL 126.566526 509.715654 \nL 126.60714 426.669715 \nL 126.688369 472.871329 \nL 126.728983 526.090909 \nL 126.769597 313.797418 \nL 126.850826 423.745562 \nL 126.932055 484.56794 \nL 127.013283 481.058956 \nL 127.053897 440.120818 \nL 127.094512 501.528026 \nL 127.135126 468.777515 \nL 127.17574 462.344379 \nL 127.297583 526.090909 \nL 127.338198 462.929209 \nL 127.378812 526.090909 \nL 127.419426 526.090909 \nL 127.500655 484.56794 \nL 127.581884 466.438193 \nL 127.622498 526.090909 \nL 127.663112 460.589887 \nL 127.703726 526.090909 \nL 127.744341 509.715654 \nL 127.866184 321.400215 \nL 127.988027 526.090909 \nL 128.069255 526.090909 \nL 128.150484 424.330393 \nL 128.191098 474.62582 \nL 128.231712 495.67972 \nL 128.272327 430.178698 \nL 128.353555 457.080904 \nL 128.475398 526.090909 \nL 128.516013 526.090909 \nL 128.556627 439.535987 \nL 128.597241 502.697687 \nL 128.719084 526.090909 \nL 128.800313 438.951157 \nL 128.840927 461.759548 \nL 128.922156 526.090909 \nL 128.96277 411.46412 \nL 129.003384 486.907262 \nL 129.043999 526.090909 \nL 129.125227 369.941151 \nL 129.206456 526.090909 \nL 129.24707 467.023023 \nL 129.368913 526.090909 \nL 129.409527 425.500054 \nL 129.490756 493.340398 \nL 129.612599 526.090909 \nL 129.856285 396.843357 \nL 129.978128 526.090909 \nL 130.099971 374.619796 \nL 130.221814 526.090909 \nL 130.262428 518.488112 \nL 130.303042 526.090909 \nL 130.343657 526.090909 \nL 130.384271 474.04099 \nL 130.424885 526.090909 \nL 130.4655 526.090909 \nL 130.506114 471.116837 \nL 130.546728 526.090909 \nL 130.668571 526.090909 \nL 130.709185 388.655729 \nL 130.7498 499.773534 \nL 130.790414 526.090909 \nL 130.831028 495.09489 \nL 130.871643 468.192684 \nL 130.952871 516.14879 \nL 131.0341 344.793437 \nL 131.115328 526.090909 \nL 131.155943 230.166649 \nL 131.196557 438.366326 \nL 131.237171 499.773534 \nL 131.277786 344.793437 \nL 131.3184 526.090909 \nL 131.399629 526.090909 \nL 131.440243 520.827434 \nL 131.521472 526.090909 \nL 131.562086 414.388273 \nL 131.683929 526.090909 \nL 131.724543 344.793437 \nL 131.765157 526.090909 \nL 131.887 434.272512 \nL 132.008843 526.090909 \nL 132.090072 420.236579 \nL 132.130686 526.090909 \nL 132.171301 60.565788 \nL 132.211915 448.893276 \nL 132.252529 480.474126 \nL 132.293143 64.659602 \nL 132.333758 496.264551 \nL 132.455601 526.090909 \nL 132.496215 502.697687 \nL 132.536829 526.090909 \nL 132.577444 526.090909 \nL 132.618058 442.46014 \nL 132.658672 526.090909 \nL 132.739901 526.090909 \nL 132.902358 440.705648 \nL 132.942972 474.04099 \nL 132.983587 440.705648 \nL 133.024201 441.290479 \nL 133.267887 526.090909 \nL 133.308501 424.330393 \nL 133.38973 467.607854 \nL 133.430344 470.532006 \nL 133.470958 440.705648 \nL 133.511573 327.248521 \nL 133.552187 369.941151 \nL 133.633416 526.090909 \nL 133.67403 436.027004 \nL 133.714644 413.218612 \nL 133.755259 526.090909 \nL 133.836487 450.062937 \nL 133.917716 436.611834 \nL 133.95833 526.090909 \nL 133.998944 402.691662 \nL 134.039559 526.090909 \nL 134.080173 506.791501 \nL 134.120787 401.522001 \nL 134.161402 526.090909 \nL 134.202016 485.15277 \nL 134.24263 526.090909 \nL 134.283245 526.090909 \nL 134.405088 406.200646 \nL 134.445702 464.09887 \nL 134.567545 526.090909 \nL 134.648773 410.294459 \nL 134.770616 526.090909 \nL 134.851845 403.861323 \nL 134.892459 472.286498 \nL 134.973688 470.532006 \nL 135.014302 526.090909 \nL 135.054916 444.799462 \nL 135.176759 526.090909 \nL 135.217374 469.947176 \nL 135.257988 491.585906 \nL 135.298602 526.090909 \nL 135.379831 435.442173 \nL 135.420445 489.831415 \nL 135.46106 457.080904 \nL 135.501674 526.090909 \nL 135.542288 464.09887 \nL 135.582903 451.232598 \nL 135.704745 526.090909 \nL 135.74536 526.090909 \nL 135.785974 437.781495 \nL 135.867203 465.853362 \nL 135.907817 437.196665 \nL 135.989046 425.500054 \nL 136.02966 526.090909 \nL 136.070274 526.090909 \nL 136.110889 413.803443 \nL 136.192117 491.585906 \nL 136.232731 526.090909 \nL 136.273346 505.62184 \nL 136.31396 356.490048 \nL 136.395189 455.326412 \nL 136.517032 526.090909 \nL 136.638875 379.883271 \nL 136.801332 519.072942 \nL 136.841946 363.508015 \nL 136.923175 379.29844 \nL 136.963789 526.090909 \nL 137.045018 471.116837 \nL 137.126246 526.090909 \nL 137.166861 376.374287 \nL 137.207475 526.090909 \nL 137.248089 526.090909 \nL 137.288704 493.925229 \nL 137.329318 526.090909 \nL 137.451161 526.090909 \nL 137.491775 441.290479 \nL 137.573004 492.170737 \nL 137.613618 526.090909 \nL 137.654232 405.615815 \nL 137.735461 471.116837 \nL 137.81669 526.090909 \nL 137.857304 351.226573 \nL 137.938532 372.280473 \nL 138.060375 526.090909 \nL 138.141604 399.182679 \nL 138.182218 450.062937 \nL 138.304061 526.090909 \nL 138.344676 526.090909 \nL 138.425904 449.478107 \nL 138.466518 504.452179 \nL 138.507133 526.090909 \nL 138.547747 376.374287 \nL 138.628976 445.969123 \nL 138.66959 424.330393 \nL 138.710204 476.380312 \nL 138.750819 424.330393 \nL 138.913276 424.330393 \nL 138.95389 526.090909 \nL 138.994505 424.330393 \nL 139.075733 424.330393 \nL 139.116347 293.328349 \nL 139.156962 424.330393 \nL 139.197576 424.330393 \nL 139.23819 526.090909 \nL 139.278805 424.330393 \nL 139.563105 424.330393 \nL 139.603719 350.056912 \nL 139.644333 434.857343 \nL 139.725562 398.597848 \nL 139.766176 526.090909 \nL 139.806791 374.619796 \nL 139.888019 420.236579 \nL 139.928634 479.304465 \nL 139.969248 352.396235 \nL 140.009862 434.857343 \nL 140.050477 495.67972 \nL 140.091091 424.330393 \nL 140.212934 424.330393 \nL 140.253548 526.090909 \nL 140.294162 424.330393 \nL 140.375391 424.330393 \nL 140.416005 434.857343 \nL 140.497234 526.090909 \nL 140.537848 476.380312 \nL 140.578463 429.593868 \nL 140.619077 510.885315 \nL 140.659691 385.146746 \nL 140.781534 526.090909 \nL 140.822148 448.308445 \nL 140.862763 486.907262 \nL 140.903377 510.300484 \nL 140.943991 471.701668 \nL 140.984606 338.945132 \nL 141.02522 526.090909 \nL 141.106449 427.254545 \nL 141.147063 483.398279 \nL 141.268906 424.330393 \nL 141.30952 463.51404 \nL 141.350134 474.04099 \nL 141.390749 437.196665 \nL 141.512592 526.090909 \nL 141.553206 526.090909 \nL 141.59382 413.218612 \nL 141.675049 489.831415 \nL 141.715663 457.665734 \nL 141.837506 526.090909 \nL 141.878121 349.472082 \nL 141.918735 464.683701 \nL 141.959349 526.090909 \nL 141.999963 408.539968 \nL 142.081192 457.665734 \nL 142.121806 475.795481 \nL 142.162421 462.929209 \nL 142.203035 416.727595 \nL 142.243649 526.090909 \nL 142.284264 352.396235 \nL 142.324878 484.56794 \nL 142.365492 307.364282 \nL 142.406107 483.983109 \nL 142.446721 507.376331 \nL 142.527949 411.46412 \nL 142.568564 526.090909 \nL 142.649792 498.603873 \nL 142.690407 385.731576 \nL 142.731021 526.090909 \nL 142.81225 526.090909 \nL 142.852864 496.849381 \nL 142.893478 526.090909 \nL 142.934093 526.090909 \nL 143.055935 386.316407 \nL 143.09655 516.73362 \nL 143.177778 501.528026 \nL 143.218393 415.557934 \nL 143.259007 526.090909 \nL 143.299621 526.090909 \nL 143.38085 385.146746 \nL 143.462079 382.807423 \nL 143.502693 526.090909 \nL 143.624536 412.048951 \nL 143.66515 409.124798 \nL 143.786993 526.090909 \nL 143.827607 423.160732 \nL 143.908836 471.116837 \nL 143.94945 466.438193 \nL 143.990065 333.096826 \nL 144.030679 487.492093 \nL 144.071293 526.090909 \nL 144.111908 419.066918 \nL 144.193136 493.925229 \nL 144.274365 526.090909 \nL 144.396208 321.400215 \nL 144.477436 526.090909 \nL 144.518051 439.535987 \nL 144.599279 380.468101 \nL 144.639894 526.090909 \nL 144.680508 454.741581 \nL 144.761736 458.250565 \nL 144.802351 476.965143 \nL 144.842965 427.254545 \nL 144.883579 526.090909 \nL 144.924194 501.528026 \nL 144.964808 399.182679 \nL 145.005422 526.090909 \nL 145.046037 438.951157 \nL 145.16788 526.090909 \nL 145.208494 526.090909 \nL 145.249108 451.817429 \nL 145.289723 526.090909 \nL 145.330337 526.090909 \nL 145.370951 493.340398 \nL 145.411565 526.090909 \nL 145.45218 526.090909 \nL 145.492794 498.603873 \nL 145.533408 526.090909 \nL 145.614637 526.090909 \nL 145.73648 427.254545 \nL 145.817709 526.090909 \nL 145.858323 502.697687 \nL 145.980166 463.51404 \nL 146.02078 526.090909 \nL 146.061394 479.304465 \nL 146.102009 466.438193 \nL 146.142623 228.996988 \nL 146.183237 526.090909 \nL 146.223852 436.611834 \nL 146.264466 526.090909 \nL 146.30508 526.090909 \nL 146.345695 474.04099 \nL 146.386309 488.661754 \nL 146.467537 526.090909 \nL 146.508152 462.929209 \nL 146.58938 494.510059 \nL 146.629995 460.589887 \nL 146.751838 526.090909 \nL 146.792452 368.77149 \nL 146.833066 446.553954 \nL 146.914295 526.090909 \nL 146.954909 471.701668 \nL 146.995524 390.410221 \nL 147.076752 398.013018 \nL 147.157981 526.090909 \nL 147.198595 450.647768 \nL 147.361052 526.090909 \nL 147.442281 458.250565 \nL 147.482895 526.090909 \nL 147.52351 452.402259 \nL 147.564124 320.230554 \nL 147.604738 438.366326 \nL 147.645352 526.090909 \nL 147.685967 451.232598 \nL 147.726581 402.106832 \nL 147.767195 466.438193 \nL 147.80781 526.090909 \nL 147.848424 469.947176 \nL 147.889038 441.875309 \nL 147.970267 526.090909 \nL 148.010881 450.647768 \nL 148.09211 482.228618 \nL 148.173338 401.522001 \nL 148.213953 526.090909 \nL 148.295181 488.661754 \nL 148.335796 526.090909 \nL 148.417024 505.037009 \nL 148.457639 526.090909 \nL 148.498253 406.200646 \nL 148.538867 526.090909 \nL 148.701325 451.232598 \nL 148.741939 526.090909 \nL 148.823167 510.300484 \nL 148.863782 526.090909 \nL 148.904396 486.322431 \nL 148.94501 489.246584 \nL 149.066853 526.090909 \nL 149.107468 526.090909 \nL 149.148082 259.408176 \nL 149.188696 526.090909 \nL 149.391768 375.204626 \nL 149.432382 513.809467 \nL 149.513611 501.528026 \nL 149.554225 526.090909 \nL 149.594839 486.907262 \nL 149.635454 413.218612 \nL 149.676068 526.090909 \nL 149.716682 465.853362 \nL 149.757297 482.813448 \nL 149.838525 367.016998 \nL 149.960368 526.090909 \nL 150.000982 526.090909 \nL 150.041597 319.645724 \nL 150.122825 396.843357 \nL 150.16344 502.697687 \nL 150.204054 342.454115 \nL 150.244668 465.268531 \nL 150.325897 438.366326 \nL 150.488354 526.090909 \nL 150.610197 526.090909 \nL 150.691426 429.593868 \nL 150.73204 450.647768 \nL 150.853883 526.090909 \nL 150.975726 526.090909 \nL 151.056954 351.811404 \nL 151.097569 395.088865 \nL 151.219412 526.090909 \nL 151.260026 475.795481 \nL 151.30064 491.001076 \nL 151.341255 192.737493 \nL 151.381869 526.090909 \nL 151.422483 526.090909 \nL 151.463098 448.893276 \nL 151.503712 526.090909 \nL 151.544326 526.090909 \nL 151.584941 383.977084 \nL 151.625555 416.142765 \nL 151.747398 526.090909 \nL 151.991084 526.090909 \nL 152.031698 406.200646 \nL 152.072312 526.090909 \nL 152.112927 526.090909 \nL 152.194155 416.142765 \nL 152.234769 498.019042 \nL 152.275384 526.090909 \nL 152.315998 479.304465 \nL 152.356612 320.230554 \nL 152.397227 526.090909 \nL 152.437841 526.090909 \nL 152.478455 471.701668 \nL 152.51907 526.090909 \nL 152.559684 526.090909 \nL 152.681527 424.915223 \nL 152.762755 526.090909 \nL 152.80337 505.62184 \nL 152.843984 526.090909 \nL 152.925213 438.366326 \nL 152.965827 526.090909 \nL 153.047056 341.869285 \nL 153.168899 526.090909 \nL 153.209513 526.090909 \nL 153.290742 370.525982 \nL 153.331356 502.697687 \nL 153.37197 474.62582 \nL 153.493813 526.090909 \nL 153.575042 435.442173 \nL 153.696885 526.090909 \nL 153.737499 426.669715 \nL 153.818728 465.853362 \nL 153.859342 414.388273 \nL 153.899956 526.090909 \nL 153.94057 461.174718 \nL 153.981185 411.46412 \nL 154.021799 460.589887 \nL 154.103028 457.080904 \nL 154.143642 460.005056 \nL 154.224871 526.090909 \nL 154.387328 386.901237 \nL 154.549785 475.210651 \nL 154.590399 400.35234 \nL 154.631014 452.98709 \nL 154.671628 482.813448 \nL 154.712242 257.653685 \nL 154.752857 315.55191 \nL 154.8747 526.090909 \nL 154.955928 526.090909 \nL 155.077771 302.100807 \nL 155.118385 390.995051 \nL 155.280843 526.090909 \nL 155.362071 474.04099 \nL 155.483914 526.090909 \nL 155.646371 330.757504 \nL 155.7276 526.090909 \nL 155.768214 474.62582 \nL 155.808829 403.276493 \nL 155.849443 526.090909 \nL 155.930672 366.432168 \nL 155.971286 526.090909 \nL 156.0119 484.56794 \nL 156.052515 316.721571 \nL 156.133743 385.146746 \nL 156.174357 389.82539 \nL 156.214972 495.09489 \nL 156.255586 278.707585 \nL 156.2962 526.090909 \nL 156.336815 526.090909 \nL 156.377429 445.384293 \nL 156.418043 526.090909 \nL 156.539886 526.090909 \nL 156.742958 389.82539 \nL 156.864801 526.090909 \nL 156.986644 526.090909 \nL 157.149101 210.28241 \nL 157.270944 526.090909 \nL 157.311558 526.090909 \nL 157.433401 357.074879 \nL 157.555244 526.090909 \nL 157.595858 452.402259 \nL 157.636473 490.416245 \nL 157.758316 526.090909 \nL 157.839544 526.090909 \nL 157.961387 450.062937 \nL 158.002001 526.090909 \nL 158.042616 423.160732 \nL 158.08323 474.62582 \nL 158.164459 409.709629 \nL 158.286302 526.090909 \nL 158.36753 526.090909 \nL 158.408145 480.474126 \nL 158.448759 526.090909 \nL 158.529987 526.090909 \nL 158.570602 468.192684 \nL 158.65183 493.340398 \nL 158.692445 526.090909 \nL 158.733059 409.124798 \nL 158.773673 463.51404 \nL 158.895516 526.090909 \nL 158.976745 362.338354 \nL 159.017359 479.889295 \nL 159.098588 526.090909 \nL 159.139202 409.124798 \nL 159.220431 454.156751 \nL 159.342274 500.358365 \nL 159.423502 325.494029 \nL 159.464117 373.450134 \nL 159.504731 526.090909 \nL 159.545345 455.911243 \nL 159.626574 365.847337 \nL 159.667188 526.090909 \nL 159.707802 447.723615 \nL 159.748417 396.258526 \nL 159.789031 438.366326 \nL 159.992103 526.090909 \nL 160.032717 369.941151 \nL 160.113946 457.080904 \nL 160.15456 457.080904 \nL 160.195174 456.496073 \nL 160.235788 457.080904 \nL 160.398246 457.080904 \nL 160.43886 446.553954 \nL 160.479474 457.080904 \nL 160.520089 499.773534 \nL 160.560703 457.080904 \nL 160.601317 457.080904 \nL 160.641932 526.090909 \nL 160.682546 457.080904 \nL 160.804389 457.080904 \nL 160.845003 526.090909 \nL 160.885617 457.080904 \nL 160.966846 457.080904 \nL 161.00746 526.090909 \nL 161.048075 457.080904 \nL 161.210532 457.080904 \nL 161.251146 458.835395 \nL 161.291761 415.557934 \nL 161.372989 526.090909 \nL 161.413603 454.156751 \nL 161.494832 526.090909 \nL 161.576061 500.943195 \nL 161.616675 388.655729 \nL 161.657289 479.304465 \nL 161.697904 479.304465 \nL 161.819747 526.090909 \nL 161.860361 526.090909 \nL 161.941589 350.056912 \nL 161.982204 526.090909 \nL 162.063432 495.09489 \nL 162.104047 526.090909 \nL 162.144661 393.919204 \nL 162.22589 470.532006 \nL 162.307118 438.951157 \nL 162.347733 503.282517 \nL 162.388347 365.847337 \nL 162.469575 438.366326 \nL 162.51019 443.629801 \nL 162.591418 526.090909 \nL 162.632033 419.651748 \nL 162.672647 526.090909 \nL 162.713261 526.090909 \nL 162.753876 493.340398 \nL 162.79449 526.090909 \nL 162.835104 526.090909 \nL 162.875719 454.156751 \nL 162.916333 526.090909 \nL 162.956947 526.090909 \nL 163.07879 318.476062 \nL 163.160019 526.090909 \nL 163.200633 497.434212 \nL 163.241247 481.058956 \nL 163.36309 526.090909 \nL 163.403705 509.130823 \nL 163.444319 337.775471 \nL 163.484933 526.090909 \nL 163.566162 469.362345 \nL 163.688005 526.090909 \nL 163.728619 412.048951 \nL 163.769233 526.090909 \nL 163.809848 526.090909 \nL 163.931691 403.861323 \nL 164.094148 526.090909 \nL 164.215991 273.44411 \nL 164.337834 495.67972 \nL 164.378448 428.424207 \nL 164.419062 526.090909 \nL 164.500291 526.090909 \nL 164.622134 444.214632 \nL 164.662748 526.090909 \nL 164.743977 472.286498 \nL 164.825205 526.090909 \nL 164.987663 365.262507 \nL 165.109506 526.090909 \nL 165.312577 416.142765 \nL 165.353191 452.402259 \nL 165.393806 385.731576 \nL 165.43442 461.759548 \nL 165.475034 401.522001 \nL 165.596877 478.134804 \nL 165.637492 459.420226 \nL 165.799949 526.090909 \nL 165.840563 492.755568 \nL 165.881177 357.074879 \nL 165.921792 526.090909 \nL 165.962406 420.821409 \nL 166.124863 492.755568 \nL 166.165478 341.284454 \nL 166.206092 420.236579 \nL 166.368549 526.090909 \nL 166.490392 375.204626 \nL 166.612235 526.090909 \nL 166.652849 457.080904 \nL 166.693464 488.661754 \nL 166.815307 526.090909 \nL 166.93715 306.779451 \nL 167.058992 526.090909 \nL 167.180835 270.519957 \nL 167.262064 526.090909 \nL 167.302678 465.268531 \nL 167.50575 526.090909 \nL 167.546364 426.084884 \nL 167.586979 488.661754 \nL 167.668207 526.090909 \nL 167.708821 410.294459 \nL 167.749436 526.090909 \nL 167.79005 526.090909 \nL 167.830664 476.965143 \nL 167.871279 499.188704 \nL 167.911893 526.090909 \nL 167.952507 410.87929 \nL 167.993122 445.969123 \nL 168.07435 437.196665 \nL 168.114965 526.090909 \nL 168.196193 475.210651 \nL 168.236807 526.090909 \nL 168.277422 413.218612 \nL 168.318036 526.090909 \nL 168.439879 526.090909 \nL 168.480493 484.56794 \nL 168.521108 526.090909 \nL 168.561722 526.090909 \nL 168.602336 448.308445 \nL 168.642951 453.57192 \nL 168.724179 526.090909 \nL 168.764793 448.308445 \nL 168.805408 83.95901 \nL 168.846022 462.929209 \nL 168.886636 526.090909 \nL 168.927251 499.773534 \nL 168.967865 326.66369 \nL 169.008479 458.835395 \nL 169.170937 526.090909 \nL 169.252165 391.579882 \nL 169.29278 405.030984 \nL 169.374008 526.090909 \nL 169.414622 502.697687 \nL 169.455237 270.519957 \nL 169.495851 502.697687 \nL 169.536465 526.090909 \nL 169.57708 447.723615 \nL 169.617694 526.090909 \nL 169.658308 526.090909 \nL 169.780151 376.959118 \nL 169.86138 447.138784 \nL 169.901994 452.98709 \nL 169.983223 448.893276 \nL 170.023837 526.090909 \nL 170.064451 423.745562 \nL 170.105066 526.090909 \nL 170.14568 526.090909 \nL 170.226909 434.272512 \nL 170.308137 526.090909 \nL 170.348752 443.04497 \nL 170.389366 526.090909 \nL 170.470594 526.090909 \nL 170.511209 403.861323 \nL 170.592437 478.134804 \nL 170.633052 526.090909 \nL 170.673666 480.474126 \nL 170.71428 466.438193 \nL 170.876738 526.090909 \nL 170.998581 526.090909 \nL 171.039195 295.667671 \nL 171.120423 386.901237 \nL 171.242266 526.090909 \nL 171.364109 368.77149 \nL 171.485952 526.090909 \nL 171.526567 526.090909 \nL 171.567181 333.096826 \nL 171.648409 465.268531 \nL 171.689024 526.090909 \nL 171.729638 424.330393 \nL 171.810867 280.462076 \nL 171.851481 400.937171 \nL 171.93271 526.090909 \nL 171.973324 483.983109 \nL 172.013938 362.923185 \nL 172.054553 485.737601 \nL 172.135781 526.090909 \nL 172.176395 452.98709 \nL 172.257624 485.15277 \nL 172.298238 526.090909 \nL 172.338853 496.264551 \nL 172.420081 372.865304 \nL 172.50131 526.090909 \nL 172.541924 441.290479 \nL 172.582539 517.318451 \nL 172.663767 483.398279 \nL 172.826224 448.308445 \nL 172.866839 398.597848 \nL 172.907453 462.929209 \nL 172.948067 431.93319 \nL 172.988682 431.348359 \nL 173.029296 526.090909 \nL 173.110525 485.15277 \nL 173.232368 526.090909 \nL 173.35421 415.557934 \nL 173.435439 526.090909 \nL 173.476053 464.683701 \nL 173.516668 376.959118 \nL 173.557282 526.090909 \nL 173.597896 526.090909 \nL 173.638511 342.454115 \nL 173.719739 434.857343 \nL 173.800968 526.090909 \nL 173.841582 377.543948 \nL 173.882196 526.090909 \nL 173.922811 526.090909 \nL 173.963425 395.673696 \nL 174.044654 481.643787 \nL 174.166497 526.090909 \nL 174.207111 526.090909 \nL 174.247725 468.192684 \nL 174.28834 469.947176 \nL 174.410183 526.090909 \nL 174.613254 326.66369 \nL 174.694483 526.090909 \nL 174.735097 492.170737 \nL 174.775711 396.258526 \nL 174.816326 512.639806 \nL 174.85694 526.090909 \nL 174.978783 381.052932 \nL 175.100626 526.090909 \nL 175.14124 498.019042 \nL 175.222469 498.603873 \nL 175.303697 487.492093 \nL 175.344312 526.090909 \nL 175.384926 83.95901 \nL 175.42554 436.611834 \nL 175.466155 526.090909 \nL 175.506769 451.232598 \nL 175.547383 83.95901 \nL 175.587997 472.871329 \nL 175.628612 526.090909 \nL 175.669226 403.276493 \nL 175.750455 474.62582 \nL 175.791069 460.589887 \nL 175.912912 526.090909 \nL 175.994141 526.090909 \nL 176.034755 461.759548 \nL 176.075369 466.438193 \nL 176.197212 526.090909 \nL 176.400284 526.090909 \nL 176.562741 392.749543 \nL 176.725198 526.090909 \nL 176.847041 468.777515 \nL 176.887655 469.362345 \nL 176.92827 420.236579 \nL 177.009498 438.951157 \nL 177.131341 468.777515 \nL 177.171956 468.777515 \nL 177.21257 472.871329 \nL 177.253184 468.777515 \nL 177.293799 452.402259 \nL 177.334413 493.925229 \nL 177.375027 356.490048 \nL 177.415641 526.090909 \nL 177.456256 433.102851 \nL 177.49687 367.016998 \nL 177.537484 423.745562 \nL 177.659327 526.090909 \nL 177.699942 455.911243 \nL 177.740556 526.090909 \nL 177.78117 526.090909 \nL 177.862399 420.821409 \nL 177.984242 526.090909 \nL 178.06547 367.016998 \nL 178.106085 456.496073 \nL 178.227928 493.340398 \nL 178.268542 420.236579 \nL 178.309156 526.090909 \nL 178.349771 447.723615 \nL 178.430999 495.67972 \nL 178.471613 472.286498 \nL 178.512228 467.607854 \nL 178.634071 526.090909 \nL 178.674685 526.090909 \nL 178.715299 407.370307 \nL 178.755914 445.384293 \nL 178.796528 505.62184 \nL 178.837142 283.386229 \nL 178.918371 421.99107 \nL 178.958985 406.200646 \nL 179.080828 526.090909 \nL 179.202671 526.090909 \nL 179.243285 347.71759 \nL 179.2839 436.611834 \nL 179.324514 526.090909 \nL 179.365128 213.206563 \nL 179.405743 463.51404 \nL 179.5682 526.090909 \nL 179.608814 418.482087 \nL 179.649428 526.090909 \nL 179.690043 526.090909 \nL 179.811886 355.320387 \nL 179.933729 526.090909 \nL 180.014957 526.090909 \nL 180.055572 458.250565 \nL 180.096186 526.090909 \nL 180.177414 526.090909 \nL 180.299257 351.811404 \nL 180.4211 526.090909 \nL 180.461715 496.849381 \nL 180.502329 526.090909 \nL 180.542943 330.757504 \nL 180.583558 475.795481 \nL 180.705401 475.795481 \nL 180.746015 478.719634 \nL 180.786629 526.090909 \nL 180.827243 519.657773 \nL 180.908472 526.090909 \nL 180.949086 475.795481 \nL 181.070929 475.795481 \nL 181.111544 429.593868 \nL 181.233387 526.090909 \nL 181.274001 526.090909 \nL 181.477072 438.366326 \nL 181.63953 526.090909 \nL 181.720758 476.965143 \nL 181.842601 526.090909 \nL 181.883215 526.090909 \nL 181.92383 370.525982 \nL 182.005058 415.557934 \nL 182.045673 499.188704 \nL 182.126901 489.246584 \nL 182.248744 259.408176 \nL 182.370587 526.090909 \nL 182.411202 526.090909 \nL 182.451816 475.210651 \nL 182.533044 483.398279 \nL 182.614273 483.398279 \nL 182.654887 504.452179 \nL 182.695502 483.398279 \nL 182.736116 428.424207 \nL 182.77673 526.090909 \nL 182.857959 483.398279 \nL 182.898573 483.398279 \nL 182.979802 526.090909 \nL 183.06103 483.398279 \nL 183.101645 517.318451 \nL 183.142259 483.398279 \nL 183.182873 483.398279 \nL 183.223488 526.090909 \nL 183.264102 483.398279 \nL 183.304716 483.398279 \nL 183.467174 319.060893 \nL 183.589016 526.090909 \nL 183.629631 526.090909 \nL 183.670245 385.146746 \nL 183.710859 448.308445 \nL 183.751474 526.090909 \nL 183.832702 479.889295 \nL 183.873317 488.661754 \nL 183.913931 475.210651 \nL 183.954545 428.424207 \nL 183.99516 478.134804 \nL 184.076388 466.438193 \nL 184.117003 526.090909 \nL 184.157617 365.847337 \nL 184.198231 450.647768 \nL 184.238845 526.090909 \nL 184.27946 483.398279 \nL 184.320074 452.402259 \nL 184.360688 526.090909 \nL 184.401303 496.264551 \nL 184.441917 468.192684 \nL 184.482531 526.090909 \nL 184.523146 429.593868 \nL 184.56376 330.172673 \nL 184.604374 431.93319 \nL 184.644989 384.561915 \nL 184.807446 526.090909 \nL 184.84806 514.394298 \nL 184.888674 421.99107 \nL 184.929289 526.090909 \nL 184.969903 502.697687 \nL 185.010517 379.883271 \nL 185.051132 475.210651 \nL 185.172975 526.090909 \nL 185.213589 337.775471 \nL 185.254203 454.741581 \nL 185.376046 526.090909 \nL 185.457275 380.468101 \nL 185.497889 386.316407 \nL 185.538503 526.090909 \nL 185.579118 493.925229 \nL 185.619732 341.869285 \nL 185.660346 516.73362 \nL 185.700961 526.090909 \nL 185.822804 418.482087 \nL 185.904032 526.090909 \nL 185.944646 472.286498 \nL 185.985261 448.308445 \nL 186.025875 526.090909 \nL 186.066489 423.160732 \nL 186.107104 416.727595 \nL 186.147718 453.57192 \nL 186.188332 434.272512 \nL 186.228947 372.865304 \nL 186.269561 436.027004 \nL 186.310175 526.090909 \nL 186.391404 500.943195 \nL 186.432018 526.090909 \nL 186.472632 381.637762 \nL 186.553861 424.915223 \nL 186.63509 526.090909 \nL 186.675704 403.276493 \nL 186.756933 458.835395 \nL 186.797547 458.835395 \nL 186.838161 486.322431 \nL 186.878776 482.813448 \nL 186.91939 339.529962 \nL 186.960004 526.090909 \nL 187.000619 526.090909 \nL 187.041233 407.370307 \nL 187.081847 526.090909 \nL 187.122461 526.090909 \nL 187.20369 454.156751 \nL 187.325533 457.080904 \nL 187.447376 526.090909 \nL 187.48799 448.308445 \nL 187.569219 461.759548 \nL 187.731676 526.090909 \nL 187.77229 343.038946 \nL 187.853519 358.829371 \nL 188.015976 526.090909 \nL 188.097205 526.090909 \nL 188.137819 442.46014 \nL 188.219048 462.929209 \nL 188.259662 445.384293 \nL 188.340891 526.090909 \nL 188.381505 502.697687 \nL 188.422119 526.090909 \nL 188.462734 513.809467 \nL 188.503348 423.745562 \nL 188.584577 483.398279 \nL 188.625191 491.001076 \nL 188.787648 396.258526 \nL 188.828262 253.559871 \nL 188.868877 454.156751 \nL 188.950105 526.090909 \nL 188.99072 447.138784 \nL 189.031334 526.090909 \nL 189.071948 526.090909 \nL 189.193791 491.001076 \nL 189.234406 199.170629 \nL 189.27502 526.090909 \nL 189.356248 427.254545 \nL 189.478091 526.090909 \nL 189.518706 526.090909 \nL 189.599934 463.51404 \nL 189.640549 474.62582 \nL 189.762392 526.090909 \nL 189.803006 419.651748 \nL 189.884234 451.232598 \nL 189.924849 410.87929 \nL 189.965463 526.090909 \nL 190.046692 501.528026 \nL 190.168535 457.080904 \nL 190.249763 448.893276 \nL 190.371606 526.090909 \nL 190.412221 513.809467 \nL 190.493449 413.803443 \nL 190.574678 526.090909 \nL 190.615292 482.813448 \nL 190.655906 526.090909 \nL 190.818364 383.977084 \nL 190.940207 526.090909 \nL 191.102664 409.124798 \nL 191.224507 482.813448 \nL 191.265121 483.398279 \nL 191.427578 526.090909 \nL 191.468193 526.090909 \nL 191.549421 483.983109 \nL 191.671264 526.090909 \nL 191.711878 417.312426 \nL 191.752493 467.023023 \nL 191.793107 526.090909 \nL 191.833721 371.695643 \nL 191.874336 434.857343 \nL 191.955564 526.090909 \nL 191.996179 517.903281 \nL 192.118022 378.128779 \nL 192.158636 460.005056 \nL 192.19925 497.434212 \nL 192.239864 369.941151 \nL 192.280479 526.090909 \nL 192.321093 439.535987 \nL 192.361707 526.090909 \nL 192.402322 83.95901 \nL 192.442936 526.090909 \nL 192.524165 430.178698 \nL 192.564779 497.434212 \nL 192.605393 491.585906 \nL 192.646008 448.308445 \nL 192.727236 526.090909 \nL 192.76785 445.969123 \nL 192.849079 493.925229 \nL 193.011536 290.404196 \nL 193.173994 526.090909 \nL 193.458294 526.090909 \nL 193.498908 359.414201 \nL 193.539522 526.090909 \nL 193.620751 526.090909 \nL 193.661365 387.486068 \nL 193.70198 434.272512 \nL 193.823823 526.090909 \nL 193.98628 376.959118 \nL 194.189351 526.090909 \nL 194.311194 319.645724 \nL 194.433037 526.090909 \nL 194.473651 432.51802 \nL 194.55488 475.210651 \nL 194.595494 467.023023 \nL 194.636109 526.090909 \nL 194.676723 413.218612 \nL 194.717337 457.080904 \nL 194.757952 526.090909 \nL 194.798566 468.192684 \nL 194.83918 450.647768 \nL 194.879795 526.090909 \nL 194.920409 496.264551 \nL 195.001638 500.943195 \nL 195.082866 450.647768 \nL 195.12348 465.268531 \nL 195.204709 401.522001 \nL 195.245323 430.763529 \nL 195.285938 526.090909 \nL 195.326552 465.268531 \nL 195.448395 375.204626 \nL 195.570238 526.090909 \nL 195.651466 489.831415 \nL 195.732695 526.090909 \nL 195.773309 398.013018 \nL 195.854538 477.549973 \nL 195.935767 526.090909 \nL 195.976381 484.56794 \nL 196.016995 526.090909 \nL 196.05761 526.090909 \nL 196.098224 409.709629 \nL 196.138838 444.214632 \nL 196.179452 526.090909 \nL 196.220067 435.442173 \nL 196.260681 479.304465 \nL 196.34191 477.549973 \nL 196.382524 526.090909 \nL 196.504367 446.553954 \nL 196.585596 526.090909 \nL 196.62621 343.623776 \nL 196.666824 499.188704 \nL 196.788667 526.090909 \nL 196.869896 526.090909 \nL 196.991739 475.210651 \nL 197.113582 526.090909 \nL 197.235425 526.090909 \nL 197.397882 461.759548 \nL 197.47911 526.090909 \nL 197.519725 495.09489 \nL 197.641568 443.629801 \nL 198.047711 443.629801 \nL 198.128939 526.090909 \nL 198.169554 514.394298 \nL 198.210168 526.090909 \nL 198.372625 441.290479 \nL 198.41324 526.090909 \nL 198.453854 468.192684 \nL 198.494468 370.525982 \nL 198.535082 384.561915 \nL 198.575697 526.090909 \nL 198.616311 267.595804 \nL 198.656925 465.853362 \nL 198.69754 526.090909 \nL 198.738154 447.723615 \nL 198.778768 481.643787 \nL 198.900611 398.013018 \nL 199.063068 489.831415 \nL 199.103683 398.013018 \nL 199.144297 457.080904 \nL 199.184911 481.058956 \nL 199.26614 477.549973 \nL 199.306754 398.597848 \nL 199.347369 526.090909 \nL 199.387983 412.048951 \nL 199.428597 398.597848 \nL 199.509826 526.090909 \nL 199.55044 458.835395 \nL 199.591054 526.090909 \nL 199.631669 453.57192 \nL 199.672283 466.438193 \nL 199.712897 410.87929 \nL 199.753512 450.647768 \nL 199.794126 526.090909 \nL 199.83474 363.508015 \nL 199.875355 526.090909 \nL 199.997198 414.388273 \nL 200.119041 526.090909 \nL 200.281498 375.204626 \nL 200.403341 526.090909 \nL 200.443955 526.090909 \nL 200.525184 426.669715 \nL 200.606412 526.090909 \nL 200.647027 482.813448 \nL 200.728255 526.090909 \nL 200.809484 259.408176 \nL 200.850098 434.857343 \nL 200.890712 503.867348 \nL 200.931327 464.683701 \nL 200.971941 389.240559 \nL 201.012555 495.67972 \nL 201.05317 402.691662 \nL 201.093784 526.090909 \nL 201.134398 259.408176 \nL 201.175013 460.589887 \nL 201.215627 526.090909 \nL 201.256241 502.697687 \nL 201.33747 420.821409 \nL 201.459313 526.090909 \nL 201.499927 526.090909 \nL 201.540541 434.857343 \nL 201.62177 451.232598 \nL 201.702999 412.633782 \nL 201.824842 526.090909 \nL 201.90607 468.777515 \nL 201.946684 526.090909 \nL 201.987299 414.388273 \nL 202.068527 476.965143 \nL 202.109142 526.090909 \nL 202.19037 361.168693 \nL 202.312213 526.090909 \nL 202.352828 313.797418 \nL 202.393442 452.98709 \nL 202.47467 526.090909 \nL 202.637128 392.164712 \nL 202.718356 526.090909 \nL 202.758971 392.164712 \nL 202.840199 428.424207 \nL 202.880814 442.46014 \nL 202.921428 526.090909 \nL 202.962042 468.192684 \nL 203.043271 392.164712 \nL 203.083885 424.915223 \nL 203.246342 526.090909 \nL 203.286957 526.090909 \nL 203.327571 372.280473 \nL 203.368185 513.809467 \nL 203.449414 526.090909 \nL 203.490028 448.308445 \nL 203.530643 526.090909 \nL 203.571257 526.090909 \nL 203.611871 460.005056 \nL 203.6931 465.853362 \nL 203.814943 526.090909 \nL 203.855557 161.741474 \nL 203.896171 526.090909 \nL 203.936786 526.090909 \nL 204.099243 399.767509 \nL 204.139857 526.090909 \nL 204.180471 472.286498 \nL 204.302314 361.168693 \nL 204.424157 526.090909 \nL 204.505386 376.374287 \nL 204.627229 526.090909 \nL 204.749072 398.597848 \nL 204.789686 461.174718 \nL 204.952143 526.090909 \nL 205.073986 526.090909 \nL 205.195829 434.272512 \nL 205.277058 526.090909 \nL 205.317672 472.871329 \nL 205.358286 461.174718 \nL 205.439515 526.090909 \nL 205.480129 437.196665 \nL 205.520744 460.589887 \nL 205.561358 526.090909 \nL 205.601972 487.492093 \nL 205.642587 421.99107 \nL 205.683201 455.326412 \nL 205.805044 526.090909 \nL 205.845658 344.208607 \nL 205.926887 462.344379 \nL 205.967501 426.669715 \nL 206.008115 460.589887 \nL 206.04873 526.090909 \nL 206.089344 451.817429 \nL 206.129958 429.009037 \nL 206.170573 461.174718 \nL 206.211187 464.09887 \nL 206.251801 526.090909 \nL 206.33303 312.042926 \nL 206.373644 502.697687 \nL 206.454873 496.264551 \nL 206.495487 469.362345 \nL 206.536101 526.090909 \nL 206.576716 503.282517 \nL 206.61733 310.873265 \nL 206.657944 453.57192 \nL 206.739173 526.090909 \nL 206.779787 482.228618 \nL 206.861016 505.62184 \nL 206.90163 412.633782 \nL 206.982859 479.304465 \nL 207.023473 474.62582 \nL 207.064087 405.030984 \nL 207.104702 472.286498 \nL 207.145316 526.090909 \nL 207.18593 438.951157 \nL 207.307773 526.090909 \nL 207.348388 414.973104 \nL 207.429616 454.156751 \nL 207.470231 526.090909 \nL 207.510845 465.853362 \nL 207.592073 452.98709 \nL 207.713916 526.090909 \nL 207.957602 526.090909 \nL 207.998217 412.633782 \nL 208.038831 479.889295 \nL 208.079445 526.090909 \nL 208.12006 486.322431 \nL 208.201288 486.322431 \nL 208.241902 483.398279 \nL 208.323131 526.090909 \nL 208.363745 495.67972 \nL 208.40436 526.090909 \nL 208.526203 433.687682 \nL 208.566817 526.090909 \nL 208.648046 460.589887 \nL 208.68866 461.174718 \nL 208.729274 384.561915 \nL 208.810503 434.272512 \nL 208.97296 526.090909 \nL 209.054189 443.629801 \nL 209.094803 475.210651 \nL 209.176032 526.090909 \nL 209.216646 444.214632 \nL 209.297874 456.496073 \nL 209.379103 526.090909 \nL 209.500946 391.579882 \nL 209.582175 526.090909 \nL 209.622789 488.076923 \nL 209.663403 440.705648 \nL 209.704018 526.090909 \nL 209.785246 487.492093 \nL 209.825861 397.428187 \nL 209.866475 488.661754 \nL 209.907089 458.835395 \nL 209.988318 487.492093 \nL 210.028932 485.737601 \nL 210.069546 485.15277 \nL 210.150775 487.492093 \nL 210.232004 473.456159 \nL 210.272618 428.424207 \nL 210.353847 526.090909 \nL 210.394461 489.831415 \nL 210.516304 437.781495 \nL 210.556918 504.452179 \nL 210.597532 359.414201 \nL 210.638147 468.777515 \nL 210.719375 468.777515 \nL 210.841218 526.090909 \nL 210.881833 340.114793 \nL 210.922447 526.090909 \nL 211.003675 456.496073 \nL 211.04429 526.090909 \nL 211.084904 437.196665 \nL 211.125518 467.607854 \nL 211.166133 427.254545 \nL 211.206747 407.370307 \nL 211.247361 468.777515 \nL 211.287976 337.19064 \nL 211.32859 486.322431 \nL 211.369204 427.839376 \nL 211.531662 526.090909 \nL 211.694119 453.57192 \nL 211.734733 526.090909 \nL 211.815962 479.304465 \nL 211.856576 487.492093 \nL 211.937805 486.322431 \nL 212.059648 488.661754 \nL 212.100262 526.090909 \nL 212.140876 487.492093 \nL 212.222105 486.322431 \nL 212.262719 526.090909 \nL 212.303333 486.322431 \nL 212.343948 474.04099 \nL 212.425176 526.090909 \nL 212.547019 378.128779 \nL 212.587634 526.090909 \nL 212.668862 490.416245 \nL 212.750091 483.398279 \nL 212.871934 370.525982 \nL 212.831319 486.322431 \nL 212.912548 376.374287 \nL 212.993777 526.090909 \nL 213.034391 487.492093 \nL 213.075005 488.076923 \nL 213.11562 526.090909 \nL 213.156234 476.965143 \nL 213.237463 513.809467 \nL 213.278077 487.492093 \nL 213.318691 487.492093 \nL 213.359305 452.402259 \nL 213.39992 487.492093 \nL 213.440534 526.090909 \nL 213.481148 488.076923 \nL 213.521763 472.871329 \nL 213.562377 495.67972 \nL 213.602991 500.943195 \nL 213.643606 526.090909 \nL 213.68422 488.076923 \nL 213.724834 475.795481 \nL 213.765449 295.667671 \nL 213.806063 495.67972 \nL 213.846677 496.264551 \nL 213.927906 526.090909 \nL 214.049749 399.767509 \nL 214.130977 496.264551 \nL 214.171592 486.907262 \nL 214.212206 487.492093 \nL 214.25282 495.67972 \nL 214.293435 487.492093 \nL 214.334049 472.871329 \nL 214.374663 486.907262 \nL 214.415278 487.492093 \nL 214.455892 526.090909 \nL 214.496506 487.492093 \nL 214.577735 487.492093 \nL 214.618349 362.923185 \nL 214.658963 487.492093 \nL 214.740192 487.492093 \nL 214.780806 454.156751 \nL 214.821421 487.492093 \nL 214.862035 526.090909 \nL 214.902649 487.492093 \nL 214.943264 487.492093 \nL 214.983878 473.456159 \nL 215.024492 392.749543 \nL 215.065106 498.603873 \nL 215.146335 526.090909 \nL 215.186949 406.785476 \nL 215.308792 499.773534 \nL 215.430635 406.785476 \nL 215.552478 526.090909 \nL 215.674321 459.420226 \nL 215.714935 463.51404 \nL 215.796164 526.090909 \nL 215.836778 440.120818 \nL 215.918007 488.076923 \nL 215.958621 421.40624 \nL 215.999236 487.492093 \nL 216.03985 526.090909 \nL 216.080464 495.67972 \nL 216.121079 487.492093 \nL 216.161693 381.052932 \nL 216.202307 487.492093 \nL 216.242921 526.090909 \nL 216.283536 487.492093 \nL 216.32415 487.492093 \nL 216.364764 526.090909 \nL 216.405379 487.492093 \nL 216.445993 487.492093 \nL 216.486607 496.264551 \nL 216.527222 479.889295 \nL 216.60845 526.090909 \nL 216.649065 495.67972 \nL 216.770907 459.420226 \nL 216.811522 526.090909 \nL 216.89275 495.67972 \nL 217.014593 458.250565 \nL 217.055208 505.62184 \nL 217.136436 487.492093 \nL 217.177051 441.290479 \nL 217.217665 526.090909 \nL 217.258279 424.330393 \nL 217.298893 464.683701 \nL 217.339508 487.492093 \nL 217.380122 445.384293 \nL 217.420736 526.090909 \nL 217.501965 494.510059 \nL 217.623808 398.013018 \nL 217.745651 487.492093 \nL 217.948722 526.090909 \nL 217.989337 485.737601 \nL 218.029951 496.849381 \nL 218.070565 526.090909 \nL 218.233023 393.919204 \nL 218.354866 526.090909 \nL 218.436094 495.67972 \nL 218.476708 526.090909 \nL 218.517323 450.647768 \nL 218.557937 526.090909 \nL 218.598551 526.090909 \nL 218.639166 259.408176 \nL 218.67978 526.090909 \nL 218.720394 526.090909 \nL 218.842237 492.170737 \nL 218.882852 491.585906 \nL 218.923466 492.170737 \nL 218.96408 526.090909 \nL 219.004694 491.585906 \nL 219.045309 492.170737 \nL 219.126537 526.090909 \nL 219.167152 514.979129 \nL 219.207766 338.945132 \nL 219.24838 526.090909 \nL 219.329609 493.340398 \nL 219.370223 526.090909 \nL 219.410838 495.67972 \nL 219.492066 455.326412 \nL 219.654523 526.090909 \nL 219.695138 526.090909 \nL 219.735752 409.124798 \nL 219.776366 526.090909 \nL 219.816981 526.090909 \nL 219.857595 401.522001 \nL 219.938824 443.629801 \nL 220.020052 526.090909 \nL 220.060667 352.981065 \nL 220.101281 471.701668 \nL 220.223124 526.090909 \nL 220.263738 374.619796 \nL 220.344967 414.973104 \nL 220.46681 526.090909 \nL 220.588653 469.947176 \nL 220.629267 526.090909 \nL 220.669881 295.667671 \nL 220.710495 526.090909 \nL 220.913567 526.090909 \nL 220.954181 259.408176 \nL 220.994796 526.090909 \nL 221.03541 484.56794 \nL 221.076024 526.090909 \nL 221.157253 526.090909 \nL 221.197867 427.254545 \nL 221.238482 507.961162 \nL 221.279096 526.090909 \nL 221.31971 295.667671 \nL 221.360324 526.090909 \nL 221.400939 482.228618 \nL 221.441553 526.090909 \nL 221.522782 526.090909 \nL 221.563396 454.741581 \nL 221.60401 526.090909 \nL 221.644625 526.090909 \nL 221.725853 426.669715 \nL 221.847696 428.424207 \nL 221.88831 526.090909 \nL 221.969539 509.715654 \nL 222.010153 505.62184 \nL 222.131996 526.090909 \nL 222.172611 476.965143 \nL 222.213225 278.707585 \nL 222.253839 490.416245 \nL 222.375682 526.090909 \nL 222.538139 409.709629 \nL 222.741211 526.090909 \nL 222.781825 515.563959 \nL 222.82244 437.196665 \nL 222.863054 526.090909 \nL 222.903668 516.73362 \nL 222.944283 526.090909 \nL 222.984897 526.090909 \nL 223.025511 372.865304 \nL 223.10674 445.969123 \nL 223.147354 462.929209 \nL 223.187968 456.496073 \nL 223.228583 410.294459 \nL 223.309811 526.090909 \nL 223.350426 460.589887 \nL 223.39104 513.809467 \nL 223.472269 485.15277 \nL 223.512883 455.326412 \nL 223.594111 526.090909 \nL 223.634726 439.535987 \nL 223.715954 483.398279 \nL 223.797183 479.304465 \nL 223.878412 526.090909 \nL 224.000255 352.396235 \nL 224.081483 526.090909 \nL 224.122098 411.46412 \nL 224.24394 526.090909 \nL 224.284555 435.442173 \nL 224.325169 526.090909 \nL 224.406398 526.090909 \nL 224.528241 469.362345 \nL 224.568855 519.072942 \nL 224.609469 503.867348 \nL 224.690698 473.456159 \nL 224.853155 526.090909 \nL 225.015612 368.77149 \nL 225.056227 394.504034 \nL 225.096841 526.090909 \nL 225.17807 458.250565 \nL 225.218684 437.781495 \nL 225.299912 406.200646 \nL 225.340527 526.090909 \nL 225.46237 526.090909 \nL 225.502984 489.246584 \nL 225.543598 526.090909 \nL 225.584213 526.090909 \nL 225.665441 443.629801 \nL 225.74667 448.893276 \nL 225.827899 526.090909 \nL 225.909127 336.60581 \nL 225.949741 444.799462 \nL 225.990356 440.705648 \nL 226.112199 526.090909 \nL 226.152813 526.090909 \nL 226.193427 393.919204 \nL 226.274656 451.232598 \nL 226.31527 413.803443 \nL 226.396499 526.090909 \nL 226.437113 447.723615 \nL 226.59957 526.090909 \nL 226.640185 406.200646 \nL 226.680799 503.282517 \nL 226.721413 526.090909 \nL 226.762028 489.831415 \nL 226.843256 496.849381 \nL 226.883871 526.090909 \nL 226.924485 488.076923 \nL 226.965099 437.196665 \nL 227.005713 518.488112 \nL 227.086942 526.090909 \nL 227.127556 438.366326 \nL 227.208785 526.090909 \nL 227.249399 471.116837 \nL 227.290014 354.150726 \nL 227.330628 451.817429 \nL 227.452471 526.090909 \nL 227.574314 463.51404 \nL 227.614928 526.090909 \nL 227.655542 395.673696 \nL 227.736771 423.160732 \nL 227.777385 526.090909 \nL 227.858614 483.398279 \nL 227.899228 526.090909 \nL 227.939843 462.929209 \nL 227.980457 454.741581 \nL 228.061686 526.090909 \nL 228.183528 221.979021 \nL 228.264757 526.090909 \nL 228.305371 458.250565 \nL 228.345986 221.979021 \nL 228.3866 526.090909 \nL 228.427214 463.51404 \nL 228.508443 221.979021 \nL 228.6709 526.090909 \nL 228.711514 444.799462 \nL 228.752129 526.090909 \nL 228.792743 526.090909 \nL 228.873972 371.695643 \nL 228.914586 480.474126 \nL 228.9552 462.929209 \nL 228.995815 526.090909 \nL 229.036429 439.535987 \nL 229.077043 368.186659 \nL 229.117658 482.228618 \nL 229.158272 469.362345 \nL 229.198886 500.358365 \nL 229.239501 430.763529 \nL 229.320729 472.871329 \nL 229.483186 526.090909 \nL 229.564415 462.929209 \nL 229.605029 507.376331 \nL 229.645644 526.090909 \nL 229.726872 369.356321 \nL 229.767487 409.124798 \nL 229.889329 526.090909 \nL 229.929944 383.977084 \nL 229.970558 470.532006 \nL 230.011172 526.090909 \nL 230.051787 446.553954 \nL 230.133015 428.424207 \nL 230.17363 520.827434 \nL 230.214244 249.466057 \nL 230.254858 299.176654 \nL 230.376701 526.090909 \nL 230.417315 452.402259 \nL 230.45793 526.090909 \nL 230.539158 526.090909 \nL 230.579773 493.925229 \nL 230.661001 500.358365 \nL 230.74223 510.300484 \nL 230.782844 478.134804 \nL 230.823459 526.090909 \nL 230.864073 526.090909 \nL 230.985916 362.923185 \nL 231.107759 526.090909 \nL 231.229602 428.424207 \nL 231.270216 526.090909 \nL 231.351445 460.589887 \nL 231.392059 514.979129 \nL 231.432673 375.204626 \nL 231.473288 526.090909 \nL 231.513902 457.665734 \nL 231.554516 454.156751 \nL 231.59513 480.474126 \nL 231.635745 341.284454 \nL 231.676359 526.090909 \nL 231.838816 432.51802 \nL 231.960659 526.090909 \nL 232.001274 444.214632 \nL 232.082502 460.589887 \nL 232.123117 460.589887 \nL 232.244959 526.090909 \nL 232.448031 297.422162 \nL 232.569874 526.090909 \nL 232.691717 511.470145 \nL 232.732331 394.504034 \nL 232.772945 526.090909 \nL 232.81356 426.669715 \nL 232.854174 398.013018 \nL 232.894788 526.090909 \nL 232.935403 398.013018 \nL 232.976017 398.013018 \nL 233.09786 526.090909 \nL 233.219703 377.543948 \nL 233.300931 526.090909 \nL 233.341546 461.759548 \nL 233.38216 460.589887 \nL 233.463389 507.961162 \nL 233.504003 400.937171 \nL 233.585232 459.420226 \nL 233.707075 526.090909 \nL 233.788303 392.164712 \nL 233.828918 526.090909 \nL 233.910146 482.813448 \nL 233.95076 438.366326 \nL 233.991375 526.090909 \nL 234.072603 490.416245 \nL 234.194446 526.090909 \nL 234.275675 462.929209 \nL 234.316289 526.090909 \nL 234.356904 447.138784 \nL 234.397518 436.611834 \nL 234.519361 526.090909 \nL 234.559975 498.603873 \nL 234.600589 335.436148 \nL 234.681818 347.13276 \nL 234.763047 526.090909 \nL 234.803661 503.867348 \nL 234.88489 526.090909 \nL 234.925504 494.510059 \nL 234.966118 362.923185 \nL 235.006732 511.470145 \nL 235.087961 491.001076 \nL 235.16919 526.090909 \nL 235.209804 464.683701 \nL 235.250418 495.09489 \nL 235.331647 526.090909 \nL 235.412876 428.424207 \nL 235.534719 526.090909 \nL 235.575333 441.290479 \nL 235.656561 457.665734 \nL 235.697176 429.593868 \nL 235.73779 474.04099 \nL 235.778404 502.112856 \nL 235.819019 491.001076 \nL 235.900247 498.019042 \nL 235.940862 374.034965 \nL 236.02209 526.090909 \nL 236.062705 347.13276 \nL 236.103319 526.090909 \nL 236.184547 526.090909 \nL 236.225162 455.326412 \nL 236.265776 526.090909 \nL 236.30639 510.885315 \nL 236.347005 425.500054 \nL 236.428233 456.496073 \nL 236.509462 526.090909 \nL 236.590691 367.601829 \nL 236.671919 403.861323 \nL 236.793762 526.090909 \nL 236.874991 367.016998 \nL 236.915605 442.46014 \nL 236.956219 492.755568 \nL 237.037448 466.438193 \nL 237.078062 471.701668 \nL 237.118677 526.090909 \nL 237.159291 451.232598 \nL 237.199905 502.112856 \nL 237.24052 499.188704 \nL 237.362362 526.090909 \nL 237.402977 443.04497 \nL 237.443591 526.090909 \nL 237.52482 443.04497 \nL 237.565434 369.941151 \nL 237.646663 526.090909 \nL 237.687277 454.156751 \nL 237.80912 526.090909 \nL 237.849734 406.200646 \nL 237.930963 451.232598 \nL 237.971577 521.412265 \nL 238.012191 388.070898 \nL 238.052806 436.027004 \nL 238.09342 526.090909 \nL 238.174649 493.925229 \nL 238.255877 505.62184 \nL 238.337106 526.090909 \nL 238.37772 379.883271 \nL 238.499563 526.090909 \nL 238.580792 344.793437 \nL 238.621406 526.090909 \nL 238.702635 492.755568 \nL 238.743249 381.637762 \nL 238.783863 433.102851 \nL 238.905706 526.090909 \nL 238.946321 480.474126 \nL 238.986935 526.090909 \nL 239.027549 526.090909 \nL 239.068163 421.99107 \nL 239.108778 526.090909 \nL 239.149392 526.090909 \nL 239.190006 445.969123 \nL 239.271235 475.795481 \nL 239.311849 435.442173 \nL 239.352464 454.741581 \nL 239.393078 526.090909 \nL 239.433692 392.749543 \nL 239.514921 468.777515 \nL 239.636764 526.090909 \nL 239.677378 526.090909 \nL 239.717992 519.657773 \nL 239.758607 526.090909 \nL 239.799221 526.090909 \nL 239.88045 429.593868 \nL 239.921064 526.090909 \nL 239.961678 509.130823 \nL 240.002293 401.522001 \nL 240.042907 476.380312 \nL 240.16475 526.090909 \nL 240.205364 357.65971 \nL 240.245978 444.799462 \nL 240.327207 526.090909 \nL 240.367821 437.196665 \nL 240.44905 470.532006 \nL 240.489664 526.090909 \nL 240.530279 285.140721 \nL 240.570893 492.755568 \nL 240.611507 491.585906 \nL 240.73335 526.090909 \nL 240.773964 393.334373 \nL 240.855193 398.013018 \nL 241.01765 526.090909 \nL 241.098879 464.09887 \nL 241.139493 347.13276 \nL 241.180108 526.090909 \nL 241.220722 453.57192 \nL 241.30195 503.867348 \nL 241.342565 458.835395 \nL 241.423793 472.871329 \nL 241.464408 526.090909 \nL 241.505022 395.673696 \nL 241.586251 447.138784 \nL 241.708094 526.090909 \nL 241.789322 331.927165 \nL 241.829937 526.090909 \nL 241.911165 450.062937 \nL 242.033008 526.090909 \nL 242.114237 452.402259 \nL 242.23608 526.090909 \nL 242.398537 314.967079 \nL 242.479765 526.090909 \nL 242.560994 463.51404 \nL 242.682837 526.090909 \nL 242.723451 470.532006 \nL 242.764066 498.019042 \nL 242.845294 526.090909 \nL 242.885909 454.741581 \nL 242.926523 526.090909 \nL 242.967137 526.090909 \nL 243.08898 408.539968 \nL 243.129594 526.090909 \nL 243.210823 481.643787 \nL 243.251437 482.813448 \nL 243.292052 526.090909 \nL 243.332666 481.643787 \nL 243.413895 476.965143 \nL 243.535738 526.090909 \nL 243.576352 376.959118 \nL 243.65758 428.424207 \nL 243.820038 324.909198 \nL 243.860652 526.090909 \nL 243.941881 465.268531 \nL 243.982495 411.46412 \nL 244.023109 526.090909 \nL 244.104338 503.867348 \nL 244.185566 526.090909 \nL 244.226181 424.915223 \nL 244.307409 458.835395 \nL 244.388638 437.781495 \nL 244.429252 526.090909 \nL 244.59171 426.084884 \nL 244.632324 407.955137 \nL 244.713552 526.090909 \nL 244.754167 474.62582 \nL 244.835395 526.090909 \nL 244.87601 483.398279 \nL 244.916624 488.661754 \nL 244.957238 303.270468 \nL 244.997853 526.090909 \nL 245.079081 526.090909 \nL 245.200924 411.46412 \nL 245.282153 526.090909 \nL 245.363381 339.529962 \nL 245.44461 526.090909 \nL 245.485224 500.943195 \nL 245.566453 421.40624 \nL 245.607067 442.46014 \nL 245.769525 526.090909 \nL 245.810139 515.563959 \nL 245.850753 457.665734 \nL 245.891367 526.090909 \nL 245.972596 526.090909 \nL 246.01321 441.875309 \nL 246.053825 494.510059 \nL 246.094439 508.545992 \nL 246.135053 499.773534 \nL 246.256896 373.450134 \nL 246.297511 420.236579 \nL 246.338125 526.090909 \nL 246.378739 302.685637 \nL 246.459968 347.13276 \nL 246.500582 526.090909 \nL 246.541196 345.963098 \nL 246.581811 426.669715 \nL 246.663039 526.090909 \nL 246.703654 466.438193 \nL 246.744268 444.214632 \nL 246.866111 526.090909 \nL 246.906725 526.090909 \nL 247.109797 413.803443 \nL 247.23164 526.090909 \nL 247.394097 446.553954 \nL 247.434711 526.090909 \nL 247.475326 446.553954 \nL 247.51594 414.973104 \nL 247.637783 526.090909 \nL 247.80024 446.553954 \nL 247.840854 476.965143 \nL 247.881469 323.739537 \nL 247.922083 526.090909 \nL 248.125154 431.93319 \nL 248.287612 526.090909 \nL 248.328226 410.87929 \nL 248.36884 474.04099 \nL 248.409455 526.090909 \nL 248.450069 483.983109 \nL 248.531298 316.13674 \nL 248.571912 449.478107 \nL 248.653141 437.196665 \nL 248.693755 526.090909 \nL 248.734369 482.813448 \nL 248.815598 425.500054 \nL 248.856212 526.090909 \nL 248.896826 493.340398 \nL 249.018669 366.432168 \nL 249.059284 526.090909 \nL 249.099898 327.833351 \nL 249.140512 507.376331 \nL 249.221741 526.090909 \nL 249.262355 475.795481 \nL 249.302969 526.090909 \nL 249.343584 446.553954 \nL 249.424812 358.829371 \nL 249.506041 483.398279 \nL 249.546655 479.889295 \nL 249.58727 345.378268 \nL 249.627884 393.919204 \nL 249.749727 526.090909 \nL 249.790341 526.090909 \nL 249.830956 489.831415 \nL 249.87157 230.166649 \nL 249.912184 500.943195 \nL 249.952798 419.066918 \nL 250.034027 452.98709 \nL 250.074641 410.294459 \nL 250.196484 526.090909 \nL 250.277713 526.090909 \nL 250.318327 464.09887 \nL 250.358942 526.090909 \nL 250.399556 526.090909 \nL 250.44017 372.280473 \nL 250.521399 450.647768 \nL 250.72447 526.090909 \nL 250.805699 526.090909 \nL 250.968156 457.665734 \nL 251.130613 526.090909 \nL 251.171228 468.777515 \nL 251.211842 526.090909 \nL 251.252456 526.090909 \nL 251.333685 494.510059 \nL 251.374299 356.490048 \nL 251.414914 526.090909 \nL 251.455528 496.849381 \nL 251.496142 526.090909 \nL 251.577371 338.360301 \nL 251.699214 526.090909 \nL 251.821057 322.569876 \nL 251.983514 526.090909 \nL 252.064743 446.553954 \nL 252.145971 526.090909 \nL 252.186585 368.77149 \nL 252.267814 450.062937 \nL 252.389657 526.090909 \nL 252.552114 331.927165 \nL 252.714571 526.090909 \nL 252.836414 400.937171 \nL 252.877029 445.969123 \nL 252.958257 428.424207 \nL 252.998872 526.090909 \nL 253.120715 396.843357 \nL 253.161329 505.037009 \nL 253.242558 462.929209 \nL 253.323786 454.741581 \nL 253.405015 526.090909 \nL 253.486243 355.320387 \nL 253.526858 489.246584 \nL 253.567472 526.090909 \nL 253.689315 396.258526 \nL 253.729929 426.084884 \nL 253.811158 526.090909 \nL 253.933001 384.561915 \nL 254.054844 526.090909 \nL 254.136072 432.51802 \nL 254.176687 467.023023 \nL 254.257915 448.893276 \nL 254.339144 526.090909 \nL 254.379758 526.090909 \nL 254.501601 383.392254 \nL 254.664058 526.090909 \nL 254.785901 378.713609 \nL 254.826516 526.090909 \nL 254.86713 478.134804 \nL 254.948359 526.090909 \nL 254.988973 380.468101 \nL 255.029587 486.907262 \nL 255.070201 402.691662 \nL 255.110816 395.673696 \nL 255.15143 526.090909 \nL 255.232659 489.831415 \nL 255.354502 526.090909 \nL 255.43573 526.090909 \nL 255.557573 405.030984 \nL 255.638802 398.597848 \nL 255.72003 526.090909 \nL 255.801259 415.557934 \nL 255.841873 497.434212 \nL 255.923102 526.090909 \nL 255.963716 388.655729 \nL 256.126173 526.090909 \nL 256.166788 433.687682 \nL 256.207402 438.366326 \nL 256.329245 526.090909 \nL 256.369859 418.482087 \nL 256.451088 491.001076 \nL 256.491702 440.120818 \nL 256.532317 502.697687 \nL 256.572931 526.090909 \nL 256.735388 299.761485 \nL 256.897845 488.661754 \nL 256.979074 414.973104 \nL 257.019688 439.535987 \nL 257.060303 526.090909 \nL 257.100917 359.414201 \nL 257.141531 416.727595 \nL 257.182146 526.090909 \nL 257.263374 502.697687 \nL 257.303988 526.090909 \nL 257.344603 374.034965 \nL 257.385217 526.090909 \nL 257.466446 401.522001 \nL 257.547674 459.420226 \nL 257.588289 447.138784 \nL 257.710132 526.090909 \nL 257.750746 478.719634 \nL 257.79136 509.715654 \nL 257.831974 526.090909 \nL 257.994432 424.330393 \nL 258.07566 440.120818 \nL 258.156889 526.090909 \nL 258.197503 468.777515 \nL 258.278732 526.090909 \nL 258.319346 466.438193 \nL 258.400575 482.813448 \nL 258.481803 526.090909 \nL 258.563032 420.821409 \nL 258.644261 526.090909 \nL 258.806718 313.797418 \nL 258.887947 489.246584 \nL 258.928561 476.380312 \nL 258.969175 469.362345 \nL 259.009789 474.04099 \nL 259.050404 398.013018 \nL 259.091018 493.925229 \nL 259.131632 445.969123 \nL 259.172247 506.791501 \nL 259.212861 224.903174 \nL 259.253475 526.090909 \nL 259.334704 526.090909 \nL 259.375318 412.048951 \nL 259.415933 526.090909 \nL 259.456547 516.14879 \nL 259.497161 526.090909 \nL 259.537776 386.316407 \nL 259.57839 526.090909 \nL 259.740847 412.633782 \nL 259.86269 526.090909 \nL 259.984533 385.731576 \nL 260.065762 526.090909 \nL 260.106376 433.102851 \nL 260.268833 526.090909 \nL 260.309447 526.090909 \nL 260.350062 451.232598 \nL 260.43129 492.170737 \nL 260.471905 526.090909 \nL 260.553133 232.505971 \nL 260.593748 307.949112 \nL 260.674976 502.112856 \nL 260.71559 465.268531 \nL 260.756205 503.282517 \nL 260.796819 464.09887 \nL 260.837433 483.398279 \nL 260.878048 486.322431 \nL 260.918662 427.254545 \nL 260.959276 492.170737 \nL 260.999891 492.170737 \nL 261.081119 526.090909 \nL 261.162348 438.951157 \nL 261.202962 526.090909 \nL 261.243577 331.342335 \nL 261.324805 467.023023 \nL 261.365419 436.611834 \nL 261.406034 465.853362 \nL 261.487262 449.478107 \nL 261.527877 526.090909 \nL 261.568491 492.170737 \nL 261.609105 526.090909 \nL 261.64972 526.090909 \nL 261.771563 399.767509 \nL 261.812177 409.709629 \nL 261.93402 526.090909 \nL 262.096477 358.829371 \nL 262.21832 526.090909 \nL 262.258934 526.090909 \nL 262.340163 350.641743 \nL 262.380777 455.911243 \nL 262.421391 421.40624 \nL 262.543234 526.090909 \nL 262.624463 429.009037 \nL 262.665077 481.058956 \nL 262.705692 500.943195 \nL 262.746306 410.294459 \nL 262.827535 459.420226 \nL 262.868149 457.080904 \nL 262.908763 386.901237 \nL 262.949378 416.142765 \nL 263.07122 526.090909 \nL 263.193063 406.785476 \nL 263.233678 526.090909 \nL 263.314906 444.799462 \nL 263.355521 375.789457 \nL 263.396135 434.272512 \nL 263.477364 526.090909 \nL 263.517978 475.210651 \nL 263.558592 384.561915 \nL 263.599206 444.799462 \nL 263.680435 526.090909 \nL 263.721049 438.951157 \nL 263.761664 466.438193 \nL 263.802278 526.090909 \nL 263.842892 454.156751 \nL 263.883507 485.737601 \nL 263.924121 466.438193 \nL 263.964735 480.474126 \nL 264.00535 526.090909 \nL 264.045964 490.416245 \nL 264.086578 425.500054 \nL 264.127192 460.589887 \nL 264.167807 475.210651 \nL 264.208421 471.116837 \nL 264.249035 342.454115 \nL 264.330264 414.388273 \nL 264.452107 526.090909 \nL 264.57395 340.114793 \nL 264.695793 526.090909 \nL 264.736407 526.090909 \nL 264.777021 446.553954 \nL 264.85825 458.250565 \nL 264.939479 433.687682 \nL 264.980093 526.090909 \nL 265.020707 395.673696 \nL 265.061322 441.875309 \nL 265.14255 526.090909 \nL 265.183165 472.871329 \nL 265.305007 526.090909 \nL 265.345622 285.140721 \nL 265.42685 367.601829 \nL 265.467465 472.286498 \nL 265.548693 407.370307 \nL 265.629922 407.370307 \nL 265.751765 526.090909 \nL 265.792379 436.027004 \nL 265.832993 526.090909 \nL 265.954836 526.090909 \nL 265.995451 437.196665 \nL 266.036065 446.553954 \nL 266.076679 526.090909 \nL 266.117294 369.356321 \nL 266.198522 448.308445 \nL 266.239137 448.893276 \nL 266.279751 526.090909 \nL 266.320365 496.264551 \nL 266.401594 513.809467 \nL 266.442208 325.494029 \nL 266.564051 526.090909 \nL 266.604665 378.713609 \nL 266.685894 454.156751 \nL 266.807737 526.090909 \nL 266.848351 428.424207 \nL 266.888966 526.090909 \nL 267.132651 526.090909 \nL 267.254494 400.937171 \nL 267.295109 505.62184 \nL 267.376337 463.51404 \nL 267.416952 526.090909 \nL 267.457566 487.492093 \nL 267.49818 474.04099 \nL 267.620023 526.090909 \nL 267.701252 391.579882 \nL 267.741866 472.286498 \nL 267.823095 464.09887 \nL 267.863709 508.545992 \nL 267.904323 427.839376 \nL 267.944938 526.090909 \nL 267.985552 443.629801 \nL 268.066781 526.090909 \nL 268.107395 504.452179 \nL 268.188623 526.090909 \nL 268.229238 384.561915 \nL 268.269852 526.090909 \nL 268.351081 481.058956 \nL 268.391695 451.817429 \nL 268.513538 526.090909 \nL 268.554152 503.867348 \nL 268.594767 291.573857 \nL 268.675995 304.440129 \nL 268.757224 526.090909 \nL 268.797838 499.773534 \nL 268.838452 440.705648 \nL 268.879067 526.090909 \nL 268.960295 458.250565 \nL 269.00091 485.737601 \nL 269.041524 502.697687 \nL 269.244596 319.060893 \nL 269.28521 506.20667 \nL 269.366438 480.474126 \nL 269.407053 427.254545 \nL 269.447667 476.380312 \nL 269.488281 486.907262 \nL 269.56951 399.767509 \nL 269.691353 526.090909 \nL 269.813196 446.553954 \nL 269.85381 526.090909 \nL 269.894424 324.909198 \nL 269.935039 526.090909 \nL 269.975653 485.15277 \nL 270.016267 526.090909 \nL 270.097496 526.090909 \nL 270.13811 468.777515 \nL 270.219339 471.116837 \nL 270.259953 478.719634 \nL 270.341182 445.384293 \nL 270.381796 526.090909 \nL 270.463025 426.669715 \nL 270.503639 487.492093 \nL 270.544253 504.452179 \nL 270.584868 492.170737 \nL 270.625482 452.402259 \nL 270.706711 475.210651 \nL 270.787939 526.090909 \nL 270.828554 418.482087 \nL 270.869168 505.037009 \nL 270.991011 526.090909 \nL 271.031625 211.452071 \nL 271.072239 526.090909 \nL 271.112854 526.090909 \nL 271.234697 405.615815 \nL 271.397154 526.090909 \nL 271.437768 412.633782 \nL 271.478383 526.090909 \nL 271.518997 526.090909 \nL 271.64084 400.937171 \nL 271.681454 526.090909 \nL 271.762683 466.438193 \nL 271.843911 526.090909 \nL 271.884526 458.835395 \nL 271.965754 475.795481 \nL 272.006369 479.304465 \nL 272.046983 426.669715 \nL 272.087597 481.643787 \nL 272.168826 479.304465 \nL 272.20944 448.308445 \nL 272.250054 494.510059 \nL 272.290669 526.090909 \nL 272.331283 435.442173 \nL 272.371897 526.090909 \nL 272.412512 526.090909 \nL 272.615583 388.655729 \nL 272.737426 526.090909 \nL 272.77804 526.090909 \nL 272.899883 475.795481 \nL 272.981112 526.090909 \nL 273.102955 344.793437 \nL 273.306026 526.090909 \nL 273.346641 526.090909 \nL 273.387255 424.915223 \nL 273.427869 526.090909 \nL 273.468484 526.090909 \nL 273.549712 432.51802 \nL 273.590327 458.835395 \nL 273.71217 526.090909 \nL 273.834012 450.647768 \nL 273.874627 526.090909 \nL 273.915241 435.442173 \nL 273.955855 492.170737 \nL 274.077698 378.713609 \nL 274.118313 410.294459 \nL 274.199541 526.090909 \nL 274.240156 411.46412 \nL 274.321384 452.98709 \nL 274.361999 412.633782 \nL 274.483841 526.090909 \nL 274.524456 440.120818 \nL 274.56507 526.090909 \nL 274.605684 526.090909 \nL 274.727527 380.468101 \nL 274.808756 526.090909 \nL 274.889985 169.344271 \nL 274.971213 526.090909 \nL 275.011827 169.344271 \nL 275.052442 526.090909 \nL 275.093056 526.090909 \nL 275.13367 227.242496 \nL 275.174285 469.947176 \nL 275.214899 472.871329 \nL 275.296128 526.090909 \nL 275.458585 227.242496 \nL 275.539813 487.492093 \nL 275.580428 269.350296 \nL 275.621042 526.090909 \nL 275.661656 417.312426 \nL 275.824114 526.090909 \nL 275.905342 369.941151 \nL 275.986571 382.807423 \nL 276.0678 526.090909 \nL 276.108414 378.713609 \nL 276.149028 526.090909 \nL 276.230257 526.090909 \nL 276.311485 405.615815 \nL 276.3521 491.585906 \nL 276.392714 526.090909 \nL 276.433328 399.767509 \nL 276.473943 526.090909 \nL 276.514557 526.090909 \nL 276.595786 347.71759 \nL 276.6364 447.138784 \nL 276.717628 526.090909 \nL 276.758243 408.539968 \nL 276.798857 526.090909 \nL 276.839471 526.090909 \nL 276.880086 319.645724 \nL 276.961314 431.348359 \nL 277.001929 390.995051 \nL 277.123772 526.090909 \nL 277.164386 483.983109 \nL 277.205 517.903281 \nL 277.326843 526.090909 \nL 277.408072 347.13276 \nL 277.448686 441.290479 \nL 277.570529 410.87929 \nL 277.611143 499.773534 \nL 277.692372 438.366326 \nL 277.773601 500.358365 \nL 277.814215 398.013018 \nL 277.854829 526.090909 \nL 277.895443 526.090909 \nL 277.936058 375.204626 \nL 277.976672 479.304465 \nL 278.017286 526.090909 \nL 278.057901 443.629801 \nL 278.098515 454.741581 \nL 278.139129 526.090909 \nL 278.179744 384.561915 \nL 278.220358 424.915223 \nL 278.260972 526.090909 \nL 278.301587 509.715654 \nL 278.342201 154.138677 \nL 278.382815 526.090909 \nL 278.504658 375.204626 \nL 278.667115 478.134804 \nL 278.748344 426.084884 \nL 278.870187 526.090909 \nL 278.951416 443.629801 \nL 278.99203 474.62582 \nL 279.073258 526.090909 \nL 279.235716 379.29844 \nL 279.27633 379.29844 \nL 279.438787 526.090909 \nL 279.479402 259.993007 \nL 279.520016 492.170737 \nL 279.56063 492.170737 \nL 279.601244 392.164712 \nL 279.641859 526.090909 \nL 279.682473 526.090909 \nL 279.723087 398.597848 \nL 279.763702 421.40624 \nL 279.84493 526.090909 \nL 279.885545 474.62582 \nL 279.966773 474.62582 \nL 280.007388 450.647768 \nL 280.088616 526.090909 \nL 280.210459 357.074879 \nL 280.372916 526.090909 \nL 280.494759 526.090909 \nL 280.616602 357.074879 \nL 280.738445 526.090909 \nL 280.779059 443.04497 \nL 280.860288 456.496073 \nL 280.900902 452.402259 \nL 280.982131 427.839376 \nL 281.06336 526.090909 \nL 281.103974 526.090909 \nL 281.225817 392.164712 \nL 281.266431 413.803443 \nL 281.388274 469.362345 \nL 281.428888 310.873265 \nL 281.469503 313.797418 \nL 281.510117 526.090909 \nL 281.591346 498.603873 \nL 281.672574 526.090909 \nL 281.713189 446.553954 \nL 281.753803 141.272405 \nL 281.794417 458.250565 \nL 281.835031 453.57192 \nL 281.956874 526.090909 \nL 282.241175 526.090909 \nL 282.322403 473.456159 \nL 282.444246 526.090909 \nL 282.566089 349.472082 \nL 282.687932 526.090909 \nL 282.728546 504.452179 \nL 282.769161 485.15277 \nL 282.891004 353.565896 \nL 282.931618 526.090909 \nL 283.012846 448.893276 \nL 283.094075 298.006993 \nL 283.134689 455.326412 \nL 283.215918 454.741581 \nL 283.256532 454.741581 \nL 283.41899 526.090909 \nL 283.459604 397.428187 \nL 283.540832 423.745562 \nL 283.662675 526.090909 \nL 283.70329 320.815385 \nL 283.784518 456.496073 \nL 283.825133 452.402259 \nL 283.906361 526.090909 \nL 284.028204 436.611834 \nL 284.068819 474.04099 \nL 284.109433 398.597848 \nL 284.150047 526.090909 \nL 284.231276 526.090909 \nL 284.27189 400.937171 \nL 284.312504 423.745562 \nL 284.393733 526.090909 \nL 284.434347 476.380312 \nL 284.474962 526.090909 \nL 284.515576 465.853362 \nL 284.55619 465.853362 \nL 284.596805 526.090909 \nL 284.678033 490.416245 \nL 284.799876 526.090909 \nL 284.84049 485.15277 \nL 284.881105 259.408176 \nL 284.921719 472.286498 \nL 284.962333 445.969123 \nL 285.002948 487.492093 \nL 285.084176 526.090909 \nL 285.165405 461.174718 \nL 285.206019 259.408176 \nL 285.246633 490.416245 \nL 285.287248 434.272512 \nL 285.327862 488.076923 \nL 285.409091 526.090909 \nL 285.449705 504.452179 \nL 285.530934 504.452179 \nL 285.612162 467.023023 \nL 285.652777 486.322431 \nL 285.693391 526.090909 \nL 285.734005 486.907262 \nL 285.896462 415.557934 \nL 285.937077 526.090909 \nL 285.977691 323.739537 \nL 286.018305 526.090909 \nL 286.05892 526.090909 \nL 286.221377 462.344379 \nL 286.34322 526.090909 \nL 286.383834 492.170737 \nL 286.424448 31.909091 \nL 286.465063 431.93319 \nL 286.546291 388.070898 \nL 286.62752 526.090909 \nL 286.668134 488.076923 \nL 286.708749 448.308445 \nL 286.830592 526.090909 \nL 286.871206 526.090909 \nL 286.91182 441.875309 \nL 286.993049 477.549973 \nL 287.074277 406.200646 \nL 287.155506 505.62184 \nL 287.19612 192.737493 \nL 287.277349 422.575901 \nL 287.399192 526.090909 \nL 287.480421 458.835395 \nL 287.602263 526.090909 \nL 287.642878 474.04099 \nL 287.683492 526.090909 \nL 287.764721 526.090909 \nL 287.927178 445.969123 \nL 288.049021 526.090909 \nL 288.130249 441.875309 \nL 288.170864 526.090909 \nL 288.211478 486.907262 \nL 288.292707 526.090909 \nL 288.333321 202.094782 \nL 288.455164 526.090909 \nL 288.536393 439.535987 \nL 288.577007 526.090909 \nL 288.658236 491.585906 \nL 288.69885 526.090909 \nL 288.739464 445.969123 \nL 288.820693 446.553954 \nL 288.861307 437.196665 \nL 288.901921 395.088865 \nL 289.023764 526.090909 \nL 289.104993 378.713609 \nL 289.226836 410.294459 \nL 289.26745 526.090909 \nL 289.348679 447.723615 \nL 289.429907 526.090909 \nL 289.511136 349.472082 \nL 289.55175 526.090909 \nL 289.632979 454.156751 \nL 289.714208 499.773534 \nL 289.754822 439.535987 \nL 289.795436 526.090909 \nL 289.917279 526.090909 \nL 290.039122 405.615815 \nL 290.079736 526.090909 \nL 290.160965 456.496073 \nL 290.201579 385.731576 \nL 290.242194 480.474126 \nL 290.323422 526.090909 \nL 290.526494 376.374287 \nL 290.607722 495.67972 \nL 290.648337 429.593868 \nL 290.688951 385.146746 \nL 290.729565 430.763529 \nL 290.77018 434.857343 \nL 290.810794 526.090909 \nL 290.851408 447.723615 \nL 290.892023 450.647768 \nL 290.932637 526.090909 \nL 290.973251 419.066918 \nL 291.013865 407.370307 \nL 291.176323 526.090909 \nL 291.257551 419.066918 \nL 291.298166 430.763529 \nL 291.33878 526.090909 \nL 291.379394 285.140721 \nL 291.420009 440.120818 \nL 291.460623 526.090909 \nL 291.501237 424.915223 \nL 291.541851 464.683701 \nL 291.62308 526.090909 \nL 291.663694 412.633782 \nL 291.744923 438.366326 \nL 291.90738 526.090909 \nL 292.029223 442.46014 \nL 292.232295 526.090909 \nL 292.272909 526.090909 \nL 292.435366 427.254545 \nL 292.475981 476.380312 \nL 292.516595 381.052932 \nL 292.557209 502.697687 \nL 292.597824 483.398279 \nL 292.638438 498.603873 \nL 292.679052 326.66369 \nL 292.719666 526.090909 \nL 292.760281 430.763529 \nL 292.800895 526.090909 \nL 292.841509 343.038946 \nL 292.922738 430.763529 \nL 293.085195 526.090909 \nL 293.166424 526.090909 \nL 293.207038 506.20667 \nL 293.247652 526.090909 \nL 293.288267 209.697579 \nL 293.328881 526.090909 \nL 293.369495 526.090909 \nL 293.450724 365.262507 \nL 293.531953 406.785476 \nL 293.653796 479.304465 \nL 293.69441 467.607854 \nL 293.735024 526.090909 \nL 293.775639 457.665734 \nL 293.816253 498.603873 \nL 293.938096 526.090909 \nL 293.97871 526.090909 \nL 294.019324 450.062937 \nL 294.059939 488.661754 \nL 294.100553 526.090909 \nL 294.141167 412.048951 \nL 294.181782 483.398279 \nL 294.222396 526.090909 \nL 294.303625 506.20667 \nL 294.425467 386.316407 \nL 294.506696 475.210651 \nL 294.54731 448.308445 \nL 294.628539 401.522001 \nL 294.790996 526.090909 \nL 294.953453 354.150726 \nL 294.994068 526.090909 \nL 295.075296 423.160732 \nL 295.156525 526.090909 \nL 295.197139 507.961162 \nL 295.237754 472.871329 \nL 295.278368 526.090909 \nL 295.318982 526.090909 \nL 295.48144 431.348359 \nL 295.603282 526.090909 \nL 295.643897 526.090909 \nL 295.76574 334.851318 \nL 295.928197 526.090909 \nL 296.009426 526.090909 \nL 296.05004 473.456159 \nL 296.090654 155.893168 \nL 296.131268 473.456159 \nL 296.171883 473.456159 \nL 296.212497 503.867348 \nL 296.253111 367.601829 \nL 296.293726 510.885315 \nL 296.374954 526.090909 \nL 296.456183 442.46014 \nL 296.537412 526.090909 \nL 296.578026 476.380312 \nL 296.61864 471.116837 \nL 296.740483 405.615815 \nL 296.984169 526.090909 \nL 297.024783 442.46014 \nL 297.065398 482.228618 \nL 297.146626 526.090909 \nL 297.187241 460.005056 \nL 297.268469 508.545992 \nL 297.349698 526.090909 \nL 297.430926 426.084884 \nL 297.471541 502.112856 \nL 297.512155 526.090909 \nL 297.552769 372.865304 \nL 297.633998 441.290479 \nL 297.755841 526.090909 \nL 297.837069 402.691662 \nL 297.918298 526.090909 \nL 297.958912 486.907262 \nL 297.999527 526.090909 \nL 298.040141 481.643787 \nL 298.161984 356.490048 \nL 298.283827 526.090909 \nL 298.324441 514.394298 \nL 298.365056 526.090909 \nL 298.40567 427.254545 \nL 298.446284 496.264551 \nL 298.527513 474.62582 \nL 298.568127 526.090909 \nL 298.730584 398.013018 \nL 298.771199 398.013018 \nL 298.893042 526.090909 \nL 298.933656 373.450134 \nL 299.014884 454.741581 \nL 299.055499 371.110812 \nL 299.136727 375.789457 \nL 299.299185 526.090909 \nL 299.339799 428.424207 \nL 299.421028 443.04497 \nL 299.461642 448.893276 \nL 299.583485 526.090909 \nL 299.624099 526.090909 \nL 299.664713 357.074879 \nL 299.705328 526.090909 \nL 299.745942 506.791501 \nL 299.786556 300.346315 \nL 299.827171 526.090909 \nL 299.867785 358.829371 \nL 299.908399 450.062937 \nL 299.949014 278.122754 \nL 299.989628 491.001076 \nL 300.152085 526.090909 \nL 300.192699 526.090909 \nL 300.314542 439.535987 \nL 300.355157 526.090909 \nL 300.395771 422.575901 \nL 300.436385 427.839376 \nL 300.517614 526.090909 \nL 300.558228 429.593868 \nL 300.598843 471.116837 \nL 300.639457 526.090909 \nL 300.680071 269.935126 \nL 300.720685 526.090909 \nL 300.801914 454.741581 \nL 300.923757 526.090909 \nL 300.964371 415.557934 \nL 301.004986 526.090909 \nL 301.086214 526.090909 \nL 301.167443 179.871221 \nL 301.208057 500.943195 \nL 301.289286 398.597848 \nL 301.3299 526.090909 \nL 301.411129 483.983109 \nL 301.451743 380.468101 \nL 301.492357 526.090909 \nL 301.532972 424.915223 \nL 301.695429 526.090909 \nL 301.776658 343.623776 \nL 301.817272 419.651748 \nL 301.8985 526.090909 \nL 301.939115 487.492093 \nL 302.101572 346.547929 \nL 302.182801 526.090909 \nL 302.223415 449.478107 \nL 302.345258 236.599785 \nL 302.426486 526.090909 \nL 302.467101 396.843357 \nL 302.507715 481.058956 \nL 302.548329 477.549973 \nL 302.588944 395.088865 \nL 302.629558 504.452179 \nL 302.710787 526.090909 \nL 302.83263 403.276493 \nL 302.913858 493.340398 \nL 302.954472 481.643787 \nL 303.035701 493.340398 \nL 303.076315 407.955137 \nL 303.11693 493.340398 \nL 303.198158 461.174718 \nL 303.238773 459.420226 \nL 303.360616 481.058956 \nL 303.441844 434.272512 \nL 303.482459 438.951157 \nL 303.563687 466.438193 \nL 303.604301 439.535987 \nL 303.644916 460.005056 \nL 303.766759 526.090909 \nL 303.888602 526.090909 \nL 304.051059 379.883271 \nL 304.091673 437.196665 \nL 304.172902 526.090909 \nL 304.213516 407.955137 \nL 304.294745 409.709629 \nL 304.416588 483.398279 \nL 304.457202 469.947176 \nL 304.497816 404.446154 \nL 304.538431 460.005056 \nL 304.700888 526.090909 \nL 304.782116 386.316407 \nL 304.863345 441.875309 \nL 304.903959 496.264551 \nL 304.944574 437.196665 \nL 304.985188 461.174718 \nL 305.025802 488.661754 \nL 305.066417 436.611834 \nL 305.107031 526.090909 \nL 305.147645 487.492093 \nL 305.18826 526.090909 \nL 305.269488 526.090909 \nL 305.431945 414.388273 \nL 305.553788 526.090909 \nL 305.675631 393.334373 \nL 305.797474 526.090909 \nL 305.919317 392.164712 \nL 306.000546 395.673696 \nL 306.122389 526.090909 \nL 306.163003 417.312426 \nL 306.203617 490.416245 \nL 306.244232 526.090909 \nL 306.406689 277.537924 \nL 306.569146 526.090909 \nL 306.731603 410.87929 \nL 306.894061 526.090909 \nL 306.934675 402.106832 \nL 306.975289 413.218612 \nL 307.015903 526.090909 \nL 307.056518 448.893276 \nL 307.097132 374.619796 \nL 307.137746 386.316407 \nL 307.259589 502.697687 \nL 307.381432 457.665734 \nL 307.543889 457.665734 \nL 307.665732 526.090909 \nL 307.746961 526.090909 \nL 307.82819 417.312426 \nL 307.868804 446.553954 \nL 307.990647 526.090909 \nL 308.071876 420.821409 \nL 308.11249 459.420226 \nL 308.234333 459.420226 \nL 308.315561 461.759548 \nL 308.39679 459.420226 \nL 308.518633 461.759548 \nL 308.599862 461.759548 \nL 308.721704 526.090909 \nL 308.802933 526.090909 \nL 308.884162 459.420226 \nL 308.96539 526.090909 \nL 309.006005 499.773534 \nL 309.046619 331.342335 \nL 309.087233 475.210651 \nL 309.127848 512.054976 \nL 309.168462 382.807423 \nL 309.209076 526.090909 \nL 309.24969 458.250565 \nL 309.290305 441.290479 \nL 309.371533 526.090909 \nL 309.412148 347.71759 \nL 309.452762 526.090909 \nL 309.493376 526.090909 \nL 309.533991 417.897257 \nL 309.574605 526.090909 \nL 309.615219 526.090909 \nL 309.737062 413.218612 \nL 309.777677 466.438193 \nL 309.899519 526.090909 \nL 309.940134 526.090909 \nL 309.980748 447.723615 \nL 310.021362 526.090909 \nL 310.061977 526.090909 \nL 310.305663 312.042926 \nL 310.427505 526.090909 \nL 310.46812 526.090909 \nL 310.508734 367.601829 \nL 310.549348 526.090909 \nL 310.589963 526.090909 \nL 310.630577 452.402259 \nL 310.711806 498.603873 \nL 310.793034 526.090909 \nL 310.833649 426.084884 \nL 310.874263 526.090909 \nL 310.955491 526.090909 \nL 311.03672 451.817429 \nL 311.158563 526.090909 \nL 311.199177 481.643787 \nL 311.239792 526.090909 \nL 311.32102 526.090909 \nL 311.361635 425.500054 \nL 311.442863 468.777515 \nL 311.483478 448.893276 \nL 311.524092 481.058956 \nL 311.564706 483.398279 \nL 311.60532 346.547929 \nL 311.645935 467.607854 \nL 311.727163 526.090909 \nL 311.849006 388.070898 \nL 312.011464 526.090909 \nL 312.052078 446.553954 \nL 312.133306 477.549973 \nL 312.173921 526.090909 \nL 312.214535 482.228618 \nL 312.295764 404.446154 \nL 312.336378 469.947176 \nL 312.417607 526.090909 \nL 312.458221 420.821409 \nL 312.498835 526.090909 \nL 312.661292 526.090909 \nL 312.742521 433.102851 \nL 312.864364 526.090909 \nL 312.945593 526.090909 \nL 312.986207 421.99107 \nL 313.067436 458.835395 \nL 313.148664 433.687682 \nL 313.189279 526.090909 \nL 313.311121 526.090909 \nL 313.351736 390.995051 \nL 313.432964 464.09887 \nL 313.473579 495.09489 \nL 313.514193 364.677676 \nL 313.554807 526.090909 \nL 313.67665 259.408176 \nL 313.717265 526.090909 \nL 313.798493 499.188704 \nL 313.839107 376.959118 \nL 313.879722 444.214632 \nL 313.96095 526.090909 \nL 314.123408 425.500054 \nL 314.204636 414.973104 \nL 314.245251 526.090909 \nL 314.285865 526.090909 \nL 314.407708 421.40624 \nL 314.448322 491.001076 \nL 314.529551 469.947176 \nL 314.570165 465.853362 \nL 314.610779 526.090909 \nL 314.651394 424.915223 \nL 314.732622 526.090909 \nL 314.854465 382.807423 \nL 314.976308 526.090909 \nL 315.098151 442.46014 \nL 315.138765 486.907262 \nL 315.17938 481.058956 \nL 315.219994 437.781495 \nL 315.341837 526.090909 \nL 315.504294 386.901237 \nL 315.74798 526.090909 \nL 315.869823 433.102851 \nL 315.951052 526.090909 \nL 316.03228 350.641743 \nL 316.154123 526.090909 \nL 316.194737 526.090909 \nL 316.357195 412.633782 \nL 316.397809 526.090909 \nL 316.479038 496.264551 \nL 316.519652 499.188704 \nL 316.600881 526.090909 \nL 316.641495 440.705648 \nL 316.722723 441.290479 \nL 316.803952 492.755568 \nL 316.844566 329.587843 \nL 316.925795 421.99107 \nL 317.007024 416.142765 \nL 317.047638 526.090909 \nL 317.088252 385.146746 \nL 317.169481 465.853362 \nL 317.210095 436.611834 \nL 317.331938 526.090909 \nL 317.453781 526.090909 \nL 317.494395 492.755568 \nL 317.575624 499.773534 \nL 317.616238 281.046907 \nL 317.656853 526.090909 \nL 317.778696 431.93319 \nL 317.81931 526.090909 \nL 317.859924 451.817429 \nL 317.941153 451.817429 \nL 317.981767 487.492093 \nL 318.022381 374.619796 \nL 318.062996 526.090909 \nL 318.184839 483.398279 \nL 318.306682 526.090909 \nL 318.428524 423.745562 \nL 318.469139 438.951157 \nL 318.590982 526.090909 \nL 318.631596 526.090909 \nL 318.712825 431.348359 \nL 318.753439 485.737601 \nL 318.794053 499.773534 \nL 318.834668 432.51802 \nL 318.875282 526.090909 \nL 318.915896 460.005056 \nL 318.95651 526.090909 \nL 318.997125 458.835395 \nL 319.078353 502.697687 \nL 319.118968 314.382249 \nL 319.159582 459.420226 \nL 319.200196 454.741581 \nL 319.240811 392.749543 \nL 319.281425 411.46412 \nL 319.362654 507.376331 \nL 319.443882 314.382249 \nL 319.484497 426.669715 \nL 319.525111 526.090909 \nL 319.606339 472.871329 \nL 319.89064 472.871329 \nL 319.931254 474.62582 \nL 319.971868 472.871329 \nL 320.499854 472.871329 \nL 320.540469 526.090909 \nL 320.662311 259.993007 \nL 320.702926 293.913179 \nL 320.824769 472.871329 \nL 321.190298 472.871329 \nL 321.230912 492.755568 \nL 321.271526 472.871329 \nL 321.474598 472.871329 \nL 321.515212 435.442173 \nL 321.555826 472.871329 \nL 321.840126 472.871329 \nL 321.961969 526.090909 \nL 322.002584 526.090909 \nL 322.124427 400.35234 \nL 322.165041 417.897257 \nL 322.24627 491.585906 \nL 322.286884 474.04099 \nL 322.368112 526.090909 \nL 322.408727 367.016998 \nL 322.489955 451.232598 \nL 322.652413 526.090909 \nL 322.693027 526.090909 \nL 322.733641 448.308445 \nL 322.774256 472.871329 \nL 322.81487 526.090909 \nL 322.855484 468.192684 \nL 322.896099 463.51404 \nL 322.977327 494.510059 \nL 323.017941 429.593868 \nL 323.058556 479.889295 \nL 323.139784 526.090909 \nL 323.180399 472.286498 \nL 323.221013 509.130823 \nL 323.261627 526.090909 \nL 323.302242 444.214632 \nL 323.342856 482.813448 \nL 323.38347 526.090909 \nL 323.505313 363.508015 \nL 323.545927 402.691662 \nL 323.586542 412.633782 \nL 323.627156 526.090909 \nL 323.66777 394.504034 \nL 323.748999 488.661754 \nL 323.789613 419.066918 \nL 323.830228 427.839376 \nL 323.911456 526.090909 \nL 323.952071 475.210651 \nL 323.992685 498.603873 \nL 324.073914 526.090909 \nL 324.114528 399.767509 \nL 324.195756 505.62184 \nL 324.236371 384.561915 \nL 324.317599 409.124798 \nL 324.398828 497.434212 \nL 324.439442 435.442173 \nL 324.642514 526.090909 \nL 324.764357 461.759548 \nL 324.804971 526.090909 \nL 324.845585 410.294459 \nL 324.8862 476.380312 \nL 324.926814 526.090909 \nL 324.967428 415.557934 \nL 325.048657 456.496073 \nL 325.089271 416.727595 \nL 325.129886 490.416245 \nL 325.1705 487.492093 \nL 325.211114 389.240559 \nL 325.251728 477.549973 \nL 325.332957 526.090909 \nL 325.414186 298.591824 \nL 325.536029 526.090909 \nL 325.576643 447.723615 \nL 325.617257 464.683701 \nL 325.657872 526.090909 \nL 325.698486 426.084884 \nL 325.7391 296.252501 \nL 325.779715 310.288435 \nL 325.860943 526.090909 \nL 325.901557 436.611834 \nL 325.942172 455.326412 \nL 325.982786 305.02496 \nL 326.0234 491.001076 \nL 326.064015 526.090909 \nL 326.104629 365.262507 \nL 326.145243 476.380312 \nL 326.185858 496.264551 \nL 326.267086 386.316407 \nL 326.307701 526.090909 \nL 326.348315 302.685637 \nL 326.388929 513.224637 \nL 326.470158 526.090909 \nL 326.592001 376.959118 \nL 326.632615 386.901237 \nL 326.754458 526.090909 \nL 326.795072 526.090909 \nL 326.876301 455.326412 \nL 326.916915 526.090909 \nL 326.957529 310.873265 \nL 326.998144 444.214632 \nL 327.038758 495.09489 \nL 327.079372 360.583862 \nL 327.119987 431.348359 \nL 327.24183 526.090909 \nL 327.363673 244.787413 \nL 327.444901 479.304465 \nL 327.485516 465.853362 \nL 327.566744 274.613771 \nL 327.688587 526.090909 \nL 327.729201 433.102851 \nL 327.81043 472.871329 \nL 327.891659 526.090909 \nL 327.972887 389.82539 \nL 328.013502 400.937171 \nL 328.135344 526.090909 \nL 328.257187 295.08284 \nL 328.338416 526.090909 \nL 328.37903 466.438193 \nL 328.500873 526.090909 \nL 328.66333 458.250565 \nL 328.744559 526.090909 \nL 328.825788 457.665734 \nL 328.866402 526.090909 \nL 328.907016 485.737601 \nL 328.947631 357.65971 \nL 328.988245 526.090909 \nL 329.028859 460.589887 \nL 329.110088 501.528026 \nL 329.150702 526.090909 \nL 329.272545 322.569876 \nL 329.353774 526.090909 \nL 329.435002 501.528026 \nL 329.475617 187.474018 \nL 329.516231 452.402259 \nL 329.556845 526.090909 \nL 329.59746 503.867348 \nL 329.638074 307.949112 \nL 329.678688 414.973104 \nL 329.759917 526.090909 \nL 329.841145 495.09489 \nL 329.88176 489.246584 \nL 329.962988 526.090909 \nL 330.003603 455.911243 \nL 330.084831 496.264551 \nL 330.125446 490.416245 \nL 330.16606 526.090909 \nL 330.206674 412.048951 \nL 330.247289 426.084884 \nL 330.287903 526.090909 \nL 330.328517 378.713609 \nL 330.369131 381.052932 \nL 330.490974 526.090909 \nL 330.531589 468.192684 \nL 330.572203 454.741581 \nL 330.612817 338.945132 \nL 330.653432 526.090909 \nL 330.73466 359.414201 \nL 330.856503 413.218612 \nL 330.978346 526.090909 \nL 331.01896 419.066918 \nL 331.059575 419.651748 \nL 331.181418 526.090909 \nL 331.343875 248.881226 \nL 331.384489 417.897257 \nL 331.506332 526.090909 \nL 331.628175 526.090909 \nL 331.831247 377.543948 \nL 331.993704 526.090909 \nL 332.074933 526.090909 \nL 332.115547 397.428187 \nL 332.196775 482.813448 \nL 332.23739 526.090909 \nL 332.278004 457.665734 \nL 332.318618 421.40624 \nL 332.359233 526.090909 \nL 332.399847 506.791501 \nL 332.440461 400.35234 \nL 332.481076 526.090909 \nL 332.52169 418.482087 \nL 332.724761 526.090909 \nL 332.846604 385.731576 \nL 333.009062 526.090909 \nL 333.049676 279.877246 \nL 333.09029 451.817429 \nL 333.212133 526.090909 \nL 333.37459 526.090909 \nL 333.415205 432.51802 \nL 333.455819 526.090909 \nL 333.496433 526.090909 \nL 333.537048 305.60979 \nL 333.577662 526.090909 \nL 333.618276 526.090909 \nL 333.658891 440.705648 \nL 333.699505 484.56794 \nL 333.821348 526.090909 \nL 333.861962 365.262507 \nL 333.902576 526.090909 \nL 333.943191 526.090909 \nL 333.983805 474.62582 \nL 334.024419 83.95901 \nL 334.065034 526.090909 \nL 334.105648 526.090909 \nL 334.146262 499.188704 \nL 334.186877 526.090909 \nL 334.268105 526.090909 \nL 334.389948 405.030984 \nL 334.511791 526.090909 \nL 334.552405 526.090909 \nL 334.633634 410.87929 \nL 334.674248 526.090909 \nL 334.714863 347.13276 \nL 334.836706 526.090909 \nL 334.917934 389.240559 \nL 334.999163 526.090909 \nL 335.039777 484.56794 \nL 335.080391 362.338354 \nL 335.16162 443.629801 \nL 335.242849 526.090909 \nL 335.283463 500.943195 \nL 335.324077 500.943195 \nL 335.364692 219.639699 \nL 335.405306 526.090909 \nL 335.486535 312.042926 \nL 335.608377 526.090909 \nL 335.73022 390.995051 \nL 335.770835 512.054976 \nL 335.852063 448.893276 \nL 335.892678 359.414201 \nL 335.973906 526.090909 \nL 336.014521 431.348359 \nL 336.055135 359.414201 \nL 336.136363 362.923185 \nL 336.258206 526.090909 \nL 336.420664 430.763529 \nL 336.461278 380.468101 \nL 336.501892 526.090909 \nL 336.542507 306.779451 \nL 336.583121 447.138784 \nL 336.623735 526.090909 \nL 336.664349 445.969123 \nL 336.867421 526.090909 \nL 336.908035 398.013018 \nL 336.989264 492.170737 \nL 337.029878 526.090909 \nL 337.192336 323.739537 \nL 337.314178 526.090909 \nL 337.354793 526.090909 \nL 337.395407 487.492093 \nL 337.436021 526.090909 \nL 337.476636 526.090909 \nL 337.51725 454.156751 \nL 337.557864 526.090909 \nL 337.679707 526.090909 \nL 337.720322 352.981065 \nL 337.80155 409.124798 \nL 337.842164 500.943195 \nL 337.882779 394.504034 \nL 337.923393 467.607854 \nL 338.004622 526.090909 \nL 338.08585 373.450134 \nL 338.126465 397.428187 \nL 338.207693 526.090909 \nL 338.248308 507.961162 \nL 338.288922 526.090909 \nL 338.329536 435.442173 \nL 338.37015 473.456159 \nL 338.410765 526.090909 \nL 338.451379 162.326304 \nL 338.491993 444.799462 \nL 338.573222 526.090909 \nL 338.613836 518.488112 \nL 338.654451 471.116837 \nL 338.695065 520.827434 \nL 338.735679 493.340398 \nL 338.816908 441.875309 \nL 338.898137 526.090909 \nL 339.019979 347.13276 \nL 339.141822 449.478107 \nL 339.182437 395.673696 \nL 339.223051 485.15277 \nL 339.263665 526.090909 \nL 339.344894 449.478107 \nL 339.385508 526.090909 \nL 339.426123 493.925229 \nL 339.507351 498.603873 \nL 339.547965 338.945132 \nL 339.629194 526.090909 \nL 339.669808 420.821409 \nL 339.710423 338.945132 \nL 339.751037 526.090909 \nL 339.832266 458.835395 \nL 339.913494 319.645724 \nL 339.954109 376.959118 \nL 340.035337 526.090909 \nL 340.075951 450.062937 \nL 340.116566 417.897257 \nL 340.15718 454.156751 \nL 340.238409 526.090909 \nL 340.279023 441.875309 \nL 340.360252 482.228618 \nL 340.400866 526.090909 \nL 340.44148 458.250565 \nL 340.522709 407.370307 \nL 340.563323 464.09887 \nL 340.603938 365.262507 \nL 340.644552 526.090909 \nL 340.72578 526.090909 \nL 340.766395 352.981065 \nL 340.807009 472.871329 \nL 340.847623 526.090909 \nL 340.888238 446.553954 \nL 340.928852 451.232598 \nL 341.050695 526.090909 \nL 341.091309 185.134696 \nL 341.172538 430.178698 \nL 341.213152 440.120818 \nL 341.253766 526.090909 \nL 341.294381 372.865304 \nL 341.375609 448.893276 \nL 341.497452 526.090909 \nL 341.538067 517.318451 \nL 341.578681 526.090909 \nL 341.619295 344.793437 \nL 341.700524 404.446154 \nL 341.822367 526.090909 \nL 341.903595 495.09489 \nL 341.94421 526.090909 \nL 342.106667 211.452071 \nL 342.269124 489.831415 \nL 342.309739 368.186659 \nL 342.350353 420.821409 \nL 342.472196 493.925229 \nL 342.51281 434.857343 \nL 342.594039 459.420226 \nL 342.634653 451.232598 \nL 342.675267 526.090909 \nL 342.715882 478.134804 \nL 342.756496 454.156751 \nL 342.79711 526.090909 \nL 342.837725 478.719634 \nL 342.878339 464.683701 \nL 342.918953 486.907262 \nL 342.959567 467.607854 \nL 343.000182 298.006993 \nL 343.040796 347.13276 \nL 343.162639 526.090909 \nL 343.243868 307.364282 \nL 343.284482 526.090909 \nL 343.325096 282.216568 \nL 343.365711 200.925121 \nL 343.406325 325.494029 \nL 343.609396 526.090909 \nL 343.650011 493.925229 \nL 343.690625 355.320387 \nL 343.731239 439.535987 \nL 343.771854 526.090909 \nL 343.812468 513.809467 \nL 343.893697 421.99107 \nL 343.934311 526.090909 \nL 344.01554 470.532006 \nL 344.056154 380.468101 \nL 344.096768 457.080904 \nL 344.218611 515.563959 \nL 344.29984 427.254545 \nL 344.421683 526.090909 \nL 344.502911 362.923185 \nL 344.543526 421.99107 \nL 344.705983 492.755568 \nL 344.787211 456.496073 \nL 344.827826 482.813448 \nL 344.86844 416.727595 \nL 344.909054 455.326412 \nL 345.15274 526.090909 \nL 345.193355 367.601829 \nL 345.274583 479.304465 \nL 345.315197 485.737601 \nL 345.43704 526.090909 \nL 345.599498 526.090909 \nL 345.640112 397.428187 \nL 345.721341 486.907262 \nL 345.761955 526.090909 \nL 345.802569 474.04099 \nL 345.843183 438.366326 \nL 345.924412 526.090909 \nL 345.965026 476.965143 \nL 346.005641 526.090909 \nL 346.046255 295.667671 \nL 346.086869 330.172673 \nL 346.208712 526.090909 \nL 346.249327 392.164712 \nL 346.330555 444.214632 \nL 346.411784 526.090909 \nL 346.452398 435.442173 \nL 346.493012 526.090909 \nL 346.533627 526.090909 \nL 346.614855 447.138784 \nL 346.65547 526.090909 \nL 346.696084 428.424207 \nL 346.736698 503.867348 \nL 346.817927 482.228618 \nL 346.858541 526.090909 \nL 346.899156 458.835395 \nL 346.93977 432.51802 \nL 346.980384 450.062937 \nL 347.020998 526.090909 \nL 347.061613 426.669715 \nL 347.102227 486.907262 \nL 347.142841 492.170737 \nL 347.264684 526.090909 \nL 347.345913 526.090909 \nL 347.386527 387.486068 \nL 347.467756 408.539968 \nL 347.589599 526.090909 \nL 347.630213 367.601829 \nL 347.711442 454.156751 \nL 347.752056 466.438193 \nL 347.79267 421.40624 \nL 347.833285 472.286498 \nL 347.955128 526.090909 \nL 347.995742 508.545992 \nL 348.036356 526.090909 \nL 348.07697 419.066918 \nL 348.158199 447.138784 \nL 348.320656 526.090909 \nL 348.361271 376.374287 \nL 348.442499 474.62582 \nL 348.523728 526.090909 \nL 348.564342 407.370307 \nL 348.645571 450.062937 \nL 348.726799 418.482087 \nL 348.767414 526.090909 \nL 348.808028 477.549973 \nL 348.848642 526.090909 \nL 348.889257 526.090909 \nL 349.0111 425.500054 \nL 349.051714 526.090909 \nL 349.092328 341.869285 \nL 349.132943 497.434212 \nL 349.173557 526.090909 \nL 349.214171 464.09887 \nL 349.254785 526.090909 \nL 349.2954 526.090909 \nL 349.336014 438.951157 \nL 349.376628 526.090909 \nL 349.417243 526.090909 \nL 349.539086 343.038946 \nL 349.5797 526.090909 \nL 349.660929 477.549973 \nL 349.782771 290.989026 \nL 349.904614 526.090909 \nL 349.945229 526.090909 \nL 350.107686 378.713609 \nL 350.229529 526.090909 \nL 350.270143 526.090909 \nL 350.4326 305.60979 \nL 350.473215 327.833351 \nL 350.635672 485.15277 \nL 350.757515 429.593868 \nL 350.960586 429.593868 \nL 351.001201 526.090909 \nL 351.041815 429.593868 \nL 351.123044 429.593868 \nL 351.244887 473.456159 \nL 351.285501 420.236579 \nL 351.36673 429.593868 \nL 351.407344 429.593868 \nL 351.488573 404.446154 \nL 351.569801 526.090909 \nL 351.610415 446.553954 \nL 351.65103 526.090909 \nL 351.732258 526.090909 \nL 351.813487 432.51802 \nL 351.93533 526.090909 \nL 352.138401 324.909198 \nL 352.179016 526.090909 \nL 352.260244 504.452179 \nL 352.341473 526.090909 \nL 352.382087 397.428187 \nL 352.422702 490.416245 \nL 352.544545 526.090909 \nL 352.625773 417.312426 \nL 352.666387 526.090909 \nL 352.707002 449.478107 \nL 352.747616 443.04497 \nL 352.869459 526.090909 \nL 352.950688 526.090909 \nL 353.031916 426.084884 \nL 353.072531 434.272512 \nL 353.153759 526.090909 \nL 353.194374 481.058956 \nL 353.234988 474.62582 \nL 353.316216 526.090909 \nL 353.356831 458.835395 \nL 353.397445 502.112856 \nL 353.438059 526.090909 \nL 353.559902 444.799462 \nL 353.681745 526.090909 \nL 353.803588 526.090909 \nL 353.844202 504.452179 \nL 353.884817 516.73362 \nL 353.925431 526.090909 \nL 353.966045 398.013018 \nL 354.00666 517.318451 \nL 354.128503 526.090909 \nL 354.209731 526.090909 \nL 354.331574 451.817429 \nL 354.412803 526.090909 \nL 354.453417 432.51802 \nL 354.534646 484.56794 \nL 354.656489 270.519957 \nL 354.818946 526.090909 \nL 354.981403 384.561915 \nL 355.14386 526.090909 \nL 355.184475 318.476062 \nL 355.265703 371.110812 \nL 355.387546 526.090909 \nL 355.468775 386.901237 \nL 355.509389 455.911243 \nL 355.550003 461.759548 \nL 355.590618 484.56794 \nL 355.631232 344.208607 \nL 355.671846 526.090909 \nL 355.753075 526.090909 \nL 355.793689 404.446154 \nL 355.874918 488.661754 \nL 355.956147 526.090909 \nL 356.077989 452.402259 \nL 356.118604 505.037009 \nL 356.159218 503.282517 \nL 356.199832 438.951157 \nL 356.240447 526.090909 \nL 356.321675 461.174718 \nL 356.402904 462.344379 \nL 356.443518 526.090909 \nL 356.484133 483.983109 \nL 356.524747 468.192684 \nL 356.565361 508.545992 \nL 356.605976 473.456159 \nL 356.64659 471.116837 \nL 356.727818 421.40624 \nL 356.809047 526.090909 \nL 356.849661 458.250565 \nL 356.890276 464.09887 \nL 356.93089 512.054976 \nL 357.012119 329.003012 \nL 357.052733 526.090909 \nL 357.093347 313.212587 \nL 357.133962 405.030984 \nL 357.174576 303.855299 \nL 357.296419 526.090909 \nL 357.418262 431.348359 \nL 357.540105 526.090909 \nL 357.580719 412.633782 \nL 357.621333 422.575901 \nL 357.661948 506.791501 \nL 357.702562 414.388273 \nL 357.743176 432.51802 \nL 357.78379 360.583862 \nL 357.824405 452.98709 \nL 357.865019 526.090909 \nL 357.946248 491.585906 \nL 358.068091 386.316407 \nL 358.149319 526.090909 \nL 358.189934 386.316407 \nL 358.230548 526.090909 \nL 358.352391 526.090909 \nL 358.393005 474.04099 \nL 358.433619 493.340398 \nL 358.474234 526.090909 \nL 358.596077 439.535987 \nL 358.71792 526.090909 \nL 358.758534 469.362345 \nL 358.839763 472.871329 \nL 358.920991 452.98709 \nL 358.961605 526.090909 \nL 359.00222 526.090909 \nL 359.042834 378.128779 \nL 359.124063 458.250565 \nL 359.205291 526.090909 \nL 359.245906 397.428187 \nL 359.28652 526.090909 \nL 359.327134 526.090909 \nL 359.448977 469.947176 \nL 359.489592 478.719634 \nL 359.530206 422.575901 \nL 359.611434 526.090909 \nL 359.652049 509.715654 \nL 359.733277 526.090909 \nL 359.814506 416.142765 \nL 359.85512 456.496073 \nL 359.895735 526.090909 \nL 359.936349 427.839376 \nL 359.976963 496.849381 \nL 360.098806 526.090909 \nL 360.13942 190.398171 \nL 360.180035 445.384293 \nL 360.301878 526.090909 \nL 360.342492 526.090909 \nL 360.383106 444.799462 \nL 360.423721 526.090909 \nL 360.464335 526.090909 \nL 360.504949 521.997095 \nL 360.545564 526.090909 \nL 360.586178 526.090909 \nL 360.667406 340.699623 \nL 360.748635 526.090909 \nL 360.789249 386.316407 \nL 360.870478 409.709629 \nL 360.951707 526.090909 \nL 360.992321 431.93319 \nL 361.07355 448.893276 \nL 361.114164 526.090909 \nL 361.154778 447.723615 \nL 361.195393 442.46014 \nL 361.317235 526.090909 \nL 361.35785 526.090909 \nL 361.398464 511.470145 \nL 361.439078 526.090909 \nL 361.479693 426.084884 \nL 361.520307 526.090909 \nL 361.64215 475.210651 \nL 361.763993 526.090909 \nL 361.804607 410.87929 \nL 361.845221 526.090909 \nL 361.92645 526.090909 \nL 361.967064 324.909198 \nL 362.048293 437.781495 \nL 362.088907 425.500054 \nL 362.170136 400.937171 \nL 362.21075 526.090909 \nL 362.251365 469.947176 \nL 362.291979 526.090909 \nL 362.332593 526.090909 \nL 362.373207 483.398279 \nL 362.413822 504.452179 \nL 362.454436 526.090909 \nL 362.49505 512.054976 \nL 362.616893 398.013018 \nL 362.698122 526.090909 \nL 362.738736 428.424207 \nL 362.779351 393.919204 \nL 362.901194 513.809467 \nL 362.941808 526.090909 \nL 362.982422 480.474126 \nL 363.023036 526.090909 \nL 363.063651 526.090909 \nL 363.185494 437.781495 \nL 363.266722 381.637762 \nL 363.307337 526.090909 \nL 363.347951 519.657773 \nL 363.42918 389.82539 \nL 363.510408 526.090909 \nL 363.551022 505.037009 \nL 363.591637 444.799462 \nL 363.632251 462.929209 \nL 363.754094 526.090909 \nL 363.875937 434.272512 \nL 363.916551 459.420226 \nL 363.957166 526.090909 \nL 363.99778 438.951157 \nL 364.038394 393.334373 \nL 364.079008 436.027004 \nL 364.119623 526.090909 \nL 364.160237 504.452179 \nL 364.200851 303.270468 \nL 364.241466 526.090909 \nL 364.322694 526.090909 \nL 364.403923 381.052932 \nL 364.525766 526.090909 \nL 364.56638 526.090909 \nL 364.606995 484.56794 \nL 364.647609 526.090909 \nL 364.688223 526.090909 \nL 364.810066 441.290479 \nL 364.891295 469.947176 \nL 364.931909 474.04099 \nL 365.094366 526.090909 \nL 365.175595 384.561915 \nL 365.216209 476.965143 \nL 365.338052 493.340398 \nL 365.378666 472.871329 \nL 365.419281 492.755568 \nL 365.500509 491.001076 \nL 365.541124 526.090909 \nL 365.662967 268.765465 \nL 365.744195 526.090909 \nL 365.784809 355.320387 \nL 365.866038 526.090909 \nL 365.906652 493.340398 \nL 365.947267 359.414201 \nL 365.987881 462.929209 \nL 366.06911 526.090909 \nL 366.109724 425.500054 \nL 366.150338 526.090909 \nL 366.190953 526.090909 \nL 366.231567 280.462076 \nL 366.272181 526.090909 \nL 366.312796 526.090909 \nL 366.434638 434.857343 \nL 366.515867 417.897257 \nL 366.556481 526.090909 \nL 366.63771 526.090909 \nL 366.759553 358.829371 \nL 366.800167 526.090909 \nL 366.881396 495.67972 \nL 366.92201 496.264551 \nL 367.003239 526.090909 \nL 367.043853 428.424207 \nL 367.084467 526.090909 \nL 367.165696 526.090909 \nL 367.246925 461.174718 \nL 367.287539 526.090909 \nL 367.328153 451.232598 \nL 367.368768 485.15277 \nL 367.409382 439.535987 \nL 367.449996 472.871329 \nL 367.49061 475.795481 \nL 367.531225 492.170737 \nL 367.571839 436.611834 \nL 367.612453 526.090909 \nL 367.653068 526.090909 \nL 367.815525 381.052932 \nL 367.937368 526.090909 \nL 368.059211 526.090909 \nL 368.099825 437.196665 \nL 368.181054 484.56794 \nL 368.262282 526.090909 \nL 368.302897 515.563959 \nL 368.343511 450.647768 \nL 368.384125 526.090909 \nL 368.465354 460.589887 \nL 368.505968 526.090909 \nL 368.546583 490.416245 \nL 368.70904 423.745562 \nL 368.749654 526.090909 \nL 368.830883 452.402259 \nL 368.871497 526.090909 \nL 368.912111 419.651748 \nL 369.074569 526.090909 \nL 369.237026 418.482087 \nL 369.27764 512.639806 \nL 369.358869 455.911243 \nL 369.399483 526.090909 \nL 369.440097 495.67972 \nL 369.521326 509.130823 \nL 369.56194 455.326412 \nL 369.602555 283.386229 \nL 369.643169 468.777515 \nL 369.683783 351.811404 \nL 369.805626 526.090909 \nL 369.968083 426.084884 \nL 370.049312 474.04099 \nL 370.089926 349.472082 \nL 370.130541 483.983109 \nL 370.171155 484.56794 \nL 370.252384 526.090909 \nL 370.414841 407.370307 \nL 370.455455 526.090909 \nL 370.496069 461.174718 \nL 370.536684 406.200646 \nL 370.577298 454.741581 \nL 370.658527 526.090909 \nL 370.699141 491.585906 \nL 370.739755 495.67972 \nL 370.820984 526.090909 \nL 370.942827 392.749543 \nL 371.06467 526.090909 \nL 371.105284 487.492093 \nL 371.145898 492.170737 \nL 371.186513 526.090909 \nL 371.227127 430.763529 \nL 371.308356 471.116837 \nL 371.430199 424.330393 \nL 371.470813 526.090909 \nL 371.511427 439.535987 \nL 371.552041 399.767509 \nL 371.673884 526.090909 \nL 371.876956 382.807423 \nL 371.998799 526.090909 \nL 372.039413 526.090909 \nL 372.080027 491.001076 \nL 372.120642 526.090909 \nL 372.161256 518.488112 \nL 372.283099 449.478107 \nL 372.323713 465.268531 \nL 372.364328 449.478107 \nL 372.445556 449.478107 \nL 372.486171 526.090909 \nL 372.526785 449.478107 \nL 372.892314 449.478107 \nL 373.014157 456.496073 \nL 373.136 449.478107 \nL 373.623371 449.478107 \nL 373.663986 454.741581 \nL 373.7046 449.478107 \nL 374.029514 449.478107 \nL 374.151357 526.090909 \nL 374.191972 526.090909 \nL 374.2732 461.174718 \nL 374.313815 491.585906 \nL 374.435657 526.090909 \nL 374.476272 526.090909 \nL 374.5575 414.388273 \nL 374.598115 503.282517 \nL 374.679343 503.867348 \nL 374.760572 343.623776 \nL 374.841801 526.090909 \nL 374.882415 437.196665 \nL 374.923029 431.348359 \nL 375.004258 526.090909 \nL 375.044872 461.174718 \nL 375.085486 452.402259 \nL 375.166715 441.290479 \nL 375.207329 526.090909 \nL 375.369787 427.839376 \nL 375.491629 526.090909 \nL 375.613472 378.128779 \nL 375.694701 526.090909 \nL 375.735315 437.196665 \nL 375.77593 382.222593 \nL 375.857158 526.090909 \nL 375.897773 438.951157 \nL 375.938387 507.961162 \nL 375.979001 399.767509 \nL 376.06023 526.090909 \nL 376.141458 470.532006 \nL 376.222687 437.196665 \nL 376.263301 526.090909 \nL 376.303916 241.278429 \nL 376.34453 513.809467 \nL 376.425759 493.340398 \nL 376.466373 526.090909 \nL 376.506987 470.532006 \nL 376.547602 519.072942 \nL 376.588216 463.51404 \nL 376.669444 473.456159 \nL 376.710059 505.037009 \nL 376.750673 296.252501 \nL 376.791287 526.090909 \nL 376.831902 347.13276 \nL 376.91313 526.090909 \nL 376.994359 512.639806 \nL 377.034973 363.508015 \nL 377.075588 508.545992 \nL 377.116202 508.545992 \nL 377.156816 468.777515 \nL 377.19743 498.603873 \nL 377.238045 526.090909 \nL 377.278659 434.272512 \nL 377.319273 526.090909 \nL 377.400502 526.090909 \nL 377.522345 484.56794 \nL 377.603574 526.090909 \nL 377.644188 496.264551 \nL 377.684802 496.264551 \nL 377.806645 399.767509 \nL 377.887874 526.090909 \nL 377.928488 499.188704 \nL 377.969102 430.763529 \nL 378.009717 526.090909 \nL 378.050331 462.344379 \nL 378.172174 526.090909 \nL 378.212788 401.522001 \nL 378.253403 526.090909 \nL 378.537703 526.090909 \nL 378.578317 407.370307 \nL 378.618931 444.214632 \nL 378.659546 526.090909 \nL 378.740774 470.532006 \nL 378.781389 459.420226 \nL 378.822003 526.090909 \nL 378.862617 435.442173 \nL 378.943846 526.090909 \nL 378.98446 474.62582 \nL 379.187532 429.593868 \nL 379.228146 430.178698 \nL 379.309375 430.178698 \nL 379.349989 429.593868 \nL 379.390603 430.178698 \nL 379.431218 501.528026 \nL 379.471832 430.763529 \nL 379.593675 429.593868 \nL 379.634289 498.019042 \nL 379.674903 402.691662 \nL 379.715518 485.737601 \nL 379.837361 298.591824 \nL 379.877975 526.090909 \nL 379.959204 472.871329 \nL 379.999818 409.124798 \nL 380.040432 485.15277 \nL 380.121661 477.549973 \nL 380.162275 526.090909 \nL 380.202889 362.923185 \nL 380.284118 475.210651 \nL 380.324732 438.366326 \nL 380.446575 526.090909 \nL 380.527804 461.759548 \nL 380.649647 526.090909 \nL 380.690261 505.62184 \nL 380.730875 237.769446 \nL 380.77149 526.090909 \nL 380.812104 398.597848 \nL 380.852718 526.090909 \nL 380.893333 491.585906 \nL 380.933947 420.236579 \nL 380.974561 526.090909 \nL 381.05579 526.090909 \nL 381.096404 433.687682 \nL 381.177633 462.929209 \nL 381.218247 441.290479 \nL 381.34009 526.090909 \nL 381.380704 454.156751 \nL 381.461933 468.192684 \nL 381.543162 523.751587 \nL 381.62439 359.999032 \nL 381.746233 526.090909 \nL 381.949305 526.090909 \nL 381.989919 492.755568 \nL 382.030533 526.090909 \nL 382.071148 526.090909 \nL 382.111762 467.607854 \nL 382.152376 526.090909 \nL 382.274219 526.090909 \nL 382.639748 407.370307 \nL 382.680362 526.090909 \nL 382.720977 496.264551 \nL 382.761591 427.254545 \nL 382.802205 440.705648 \nL 382.883434 493.925229 \nL 383.045891 382.222593 \nL 383.167734 474.62582 \nL 383.208348 439.535987 \nL 383.248963 457.665734 \nL 383.289577 211.452071 \nL 383.330191 526.090909 \nL 383.452034 419.066918 \nL 383.533263 447.138784 \nL 383.655106 526.090909 \nL 383.69572 526.090909 \nL 383.736334 469.947176 \nL 383.817563 496.849381 \nL 383.939406 526.090909 \nL 384.061249 385.146746 \nL 384.101863 526.090909 \nL 384.142477 468.777515 \nL 384.183092 377.543948 \nL 384.223706 484.56794 \nL 384.26432 526.090909 \nL 384.304935 476.965143 \nL 384.345549 469.362345 \nL 384.386163 486.907262 \nL 384.426778 382.222593 \nL 384.467392 492.755568 \nL 384.589235 378.128779 \nL 384.629849 453.57192 \nL 384.751692 526.090909 \nL 384.832921 366.432168 \nL 384.873535 481.058956 \nL 384.995378 526.090909 \nL 385.035992 364.677676 \nL 385.076607 483.983109 \nL 385.239064 526.090909 \nL 385.360907 526.090909 \nL 385.401521 459.420226 \nL 385.48275 462.929209 \nL 385.523364 498.603873 \nL 385.604593 472.871329 \nL 385.645207 433.102851 \nL 385.685821 472.871329 \nL 385.76705 526.090909 \nL 385.807664 514.394298 \nL 385.929507 430.763529 \nL 386.091964 526.090909 \nL 386.132579 451.817429 \nL 386.173193 526.090909 \nL 386.213807 526.090909 \nL 386.254422 402.106832 \nL 386.33565 462.929209 \nL 386.376264 526.090909 \nL 386.416879 420.236579 \nL 386.457493 514.394298 \nL 386.498107 526.090909 \nL 386.538722 364.092846 \nL 386.61995 401.522001 \nL 386.660565 507.961162 \nL 386.701179 476.965143 \nL 386.782408 507.376331 \nL 386.823022 268.180635 \nL 386.863636 526.090909 \nL 386.944865 407.370307 \nL 387.066708 526.090909 \nL 387.147936 334.266487 \nL 387.188551 526.090909 \nL 387.229165 331.342335 \nL 387.269779 498.603873 \nL 387.310394 416.142765 \nL 387.351008 526.090909 \nL 387.391622 460.005056 \nL 387.432237 455.911243 \nL 387.472851 414.973104 \nL 387.594694 526.090909 \nL 387.635308 526.090909 \nL 387.716537 406.200646 \nL 387.797765 526.090909 \nL 387.83838 440.705648 \nL 387.878994 414.388273 \nL 387.960223 352.396235 \nL 388.000837 526.090909 \nL 388.041451 401.522001 \nL 388.082065 526.090909 \nL 388.12268 526.090909 \nL 388.244523 428.424207 \nL 388.40698 526.090909 \nL 388.447594 426.084884 \nL 388.528823 476.380312 \nL 388.610052 526.090909 \nL 388.69128 352.396235 \nL 388.772509 526.090909 \nL 388.813123 493.925229 \nL 388.853737 414.973104 \nL 388.894352 526.090909 \nL 388.934966 526.090909 \nL 389.056809 354.150726 \nL 389.138038 526.090909 \nL 389.178652 471.116837 \nL 389.219266 471.116837 \nL 389.300495 526.090909 \nL 389.422338 425.500054 \nL 389.462952 526.090909 \nL 389.544181 471.701668 \nL 389.584795 396.258526 \nL 389.625409 526.090909 \nL 389.666024 526.090909 \nL 389.747252 482.813448 \nL 389.787866 514.979129 \nL 389.828481 508.545992 \nL 389.869095 526.090909 \nL 390.031552 445.969123 \nL 390.19401 498.603873 \nL 390.234624 431.93319 \nL 390.275238 526.090909 \nL 390.315853 526.090909 \nL 390.397081 431.348359 \nL 390.437695 436.611834 \nL 390.518924 526.090909 \nL 390.559538 459.420226 \nL 390.640767 416.142765 \nL 390.681381 420.236579 \nL 390.803224 526.090909 \nL 390.884453 526.090909 \nL 390.925067 427.254545 \nL 390.965681 461.759548 \nL 391.006296 526.090909 \nL 391.04691 236.014954 \nL 391.128139 417.897257 \nL 391.249982 526.090909 \nL 391.290596 489.831415 \nL 391.371825 526.090909 \nL 391.412439 428.424207 \nL 391.453053 519.657773 \nL 391.534282 526.090909 \nL 391.656125 436.027004 \nL 391.696739 526.090909 \nL 391.737353 467.607854 \nL 391.777968 138.348252 \nL 391.818582 468.192684 \nL 391.859196 457.080904 \nL 391.899811 410.87929 \nL 391.940425 413.803443 \nL 392.062268 488.076923 \nL 392.102882 500.358365 \nL 392.143496 462.344379 \nL 392.184111 511.470145 \nL 392.265339 526.090909 \nL 392.387182 314.382249 \nL 392.427797 471.701668 \nL 392.509025 398.013018 \nL 392.54964 398.013018 \nL 392.590254 361.753523 \nL 392.712097 526.090909 \nL 392.793325 281.046907 \nL 392.874554 417.897257 \nL 392.996397 526.090909 \nL 393.037011 526.090909 \nL 393.077626 448.893276 \nL 393.11824 526.090909 \nL 393.158854 526.090909 \nL 393.321311 418.482087 \nL 393.40254 526.090909 \nL 393.564997 272.274449 \nL 393.646226 526.090909 \nL 393.68684 462.344379 \nL 393.727455 526.090909 \nL 393.768069 394.504034 \nL 393.849297 436.027004 \nL 393.930526 374.034965 \nL 393.97114 526.090909 \nL 394.133598 349.472082 \nL 394.174212 504.452179 \nL 394.214826 327.248521 \nL 394.255441 426.669715 \nL 394.377283 526.090909 \nL 394.458512 429.009037 \nL 394.499126 492.170737 \nL 394.539741 526.090909 \nL 394.580355 493.340398 \nL 394.742812 434.857343 \nL 394.783427 434.857343 \nL 394.824041 484.56794 \nL 394.864655 452.98709 \nL 394.905269 405.030984 \nL 395.027112 526.090909 \nL 395.148955 445.384293 \nL 395.18957 451.232598 \nL 395.230184 419.651748 \nL 395.311413 526.090909 \nL 395.352027 479.889295 \nL 395.392641 526.090909 \nL 395.47387 398.013018 \nL 395.514484 454.156751 \nL 395.555098 454.741581 \nL 395.595713 517.318451 \nL 395.636327 500.943195 \nL 395.676941 388.655729 \nL 395.717556 465.268531 \nL 395.75817 500.943195 \nL 395.798784 435.442173 \nL 395.839399 526.090909 \nL 395.880013 526.090909 \nL 395.920627 502.697687 \nL 395.961242 526.090909 \nL 396.04247 526.090909 \nL 396.083084 404.446154 \nL 396.123699 484.56794 \nL 396.204927 526.090909 \nL 396.245542 517.903281 \nL 396.407999 365.847337 \nL 396.611071 526.090909 \nL 396.692299 451.817429 \nL 396.773528 526.090909 \nL 396.814142 362.923185 \nL 396.854756 526.090909 \nL 396.895371 526.090909 \nL 397.017214 398.013018 \nL 397.057828 514.979129 \nL 397.139057 460.005056 \nL 397.179671 463.51404 \nL 397.220285 390.410221 \nL 397.260899 526.090909 \nL 397.342128 472.286498 \nL 397.382742 499.188704 \nL 397.423357 478.719634 \nL 397.463971 382.222593 \nL 397.504585 478.719634 \nL 397.5452 476.380312 \nL 397.585814 478.719634 \nL 397.667043 526.090909 \nL 397.707657 503.282517 \nL 397.748271 526.090909 \nL 397.788885 365.262507 \nL 397.870114 409.124798 \nL 397.951343 365.262507 \nL 398.154414 526.090909 \nL 398.276257 468.192684 \nL 398.316872 302.100807 \nL 398.357486 526.090909 \nL 398.3981 526.090909 \nL 398.438714 374.619796 \nL 398.479329 526.090909 \nL 398.560557 526.090909 \nL 398.641786 388.070898 \nL 398.6824 486.907262 \nL 398.723015 491.585906 \nL 398.763629 491.001076 \nL 398.804243 411.46412 \nL 398.844858 526.090909 \nL 398.885472 526.090909 \nL 398.9667 361.753523 \nL 399.007315 431.93319 \nL 399.047929 434.272512 \nL 399.169772 526.090909 \nL 399.210386 526.090909 \nL 399.251001 393.334373 \nL 399.291615 526.090909 \nL 399.332229 526.090909 \nL 399.454072 364.092846 \nL 399.494686 526.090909 \nL 399.575915 443.04497 \nL 399.616529 452.98709 \nL 399.697758 450.062937 \nL 399.738372 526.090909 \nL 399.90083 526.090909 \nL 400.022673 421.99107 \nL 400.063287 526.090909 \nL 400.103901 418.482087 \nL 400.144515 489.831415 \nL 400.18513 452.98709 \nL 400.225744 495.09489 \nL 400.266358 500.358365 \nL 400.306973 463.51404 \nL 400.347587 526.090909 \nL 400.46943 526.090909 \nL 400.672501 375.789457 \nL 400.794344 512.639806 \nL 400.834959 400.35234 \nL 400.875573 503.867348 \nL 400.916187 502.697687 \nL 400.956802 526.090909 \nL 400.997416 265.841313 \nL 401.03803 468.192684 \nL 401.078645 526.090909 \nL 401.119259 514.979129 \nL 401.159873 444.799462 \nL 401.241102 445.384293 \nL 401.32233 526.090909 \nL 401.362945 472.286498 \nL 401.484788 498.603873 \nL 401.525402 498.603873 \nL 401.606631 526.090909 \nL 401.647245 434.272512 \nL 401.728474 436.027004 \nL 401.809702 526.090909 \nL 401.850316 462.929209 \nL 401.890931 476.965143 \nL 401.972159 388.070898 \nL 402.012774 427.254545 \nL 402.094002 526.090909 \nL 402.134617 488.076923 \nL 402.175231 526.090909 \nL 402.215845 428.424207 \nL 402.297074 451.817429 \nL 402.418917 526.090909 \nL 402.459531 437.196665 \nL 402.500145 467.607854 \nL 402.621988 526.090909 \nL 402.662603 455.326412 \nL 402.703217 481.058956 \nL 402.743831 526.090909 \nL 402.784446 403.276493 \nL 402.82506 526.090909 \nL 402.906288 526.090909 \nL 402.946903 352.396235 \nL 402.987517 511.470145 \nL 403.068746 526.090909 \nL 403.149974 342.454115 \nL 403.231203 526.090909 \nL 403.271817 337.19064 \nL 403.312432 496.264551 \nL 403.353046 526.090909 \nL 403.39366 358.24454 \nL 403.474889 428.424207 \nL 403.556117 502.697687 \nL 403.637346 413.803443 \nL 403.67796 445.969123 \nL 403.718575 459.420226 \nL 403.759189 421.40624 \nL 403.799803 526.090909 \nL 403.881032 460.589887 \nL 403.921646 492.170737 \nL 403.962261 455.326412 \nL 404.002875 398.013018 \nL 404.084103 526.090909 \nL 404.124718 224.903174 \nL 404.205946 438.951157 \nL 404.246561 526.090909 \nL 404.287175 350.641743 \nL 404.327789 509.715654 \nL 404.368404 495.09489 \nL 404.409018 406.200646 \nL 404.449632 444.214632 \nL 404.530861 526.090909 \nL 404.571475 499.773534 \nL 404.612089 465.853362 \nL 404.652704 511.470145 \nL 404.693318 509.715654 \nL 404.733932 446.553954 \nL 404.815161 492.755568 \nL 404.855775 441.875309 \nL 404.89639 526.090909 \nL 404.937004 526.090909 \nL 405.018233 448.893276 \nL 405.058847 462.929209 \nL 405.18069 526.090909 \nL 405.302533 526.090909 \nL 405.424376 363.508015 \nL 405.46499 526.090909 \nL 405.546219 518.488112 \nL 405.586833 392.749543 \nL 405.627447 505.037009 \nL 405.708676 526.090909 \nL 405.830519 410.294459 \nL 405.871133 526.090909 \nL 405.952362 476.965143 \nL 405.992976 476.380312 \nL 406.03359 477.549973 \nL 406.074205 526.090909 \nL 406.114819 362.923185 \nL 406.155433 486.907262 \nL 406.236662 526.090909 \nL 406.317891 462.344379 \nL 406.358505 503.867348 \nL 406.520962 455.911243 \nL 406.561576 465.853362 \nL 406.602191 450.062937 \nL 406.683419 374.619796 \nL 406.805262 526.090909 \nL 406.845877 473.456159 \nL 406.927105 480.474126 \nL 406.967719 497.434212 \nL 407.008334 401.522001 \nL 407.048948 526.090909 \nL 407.089562 500.943195 \nL 407.170791 502.112856 \nL 407.211405 380.468101 \nL 407.292634 526.090909 \nL 407.373863 517.903281 \nL 407.414477 507.961162 \nL 407.455091 455.326412 \nL 407.53632 493.340398 \nL 407.617548 526.090909 \nL 407.698777 314.382249 \nL 407.739391 469.947176 \nL 407.82062 454.156751 \nL 407.861234 511.470145 \nL 407.942463 526.090909 \nL 408.023692 385.146746 \nL 408.10492 459.420226 \nL 408.145534 429.009037 \nL 408.186149 358.829371 \nL 408.226763 526.090909 \nL 408.307992 443.04497 \nL 408.348606 443.04497 \nL 408.38922 526.090909 \nL 408.470449 481.643787 \nL 408.511063 399.182679 \nL 408.551678 526.090909 \nL 408.632906 526.090909 \nL 408.714135 498.019042 \nL 408.754749 320.815385 \nL 408.795363 387.486068 \nL 408.917206 526.090909 \nL 408.957821 526.090909 \nL 409.039049 489.831415 \nL 409.160892 526.090909 \nL 409.323349 526.090909 \nL 409.363964 458.835395 \nL 409.445192 460.005056 \nL 409.485807 460.005056 \nL 409.567035 454.741581 \nL 409.648264 526.090909 \nL 409.688878 472.286498 \nL 409.729493 479.304465 \nL 409.770107 474.04099 \nL 409.851335 526.090909 \nL 409.89195 502.697687 \nL 410.095021 423.745562 \nL 410.135636 526.090909 \nL 410.17625 331.342335 \nL 410.257479 434.272512 \nL 410.298093 526.090909 \nL 410.338707 448.308445 \nL 410.379321 446.553954 \nL 410.419936 526.090909 \nL 410.46055 507.961162 \nL 410.501164 428.424207 \nL 410.582393 471.701668 \nL 410.623007 488.661754 \nL 410.663622 349.472082 \nL 410.704236 526.090909 \nL 410.74485 526.090909 \nL 410.785465 444.799462 \nL 410.866693 478.134804 \nL 410.947922 526.090909 \nL 411.02915 473.456159 \nL 411.110379 526.090909 \nL 411.272836 429.009037 \nL 411.313451 492.170737 \nL 411.354065 482.228618 \nL 411.516522 400.937171 \nL 411.597751 447.138784 \nL 411.638365 427.254545 \nL 411.678979 412.048951 \nL 411.719594 460.589887 \nL 411.760208 357.65971 \nL 411.800822 526.090909 \nL 411.882051 526.090909 \nL 412.085122 407.955137 \nL 412.288194 526.090909 \nL 412.328808 470.532006 \nL 412.369423 472.871329 \nL 412.450651 526.090909 \nL 412.491266 427.254545 \nL 412.53188 514.979129 \nL 412.572494 526.090909 \nL 412.775566 410.87929 \nL 412.81618 385.731576 \nL 412.856794 526.090909 \nL 412.938023 433.102851 \nL 413.141095 526.090909 \nL 413.181709 526.090909 \nL 413.222323 359.999032 \nL 413.262937 406.785476 \nL 413.303552 526.090909 \nL 413.38478 477.549973 \nL 413.425395 526.090909 \nL 413.466009 441.875309 \nL 413.506623 407.955137 \nL 413.547238 460.589887 \nL 413.587852 471.701668 \nL 413.628466 259.408176 \nL 413.669081 469.362345 \nL 413.790923 431.93319 \nL 413.912766 431.93319 \nL 414.075224 498.019042 \nL 414.156452 526.090909 \nL 414.197067 492.755568 \nL 414.237681 212.036902 \nL 414.278295 479.889295 \nL 414.31891 526.090909 \nL 414.359524 515.563959 \nL 414.521981 278.707585 \nL 414.562595 321.985046 \nL 414.684438 526.090909 \nL 414.725053 488.076923 \nL 414.806281 494.510059 \nL 414.928124 526.090909 \nL 414.968738 526.090909 \nL 415.009353 413.803443 \nL 415.049967 526.090909 \nL 415.090581 526.090909 \nL 415.131196 369.356321 \nL 415.17181 489.246584 \nL 415.212424 526.090909 \nL 415.253039 487.492093 \nL 415.293653 503.282517 \nL 415.374882 526.090909 \nL 415.415496 454.741581 \nL 415.618567 526.090909 \nL 415.659182 460.005056 \nL 415.699796 512.639806 \nL 415.74041 526.090909 \nL 415.781025 478.134804 \nL 415.862253 495.09489 \nL 415.943482 453.57192 \nL 416.065325 526.090909 \nL 416.105939 526.090909 \nL 416.146553 478.134804 \nL 416.187168 526.090909 \nL 416.268396 526.090909 \nL 416.309011 416.142765 \nL 416.349625 526.090909 \nL 416.390239 526.090909 \nL 416.512082 400.35234 \nL 416.593311 526.090909 \nL 416.633925 476.380312 \nL 416.755768 526.090909 \nL 416.796382 495.09489 \nL 416.836997 365.847337 \nL 416.877611 507.376331 \nL 416.918225 526.090909 \nL 416.95884 447.138784 \nL 417.040068 502.697687 \nL 417.161911 346.547929 \nL 417.202525 473.456159 \nL 417.283754 418.482087 \nL 417.324368 371.695643 \nL 417.446211 526.090909 \nL 417.486826 428.424207 \nL 417.568054 467.023023 \nL 417.608669 429.009037 \nL 417.730512 526.090909 \nL 417.852354 361.753523 \nL 417.933583 526.090909 \nL 417.974197 452.402259 \nL 418.055426 526.090909 \nL 418.09604 502.697687 \nL 418.136655 526.090909 \nL 418.177269 453.57192 \nL 418.217883 526.090909 \nL 418.258498 526.090909 \nL 418.299112 452.98709 \nL 418.339726 495.09489 \nL 418.38034 526.090909 \nL 418.420955 183.380204 \nL 418.461569 259.408176 \nL 418.542798 526.090909 \nL 418.583412 480.474126 \nL 418.624026 526.090909 \nL 418.786484 368.186659 \nL 418.948941 526.090909 \nL 419.111398 526.090909 \nL 419.233241 243.617751 \nL 419.273855 526.090909 \nL 419.355084 325.494029 \nL 419.395698 473.456159 \nL 419.436313 443.629801 \nL 419.476927 298.591824 \nL 419.517541 461.759548 \nL 419.59877 399.767509 \nL 419.720613 526.090909 \nL 419.801841 390.410221 \nL 419.88307 526.090909 \nL 419.923684 475.795481 \nL 419.964299 434.272512 \nL 420.004913 497.434212 \nL 420.045527 526.090909 \nL 420.126756 426.084884 \nL 420.207984 432.51802 \nL 420.492285 432.51802 \nL 420.532899 526.090909 \nL 420.614127 478.134804 \nL 420.73597 432.51802 \nL 420.979656 432.51802 \nL 421.020271 454.741581 \nL 421.060885 436.027004 \nL 421.142114 432.51802 \nL 421.182728 526.090909 \nL 421.223342 432.51802 \nL 421.263956 432.51802 \nL 421.385799 526.090909 \nL 421.507642 423.160732 \nL 421.548257 432.51802 \nL 421.588871 472.286498 \nL 421.629485 432.51802 \nL 421.6701 402.691662 \nL 421.791942 526.090909 \nL 421.832557 401.522001 \nL 421.913785 427.254545 \nL 422.076243 526.090909 \nL 422.157471 526.090909 \nL 422.198086 519.072942 \nL 422.2387 526.090909 \nL 422.279314 482.813448 \nL 422.319928 526.090909 \nL 422.360543 526.090909 \nL 422.523 248.881226 \nL 422.563614 526.090909 \nL 422.644843 462.344379 \nL 422.685457 526.090909 \nL 422.726072 438.951157 \nL 422.766686 502.697687 \nL 422.8073 289.819365 \nL 422.888529 399.767509 \nL 422.929143 526.090909 \nL 422.969757 463.51404 \nL 423.010372 383.977084 \nL 423.050986 397.428187 \nL 423.0916 526.090909 \nL 423.172829 451.817429 \nL 423.213443 432.51802 \nL 423.254058 526.090909 \nL 423.335286 464.683701 \nL 423.375901 526.090909 \nL 423.457129 488.076923 \nL 423.497743 526.090909 \nL 423.538358 399.767509 \nL 423.578972 526.090909 \nL 423.782044 453.57192 \nL 423.822658 444.799462 \nL 423.903887 526.090909 \nL 423.944501 503.282517 \nL 423.985115 429.009037 \nL 424.02573 464.683701 \nL 424.106958 520.827434 \nL 424.188187 471.116837 \nL 424.228801 526.090909 \nL 424.269415 401.522001 \nL 424.31003 526.090909 \nL 424.350644 526.090909 \nL 424.431873 435.442173 \nL 424.472487 470.532006 \nL 424.553716 526.090909 \nL 424.59433 475.795481 \nL 424.634944 526.090909 \nL 424.675558 526.090909 \nL 424.756787 366.432168 \nL 424.838016 526.090909 \nL 424.87863 470.532006 \nL 425.000473 526.090909 \nL 425.041087 398.013018 \nL 425.122316 456.496073 \nL 425.284773 526.090909 \nL 425.366002 526.090909 \nL 425.406616 344.793437 \nL 425.487845 437.196665 \nL 425.609688 526.090909 \nL 425.650302 461.174718 \nL 425.690916 526.090909 \nL 425.772145 526.090909 \nL 425.812759 503.867348 \nL 425.853373 374.619796 \nL 425.893988 526.090909 \nL 426.056445 526.090909 \nL 426.097059 491.585906 \nL 426.137674 526.090909 \nL 426.178288 526.090909 \nL 426.218902 395.088865 \nL 426.300131 461.759548 \nL 426.340745 467.607854 \nL 426.381359 462.929209 \nL 426.421974 397.428187 \nL 426.462588 439.535987 \nL 426.625045 526.090909 \nL 426.66566 526.090909 \nL 426.787503 427.254545 \nL 426.909345 526.090909 \nL 426.94996 526.090909 \nL 426.990574 399.182679 \nL 427.031188 526.090909 \nL 427.071803 526.090909 \nL 427.112417 364.092846 \nL 427.193646 467.607854 \nL 427.23426 526.090909 \nL 427.274874 496.849381 \nL 427.356103 499.188704 \nL 427.396717 443.629801 \nL 427.437332 526.090909 \nL 427.477946 442.46014 \nL 427.51856 389.82539 \nL 427.559174 510.885315 \nL 427.599789 369.941151 \nL 427.640403 485.15277 \nL 427.681017 444.214632 \nL 427.721632 526.090909 \nL 427.762246 383.392254 \nL 427.80286 506.791501 \nL 427.843475 503.282517 \nL 427.924703 431.93319 \nL 427.965318 468.777515 \nL 428.168389 526.090909 \nL 428.209003 423.160732 \nL 428.249618 436.027004 \nL 428.290232 526.090909 \nL 428.330846 473.456159 \nL 428.371461 398.013018 \nL 428.412075 526.090909 \nL 428.493304 526.090909 \nL 428.533918 398.013018 \nL 428.574532 526.090909 \nL 428.615146 500.358365 \nL 428.655761 398.013018 \nL 428.736989 406.200646 \nL 428.858832 526.090909 \nL 428.899447 509.715654 \nL 429.02129 459.420226 \nL 429.102518 526.090909 \nL 429.183747 398.013018 \nL 429.224361 490.416245 \nL 429.264975 485.15277 \nL 429.386818 526.090909 \nL 429.427433 440.705648 \nL 429.468047 497.434212 \nL 429.549276 526.090909 \nL 429.630504 459.420226 \nL 429.711733 526.090909 \nL 429.752347 472.286498 \nL 429.833576 490.416245 \nL 429.87419 460.005056 \nL 429.955419 411.46412 \nL 429.996033 526.090909 \nL 430.077262 444.214632 \nL 430.117876 465.853362 \nL 430.15849 526.090909 \nL 430.199105 409.709629 \nL 430.280333 490.416245 \nL 430.361562 526.090909 \nL 430.402176 433.102851 \nL 430.483405 454.741581 \nL 430.524019 452.402259 \nL 430.605248 526.090909 \nL 430.645862 357.074879 \nL 430.686476 455.326412 \nL 430.767705 526.090909 \nL 430.808319 479.889295 \nL 430.848934 526.090909 \nL 430.889548 424.330393 \nL 430.970776 440.120818 \nL 431.052005 526.090909 \nL 431.173848 300.346315 \nL 431.214462 526.090909 \nL 431.295691 496.849381 \nL 431.336305 485.15277 \nL 431.458148 392.749543 \nL 431.498762 403.861323 \nL 431.579991 379.29844 \nL 431.620605 479.304465 \nL 431.66122 398.013018 \nL 431.701834 382.807423 \nL 431.823677 486.907262 \nL 431.864291 398.013018 \nL 431.904906 476.380312 \nL 431.94552 482.228618 \nL 431.986134 526.090909 \nL 432.067363 499.773534 \nL 432.107977 526.090909 \nL 432.148591 381.637762 \nL 432.189206 526.090909 \nL 432.270434 431.93319 \nL 432.311049 478.719634 \nL 432.351663 526.090909 \nL 432.392277 488.076923 \nL 432.432892 336.020979 \nL 432.473506 487.492093 \nL 432.635963 338.945132 \nL 432.757806 526.090909 \nL 432.879649 400.937171 \nL 432.920263 507.961162 \nL 432.960878 419.651748 \nL 433.001492 416.142765 \nL 433.082721 526.090909 \nL 433.123335 371.695643 \nL 433.204563 461.759548 \nL 433.285792 454.156751 \nL 433.326406 526.090909 \nL 433.367021 411.46412 \nL 433.407635 526.090909 \nL 433.529478 434.857343 \nL 433.570092 458.250565 \nL 433.610707 503.867348 \nL 433.651321 467.607854 \nL 433.691935 416.142765 \nL 433.73255 505.037009 \nL 433.773164 501.528026 \nL 433.813778 526.090909 \nL 433.854392 479.304465 \nL 433.895007 526.090909 \nL 434.057464 526.090909 \nL 434.179307 421.99107 \nL 434.260536 526.090909 \nL 434.30115 467.023023 \nL 434.341764 421.99107 \nL 434.463607 526.090909 \nL 434.707293 407.370307 \nL 434.747907 526.090909 \nL 434.829136 495.67972 \nL 434.86975 453.57192 \nL 434.910364 496.264551 \nL 434.950979 514.979129 \nL 435.113436 369.941151 \nL 435.275893 526.090909 \nL 435.316508 468.777515 \nL 435.357122 526.090909 \nL 435.397736 526.090909 \nL 435.438351 390.995051 \nL 435.519579 397.428187 \nL 435.560193 526.090909 \nL 435.641422 462.344379 \nL 435.682036 526.090909 \nL 435.763265 509.715654 \nL 435.803879 474.62582 \nL 435.885108 476.965143 \nL 436.047565 476.965143 \nL 436.088179 474.04099 \nL 436.128794 476.965143 \nL 436.210022 476.965143 \nL 436.250637 477.549973 \nL 436.291251 476.965143 \nL 436.37248 476.965143 \nL 436.494323 472.286498 \nL 436.819237 472.286498 \nL 436.859851 400.35234 \nL 436.900466 472.286498 \nL 437.062923 526.090909 \nL 437.144152 435.442173 \nL 437.184766 440.705648 \nL 437.22538 480.474126 \nL 437.306609 496.849381 \nL 437.347223 239.523938 \nL 437.50968 526.090909 \nL 437.550295 526.090909 \nL 437.672138 246.541904 \nL 437.753366 526.090909 \nL 437.79398 396.843357 \nL 437.875209 493.340398 \nL 437.915823 481.058956 \nL 437.956438 367.601829 \nL 437.997052 476.380312 \nL 438.078281 526.090909 \nL 438.118895 437.781495 \nL 438.159509 526.090909 \nL 438.240738 526.090909 \nL 438.281352 476.965143 \nL 438.321966 526.090909 \nL 438.443809 526.090909 \nL 438.525038 368.77149 \nL 438.606267 526.090909 \nL 438.646881 442.46014 \nL 438.687495 379.29844 \nL 438.72811 526.090909 \nL 438.768724 475.795481 \nL 438.809338 278.707585 \nL 438.849953 526.090909 \nL 438.890567 526.090909 \nL 438.931181 431.348359 \nL 439.01241 486.907262 \nL 439.053024 454.156751 \nL 439.134253 526.090909 \nL 439.174867 334.266487 \nL 439.215481 459.420226 \nL 439.337324 526.090909 \nL 439.377939 427.254545 \nL 439.418553 469.362345 \nL 439.540396 526.090909 \nL 439.58101 363.508015 \nL 439.621624 426.084884 \nL 439.702853 526.090909 \nL 439.743467 405.615815 \nL 439.824696 440.120818 \nL 439.946539 526.090909 \nL 439.987153 505.037009 \nL 440.027767 526.090909 \nL 440.068382 526.090909 \nL 440.108996 465.853362 \nL 440.14961 526.090909 \nL 440.190225 526.090909 \nL 440.230839 437.781495 \nL 440.271453 458.250565 \nL 440.312068 526.090909 \nL 440.352682 465.268531 \nL 440.393296 436.611834 \nL 440.433911 437.781495 \nL 440.515139 526.090909 \nL 440.636982 437.781495 \nL 440.718211 526.090909 \nL 440.758825 490.416245 \nL 440.799439 395.088865 \nL 440.840054 456.496073 \nL 440.961897 526.090909 \nL 441.002511 452.98709 \nL 441.08374 486.322431 \nL 441.164968 526.090909 \nL 441.205582 517.318451 \nL 441.246197 511.470145 \nL 441.286811 258.238515 \nL 441.327425 526.090909 \nL 441.36804 526.090909 \nL 441.489883 398.597848 \nL 441.530497 488.661754 \nL 441.611726 482.228618 \nL 441.733569 526.090909 \nL 441.774183 498.019042 \nL 441.814797 526.090909 \nL 441.855411 526.090909 \nL 441.977254 460.589887 \nL 442.058483 526.090909 \nL 442.099097 489.246584 \nL 442.180326 526.090909 \nL 442.261555 426.084884 \nL 442.342783 526.090909 \nL 442.424012 400.35234 \nL 442.464626 497.434212 \nL 442.50524 472.871329 \nL 442.586469 489.831415 \nL 442.627083 526.090909 \nL 442.748926 382.807423 \nL 442.911383 526.090909 \nL 442.951998 383.977084 \nL 442.992612 526.090909 \nL 443.033226 526.090909 \nL 443.073841 444.214632 \nL 443.114455 475.210651 \nL 443.155069 526.090909 \nL 443.195684 505.62184 \nL 443.236298 443.04497 \nL 443.276912 526.090909 \nL 443.317527 526.090909 \nL 443.43937 496.264551 \nL 443.479984 526.090909 \nL 443.520598 424.915223 \nL 443.561212 471.116837 \nL 443.601827 526.090909 \nL 443.642441 316.721571 \nL 443.683055 464.09887 \nL 443.764284 451.232598 \nL 443.845513 526.090909 \nL 443.886127 526.090909 \nL 443.967356 430.763529 \nL 444.048584 526.090909 \nL 444.089198 479.889295 \nL 444.129813 487.492093 \nL 444.170427 378.713609 \nL 444.211041 526.090909 \nL 444.414113 340.699623 \nL 444.495342 526.090909 \nL 444.535956 424.330393 \nL 444.57657 423.745562 \nL 444.617184 352.981065 \nL 444.739027 526.090909 \nL 444.86087 526.090909 \nL 445.023328 415.557934 \nL 445.104556 433.687682 \nL 445.267013 526.090909 \nL 445.388856 300.931146 \nL 445.551314 526.090909 \nL 445.591928 397.428187 \nL 445.673157 474.04099 \nL 445.713771 462.929209 \nL 445.754385 526.090909 \nL 445.794999 302.685637 \nL 445.835614 313.212587 \nL 445.957457 526.090909 \nL 446.0793 361.753523 \nL 446.241757 526.090909 \nL 446.3636 459.420226 \nL 446.404214 459.420226 \nL 446.444828 259.408176 \nL 446.485443 526.090909 \nL 446.607286 414.973104 \nL 446.6479 430.178698 \nL 446.769743 526.090909 \nL 446.810357 267.595804 \nL 446.850972 402.691662 \nL 446.972814 526.090909 \nL 447.054043 460.005056 \nL 447.135272 460.589887 \nL 447.2165 453.57192 \nL 447.257115 526.090909 \nL 447.378958 526.090909 \nL 447.419572 426.669715 \nL 447.5008 459.420226 \nL 447.582029 338.945132 \nL 447.703872 476.380312 \nL 448.069401 476.380312 \nL 448.110015 448.893276 \nL 448.150629 470.532006 \nL 448.231858 526.090909 \nL 448.272472 465.853362 \nL 448.313087 526.090909 \nL 448.353701 526.090909 \nL 448.43493 439.535987 \nL 448.475544 444.214632 \nL 448.556773 526.090909 \nL 448.597387 486.907262 \nL 448.638001 450.647768 \nL 448.71923 399.182679 \nL 448.759844 526.090909 \nL 448.800458 412.633782 \nL 448.841073 465.268531 \nL 448.881687 526.090909 \nL 448.922301 452.98709 \nL 448.962916 440.120818 \nL 449.00353 526.090909 \nL 449.044144 449.478107 \nL 449.084759 447.138784 \nL 449.125373 419.066918 \nL 449.206601 526.090909 \nL 449.247216 474.62582 \nL 449.28783 458.835395 \nL 449.409673 515.563959 \nL 449.450287 502.697687 \nL 449.490902 193.907154 \nL 449.531516 478.134804 \nL 449.612745 458.250565 \nL 449.734587 526.090909 \nL 449.815816 434.272512 \nL 449.937659 526.090909 \nL 450.059502 462.344379 \nL 450.100116 463.51404 \nL 450.140731 505.62184 \nL 450.181345 460.589887 \nL 450.221959 457.665734 \nL 450.262574 461.759548 \nL 450.343802 448.308445 \nL 450.384416 526.090909 \nL 450.425031 421.40624 \nL 450.465645 526.090909 \nL 450.506259 526.090909 \nL 450.628102 468.192684 \nL 450.668717 486.907262 \nL 450.709331 450.062937 \nL 450.749945 236.599785 \nL 450.79056 496.849381 \nL 450.831174 364.677676 \nL 450.953017 526.090909 \nL 450.993631 498.603873 \nL 451.07486 504.452179 \nL 451.196703 526.090909 \nL 451.35916 411.46412 \nL 451.399774 526.090909 \nL 451.481003 479.304465 \nL 451.521617 496.264551 \nL 451.562231 400.35234 \nL 451.602846 526.090909 \nL 451.64346 500.943195 \nL 451.684074 526.090909 \nL 451.765303 526.090909 \nL 451.887146 308.533943 \nL 452.008989 526.090909 \nL 452.049603 526.090909 \nL 452.090217 352.396235 \nL 452.130832 526.090909 \nL 452.21206 526.090909 \nL 452.252675 398.013018 \nL 452.293289 526.090909 \nL 452.415132 526.090909 \nL 452.455746 503.867348 \nL 452.496361 330.172673 \nL 452.536975 526.090909 \nL 452.577589 526.090909 \nL 452.658818 351.811404 \nL 452.740046 526.090909 \nL 452.780661 410.87929 \nL 452.861889 510.885315 \nL 452.943118 364.677676 \nL 452.983732 405.030984 \nL 453.105575 526.090909 \nL 453.227418 398.013018 \nL 453.268032 516.14879 \nL 453.349261 492.755568 \nL 453.389875 526.090909 \nL 453.43049 389.82539 \nL 453.471104 526.090909 \nL 453.511718 526.090909 \nL 453.552333 498.603873 \nL 453.592947 504.452179 \nL 453.633561 526.090909 \nL 453.71479 390.410221 \nL 453.755404 416.727595 \nL 453.836633 403.861323 \nL 453.917861 526.090909 \nL 454.039704 445.969123 \nL 454.080319 490.416245 \nL 454.120933 445.969123 \nL 454.161547 365.262507 \nL 454.202162 526.090909 \nL 454.28339 470.532006 \nL 454.324004 526.090909 \nL 454.405233 510.885315 \nL 454.486462 426.084884 \nL 454.527076 526.090909 \nL 454.56769 411.46412 \nL 454.811376 526.090909 \nL 454.851991 490.416245 \nL 454.892605 526.090909 \nL 454.933219 526.090909 \nL 455.055062 395.673696 \nL 455.176905 526.090909 \nL 455.298748 526.090909 \nL 455.461205 293.328349 \nL 455.623662 526.090909 \nL 455.664277 526.090909 \nL 455.704891 429.593868 \nL 455.745505 526.090909 \nL 455.826734 526.090909 \nL 455.867348 484.56794 \nL 455.948577 508.545992 \nL 455.989191 526.090909 \nL 456.029805 460.589887 \nL 456.07042 526.090909 \nL 456.111034 526.090909 \nL 456.151648 451.232598 \nL 456.232877 505.037009 \nL 456.273491 526.090909 \nL 456.314106 429.593868 \nL 456.35472 526.090909 \nL 456.435949 526.090909 \nL 456.476563 440.705648 \nL 456.557792 451.817429 \nL 456.598406 526.090909 \nL 456.63902 450.062937 \nL 456.679634 476.965143 \nL 456.760863 474.04099 \nL 456.801477 526.090909 \nL 456.842092 427.839376 \nL 456.92332 461.759548 \nL 456.963935 526.090909 \nL 457.004549 465.853362 \nL 457.045163 431.348359 \nL 457.126392 526.090909 \nL 457.167006 428.424207 \nL 457.248235 455.911243 \nL 457.288849 526.090909 \nL 457.329463 387.486068 \nL 457.370078 526.090909 \nL 457.451306 497.434212 \nL 457.491921 526.090909 \nL 457.532535 509.130823 \nL 457.573149 495.67972 \nL 457.613764 509.130823 \nL 457.654378 526.090909 \nL 457.694992 402.691662 \nL 457.735606 509.130823 \nL 457.776221 496.849381 \nL 457.816835 526.090909 \nL 457.857449 474.62582 \nL 457.898064 501.528026 \nL 457.938678 526.090909 \nL 458.101135 355.320387 \nL 458.304207 526.090909 \nL 458.385435 438.951157 \nL 458.507278 526.090909 \nL 458.547893 481.643787 \nL 458.588507 491.001076 \nL 458.669736 526.090909 \nL 458.71035 447.138784 \nL 458.791579 491.001076 \nL 458.872807 422.575901 \nL 458.913421 390.995051 \nL 458.954036 513.809467 \nL 459.035264 493.340398 \nL 459.075879 494.510059 \nL 459.116493 407.370307 \nL 459.197722 412.048951 \nL 459.238336 501.528026 \nL 459.27895 495.09489 \nL 459.319565 398.013018 \nL 459.360179 486.907262 \nL 459.400793 471.116837 \nL 459.441407 526.090909 \nL 459.482022 480.474126 \nL 459.522636 480.474126 \nL 459.603865 526.090909 \nL 459.644479 496.849381 \nL 459.685093 488.661754 \nL 459.725708 441.290479 \nL 459.766322 526.090909 \nL 459.847551 492.755568 \nL 459.888165 445.969123 \nL 459.928779 526.090909 \nL 460.010008 526.090909 \nL 460.091236 388.070898 \nL 460.131851 498.019042 \nL 460.172465 488.661754 \nL 460.213079 526.090909 \nL 460.253694 484.56794 \nL 460.294308 432.51802 \nL 460.375537 526.090909 \nL 460.416151 429.009037 \nL 460.49738 489.246584 \nL 460.537994 478.719634 \nL 460.659837 526.090909 \nL 460.741065 326.66369 \nL 460.78168 493.340398 \nL 460.862908 526.090909 \nL 460.944137 427.839376 \nL 460.984751 511.470145 \nL 461.025366 526.090909 \nL 461.06598 409.124798 \nL 461.147209 469.362345 \nL 461.269051 526.090909 \nL 461.390894 444.214632 \nL 461.431509 526.090909 \nL 461.472123 514.979129 \nL 461.512737 458.835395 \nL 461.553352 519.072942 \nL 461.593966 481.643787 \nL 461.715809 526.090909 \nL 461.756423 526.090909 \nL 461.797037 435.442173 \nL 461.837652 444.214632 \nL 461.878266 526.090909 \nL 462.040723 326.07886 \nL 462.162566 526.090909 \nL 462.284409 310.873265 \nL 462.325023 526.090909 \nL 462.406252 482.228618 \nL 462.446866 372.865304 \nL 462.487481 526.090909 \nL 462.528095 473.456159 \nL 462.568709 526.090909 \nL 462.609324 526.090909 \nL 462.649938 491.585906 \nL 462.690552 302.100807 \nL 462.731167 526.090909 \nL 462.771781 526.090909 \nL 462.812395 460.005056 \nL 462.85301 497.434212 \nL 462.893624 526.090909 \nL 463.015467 418.482087 \nL 463.177924 526.090909 \nL 463.299767 219.639699 \nL 463.42161 526.090909 \nL 463.462224 407.370307 \nL 463.502838 482.228618 \nL 463.543453 526.090909 \nL 463.584067 502.697687 \nL 463.665296 438.951157 \nL 463.70591 526.090909 \nL 463.787139 495.67972 \nL 463.827753 398.013018 \nL 463.868367 526.090909 \nL 463.908982 526.090909 \nL 463.949596 515.563959 \nL 464.030824 428.424207 \nL 464.071439 526.090909 \nL 464.152667 477.549973 \nL 464.233896 526.090909 \nL 464.27451 364.677676 \nL 464.355739 378.128779 \nL 464.518196 526.090909 \nL 464.558811 399.182679 \nL 464.599425 482.228618 \nL 464.640039 526.090909 \nL 464.680653 483.983109 \nL 464.721268 482.228618 \nL 464.761882 438.366326 \nL 464.802496 482.228618 \nL 464.843111 482.228618 \nL 464.883725 152.969016 \nL 464.924339 482.228618 \nL 464.964954 457.080904 \nL 465.086797 526.090909 \nL 465.127411 440.705648 \nL 465.208639 493.340398 \nL 465.249254 462.344379 \nL 465.289868 526.090909 \nL 465.330482 414.973104 \nL 465.371097 461.759548 \nL 465.411711 526.090909 \nL 465.452325 337.19064 \nL 465.49294 445.384293 \nL 465.574168 442.46014 \nL 465.655397 526.090909 \nL 465.736625 454.741581 \nL 465.817854 526.090909 \nL 465.858468 316.13674 \nL 465.899083 526.090909 \nL 465.939697 480.474126 \nL 465.980311 526.090909 \nL 466.020926 526.090909 \nL 466.102154 391.579882 \nL 466.142769 481.058956 \nL 466.183383 457.665734 \nL 466.305226 526.090909 \nL 466.386454 319.645724 \nL 466.467683 526.090909 \nL 466.508297 405.615815 \nL 466.548912 526.090909 \nL 466.63014 510.885315 \nL 466.670755 391.579882 \nL 466.711369 477.549973 \nL 466.751983 526.090909 \nL 466.792598 302.100807 \nL 466.833212 451.232598 \nL 466.873826 479.304465 \nL 466.91444 357.074879 \nL 466.955055 492.755568 \nL 466.995669 407.955137 \nL 467.158126 526.090909 \nL 467.198741 406.200646 \nL 467.279969 421.99107 \nL 467.361198 526.090909 \nL 467.401812 504.452179 \nL 467.442426 443.629801 \nL 467.483041 526.090909 \nL 467.523655 526.090909 \nL 467.604884 402.106832 \nL 467.726727 526.090909 \nL 467.767341 526.090909 \nL 467.807955 424.915223 \nL 467.84857 451.232598 \nL 467.889184 503.282517 \nL 467.929798 306.779451 \nL 467.970413 478.134804 \nL 468.011027 500.943195 \nL 468.051641 441.875309 \nL 468.092255 526.090909 \nL 468.13287 472.871329 \nL 468.173484 510.885315 \nL 468.254713 331.342335 \nL 468.295327 526.090909 \nL 468.376556 477.549973 \nL 468.41717 526.090909 \nL 468.457784 444.214632 \nL 468.539013 462.344379 \nL 468.579627 526.090909 \nL 468.620241 368.186659 \nL 468.660856 526.090909 \nL 468.742084 376.959118 \nL 468.823313 526.090909 \nL 468.863927 457.665734 \nL 468.945156 489.831415 \nL 468.98577 419.066918 \nL 469.026385 526.090909 \nL 469.066999 516.14879 \nL 469.107613 451.232598 \nL 469.148228 526.090909 \nL 469.188842 526.090909 \nL 469.229456 479.889295 \nL 469.27007 526.090909 \nL 469.391913 526.090909 \nL 469.432528 461.174718 \nL 469.473142 526.090909 \nL 469.513756 526.090909 \nL 469.554371 518.488112 \nL 469.594985 428.424207 \nL 469.635599 469.947176 \nL 469.716828 526.090909 \nL 469.757442 361.753523 \nL 469.798056 526.090909 \nL 469.960514 398.597848 \nL 470.001128 419.651748 \nL 470.122971 526.090909 \nL 470.163585 488.661754 \nL 470.244814 392.164712 \nL 470.326042 526.090909 \nL 470.366657 446.553954 \nL 470.407271 367.601829 \nL 470.447885 452.98709 \nL 470.4885 387.486068 \nL 470.610343 526.090909 \nL 470.732186 406.785476 \nL 470.854029 526.090909 \nL 470.894643 365.262507 \nL 470.975871 472.871329 \nL 471.016486 331.927165 \nL 471.097714 393.919204 \nL 471.178943 526.090909 \nL 471.219557 424.915223 \nL 471.260172 526.090909 \nL 471.300786 526.090909 \nL 471.382015 275.783432 \nL 471.422629 438.951157 \nL 471.463243 483.983109 \nL 471.503857 275.783432 \nL 471.544472 526.090909 \nL 471.585086 526.090909 \nL 471.666315 443.04497 \nL 471.706929 526.090909 \nL 471.747543 481.643787 \nL 471.788158 443.04497 \nL 471.869386 526.090909 \nL 471.910001 481.643787 \nL 471.991229 443.04497 \nL 472.031843 233.090802 \nL 472.072458 506.791501 \nL 472.194301 415.557934 \nL 472.275529 526.090909 \nL 472.316144 454.156751 \nL 472.356758 357.65971 \nL 472.437987 526.090909 \nL 472.478601 482.228618 \nL 472.519215 510.885315 \nL 472.600444 414.973104 \nL 472.641058 449.478107 \nL 472.722287 436.611834 \nL 472.803515 526.090909 \nL 472.84413 526.090909 \nL 472.965973 408.539968 \nL 473.006587 526.090909 \nL 473.047201 414.388273 \nL 473.087816 410.294459 \nL 473.169044 505.62184 \nL 473.209658 469.947176 \nL 473.250273 470.532006 \nL 473.290887 469.947176 \nL 473.331501 526.090909 \nL 473.372116 470.532006 \nL 473.41273 470.532006 \nL 473.453344 461.174718 \nL 473.615802 526.090909 \nL 473.656416 410.294459 \nL 473.69703 500.358365 \nL 473.818873 526.090909 \nL 473.900102 526.090909 \nL 474.021945 331.342335 \nL 474.062559 490.416245 \nL 474.143788 422.575901 \nL 474.306245 509.130823 \nL 474.346859 418.482087 \nL 474.387473 431.93319 \nL 474.509316 526.090909 \nL 474.549931 354.735557 \nL 474.631159 461.759548 \nL 474.712388 526.090909 \nL 474.753002 506.20667 \nL 474.793617 493.340398 \nL 474.834231 526.090909 \nL 474.874845 470.532006 \nL 474.956074 336.60581 \nL 475.077917 526.090909 \nL 475.118531 351.811404 \nL 475.19976 380.468101 \nL 475.321603 526.090909 \nL 475.443445 444.214632 \nL 475.524674 526.090909 \nL 475.565288 506.20667 \nL 475.605903 475.210651 \nL 475.646517 292.158687 \nL 475.687131 503.282517 \nL 475.727746 519.657773 \nL 475.808974 526.090909 \nL 475.849589 414.973104 \nL 475.930817 526.090909 \nL 475.971432 496.849381 \nL 476.012046 526.090909 \nL 476.093274 402.691662 \nL 476.174503 526.090909 \nL 476.215117 482.813448 \nL 476.255732 526.090909 \nL 476.296346 482.813448 \nL 476.33696 482.813448 \nL 476.377575 453.57192 \nL 476.418189 482.813448 \nL 476.458803 526.090909 \nL 476.499418 459.420226 \nL 476.540032 455.326412 \nL 476.661875 526.090909 \nL 476.702489 250.635718 \nL 476.743103 526.090909 \nL 476.783718 455.326412 \nL 476.824332 521.997095 \nL 476.864946 526.090909 \nL 476.946175 451.817429 \nL 476.986789 455.326412 \nL 477.068018 526.090909 \nL 477.108632 344.208607 \nL 477.189861 408.539968 \nL 477.311704 455.326412 \nL 477.352318 394.504034 \nL 477.392932 455.326412 \nL 477.433547 462.344379 \nL 477.474161 449.478107 \nL 477.55539 526.090909 \nL 477.596004 514.979129 \nL 477.636618 526.090909 \nL 477.677233 435.442173 \nL 477.758461 451.232598 \nL 477.920918 526.090909 \nL 477.961533 409.124798 \nL 478.042761 489.831415 \nL 478.12399 477.549973 \nL 478.367676 526.090909 \nL 478.448904 455.911243 \nL 478.570747 526.090909 \nL 478.651976 478.134804 \nL 478.69259 526.090909 \nL 478.733205 277.537924 \nL 478.773819 517.903281 \nL 478.814433 520.827434 \nL 478.97689 396.258526 \nL 479.058119 526.090909 \nL 479.139348 484.56794 \nL 479.261191 330.172673 \nL 479.423648 526.090909 \nL 479.504876 468.777515 \nL 479.545491 358.829371 \nL 479.586105 415.557934 \nL 479.667334 526.090909 \nL 479.707948 486.322431 \nL 479.748562 385.731576 \nL 479.789177 394.504034 \nL 479.951634 526.090909 \nL 479.992248 526.090909 \nL 480.032862 403.276493 \nL 480.073477 526.090909 \nL 480.114091 526.090909 \nL 480.154705 475.795481 \nL 480.235934 479.889295 \nL 480.276548 526.090909 \nL 480.317163 465.268531 \nL 480.357777 376.959118 \nL 480.398391 478.134804 \nL 480.439006 476.965143 \nL 480.47962 468.192684 \nL 480.560849 344.793437 \nL 480.682691 526.090909 \nL 480.76392 386.316407 \nL 480.804534 426.084884 \nL 480.845149 526.090909 \nL 480.885763 321.985046 \nL 480.926377 464.683701 \nL 481.007606 526.090909 \nL 481.088835 435.442173 \nL 481.129449 526.090909 \nL 481.210677 474.04099 \nL 481.251292 438.366326 \nL 481.291906 478.134804 \nL 481.33252 452.98709 \nL 481.373135 526.090909 \nL 481.413749 464.683701 \nL 481.454363 417.897257 \nL 481.535592 448.893276 \nL 481.657435 502.697687 \nL 481.698049 426.084884 \nL 481.738663 470.532006 \nL 481.860506 526.090909 \nL 482.022964 412.633782 \nL 482.144807 526.090909 \nL 482.185421 526.090909 \nL 482.26665 368.186659 \nL 482.307264 398.013018 \nL 482.347878 526.090909 \nL 482.429107 503.282517 \nL 482.510335 419.651748 \nL 482.55095 270.519957 \nL 482.591564 526.090909 \nL 482.632178 426.669715 \nL 482.713407 474.04099 \nL 482.754021 483.398279 \nL 482.794636 437.196665 \nL 482.83525 485.15277 \nL 482.875864 443.04497 \nL 482.916478 454.156751 \nL 482.997707 364.092846 \nL 483.038321 398.597848 \nL 483.160164 526.090909 \nL 483.200779 526.090909 \nL 483.282007 450.647768 \nL 483.322622 497.434212 \nL 483.363236 526.090909 \nL 483.40385 441.290479 \nL 483.444464 526.090909 \nL 483.485079 526.090909 \nL 483.525693 259.408176 \nL 483.566307 526.090909 \nL 483.68815 526.090909 \nL 483.809993 421.40624 \nL 483.850608 526.090909 \nL 483.931836 474.62582 \nL 483.972451 502.112856 \nL 484.094293 280.462076 \nL 484.134908 526.090909 \nL 484.216136 452.402259 \nL 484.337979 526.090909 \nL 484.378594 488.661754 \nL 484.419208 526.090909 \nL 484.541051 526.090909 \nL 484.662894 443.629801 \nL 484.784737 526.090909 \nL 484.865965 526.090909 \nL 484.90658 510.300484 \nL 484.947194 376.959118 \nL 484.987808 526.090909 \nL 485.028423 526.090909 \nL 485.109651 396.843357 \nL 485.19088 413.803443 \nL 485.393951 526.090909 \nL 485.47518 424.330393 \nL 485.556409 447.723615 \nL 485.678252 526.090909 \nL 485.718866 442.46014 \nL 485.800094 462.929209 \nL 485.840709 526.090909 \nL 485.881323 447.723615 \nL 485.921937 489.246584 \nL 486.003166 526.090909 \nL 486.04378 412.048951 \nL 486.125009 418.482087 \nL 486.165623 416.727595 \nL 486.287466 526.090909 \nL 486.32808 526.090909 \nL 486.368695 414.973104 \nL 486.449923 482.813448 \nL 486.571766 526.090909 \nL 486.612381 526.090909 \nL 486.734224 294.49801 \nL 486.815452 526.090909 \nL 486.856066 477.549973 \nL 486.896681 299.176654 \nL 486.937295 526.090909 \nL 486.977909 415.557934 \nL 487.018524 526.090909 \nL 487.099752 490.416245 \nL 487.140367 389.240559 \nL 487.180981 526.090909 \nL 487.343438 450.647768 \nL 487.465281 526.090909 \nL 487.54651 526.090909 \nL 487.587124 447.138784 \nL 487.668353 461.759548 \nL 487.708967 466.438193 \nL 487.790196 526.090909 \nL 487.83081 264.671651 \nL 487.871424 526.090909 \nL 487.952653 526.090909 \nL 487.993267 439.535987 \nL 488.074496 475.210651 \nL 488.277567 526.090909 \nL 488.318182 430.763529 \nL 488.358796 443.629801 \nL 488.480639 526.090909 \nL 488.643096 409.709629 \nL 488.764939 526.090909 \nL 488.805553 526.090909 \nL 488.846168 506.20667 \nL 488.886782 396.258526 \nL 488.927396 526.090909 \nL 488.968011 433.102851 \nL 489.008625 456.496073 \nL 489.130468 358.24454 \nL 489.171082 526.090909 \nL 489.252311 480.474126 \nL 489.333539 526.090909 \nL 489.374154 405.615815 \nL 489.455382 461.759548 \nL 489.577225 526.090909 \nL 489.699068 526.090909 \nL 489.861525 481.058956 \nL 489.90214 483.983109 \nL 489.942754 278.122754 \nL 489.983368 376.959118 \nL 490.105211 526.090909 \nL 490.18644 333.096826 \nL 490.267669 526.090909 \nL 490.308283 447.138784 \nL 490.348897 418.482087 \nL 490.430126 390.995051 \nL 490.47074 526.090909 \nL 490.511354 526.090909 \nL 490.633197 461.759548 \nL 490.673812 471.116837 \nL 490.714426 526.090909 \nL 490.75504 489.831415 \nL 490.836269 440.705648 \nL 490.876883 486.907262 \nL 490.917497 481.643787 \nL 491.079955 252.97504 \nL 491.161183 526.090909 \nL 491.242412 484.56794 \nL 491.283026 526.090909 \nL 491.323641 488.661754 \nL 491.445483 400.35234 \nL 491.567326 526.090909 \nL 491.607941 526.090909 \nL 491.729784 383.977084 \nL 491.770398 488.661754 \nL 491.851627 419.066918 \nL 492.014084 526.090909 \nL 492.135927 451.817429 \nL 492.217155 471.116837 \nL 492.25777 312.042926 \nL 492.298384 526.090909 \nL 492.420227 406.785476 \nL 492.582684 526.090909 \nL 492.623298 383.392254 \nL 492.704527 426.669715 \nL 492.745141 348.887251 \nL 492.785756 458.835395 \nL 492.82637 352.396235 \nL 492.866984 519.657773 \nL 492.948213 467.607854 \nL 492.988827 517.903281 \nL 493.029442 489.246584 \nL 493.070056 452.98709 \nL 493.151284 526.090909 \nL 493.191899 486.907262 \nL 493.232513 526.090909 \nL 493.273127 491.001076 \nL 493.313742 496.849381 \nL 493.354356 526.090909 \nL 493.516813 334.266487 \nL 493.557428 526.090909 \nL 493.638656 444.214632 \nL 493.679271 466.438193 \nL 493.719885 454.741581 \nL 493.760499 426.669715 \nL 493.882342 526.090909 \nL 493.963571 526.090909 \nL 494.085414 448.893276 \nL 494.329099 526.090909 \nL 494.410328 526.090909 \nL 494.450942 437.196665 \nL 494.532171 450.062937 \nL 494.6134 526.090909 \nL 494.654014 349.472082 \nL 494.694628 481.058956 \nL 494.775857 453.57192 \nL 494.816471 526.090909 \nL 494.857085 382.222593 \nL 494.938314 452.402259 \nL 494.978928 526.090909 \nL 495.019543 466.438193 \nL 495.060157 460.005056 \nL 495.182 526.090909 \nL 495.222614 513.224637 \nL 495.303843 526.090909 \nL 495.344457 451.817429 \nL 495.425686 526.090909 \nL 495.4663 496.849381 \nL 495.547529 526.090909 \nL 495.709986 434.857343 \nL 495.831829 526.090909 \nL 495.872443 526.090909 \nL 495.913058 462.929209 \nL 495.953672 499.188704 \nL 496.0349 526.090909 \nL 496.197358 405.030984 \nL 496.319201 526.090909 \nL 496.359815 398.597848 \nL 496.400429 526.090909 \nL 496.441044 493.340398 \nL 496.481658 526.090909 \nL 496.603501 526.090909 \nL 496.644115 459.420226 \nL 496.684729 482.228618 \nL 496.765958 526.090909 \nL 496.806572 498.603873 \nL 496.928415 526.090909 \nL 496.96903 526.090909 \nL 497.090873 391.579882 \nL 497.131487 526.090909 \nL 497.212715 488.661754 \nL 497.293944 526.090909 \nL 497.334558 343.623776 \nL 497.415787 491.585906 \nL 497.456401 399.767509 \nL 497.53763 507.961162 \nL 497.578244 399.767509 \nL 497.618859 526.090909 \nL 497.659473 526.090909 \nL 497.82193 438.366326 \nL 497.862544 454.156751 \nL 497.903159 526.090909 \nL 497.943773 409.124798 \nL 498.10623 526.090909 \nL 498.146845 386.901237 \nL 498.228073 426.669715 \nL 498.309302 526.090909 \nL 498.349916 463.51404 \nL 498.39053 465.853362 \nL 498.431145 394.504034 \nL 498.471759 512.054976 \nL 498.512373 503.867348 \nL 498.634216 347.13276 \nL 498.674831 526.090909 \nL 498.756059 455.911243 \nL 498.837288 403.276493 \nL 498.877902 455.911243 \nL 498.918516 352.396235 \nL 498.959131 526.090909 \nL 498.999745 374.619796 \nL 499.121588 526.090909 \nL 499.202817 460.005056 \nL 499.284045 457.665734 \nL 499.32466 526.090909 \nL 499.446502 526.090909 \nL 499.60896 468.777515 \nL 499.649574 494.510059 \nL 499.690188 400.35234 \nL 499.730803 497.434212 \nL 499.852646 475.210651 \nL 499.89326 496.264551 \nL 499.933874 450.647768 \nL 499.974489 526.090909 \nL 500.096331 526.090909 \nL 500.17756 451.232598 \nL 500.218174 526.090909 \nL 500.258789 487.492093 \nL 500.299403 376.374287 \nL 500.340017 451.232598 \nL 500.380632 526.090909 \nL 500.46186 495.09489 \nL 500.502475 495.67972 \nL 500.543089 501.528026 \nL 500.583703 425.500054 \nL 500.624317 526.090909 \nL 500.664932 440.120818 \nL 500.74616 526.090909 \nL 500.786775 386.316407 \nL 500.827389 467.607854 \nL 500.949232 526.090909 \nL 501.111689 526.090909 \nL 501.192918 470.532006 \nL 501.233532 410.294459 \nL 501.274146 469.362345 \nL 501.395989 526.090909 \nL 501.436604 468.777515 \nL 501.517832 474.62582 \nL 501.639675 526.090909 \nL 501.761518 447.138784 \nL 501.883361 526.090909 \nL 501.923975 464.683701 \nL 501.96459 526.090909 \nL 502.005204 526.090909 \nL 502.045818 354.735557 \nL 502.127047 442.46014 \nL 502.208276 419.066918 \nL 502.24889 526.090909 \nL 502.370733 352.396235 \nL 502.411347 526.090909 \nL 502.492576 499.188704 \nL 502.53319 526.090909 \nL 502.614419 382.222593 \nL 502.655033 485.15277 \nL 502.695647 513.809467 \nL 502.736262 259.408176 \nL 502.776876 526.090909 \nL 502.858104 392.164712 \nL 502.939333 526.090909 \nL 502.979947 393.919204 \nL 503.061176 461.759548 \nL 503.142405 526.090909 \nL 503.223633 71.092738 \nL 503.264248 358.829371 \nL 503.426705 526.090909 \nL 503.467319 497.434212 \nL 503.507933 510.885315 \nL 503.548548 259.408176 \nL 503.589162 452.402259 \nL 503.711005 526.090909 \nL 503.751619 526.090909 \nL 503.914077 393.919204 \nL 503.995305 526.090909 \nL 504.035919 474.04099 \nL 504.076534 526.090909 \nL 504.117148 481.643787 \nL 504.157762 455.911243 \nL 504.198377 526.090909 \nL 504.279605 483.983109 \nL 504.32022 526.090909 \nL 504.442063 346.547929 \nL 504.523291 526.090909 \nL 504.563905 454.156751 \nL 504.60452 441.290479 \nL 504.645134 526.090909 \nL 504.726363 480.474126 \nL 504.766977 453.57192 \nL 504.807591 454.741581 \nL 504.88882 526.090909 \nL 504.970049 440.705648 \nL 505.051277 401.522001 \nL 505.091892 526.090909 \nL 505.132506 196.831307 \nL 505.17312 333.681657 \nL 505.213734 526.090909 \nL 505.294963 477.549973 \nL 505.335577 526.090909 \nL 505.376192 371.695643 \nL 505.45742 448.893276 \nL 505.579263 375.789457 \nL 505.619878 398.013018 \nL 505.660492 317.306401 \nL 505.782335 526.090909 \nL 505.904178 401.522001 \nL 505.985406 526.090909 \nL 506.026021 312.042926 \nL 506.066635 526.090909 \nL 506.147864 459.420226 \nL 506.229092 526.090909 \nL 506.269707 415.557934 \nL 506.310321 526.090909 \nL 506.350935 526.090909 \nL 506.391549 507.376331 \nL 506.432164 526.090909 \nL 506.472778 192.737493 \nL 506.513392 510.885315 \nL 506.554007 488.661754 \nL 506.594621 526.090909 \nL 506.716464 480.474126 \nL 506.757078 526.090909 \nL 506.797693 507.961162 \nL 506.919535 338.945132 \nL 507.000764 510.885315 \nL 507.041378 454.156751 \nL 507.081993 356.490048 \nL 507.122607 374.034965 \nL 507.163221 526.090909 \nL 507.24445 434.272512 \nL 507.285064 210.86724 \nL 507.325679 526.090909 \nL 507.366293 526.090909 \nL 507.52875 421.99107 \nL 507.609979 526.090909 \nL 507.650593 348.302421 \nL 507.691207 492.170737 \nL 507.731822 526.090909 \nL 507.853665 412.048951 \nL 507.934893 526.090909 \nL 507.975508 478.719634 \nL 508.137965 526.090909 \nL 508.178579 446.553954 \nL 508.219193 526.090909 \nL 508.300422 526.090909 \nL 508.341036 361.753523 \nL 508.422265 475.795481 \nL 508.503494 275.198601 \nL 508.625336 526.090909 \nL 508.706565 526.090909 \nL 508.747179 509.130823 \nL 508.787794 383.392254 \nL 508.828408 400.35234 \nL 508.950251 526.090909 \nL 508.990865 474.04099 \nL 509.03148 486.322431 \nL 509.112708 526.090909 \nL 509.153322 382.222593 \nL 509.234551 475.210651 \nL 509.275165 453.57192 \nL 509.31578 493.925229 \nL 509.356394 358.829371 \nL 509.437623 445.969123 \nL 509.478237 382.222593 \nL 509.559466 526.090909 \nL 509.60008 517.903281 \nL 509.681309 469.362345 \nL 509.721923 71.092738 \nL 509.762537 435.442173 \nL 509.803151 526.090909 \nL 509.843766 209.112749 \nL 509.88438 475.795481 \nL 509.924994 469.947176 \nL 509.965609 526.090909 \nL 510.006223 412.633782 \nL 510.087452 467.607854 \nL 510.128066 526.090909 \nL 510.16868 272.274449 \nL 510.249909 444.799462 \nL 510.290523 482.228618 \nL 510.331137 312.627757 \nL 510.371752 526.090909 \nL 510.45298 278.122754 \nL 510.574823 526.090909 \nL 510.656052 439.535987 \nL 510.696666 462.344379 \nL 510.777895 526.090909 \nL 510.818509 501.528026 \nL 510.859123 526.090909 \nL 510.899738 399.767509 \nL 510.980966 447.138784 \nL 511.062195 526.090909 \nL 511.102809 347.13276 \nL 511.143424 406.785476 \nL 511.224652 526.090909 \nL 511.265267 418.482087 \nL 511.346495 454.741581 \nL 511.38711 526.090909 \nL 511.468338 474.04099 \nL 511.508952 526.090909 \nL 511.549567 520.242604 \nL 511.590181 335.436148 \nL 511.630795 430.178698 \nL 511.752638 526.090909 \nL 511.793253 493.340398 \nL 511.833867 526.090909 \nL 511.874481 526.090909 \nL 511.95571 357.65971 \nL 512.036938 526.090909 \nL 512.077553 509.130823 \nL 512.118167 280.462076 \nL 512.199396 380.468101 \nL 512.321239 526.090909 \nL 512.443082 442.46014 \nL 512.564924 526.090909 \nL 512.646153 450.647768 \nL 512.686767 453.57192 \nL 512.727382 526.090909 \nL 512.80861 503.867348 \nL 512.849225 526.090909 \nL 512.971068 462.929209 \nL 513.052296 526.090909 \nL 513.214753 377.543948 \nL 513.295982 516.14879 \nL 513.336596 446.553954 \nL 513.377211 437.196665 \nL 513.417825 437.781495 \nL 513.499054 526.090909 \nL 513.539668 508.545992 \nL 513.620897 526.090909 \nL 513.661511 509.130823 \nL 513.702125 359.999032 \nL 513.783354 410.294459 \nL 513.823968 423.745562 \nL 513.864582 361.753523 \nL 513.905197 395.673696 \nL 513.945811 526.090909 \nL 514.02704 453.57192 \nL 514.067654 432.51802 \nL 514.148883 410.294459 \nL 514.230111 526.090909 \nL 514.270725 526.090909 \nL 514.31134 459.420226 \nL 514.392568 466.438193 \nL 514.473797 526.090909 \nL 514.514411 410.294459 \nL 514.555026 526.090909 \nL 514.59564 526.090909 \nL 514.676869 450.062937 \nL 514.758097 526.090909 \nL 514.798712 492.170737 \nL 514.839326 482.228618 \nL 514.87994 483.398279 \nL 515.001783 526.090909 \nL 515.083012 507.961162 \nL 515.123626 521.997095 \nL 515.245469 526.090909 \nL 515.326698 376.959118 \nL 515.367312 393.334373 \nL 515.44854 526.090909 \nL 515.489155 398.597848 \nL 515.570383 399.182679 \nL 515.610998 516.73362 \nL 515.651612 399.767509 \nL 515.692226 398.597848 \nL 515.732841 414.388273 \nL 515.773455 400.35234 \nL 515.814069 395.673696 \nL 515.854684 401.522001 \nL 515.895298 444.799462 \nL 515.976527 434.857343 \nL 516.017141 398.597848 \nL 516.057755 526.090909 \nL 516.138984 495.09489 \nL 516.179598 479.304465 \nL 516.220212 397.428187 \nL 516.260827 526.090909 \nL 516.423284 526.090909 \nL 516.504513 398.597848 \nL 516.545127 488.076923 \nL 516.585741 498.019042 \nL 516.66697 398.597848 \nL 516.748198 526.090909 \nL 516.870041 398.597848 \nL 516.910656 398.597848 \nL 516.95127 399.182679 \nL 516.991884 364.092846 \nL 517.032499 398.013018 \nL 517.073113 513.224637 \nL 517.154341 491.585906 \nL 517.194956 396.843357 \nL 517.23557 452.402259 \nL 517.316799 526.090909 \nL 517.357413 396.258526 \nL 517.398027 526.090909 \nL 517.51987 467.023023 \nL 517.601099 526.090909 \nL 517.641713 403.861323 \nL 517.722942 452.402259 \nL 517.763556 526.090909 \nL 517.80417 469.947176 \nL 517.844785 402.691662 \nL 517.885399 436.611834 \nL 517.966628 526.090909 \nL 518.007242 482.813448 \nL 518.047856 446.553954 \nL 518.129085 466.438193 \nL 518.169699 526.090909 \nL 518.210314 491.001076 \nL 518.291542 393.919204 \nL 518.372771 365.847337 \nL 518.413385 526.090909 \nL 518.494614 433.102851 \nL 518.535228 445.384293 \nL 518.657071 526.090909 \nL 518.860142 426.669715 \nL 518.941371 526.090909 \nL 518.981985 467.023023 \nL 519.0226 526.090909 \nL 519.063214 400.937171 \nL 519.103828 526.090909 \nL 519.144443 526.090909 \nL 519.185057 349.472082 \nL 519.225671 526.090909 \nL 519.3069 526.090909 \nL 519.388129 442.46014 \nL 519.428743 508.545992 \nL 519.550586 526.090909 \nL 519.631814 526.090909 \nL 519.672429 511.470145 \nL 519.713043 408.539968 \nL 519.753657 510.300484 \nL 519.794272 491.001076 \nL 519.834886 526.090909 \nL 519.8755 376.374287 \nL 519.956729 460.005056 \nL 520.037957 526.090909 \nL 520.078572 443.629801 \nL 520.119186 526.090909 \nL 520.1598 526.090909 \nL 520.200415 505.62184 \nL 520.241029 426.084884 \nL 520.322258 462.344379 \nL 520.362872 526.090909 \nL 520.403486 314.967079 \nL 520.484715 409.709629 \nL 520.525329 500.358365 \nL 520.565943 462.929209 \nL 520.606558 323.739537 \nL 520.647172 443.629801 \nL 520.687786 526.090909 \nL 520.769015 502.697687 \nL 520.809629 336.020979 \nL 520.890858 418.482087 \nL 521.053315 526.090909 \nL 521.09393 526.090909 \nL 521.175158 447.138784 \nL 521.215772 526.090909 \nL 521.297001 512.054976 \nL 521.337615 398.597848 \nL 521.37823 450.647768 \nL 521.418844 497.434212 \nL 521.459458 486.322431 \nL 521.581301 398.013018 \nL 521.66253 507.376331 \nL 521.703144 477.549973 \nL 521.743758 364.092846 \nL 521.784373 449.478107 \nL 521.824987 483.983109 \nL 521.865601 427.839376 \nL 521.906216 433.687682 \nL 521.987444 318.476062 \nL 522.109287 526.090909 \nL 522.149902 422.575901 \nL 522.190516 498.603873 \nL 522.271744 526.090909 \nL 522.312359 429.009037 \nL 522.393587 469.947176 \nL 522.434202 526.090909 \nL 522.474816 461.759548 \nL 522.51543 460.005056 \nL 522.556045 526.090909 \nL 522.596659 420.821409 \nL 522.637273 517.318451 \nL 522.677888 321.400215 \nL 522.759116 461.759548 \nL 522.880959 526.090909 \nL 522.921573 461.174718 \nL 522.962188 485.15277 \nL 523.002802 526.090909 \nL 523.084031 443.629801 \nL 523.124645 526.090909 \nL 523.165259 467.023023 \nL 523.205874 415.557934 \nL 523.287102 526.090909 \nL 523.327717 448.308445 \nL 523.408945 526.090909 \nL 523.449559 443.629801 \nL 523.490174 526.090909 \nL 523.530788 526.090909 \nL 523.571402 393.919204 \nL 523.612017 512.054976 \nL 523.693245 451.817429 \nL 523.774474 467.023023 \nL 523.815088 526.090909 \nL 523.855703 441.290479 \nL 523.896317 441.290479 \nL 523.936931 505.62184 \nL 523.977546 369.356321 \nL 524.01816 526.090909 \nL 524.058774 493.925229 \nL 524.099388 505.62184 \nL 524.140003 526.090909 \nL 524.261846 435.442173 \nL 524.30246 526.090909 \nL 524.343074 323.154707 \nL 524.383689 458.835395 \nL 524.464917 526.090909 \nL 524.505532 421.99107 \nL 524.546146 526.090909 \nL 524.58676 526.090909 \nL 524.667989 445.384293 \nL 524.708603 526.090909 \nL 524.749217 412.048951 \nL 524.789832 318.476062 \nL 524.830446 445.969123 \nL 524.87106 418.482087 \nL 524.911675 247.126735 \nL 524.952289 526.090909 \nL 525.033518 440.120818 \nL 525.114746 526.090909 \nL 525.15536 424.915223 \nL 525.195975 510.300484 \nL 525.317818 526.090909 \nL 525.358432 426.084884 \nL 525.399046 474.62582 \nL 525.439661 526.090909 \nL 525.480275 483.983109 \nL 525.520889 405.030984 \nL 525.561504 427.254545 \nL 525.642732 382.807423 \nL 525.683347 526.090909 \nL 525.805189 383.392254 \nL 525.845804 526.090909 \nL 525.927032 431.93319 \nL 526.048875 526.090909 \nL 526.08949 526.090909 \nL 526.170718 486.907262 \nL 526.211333 493.340398 \nL 526.292561 486.907262 \nL 526.333175 526.090909 \nL 526.414404 428.424207 \nL 526.455018 498.019042 \nL 526.495633 526.090909 \nL 526.617476 396.258526 \nL 526.779933 526.090909 \nL 526.983004 423.745562 \nL 527.186076 526.090909 \nL 527.22669 392.749543 \nL 527.267305 458.835395 \nL 527.307919 526.090909 \nL 527.348533 417.312426 \nL 527.429762 367.601829 \nL 527.470376 395.673696 \nL 527.592219 526.090909 \nL 527.632833 526.090909 \nL 527.673448 242.44809 \nL 527.714062 526.090909 \nL 527.754676 526.090909 \nL 527.795291 329.587843 \nL 527.835905 502.697687 \nL 527.957748 526.090909 \nL 527.998362 334.266487 \nL 528.038976 526.090909 \nL 528.160819 484.56794 \nL 528.201434 317.306401 \nL 528.282662 424.330393 \nL 528.404505 526.090909 \nL 528.485734 446.553954 \nL 528.526348 489.831415 \nL 528.566962 526.090909 \nL 528.607577 399.767509 \nL 528.648191 437.781495 \nL 528.688805 526.090909 \nL 528.72942 452.402259 \nL 528.770034 411.46412 \nL 528.891877 526.090909 \nL 528.932491 298.006993 \nL 529.01372 460.005056 \nL 529.054334 526.090909 \nL 529.094949 405.030984 \nL 529.135563 424.915223 \nL 529.216791 526.090909 \nL 529.257406 499.773534 \nL 529.29802 493.925229 \nL 529.338634 445.384293 \nL 529.379249 526.090909 \nL 529.419863 474.62582 \nL 529.501092 526.090909 \nL 529.541706 382.222593 \nL 529.58232 526.090909 \nL 529.744777 526.090909 \nL 529.826006 429.009037 \nL 529.907235 526.090909 \nL 529.947849 493.925229 \nL 529.988463 526.090909 \nL 530.029078 503.867348 \nL 530.191535 437.781495 \nL 530.232149 526.090909 \nL 530.272763 471.116837 \nL 530.313378 447.723615 \nL 530.353992 480.474126 \nL 530.475835 471.116837 \nL 530.638292 282.216568 \nL 530.678907 526.090909 \nL 530.760135 452.98709 \nL 530.80075 343.623776 \nL 530.841364 526.090909 \nL 530.922592 414.388273 \nL 531.003821 444.214632 \nL 531.08505 432.51802 \nL 531.125664 526.090909 \nL 531.247507 526.090909 \nL 531.36935 116.709521 \nL 531.409964 399.767509 \nL 531.491193 399.182679 \nL 531.531807 407.370307 \nL 531.572421 526.090909 \nL 531.613036 305.60979 \nL 531.65365 526.090909 \nL 531.734879 526.090909 \nL 531.775493 471.116837 \nL 531.856722 472.286498 \nL 531.897336 472.286498 \nL 532.059793 526.090909 \nL 532.100407 465.268531 \nL 532.141022 526.090909 \nL 532.181636 526.090909 \nL 532.344093 324.324368 \nL 532.465936 526.090909 \nL 532.547165 423.160732 \nL 532.628393 428.424207 \nL 532.669008 424.915223 \nL 532.750236 526.090909 \nL 532.790851 466.438193 \nL 532.831465 492.170737 \nL 532.872079 469.947176 \nL 532.953308 486.907262 \nL 532.993922 351.811404 \nL 533.075151 342.454115 \nL 533.156379 498.603873 \nL 533.196994 465.853362 \nL 533.237608 526.090909 \nL 533.278222 350.056912 \nL 533.318837 375.789457 \nL 533.359451 526.090909 \nL 533.400065 199.75546 \nL 533.44068 526.090909 \nL 533.603137 398.597848 \nL 533.643751 406.200646 \nL 533.765594 526.090909 \nL 533.887437 398.597848 \nL 534.00928 526.090909 \nL 534.090509 460.589887 \nL 534.131123 497.434212 \nL 534.171737 498.603873 \nL 534.252966 489.831415 \nL 534.334194 526.090909 \nL 534.374809 482.813448 \nL 534.415423 304.440129 \nL 534.456037 444.799462 \nL 534.537266 526.090909 \nL 534.57788 466.438193 \nL 534.659109 486.322431 \nL 534.699723 483.398279 \nL 534.780952 472.871329 \nL 534.821566 510.885315 \nL 534.86218 472.871329 \nL 534.902795 472.871329 \nL 535.065252 498.019042 \nL 535.146481 480.474126 \nL 535.187095 526.090909 \nL 535.227709 347.71759 \nL 535.268324 526.090909 \nL 535.349552 436.611834 \nL 535.471395 526.090909 \nL 535.552624 480.474126 \nL 535.593238 526.090909 \nL 535.633852 480.474126 \nL 535.715081 480.474126 \nL 535.755695 465.853362 \nL 535.836924 372.865304 \nL 535.877538 384.561915 \nL 536.039995 526.090909 \nL 536.243067 526.090909 \nL 536.283681 489.831415 \nL 536.324296 526.090909 \nL 536.446139 526.090909 \nL 536.567981 454.741581 \nL 536.64921 526.090909 \nL 536.689824 487.492093 \nL 536.730439 457.080904 \nL 536.771053 474.04099 \nL 536.811667 526.090909 \nL 536.852282 348.302421 \nL 536.93351 472.871329 \nL 536.974125 464.09887 \nL 537.014739 369.356321 \nL 537.055353 509.715654 \nL 537.136582 526.090909 \nL 537.299039 362.338354 \nL 537.339653 362.338354 \nL 537.420882 488.661754 \nL 537.461496 442.46014 \nL 537.583339 526.090909 \nL 537.664568 420.236579 \nL 537.705182 500.358365 \nL 537.745796 428.424207 \nL 537.786411 472.871329 \nL 537.908254 526.090909 \nL 537.948868 437.196665 \nL 537.989482 526.090909 \nL 538.030097 526.090909 \nL 538.070711 412.048951 \nL 538.15194 489.246584 \nL 538.233168 443.04497 \nL 538.273782 505.037009 \nL 538.314397 357.65971 \nL 538.355011 526.090909 \nL 538.43624 526.090909 \nL 538.517468 446.553954 \nL 538.558083 471.116837 \nL 538.639311 526.090909 \nL 538.72054 203.849274 \nL 538.842383 526.090909 \nL 538.923611 323.739537 \nL 538.964226 384.561915 \nL 539.045454 526.090909 \nL 539.086069 478.134804 \nL 539.126683 446.553954 \nL 539.167297 526.090909 \nL 539.248526 483.983109 \nL 539.28914 526.090909 \nL 539.329755 506.791501 \nL 539.370369 475.795481 \nL 539.451597 489.831415 \nL 539.57344 526.090909 \nL 539.735898 412.048951 \nL 539.776512 526.090909 \nL 539.857741 464.09887 \nL 539.938969 494.510059 \nL 539.979583 444.799462 \nL 540.020198 496.849381 \nL 540.101426 497.434212 \nL 540.142041 423.745562 \nL 540.182655 526.090909 \nL 540.223269 470.532006 \nL 540.263884 526.090909 \nL 540.304498 519.072942 \nL 540.345112 363.508015 \nL 540.426341 411.46412 \nL 540.466955 526.090909 \nL 540.548184 474.04099 \nL 540.629412 526.090909 \nL 540.670027 467.607854 \nL 540.751255 475.795481 \nL 540.832484 526.090909 \nL 540.873098 490.416245 \nL 540.913713 375.204626 \nL 540.954327 526.090909 \nL 540.994941 464.09887 \nL 541.035556 526.090909 \nL 541.07617 526.090909 \nL 541.116784 406.785476 \nL 541.198013 460.005056 \nL 541.319856 526.090909 \nL 541.604156 526.090909 \nL 541.64477 494.510059 \nL 541.685384 526.090909 \nL 541.725999 526.090909 \nL 541.888456 468.777515 \nL 541.969685 526.090909 \nL 542.010299 481.643787 \nL 542.091528 505.037009 \nL 542.132142 388.655729 \nL 542.172756 526.090909 \nL 542.294599 526.090909 \nL 542.335213 516.14879 \nL 542.375828 526.090909 \nL 542.416442 526.090909 \nL 542.497671 501.528026 \nL 542.619514 526.090909 \nL 542.660128 431.348359 \nL 542.700742 437.781495 \nL 542.741357 526.090909 \nL 542.781971 398.597848 \nL 542.822585 406.200646 \nL 542.863199 498.603873 \nL 542.944428 475.210651 \nL 542.985042 439.535987 \nL 543.025657 526.090909 \nL 543.066271 475.210651 \nL 543.106885 457.080904 \nL 543.1475 464.683701 \nL 543.188114 526.090909 \nL 543.228728 445.384293 \nL 543.269343 392.749543 \nL 543.309957 444.799462 \nL 543.391186 438.951157 \nL 543.472414 484.56794 \nL 543.513028 425.500054 \nL 543.553643 526.090909 \nL 543.594257 526.090909 \nL 543.675486 392.749543 \nL 543.7161 488.661754 \nL 543.756714 465.268531 \nL 543.797329 514.394298 \nL 543.837943 488.661754 \nL 543.878557 434.857343 \nL 543.919172 526.090909 \nL 544.122243 407.955137 \nL 544.203472 526.090909 \nL 544.244086 329.003012 \nL 544.325315 424.330393 \nL 544.365929 475.795481 \nL 544.447158 384.561915 \nL 544.487772 471.116837 \nL 544.569 290.404196 \nL 544.609615 403.861323 \nL 544.690843 407.370307 \nL 544.731458 526.090909 \nL 544.812686 449.478107 \nL 544.853301 526.090909 \nL 544.893915 481.643787 \nL 544.975144 526.090909 \nL 545.015758 296.837332 \nL 545.096987 526.090909 \nL 545.137601 434.857343 \nL 545.178215 480.474126 \nL 545.259444 468.777515 \nL 545.300058 469.362345 \nL 545.421901 496.849381 \nL 545.50313 526.090909 \nL 545.543744 386.901237 \nL 545.624973 526.090909 \nL 545.665587 465.853362 \nL 545.746815 475.795481 \nL 545.828044 367.016998 \nL 545.909273 526.090909 \nL 545.949887 426.669715 \nL 545.990501 364.092846 \nL 546.031116 424.330393 \nL 546.112344 526.090909 \nL 546.152959 460.005056 \nL 546.193573 431.348359 \nL 546.274801 526.090909 \nL 546.315416 476.965143 \nL 546.35603 496.849381 \nL 546.396644 462.344379 \nL 546.437259 465.268531 \nL 546.518487 433.102851 \nL 546.64033 506.791501 \nL 546.680945 499.773534 \nL 546.802788 526.090909 \nL 546.843402 526.090909 \nL 546.92463 451.817429 \nL 546.965245 526.090909 \nL 547.046473 503.867348 \nL 547.127702 526.090909 \nL 547.168316 433.687682 \nL 547.208931 526.090909 \nL 547.249545 503.867348 \nL 547.290159 454.156751 \nL 547.330774 526.090909 \nL 547.452616 526.090909 \nL 547.533845 402.106832 \nL 547.574459 473.456159 \nL 547.696302 441.290479 \nL 547.736917 347.71759 \nL 547.818145 376.374287 \nL 547.899374 357.074879 \nL 547.939988 526.090909 \nL 547.980602 366.432168 \nL 548.061831 406.785476 \nL 548.102445 526.090909 \nL 548.183674 502.697687 \nL 548.264903 526.090909 \nL 548.305517 437.196665 \nL 548.346131 526.090909 \nL 548.386746 423.745562 \nL 548.42736 428.424207 \nL 548.467974 447.723615 \nL 548.549203 526.090909 \nL 548.589817 230.166649 \nL 548.671046 402.691662 \nL 548.71166 526.090909 \nL 548.752274 414.973104 \nL 548.792889 378.128779 \nL 548.955346 526.090909 \nL 548.99596 378.128779 \nL 549.036575 467.607854 \nL 549.117803 526.090909 \nL 549.158417 391.579882 \nL 549.239646 490.416245 \nL 549.28026 470.532006 \nL 549.320875 526.090909 \nL 549.361489 468.192684 \nL 549.402103 468.192684 \nL 549.523946 526.090909 \nL 549.605175 526.090909 \nL 549.727018 323.739537 \nL 549.808246 526.090909 \nL 549.848861 421.99107 \nL 549.889475 493.340398 \nL 549.930089 439.535987 \nL 549.970704 334.266487 \nL 550.011318 440.705648 \nL 550.092547 474.04099 \nL 550.133161 448.893276 \nL 550.255004 526.090909 \nL 550.295618 454.741581 \nL 550.376847 461.174718 \nL 550.417461 526.090909 \nL 550.49869 411.46412 \nL 550.579918 526.090909 \nL 550.701761 402.106832 \nL 550.78299 526.090909 \nL 550.904833 312.627757 \nL 551.06729 506.20667 \nL 551.107904 526.090909 \nL 551.148519 471.116837 \nL 551.189133 498.019042 \nL 551.310976 526.090909 \nL 551.392205 454.741581 \nL 551.473433 526.090909 \nL 551.514047 464.09887 \nL 551.554662 499.188704 \nL 551.63589 526.090909 \nL 551.717119 478.719634 \nL 551.798348 526.090909 \nL 551.838962 457.080904 \nL 551.920191 490.416245 \nL 551.960805 454.156751 \nL 552.001419 481.643787 \nL 552.042033 526.090909 \nL 552.082648 461.759548 \nL 552.163876 461.759548 \nL 552.285719 526.090909 \nL 552.326334 526.090909 \nL 552.488791 374.619796 \nL 552.570019 526.090909 \nL 552.610634 412.048951 \nL 552.691862 460.589887 \nL 552.773091 526.090909 \nL 552.813705 483.983109 \nL 552.85432 509.130823 \nL 552.935548 502.697687 \nL 552.976163 455.326412 \nL 553.057391 475.795481 \nL 553.219848 526.090909 \nL 553.301077 385.146746 \nL 553.341691 483.398279 \nL 553.42292 483.398279 \nL 553.463534 526.090909 \nL 553.544763 421.99107 \nL 553.585377 526.090909 \nL 553.625992 479.304465 \nL 553.70722 376.374287 \nL 553.788449 486.322431 \nL 553.829063 446.553954 \nL 553.910292 470.532006 \nL 553.950906 478.134804 \nL 553.99152 451.817429 \nL 554.072749 510.885315 \nL 554.235206 389.240559 \nL 554.478892 526.090909 \nL 554.519506 493.340398 \nL 554.560121 526.090909 \nL 554.600735 526.090909 \nL 554.681964 245.957074 \nL 554.722578 483.983109 \nL 554.763192 448.893276 \nL 554.803807 474.62582 \nL 554.844421 526.090909 \nL 554.885035 465.268531 \nL 554.925649 507.961162 \nL 555.006878 385.146746 \nL 555.088107 398.597848 \nL 555.128721 398.013018 \nL 555.169335 398.597848 \nL 555.291178 526.090909 \nL 555.49425 398.013018 \nL 555.616093 398.597848 \nL 555.697321 526.090909 \nL 555.737936 458.835395 \nL 555.819164 329.003012 \nL 555.859779 526.090909 \nL 555.900393 379.883271 \nL 555.941007 379.883271 \nL 556.022236 526.090909 \nL 556.06285 506.20667 \nL 556.144079 526.090909 \nL 556.184693 461.174718 \nL 556.225307 494.510059 \nL 556.265922 509.130823 \nL 556.306536 492.755568 \nL 556.34715 484.56794 \nL 556.468993 526.090909 \nL 556.509608 344.208607 \nL 556.550222 526.090909 \nL 556.590836 526.090909 \nL 556.63145 454.156751 \nL 556.672065 526.090909 \nL 556.712679 526.090909 \nL 556.875136 433.102851 \nL 556.996979 526.090909 \nL 557.037594 502.697687 \nL 557.078208 351.811404 \nL 557.118822 501.528026 \nL 557.159436 526.090909 \nL 557.200051 350.056912 \nL 557.240665 526.090909 \nL 557.281279 487.492093 \nL 557.321894 526.090909 \nL 557.443737 526.090909 \nL 557.606194 393.334373 \nL 557.646808 526.090909 \nL 557.728037 512.054976 \nL 557.84988 526.090909 \nL 557.890494 526.090909 \nL 557.971723 499.188704 \nL 558.012337 526.090909 \nL 558.052951 496.264551 \nL 558.093566 494.510059 \nL 558.215409 445.384293 \nL 558.256023 506.791501 \nL 558.296637 441.290479 \nL 558.337251 441.290479 \nL 558.377866 445.384293 \nL 558.41848 526.090909 \nL 558.459094 491.585906 \nL 558.540323 494.510059 \nL 558.580937 436.611834 \nL 558.743395 526.090909 \nL 558.784009 526.090909 \nL 558.824623 439.535987 \nL 558.865237 526.090909 \nL 558.98708 526.090909 \nL 559.027695 407.370307 \nL 559.068309 526.090909 \nL 559.352609 526.090909 \nL 559.393223 414.388273 \nL 559.433838 526.090909 \nL 559.515066 526.090909 \nL 559.555681 505.037009 \nL 559.636909 338.945132 \nL 559.718138 526.090909 \nL 559.758752 485.15277 \nL 559.799367 526.090909 \nL 559.839981 491.001076 \nL 559.92121 392.164712 \nL 560.002438 367.601829 \nL 560.043052 526.090909 \nL 560.083667 416.727595 \nL 560.083667 416.727595 \n\" style=\"fill:none;stroke:#1f77b4;stroke-linecap:square;stroke-width:1.5;\"/>\n   </g>\n   <g id=\"patch_3\">\n    <path d=\"M 27.447303 550.8 \nL 27.447303 7.2 \n\" style=\"fill:none;stroke:#000000;stroke-linecap:square;stroke-linejoin:miter;stroke-width:0.8;\"/>\n   </g>\n   <g id=\"patch_4\">\n    <path d=\"M 585.447303 550.8 \nL 585.447303 7.2 \n\" style=\"fill:none;stroke:#000000;stroke-linecap:square;stroke-linejoin:miter;stroke-width:0.8;\"/>\n   </g>\n   <g id=\"patch_5\">\n    <path d=\"M 27.447303 550.8 \nL 585.447303 550.8 \n\" style=\"fill:none;stroke:#000000;stroke-linecap:square;stroke-linejoin:miter;stroke-width:0.8;\"/>\n   </g>\n   <g id=\"patch_6\">\n    <path d=\"M 27.447303 7.2 \nL 585.447303 7.2 \n\" style=\"fill:none;stroke:#000000;stroke-linecap:square;stroke-linejoin:miter;stroke-width:0.8;\"/>\n   </g>\n  </g>\n </g>\n <defs>\n  <clipPath id=\"pf499886148\">\n   <rect height=\"543.6\" width=\"558\" x=\"27.447303\" y=\"7.2\"/>\n  </clipPath>\n </defs>\n</svg>\n",
      "image/png": "[encoded data removed]"
     },
     "metadata": {
      "needs_background": "light"
     }
    }
   ],
   "metadata": {}
  },
  {
   "cell_type": "markdown",
   "source": [
    "# Conclusion\n",
    "\n",
    "So we can see that most of the comments had more a negative to neutral sentiment in regards to the vaccnine. I find myself pretty surpised that there were that many negative things said about a vaccine getting out with the fact of us still in a pandemic and know that majority of people want to be back in a normal setting again."
   ],
   "metadata": {}
  },
  {
   "cell_type": "markdown",
   "source": [
    "Here is the graph that is showing the number of comments with a neutral sentiment."
   ],
   "metadata": {}
  },
  {
   "cell_type": "markdown",
   "source": [
    "For this portion of the project I am using a library tool called nltk, it is short for \"Natural Language Toolkit\". This tool is used in working in computational linguistics, it guides the reader through the fundamentals of writing Python programs, working with corpora, categorizing text, analyzing linguistic structure, and more.\n",
    "The Tokenzing is a way to seperate words in a sentence using the most common delimeter \",\" , for example lets say you are analyzing a long sentence and you want to brake it up word by word to see what words, phrases, and more are in the sentence this is what make nltk a resource fool tool when playing with a huge dataset."
   ],
   "metadata": {}
  },
  {
   "cell_type": "code",
   "execution_count": 14,
   "source": [
    "import nltk\n",
    "from nltk import tokenize as tk\n",
    "from nltk import FreqDist\n",
    "from nltk.corpus import stopwords\n",
    "import matplotlib\n",
    "import string\n",
    "from collections import Counter\n",
    "nltk.download('punkt')\n",
    "nltk.download('stopwords')"
   ],
   "outputs": [
    {
     "output_type": "stream",
     "name": "stderr",
     "text": [
      "[nltk_data] Downloading package punkt to /Users/tjmcvay/nltk_data...\n",
      "[nltk_data]   Package punkt is already up-to-date!\n",
      "[nltk_data] Downloading package stopwords to\n",
      "[nltk_data]     /Users/tjmcvay/nltk_data...\n",
      "[nltk_data]   Package stopwords is already up-to-date!\n"
     ]
    },
    {
     "output_type": "execute_result",
     "data": {
      "text/plain": [
       "True"
      ]
     },
     "metadata": {},
     "execution_count": 14
    }
   ],
   "metadata": {
    "scrolled": true
   }
  },
  {
   "cell_type": "code",
   "execution_count": 15,
   "source": [
    "en_only['text_lower'] = [x.lower() for x in en_only['Full Text']]\n",
    "en_only['text_lower'].head(20)"
   ],
   "outputs": [
    {
     "output_type": "execute_result",
     "data": {
      "text/plain": [
       "0     i got the moderna vaccine, hereâ€™s my list of...\n",
       "1     @charlotte haggerty do you really believe ever...\n",
       "2     i hate it when they say \"you don't want a covi...\n",
       "3     @sweet heart well, quantas, an australian airl...\n",
       "4     @angryangy here they recommend a flu shot duri...\n",
       "5     we don't need a corona vaccine, we need a come...\n",
       "6     i had no idea of who this guy was prior to thi...\n",
       "7     @angryangy zero medical test is done before se...\n",
       "8     @justin kirschenman i don't know about your lo...\n",
       "9     remember when the french scientist said test a...\n",
       "10    @angryangy i've only said to limit vaccines an...\n",
       "11    use your brain please , samiitb so many people...\n",
       "12    @krish soni , i am assuming that english isn't...\n",
       "13    the south african variant is the one to keep y...\n",
       "14                part of the satan gates vaccine club!\n",
       "15    enough of the lies already. it is patently rid...\n",
       "16    @angryangy america has a different schedule. a...\n",
       "17    i love the jre, but joe is pretty careless, no...\n",
       "18    @charlie williamson look at the ingredients in...\n",
       "19    @kristi allman first of all, autism is not 'no...\n",
       "Name: text_lower, dtype: object"
      ]
     },
     "metadata": {},
     "execution_count": 15
    }
   ],
   "metadata": {}
  },
  {
   "cell_type": "code",
   "execution_count": 16,
   "source": [
    "yt_vac['tokens'] = [tk.word_tokenize(x) for x in yt_vac['Full Text']]\n",
    "yt_vac['tokens'].head(5)"
   ],
   "outputs": [
    {
     "output_type": "execute_result",
     "data": {
      "text/plain": [
       "0    [I, got, the, Moderna, vaccine, ,, hereâ€™s, m...\n",
       "1    [@, Charlotte, Haggerty, Do, you, really, beli...\n",
       "2    [I, hate, it, when, they, say, ``, You, do, n'...\n",
       "3    [@, Sweet, Heart, Well, ,, Quantas, ,, an, Aus...\n",
       "4    [@, AngryAngy, Here, they, recommend, a, flu, ...\n",
       "Name: tokens, dtype: object"
      ]
     },
     "metadata": {},
     "execution_count": 16
    }
   ],
   "metadata": {}
  },
  {
   "cell_type": "markdown",
   "source": [
    "As I did before I loaded in the comment from the data set and i decided to make looking at a lot of sentence easier by making all of the words all lower case and then just showed the first 5 rows in the dataset."
   ],
   "metadata": {}
  },
  {
   "cell_type": "code",
   "execution_count": 17,
   "source": [
    "yt_vac['tokens'][2]"
   ],
   "outputs": [
    {
     "output_type": "execute_result",
     "data": {
      "text/plain": [
       "['I',\n",
       " 'hate',\n",
       " 'it',\n",
       " 'when',\n",
       " 'they',\n",
       " 'say',\n",
       " '``',\n",
       " 'You',\n",
       " 'do',\n",
       " \"n't\",\n",
       " 'want',\n",
       " 'a',\n",
       " 'covid',\n",
       " 'vaccine',\n",
       " '?',\n",
       " 'Well',\n",
       " ',',\n",
       " 'it',\n",
       " 'worked',\n",
       " 'for',\n",
       " 'smallpox',\n",
       " 'and',\n",
       " 'polio',\n",
       " '!',\n",
       " '!',\n",
       " '!',\n",
       " \"''\",\n",
       " '.',\n",
       " 'Yeah',\n",
       " 'but',\n",
       " 'here',\n",
       " \"'s\",\n",
       " 'the',\n",
       " 'difference',\n",
       " ':',\n",
       " 'covid',\n",
       " 'is',\n",
       " \"n't\",\n",
       " 'even',\n",
       " '0.1',\n",
       " '%',\n",
       " 'as',\n",
       " 'deadly',\n",
       " 'as',\n",
       " 'smallpox',\n",
       " 'for',\n",
       " 'example',\n",
       " '.',\n",
       " 'That',\n",
       " \"'s\",\n",
       " 'my',\n",
       " 'issue',\n",
       " 'with',\n",
       " 'it',\n",
       " '.',\n",
       " 'I',\n",
       " \"'m\",\n",
       " 'definitely',\n",
       " 'not',\n",
       " 'against',\n",
       " 'vaccines',\n",
       " ',',\n",
       " 'it',\n",
       " 'would',\n",
       " 'be',\n",
       " 'stupid',\n",
       " 'to',\n",
       " 'be',\n",
       " 'against',\n",
       " 'such',\n",
       " 'a',\n",
       " 'great',\n",
       " 'advancement',\n",
       " 'of',\n",
       " 'mankind',\n",
       " '.',\n",
       " 'But',\n",
       " 'should',\n",
       " 'we',\n",
       " 'vaccinate',\n",
       " 'ourselves',\n",
       " 'against',\n",
       " 'everything',\n",
       " '?',\n",
       " 'I',\n",
       " 'mean',\n",
       " 'cmon',\n",
       " '...',\n",
       " 'I',\n",
       " 'support',\n",
       " 'covid',\n",
       " 'vaccinations',\n",
       " 'for',\n",
       " 'people',\n",
       " 'older',\n",
       " 'than',\n",
       " '65',\n",
       " 'etc',\n",
       " 'but',\n",
       " 'definitely',\n",
       " 'not',\n",
       " 'for',\n",
       " 'people',\n",
       " 'between',\n",
       " 'the',\n",
       " 'ages',\n",
       " 'of',\n",
       " '0-35',\n",
       " '...']"
      ]
     },
     "metadata": {},
     "execution_count": 17
    }
   ],
   "metadata": {
    "scrolled": true
   }
  },
  {
   "cell_type": "markdown",
   "source": [
    "Here above is me using the tokenizing tool for the 3 sentence in the row, and we can see how they are seperated word by word with a comma breaking each word up. We can see that it wont show me the whole sentence since its a pretty long one."
   ],
   "metadata": {}
  },
  {
   "cell_type": "markdown",
   "source": [
    "Lines 13-15\n",
    "\n",
    "Here I loaded in the data for it to be tokenized and so I chose the 3rd element to tokenized."
   ],
   "metadata": {}
  },
  {
   "cell_type": "code",
   "execution_count": 18,
   "source": [
    "len(stopwords.words('english'))"
   ],
   "outputs": [
    {
     "output_type": "execute_result",
     "data": {
      "text/plain": [
       "179"
      ]
     },
     "metadata": {},
     "execution_count": 18
    }
   ],
   "metadata": {}
  },
  {
   "cell_type": "code",
   "execution_count": 19,
   "source": [
    "mystopwords = stopwords.words('english')\n",
    "mystopwords.append(\"'.\")\n",
    "mystopwords.append(\"'s\")\n",
    "len(mystopwords)"
   ],
   "outputs": [
    {
     "output_type": "execute_result",
     "data": {
      "text/plain": [
       "181"
      ]
     },
     "metadata": {},
     "execution_count": 19
    }
   ],
   "metadata": {}
  },
  {
   "cell_type": "markdown",
   "source": [
    "Here I wanted to figure out how many stopwords were in the entire comments section. A stopword is a commonly used word such as \"the\", \"a\", \"an\", and etc that search engines tend to be programmed to ignore. When using this tool there is a way to get rid of all of those stopwords to help cut down the amount of words in the dataset but for this instance I just want to know how my stopwards have been recognized. and we see that nltk found 179 which is just more of an guess because there are many words that are considered stopwords so the tool did its best to identify how many there were.\n",
    "\n",
    "Now in the line following it, I decided to specify what stopwards I wanted to be identified and I chose the \".\" and \"'s\", as I mentioned before there tons of stopwards that can considered so we see the total for both of those are 181."
   ],
   "metadata": {}
  },
  {
   "cell_type": "code",
   "execution_count": 20,
   "source": [
    "filtered = []\n",
    "for i in yt_vac['tokens']:\n",
    "    filtered.append([word for word in i if word not in mystopwords])\n",
    "    \n",
    "yt_vac['filtered'] = filtered"
   ],
   "outputs": [],
   "metadata": {}
  },
  {
   "cell_type": "code",
   "execution_count": 21,
   "source": [
    "yt_vac['filtered'][2]"
   ],
   "outputs": [
    {
     "output_type": "execute_result",
     "data": {
      "text/plain": [
       "['I',\n",
       " 'hate',\n",
       " 'say',\n",
       " '``',\n",
       " 'You',\n",
       " \"n't\",\n",
       " 'want',\n",
       " 'covid',\n",
       " 'vaccine',\n",
       " '?',\n",
       " 'Well',\n",
       " ',',\n",
       " 'worked',\n",
       " 'smallpox',\n",
       " 'polio',\n",
       " '!',\n",
       " '!',\n",
       " '!',\n",
       " \"''\",\n",
       " '.',\n",
       " 'Yeah',\n",
       " 'difference',\n",
       " ':',\n",
       " 'covid',\n",
       " \"n't\",\n",
       " 'even',\n",
       " '0.1',\n",
       " '%',\n",
       " 'deadly',\n",
       " 'smallpox',\n",
       " 'example',\n",
       " '.',\n",
       " 'That',\n",
       " 'issue',\n",
       " '.',\n",
       " 'I',\n",
       " \"'m\",\n",
       " 'definitely',\n",
       " 'vaccines',\n",
       " ',',\n",
       " 'would',\n",
       " 'stupid',\n",
       " 'great',\n",
       " 'advancement',\n",
       " 'mankind',\n",
       " '.',\n",
       " 'But',\n",
       " 'vaccinate',\n",
       " 'everything',\n",
       " '?',\n",
       " 'I',\n",
       " 'mean',\n",
       " 'cmon',\n",
       " '...',\n",
       " 'I',\n",
       " 'support',\n",
       " 'covid',\n",
       " 'vaccinations',\n",
       " 'people',\n",
       " 'older',\n",
       " '65',\n",
       " 'etc',\n",
       " 'definitely',\n",
       " 'people',\n",
       " 'ages',\n",
       " '0-35',\n",
       " '...']"
      ]
     },
     "metadata": {},
     "execution_count": 21
    }
   ],
   "metadata": {}
  },
  {
   "cell_type": "markdown",
   "source": [
    "Here I created a function where I implemented a way for python to filter out the two certain stopwords I chose out of all of the comments in the dataset."
   ],
   "metadata": {}
  },
  {
   "cell_type": "code",
   "execution_count": 22,
   "source": [
    "string.punctuation"
   ],
   "outputs": [
    {
     "output_type": "execute_result",
     "data": {
      "text/plain": [
       "'!\"#$%&\\'()*+,-./:;<=>?@[\\\\]^_`{|}~'"
      ]
     },
     "metadata": {},
     "execution_count": 22
    }
   ],
   "metadata": {}
  },
  {
   "cell_type": "code",
   "execution_count": 23,
   "source": [
    "no_punct = []\n",
    "for i in yt_vac['filtered']:\n",
    "    no_punct.append([word for word in i if word not in string.punctuation])"
   ],
   "outputs": [],
   "metadata": {}
  },
  {
   "cell_type": "code",
   "execution_count": 24,
   "source": [
    "yt_vac['no_punct'] = no_punct\n",
    "yt_vac['no_punct'][2]"
   ],
   "outputs": [
    {
     "output_type": "execute_result",
     "data": {
      "text/plain": [
       "['I',\n",
       " 'hate',\n",
       " 'say',\n",
       " '``',\n",
       " 'You',\n",
       " \"n't\",\n",
       " 'want',\n",
       " 'covid',\n",
       " 'vaccine',\n",
       " 'Well',\n",
       " 'worked',\n",
       " 'smallpox',\n",
       " 'polio',\n",
       " \"''\",\n",
       " 'Yeah',\n",
       " 'difference',\n",
       " 'covid',\n",
       " \"n't\",\n",
       " 'even',\n",
       " '0.1',\n",
       " 'deadly',\n",
       " 'smallpox',\n",
       " 'example',\n",
       " 'That',\n",
       " 'issue',\n",
       " 'I',\n",
       " \"'m\",\n",
       " 'definitely',\n",
       " 'vaccines',\n",
       " 'would',\n",
       " 'stupid',\n",
       " 'great',\n",
       " 'advancement',\n",
       " 'mankind',\n",
       " 'But',\n",
       " 'vaccinate',\n",
       " 'everything',\n",
       " 'I',\n",
       " 'mean',\n",
       " 'cmon',\n",
       " '...',\n",
       " 'I',\n",
       " 'support',\n",
       " 'covid',\n",
       " 'vaccinations',\n",
       " 'people',\n",
       " 'older',\n",
       " '65',\n",
       " 'etc',\n",
       " 'definitely',\n",
       " 'people',\n",
       " 'ages',\n",
       " '0-35',\n",
       " '...']"
      ]
     },
     "metadata": {},
     "execution_count": 24
    }
   ],
   "metadata": {
    "scrolled": true
   }
  },
  {
   "cell_type": "markdown",
   "source": [
    "Lines 18 - 22\n",
    "\n",
    "Here I am filtering out any string punctuation that is found in any of the comments."
   ],
   "metadata": {}
  },
  {
   "cell_type": "code",
   "execution_count": 25,
   "source": [
    "freq1 = [FreqDist(x) for x in yt_vac['no_punct']]\n",
    "yt_vac['freqs1'] = freq1\n",
    "yt_vac['freqs1']"
   ],
   "outputs": [
    {
     "output_type": "execute_result",
     "data": {
      "text/plain": [
       "0        {'I': 1, 'got': 1, 'Moderna': 1, 'vaccine': 1,...\n",
       "1        {'Charlotte': 1, 'Haggerty': 1, 'Do': 1, 'real...\n",
       "2        {'I': 4, 'hate': 1, 'say': 1, '``': 1, 'You': ...\n",
       "3        {'Sweet': 1, 'Heart': 1, 'Well': 1, 'Quantas':...\n",
       "4        {'AngryAngy': 1, 'Here': 1, 'recommend': 1, 'f...\n",
       "                               ...                        \n",
       "12486    {'Pfizer': 1, 'The': 1, 'fined': 1, 'Corporati...\n",
       "12487    {'How': 2, 'women': 1, 'first': 3, 'person': 2...\n",
       "12488    {'Breast': 1, 'cancer': 1, 'survivor': 1, 'goo...\n",
       "12489    {'Panel': 1, 'members': 1, 'first': 1, 'get': ...\n",
       "12490    {'Tom': 1, 'R': 1, 'It': 2, 'wo': 1, 'n't': 1,...\n",
       "Name: freqs1, Length: 12491, dtype: object"
      ]
     },
     "metadata": {},
     "execution_count": 25
    }
   ],
   "metadata": {}
  },
  {
   "cell_type": "markdown",
   "source": [
    "Above I plemented a function to count the frequency of each word that has been used in the whole comment section."
   ],
   "metadata": {}
  },
  {
   "cell_type": "code",
   "execution_count": 26,
   "source": [
    "A = Counter(yt_vac['freqs1'][0])\n",
    "B = Counter(yt_vac['freqs1'][2])\n",
    "A + B"
   ],
   "outputs": [
    {
     "output_type": "execute_result",
     "data": {
      "text/plain": [
       "Counter({'I': 5,\n",
       "         'got': 1,\n",
       "         'Moderna': 1,\n",
       "         'vaccine': 2,\n",
       "         'hereâ€™s': 1,\n",
       "         'list': 1,\n",
       "         'side': 1,\n",
       "         'effects': 1,\n",
       "         'https': 1,\n",
       "         '//youtu.be/9sWYGYNuJAo': 1,\n",
       "         'hate': 1,\n",
       "         'say': 1,\n",
       "         '``': 1,\n",
       "         'You': 1,\n",
       "         \"n't\": 2,\n",
       "         'want': 1,\n",
       "         'covid': 3,\n",
       "         'Well': 1,\n",
       "         'worked': 1,\n",
       "         'smallpox': 2,\n",
       "         'polio': 1,\n",
       "         \"''\": 1,\n",
       "         'Yeah': 1,\n",
       "         'difference': 1,\n",
       "         'even': 1,\n",
       "         '0.1': 1,\n",
       "         'deadly': 1,\n",
       "         'example': 1,\n",
       "         'That': 1,\n",
       "         'issue': 1,\n",
       "         \"'m\": 1,\n",
       "         'definitely': 2,\n",
       "         'vaccines': 1,\n",
       "         'would': 1,\n",
       "         'stupid': 1,\n",
       "         'great': 1,\n",
       "         'advancement': 1,\n",
       "         'mankind': 1,\n",
       "         'But': 1,\n",
       "         'vaccinate': 1,\n",
       "         'everything': 1,\n",
       "         'mean': 1,\n",
       "         'cmon': 1,\n",
       "         '...': 2,\n",
       "         'support': 1,\n",
       "         'vaccinations': 1,\n",
       "         'people': 2,\n",
       "         'older': 1,\n",
       "         '65': 1,\n",
       "         'etc': 1,\n",
       "         'ages': 1,\n",
       "         '0-35': 1})"
      ]
     },
     "metadata": {},
     "execution_count": 26
    }
   ],
   "metadata": {}
  },
  {
   "cell_type": "markdown",
   "source": [
    "In the example above I took the first two comments in the column and found the frequency of how many times each word has been used in both of those sentences. We can see most only use the word once but the greatest word that has been used in both comment is \"I\" which totaled 5."
   ],
   "metadata": {}
  },
  {
   "cell_type": "code",
   "execution_count": 27,
   "source": [
    "yt_vac['f1_counts'] = [Counter(x) for x in yt_vac['freqs1']]\n",
    "yt_vac['f1_counts'][2]"
   ],
   "outputs": [
    {
     "output_type": "execute_result",
     "data": {
      "text/plain": [
       "Counter({'I': 4,\n",
       "         'hate': 1,\n",
       "         'say': 1,\n",
       "         '``': 1,\n",
       "         'You': 1,\n",
       "         \"n't\": 2,\n",
       "         'want': 1,\n",
       "         'covid': 3,\n",
       "         'vaccine': 1,\n",
       "         'Well': 1,\n",
       "         'worked': 1,\n",
       "         'smallpox': 2,\n",
       "         'polio': 1,\n",
       "         \"''\": 1,\n",
       "         'Yeah': 1,\n",
       "         'difference': 1,\n",
       "         'even': 1,\n",
       "         '0.1': 1,\n",
       "         'deadly': 1,\n",
       "         'example': 1,\n",
       "         'That': 1,\n",
       "         'issue': 1,\n",
       "         \"'m\": 1,\n",
       "         'definitely': 2,\n",
       "         'vaccines': 1,\n",
       "         'would': 1,\n",
       "         'stupid': 1,\n",
       "         'great': 1,\n",
       "         'advancement': 1,\n",
       "         'mankind': 1,\n",
       "         'But': 1,\n",
       "         'vaccinate': 1,\n",
       "         'everything': 1,\n",
       "         'mean': 1,\n",
       "         'cmon': 1,\n",
       "         '...': 2,\n",
       "         'support': 1,\n",
       "         'vaccinations': 1,\n",
       "         'people': 2,\n",
       "         'older': 1,\n",
       "         '65': 1,\n",
       "         'etc': 1,\n",
       "         'ages': 1,\n",
       "         '0-35': 1})"
      ]
     },
     "metadata": {},
     "execution_count": 27
    }
   ],
   "metadata": {}
  },
  {
   "cell_type": "markdown",
   "source": [
    "Above is another function that counts the amount of words used over again in each sentence."
   ],
   "metadata": {}
  },
  {
   "cell_type": "code",
   "execution_count": 28,
   "source": [
    "wordcounts = Counter()\n",
    "for i in yt_vac['f1_counts']:\n",
    "    wordcounts += i"
   ],
   "outputs": [],
   "metadata": {}
  },
  {
   "cell_type": "markdown",
   "source": [
    "Above is the loop to count the number of words."
   ],
   "metadata": {}
  },
  {
   "cell_type": "code",
   "execution_count": 29,
   "source": [
    "len(wordcounts)"
   ],
   "outputs": [
    {
     "output_type": "execute_result",
     "data": {
      "text/plain": [
       "39806"
      ]
     },
     "metadata": {},
     "execution_count": 29
    }
   ],
   "metadata": {}
  },
  {
   "cell_type": "markdown",
   "source": [
    "Total number of words "
   ],
   "metadata": {}
  },
  {
   "cell_type": "code",
   "execution_count": 30,
   "source": [
    "type(wordcounts)"
   ],
   "outputs": [
    {
     "output_type": "execute_result",
     "data": {
      "text/plain": [
       "collections.Counter"
      ]
     },
     "metadata": {},
     "execution_count": 30
    }
   ],
   "metadata": {}
  },
  {
   "cell_type": "code",
   "execution_count": 40,
   "source": [
    " dict1 = dict(wordcounts)\n",
    " #dict1"
   ],
   "outputs": [],
   "metadata": {
    "scrolled": false
   }
  },
  {
   "cell_type": "markdown",
   "source": [
    "I decided to comment out the section above because it was going to generate the total words in the dataset and count how many times there were said until I organize the dataset using pandas."
   ],
   "metadata": {}
  },
  {
   "cell_type": "code",
   "execution_count": 32,
   "source": [
    "counts = pd.DataFrame.from_dict(dict(wordcounts), orient ='index')\n",
    "counts"
   ],
   "outputs": [
    {
     "output_type": "execute_result",
     "data": {
      "text/plain": [
       "              0\n",
       "I          6886\n",
       "got         667\n",
       "Moderna     273\n",
       "vaccine   15647\n",
       "hereâ€™s      9\n",
       "...         ...\n",
       "Hindi         1\n",
       "Urdu          1\n",
       "œðŸ           1\n",
       "libel         1\n",
       "Breast        1\n",
       "\n",
       "[39806 rows x 1 columns]"
      ],
      "text/html": [
       "<div>\n",
       "<style scoped>\n",
       "    .dataframe tbody tr th:only-of-type {\n",
       "        vertical-align: middle;\n",
       "    }\n",
       "\n",
       "    .dataframe tbody tr th {\n",
       "        vertical-align: top;\n",
       "    }\n",
       "\n",
       "    .dataframe thead th {\n",
       "        text-align: right;\n",
       "    }\n",
       "</style>\n",
       "<table border=\"1\" class=\"dataframe\">\n",
       "  <thead>\n",
       "    <tr style=\"text-align: right;\">\n",
       "      <th></th>\n",
       "      <th>0</th>\n",
       "    </tr>\n",
       "  </thead>\n",
       "  <tbody>\n",
       "    <tr>\n",
       "      <th>I</th>\n",
       "      <td>6886</td>\n",
       "    </tr>\n",
       "    <tr>\n",
       "      <th>got</th>\n",
       "      <td>667</td>\n",
       "    </tr>\n",
       "    <tr>\n",
       "      <th>Moderna</th>\n",
       "      <td>273</td>\n",
       "    </tr>\n",
       "    <tr>\n",
       "      <th>vaccine</th>\n",
       "      <td>15647</td>\n",
       "    </tr>\n",
       "    <tr>\n",
       "      <th>hereâ€™s</th>\n",
       "      <td>9</td>\n",
       "    </tr>\n",
       "    <tr>\n",
       "      <th>...</th>\n",
       "      <td>...</td>\n",
       "    </tr>\n",
       "    <tr>\n",
       "      <th>Hindi</th>\n",
       "      <td>1</td>\n",
       "    </tr>\n",
       "    <tr>\n",
       "      <th>Urdu</th>\n",
       "      <td>1</td>\n",
       "    </tr>\n",
       "    <tr>\n",
       "      <th>œðŸ</th>\n",
       "      <td>1</td>\n",
       "    </tr>\n",
       "    <tr>\n",
       "      <th>libel</th>\n",
       "      <td>1</td>\n",
       "    </tr>\n",
       "    <tr>\n",
       "      <th>Breast</th>\n",
       "      <td>1</td>\n",
       "    </tr>\n",
       "  </tbody>\n",
       "</table>\n",
       "<p>39806 rows × 1 columns</p>\n",
       "</div>"
      ]
     },
     "metadata": {},
     "execution_count": 32
    }
   ],
   "metadata": {}
  },
  {
   "cell_type": "code",
   "execution_count": 33,
   "source": [
    "counts = counts.rename(columns = {0: 'counts'})\n",
    "counts"
   ],
   "outputs": [
    {
     "output_type": "execute_result",
     "data": {
      "text/plain": [
       "          counts\n",
       "I           6886\n",
       "got          667\n",
       "Moderna      273\n",
       "vaccine    15647\n",
       "hereâ€™s       9\n",
       "...          ...\n",
       "Hindi          1\n",
       "Urdu           1\n",
       "œðŸ            1\n",
       "libel          1\n",
       "Breast         1\n",
       "\n",
       "[39806 rows x 1 columns]"
      ],
      "text/html": [
       "<div>\n",
       "<style scoped>\n",
       "    .dataframe tbody tr th:only-of-type {\n",
       "        vertical-align: middle;\n",
       "    }\n",
       "\n",
       "    .dataframe tbody tr th {\n",
       "        vertical-align: top;\n",
       "    }\n",
       "\n",
       "    .dataframe thead th {\n",
       "        text-align: right;\n",
       "    }\n",
       "</style>\n",
       "<table border=\"1\" class=\"dataframe\">\n",
       "  <thead>\n",
       "    <tr style=\"text-align: right;\">\n",
       "      <th></th>\n",
       "      <th>counts</th>\n",
       "    </tr>\n",
       "  </thead>\n",
       "  <tbody>\n",
       "    <tr>\n",
       "      <th>I</th>\n",
       "      <td>6886</td>\n",
       "    </tr>\n",
       "    <tr>\n",
       "      <th>got</th>\n",
       "      <td>667</td>\n",
       "    </tr>\n",
       "    <tr>\n",
       "      <th>Moderna</th>\n",
       "      <td>273</td>\n",
       "    </tr>\n",
       "    <tr>\n",
       "      <th>vaccine</th>\n",
       "      <td>15647</td>\n",
       "    </tr>\n",
       "    <tr>\n",
       "      <th>hereâ€™s</th>\n",
       "      <td>9</td>\n",
       "    </tr>\n",
       "    <tr>\n",
       "      <th>...</th>\n",
       "      <td>...</td>\n",
       "    </tr>\n",
       "    <tr>\n",
       "      <th>Hindi</th>\n",
       "      <td>1</td>\n",
       "    </tr>\n",
       "    <tr>\n",
       "      <th>Urdu</th>\n",
       "      <td>1</td>\n",
       "    </tr>\n",
       "    <tr>\n",
       "      <th>œðŸ</th>\n",
       "      <td>1</td>\n",
       "    </tr>\n",
       "    <tr>\n",
       "      <th>libel</th>\n",
       "      <td>1</td>\n",
       "    </tr>\n",
       "    <tr>\n",
       "      <th>Breast</th>\n",
       "      <td>1</td>\n",
       "    </tr>\n",
       "  </tbody>\n",
       "</table>\n",
       "<p>39806 rows × 1 columns</p>\n",
       "</div>"
      ]
     },
     "metadata": {},
     "execution_count": 33
    }
   ],
   "metadata": {}
  },
  {
   "cell_type": "code",
   "execution_count": 34,
   "source": [
    "count_sort = counts.sort_values('counts', ascending = False)[:40]\n",
    "count_sort"
   ],
   "outputs": [
    {
     "output_type": "execute_result",
     "data": {
      "text/plain": [
       "          counts\n",
       "vaccine    15647\n",
       "I           6886\n",
       "The         4863\n",
       "people      4499\n",
       "https       4469\n",
       "n't         4175\n",
       "``          2989\n",
       "''          2969\n",
       "get         2850\n",
       "take        2585\n",
       "...         2515\n",
       "virus       2502\n",
       "CNBC        2125\n",
       "like        1920\n",
       "--          1856\n",
       "vaccines    1752\n",
       "would       1741\n",
       "one         1690\n",
       "know        1643\n",
       "It          1625\n",
       "new         1596\n",
       "This        1482\n",
       "..          1437\n",
       "You         1403\n",
       "said        1402\n",
       "us          1279\n",
       "even        1263\n",
       "first       1254\n",
       "If          1253\n",
       "news        1244\n",
       "quot        1231\n",
       "covid       1227\n",
       "think       1215\n",
       "world       1169\n",
       "need        1169\n",
       "want        1156\n",
       "They        1151\n",
       "Â           1121\n",
       "make        1104\n",
       "A           1083"
      ],
      "text/html": [
       "<div>\n",
       "<style scoped>\n",
       "    .dataframe tbody tr th:only-of-type {\n",
       "        vertical-align: middle;\n",
       "    }\n",
       "\n",
       "    .dataframe tbody tr th {\n",
       "        vertical-align: top;\n",
       "    }\n",
       "\n",
       "    .dataframe thead th {\n",
       "        text-align: right;\n",
       "    }\n",
       "</style>\n",
       "<table border=\"1\" class=\"dataframe\">\n",
       "  <thead>\n",
       "    <tr style=\"text-align: right;\">\n",
       "      <th></th>\n",
       "      <th>counts</th>\n",
       "    </tr>\n",
       "  </thead>\n",
       "  <tbody>\n",
       "    <tr>\n",
       "      <th>vaccine</th>\n",
       "      <td>15647</td>\n",
       "    </tr>\n",
       "    <tr>\n",
       "      <th>I</th>\n",
       "      <td>6886</td>\n",
       "    </tr>\n",
       "    <tr>\n",
       "      <th>The</th>\n",
       "      <td>4863</td>\n",
       "    </tr>\n",
       "    <tr>\n",
       "      <th>people</th>\n",
       "      <td>4499</td>\n",
       "    </tr>\n",
       "    <tr>\n",
       "      <th>https</th>\n",
       "      <td>4469</td>\n",
       "    </tr>\n",
       "    <tr>\n",
       "      <th>n't</th>\n",
       "      <td>4175</td>\n",
       "    </tr>\n",
       "    <tr>\n",
       "      <th>``</th>\n",
       "      <td>2989</td>\n",
       "    </tr>\n",
       "    <tr>\n",
       "      <th>''</th>\n",
       "      <td>2969</td>\n",
       "    </tr>\n",
       "    <tr>\n",
       "      <th>get</th>\n",
       "      <td>2850</td>\n",
       "    </tr>\n",
       "    <tr>\n",
       "      <th>take</th>\n",
       "      <td>2585</td>\n",
       "    </tr>\n",
       "    <tr>\n",
       "      <th>...</th>\n",
       "      <td>2515</td>\n",
       "    </tr>\n",
       "    <tr>\n",
       "      <th>virus</th>\n",
       "      <td>2502</td>\n",
       "    </tr>\n",
       "    <tr>\n",
       "      <th>CNBC</th>\n",
       "      <td>2125</td>\n",
       "    </tr>\n",
       "    <tr>\n",
       "      <th>like</th>\n",
       "      <td>1920</td>\n",
       "    </tr>\n",
       "    <tr>\n",
       "      <th>--</th>\n",
       "      <td>1856</td>\n",
       "    </tr>\n",
       "    <tr>\n",
       "      <th>vaccines</th>\n",
       "      <td>1752</td>\n",
       "    </tr>\n",
       "    <tr>\n",
       "      <th>would</th>\n",
       "      <td>1741</td>\n",
       "    </tr>\n",
       "    <tr>\n",
       "      <th>one</th>\n",
       "      <td>1690</td>\n",
       "    </tr>\n",
       "    <tr>\n",
       "      <th>know</th>\n",
       "      <td>1643</td>\n",
       "    </tr>\n",
       "    <tr>\n",
       "      <th>It</th>\n",
       "      <td>1625</td>\n",
       "    </tr>\n",
       "    <tr>\n",
       "      <th>new</th>\n",
       "      <td>1596</td>\n",
       "    </tr>\n",
       "    <tr>\n",
       "      <th>This</th>\n",
       "      <td>1482</td>\n",
       "    </tr>\n",
       "    <tr>\n",
       "      <th>..</th>\n",
       "      <td>1437</td>\n",
       "    </tr>\n",
       "    <tr>\n",
       "      <th>You</th>\n",
       "      <td>1403</td>\n",
       "    </tr>\n",
       "    <tr>\n",
       "      <th>said</th>\n",
       "      <td>1402</td>\n",
       "    </tr>\n",
       "    <tr>\n",
       "      <th>us</th>\n",
       "      <td>1279</td>\n",
       "    </tr>\n",
       "    <tr>\n",
       "      <th>even</th>\n",
       "      <td>1263</td>\n",
       "    </tr>\n",
       "    <tr>\n",
       "      <th>first</th>\n",
       "      <td>1254</td>\n",
       "    </tr>\n",
       "    <tr>\n",
       "      <th>If</th>\n",
       "      <td>1253</td>\n",
       "    </tr>\n",
       "    <tr>\n",
       "      <th>news</th>\n",
       "      <td>1244</td>\n",
       "    </tr>\n",
       "    <tr>\n",
       "      <th>quot</th>\n",
       "      <td>1231</td>\n",
       "    </tr>\n",
       "    <tr>\n",
       "      <th>covid</th>\n",
       "      <td>1227</td>\n",
       "    </tr>\n",
       "    <tr>\n",
       "      <th>think</th>\n",
       "      <td>1215</td>\n",
       "    </tr>\n",
       "    <tr>\n",
       "      <th>world</th>\n",
       "      <td>1169</td>\n",
       "    </tr>\n",
       "    <tr>\n",
       "      <th>need</th>\n",
       "      <td>1169</td>\n",
       "    </tr>\n",
       "    <tr>\n",
       "      <th>want</th>\n",
       "      <td>1156</td>\n",
       "    </tr>\n",
       "    <tr>\n",
       "      <th>They</th>\n",
       "      <td>1151</td>\n",
       "    </tr>\n",
       "    <tr>\n",
       "      <th>Â</th>\n",
       "      <td>1121</td>\n",
       "    </tr>\n",
       "    <tr>\n",
       "      <th>make</th>\n",
       "      <td>1104</td>\n",
       "    </tr>\n",
       "    <tr>\n",
       "      <th>A</th>\n",
       "      <td>1083</td>\n",
       "    </tr>\n",
       "  </tbody>\n",
       "</table>\n",
       "</div>"
      ]
     },
     "metadata": {},
     "execution_count": 34
    }
   ],
   "metadata": {
    "scrolled": false
   }
  },
  {
   "cell_type": "markdown",
   "source": [
    "From the three tables above shows the total number times each word was said in all of the sentences from the comments section we see vaccine is said the most with a total of 15,647 times."
   ],
   "metadata": {}
  },
  {
   "cell_type": "code",
   "execution_count": 35,
   "source": [
    "fig, ax0 = plt.subplots(figsize=(15,10))\n",
    "ax0.bar(count_sort.index, count_sort['counts'])\n",
    "plt.xticks(rotation=90, fontsize = 'small')\n",
    "plt.yticks(fontsize = 'small')\n",
    "plt.show()"
   ],
   "outputs": [
    {
     "output_type": "display_data",
     "data": {
      "text/plain": [
       "<Figure size 1080x720 with 1 Axes>"
      ],
      "image/svg+xml": "<?xml version=\"1.0\" encoding=\"utf-8\" standalone=\"no\"?>\n<!DOCTYPE svg PUBLIC \"-//W3C//DTD SVG 1.1//EN\"\n  \"http://www.w3.org/Graphics/SVG/1.1/DTD/svg11.dtd\">\n<svg height=\"601.253722pt\" version=\"1.1\" viewBox=\"0 0 884.899812 601.253722\" width=\"884.899812pt\" xmlns=\"http://www.w3.org/2000/svg\" xmlns:xlink=\"http://www.w3.org/1999/xlink\">\n <metadata>\n  <rdf:RDF xmlns:cc=\"http://creativecommons.org/ns#\" xmlns:dc=\"http://purl.org/dc/elements/1.1/\" xmlns:rdf=\"http://www.w3.org/1999/02/22-rdf-syntax-ns#\">\n   <cc:Work>\n    <dc:type rdf:resource=\"http://purl.org/dc/dcmitype/StillImage\"/>\n    <dc:date>2021-08-10T17:40:30.327134</dc:date>\n    <dc:format>image/svg+xml</dc:format>\n    <dc:creator>\n     <cc:Agent>\n      <dc:title>Matplotlib v3.4.2, https://matplotlib.org/</dc:title>\n     </cc:Agent>\n    </dc:creator>\n   </cc:Work>\n  </rdf:RDF>\n </metadata>\n <defs>\n  <style type=\"text/css\">*{stroke-linecap:butt;stroke-linejoin:round;}</style>\n </defs>\n <g id=\"figure_1\">\n  <g id=\"patch_1\">\n   <path d=\"M 0 601.253722 \nL 884.899812 601.253722 \nL 884.899812 0 \nL 0 0 \nz\n\" style=\"fill:none;\"/>\n  </g>\n  <g id=\"axes_1\">\n   <g id=\"patch_2\">\n    <path d=\"M 40.699813 550.8 \nL 877.699813 550.8 \nL 877.699813 7.2 \nL 40.699813 7.2 \nz\n\" style=\"fill:#ffffff;\"/>\n   </g>\n   <g id=\"patch_3\">\n    <path clip-path=\"url(#p7f851fb60d)\" d=\"M 78.745267 550.8 \nL 94.039922 550.8 \nL 94.039922 33.085714 \nL 78.745267 33.085714 \nz\n\" style=\"fill:#1f77b4;\"/>\n   </g>\n   <g id=\"patch_4\">\n    <path clip-path=\"url(#p7f851fb60d)\" d=\"M 97.863586 550.8 \nL 113.158241 550.8 \nL 113.158241 322.962039 \nL 97.863586 322.962039 \nz\n\" style=\"fill:#1f77b4;\"/>\n   </g>\n   <g id=\"patch_5\">\n    <path clip-path=\"url(#p7f851fb60d)\" d=\"M 116.981905 550.8 \nL 132.27656 550.8 \nL 132.27656 389.897298 \nL 116.981905 389.897298 \nz\n\" style=\"fill:#1f77b4;\"/>\n   </g>\n   <g id=\"patch_6\">\n    <path clip-path=\"url(#p7f851fb60d)\" d=\"M 136.100224 550.8 \nL 151.394879 550.8 \nL 151.394879 401.941013 \nL 136.100224 401.941013 \nz\n\" style=\"fill:#1f77b4;\"/>\n   </g>\n   <g id=\"patch_7\">\n    <path clip-path=\"url(#p7f851fb60d)\" d=\"M 155.218543 550.8 \nL 170.513198 550.8 \nL 170.513198 402.933627 \nL 155.218543 402.933627 \nz\n\" style=\"fill:#1f77b4;\"/>\n   </g>\n   <g id=\"patch_8\">\n    <path clip-path=\"url(#p7f851fb60d)\" d=\"M 174.336861 550.8 \nL 189.631516 550.8 \nL 189.631516 412.661242 \nL 174.336861 412.661242 \nz\n\" style=\"fill:#1f77b4;\"/>\n   </g>\n   <g id=\"patch_9\">\n    <path clip-path=\"url(#p7f851fb60d)\" d=\"M 193.45518 550.8 \nL 208.749835 550.8 \nL 208.749835 451.902576 \nL 193.45518 451.902576 \nz\n\" style=\"fill:#1f77b4;\"/>\n   </g>\n   <g id=\"patch_10\">\n    <path clip-path=\"url(#p7f851fb60d)\" d=\"M 212.573499 550.8 \nL 227.868154 550.8 \nL 227.868154 452.564318 \nL 212.573499 452.564318 \nz\n\" style=\"fill:#1f77b4;\"/>\n   </g>\n   <g id=\"patch_11\">\n    <path clip-path=\"url(#p7f851fb60d)\" d=\"M 231.691818 550.8 \nL 246.986473 550.8 \nL 246.986473 456.501686 \nL 231.691818 456.501686 \nz\n\" style=\"fill:#1f77b4;\"/>\n   </g>\n   <g id=\"patch_12\">\n    <path clip-path=\"url(#p7f851fb60d)\" d=\"M 250.810137 550.8 \nL 266.104792 550.8 \nL 266.104792 465.269775 \nL 250.810137 465.269775 \nz\n\" style=\"fill:#1f77b4;\"/>\n   </g>\n   <g id=\"patch_13\">\n    <path clip-path=\"url(#p7f851fb60d)\" d=\"M 269.928456 550.8 \nL 285.223111 550.8 \nL 285.223111 467.585874 \nL 269.928456 467.585874 \nz\n\" style=\"fill:#1f77b4;\"/>\n   </g>\n   <g id=\"patch_14\">\n    <path clip-path=\"url(#p7f851fb60d)\" d=\"M 289.046775 550.8 \nL 304.34143 550.8 \nL 304.34143 468.016007 \nL 289.046775 468.016007 \nz\n\" style=\"fill:#1f77b4;\"/>\n   </g>\n   <g id=\"patch_15\">\n    <path clip-path=\"url(#p7f851fb60d)\" d=\"M 308.165093 550.8 \nL 323.459749 550.8 \nL 323.459749 480.489854 \nL 308.165093 480.489854 \nz\n\" style=\"fill:#1f77b4;\"/>\n   </g>\n   <g id=\"patch_16\">\n    <path clip-path=\"url(#p7f851fb60d)\" d=\"M 327.283412 550.8 \nL 342.578067 550.8 \nL 342.578067 487.272715 \nL 327.283412 487.272715 \nz\n\" style=\"fill:#1f77b4;\"/>\n   </g>\n   <g id=\"patch_17\">\n    <path clip-path=\"url(#p7f851fb60d)\" d=\"M 346.401731 550.8 \nL 361.696386 550.8 \nL 361.696386 489.390291 \nL 346.401731 489.390291 \nz\n\" style=\"fill:#1f77b4;\"/>\n   </g>\n   <g id=\"patch_18\">\n    <path clip-path=\"url(#p7f851fb60d)\" d=\"M 365.52005 550.8 \nL 380.814705 550.8 \nL 380.814705 492.831352 \nL 365.52005 492.831352 \nz\n\" style=\"fill:#1f77b4;\"/>\n   </g>\n   <g id=\"patch_19\">\n    <path clip-path=\"url(#p7f851fb60d)\" d=\"M 384.638369 550.8 \nL 399.933024 550.8 \nL 399.933024 493.195311 \nL 384.638369 493.195311 \nz\n\" style=\"fill:#1f77b4;\"/>\n   </g>\n   <g id=\"patch_20\">\n    <path clip-path=\"url(#p7f851fb60d)\" d=\"M 403.756688 550.8 \nL 419.051343 550.8 \nL 419.051343 494.882754 \nL 403.756688 494.882754 \nz\n\" style=\"fill:#1f77b4;\"/>\n   </g>\n   <g id=\"patch_21\">\n    <path clip-path=\"url(#p7f851fb60d)\" d=\"M 422.875007 550.8 \nL 438.169662 550.8 \nL 438.169662 496.437849 \nL 422.875007 496.437849 \nz\n\" style=\"fill:#1f77b4;\"/>\n   </g>\n   <g id=\"patch_22\">\n    <path clip-path=\"url(#p7f851fb60d)\" d=\"M 441.993326 550.8 \nL 457.287981 550.8 \nL 457.287981 497.033418 \nL 441.993326 497.033418 \nz\n\" style=\"fill:#1f77b4;\"/>\n   </g>\n   <g id=\"patch_23\">\n    <path clip-path=\"url(#p7f851fb60d)\" d=\"M 461.111644 550.8 \nL 476.406299 550.8 \nL 476.406299 497.992944 \nL 461.111644 497.992944 \nz\n\" style=\"fill:#1f77b4;\"/>\n   </g>\n   <g id=\"patch_24\">\n    <path clip-path=\"url(#p7f851fb60d)\" d=\"M 480.229963 550.8 \nL 495.524618 550.8 \nL 495.524618 501.764877 \nL 480.229963 501.764877 \nz\n\" style=\"fill:#1f77b4;\"/>\n   </g>\n   <g id=\"patch_25\">\n    <path clip-path=\"url(#p7f851fb60d)\" d=\"M 499.348282 550.8 \nL 514.642937 550.8 \nL 514.642937 503.253798 \nL 499.348282 503.253798 \nz\n\" style=\"fill:#1f77b4;\"/>\n   </g>\n   <g id=\"patch_26\">\n    <path clip-path=\"url(#p7f851fb60d)\" d=\"M 518.466601 550.8 \nL 533.761256 550.8 \nL 533.761256 504.37876 \nL 518.466601 504.37876 \nz\n\" style=\"fill:#1f77b4;\"/>\n   </g>\n   <g id=\"patch_27\">\n    <path clip-path=\"url(#p7f851fb60d)\" d=\"M 537.58492 550.8 \nL 552.879575 550.8 \nL 552.879575 504.411847 \nL 537.58492 504.411847 \nz\n\" style=\"fill:#1f77b4;\"/>\n   </g>\n   <g id=\"patch_28\">\n    <path clip-path=\"url(#p7f851fb60d)\" d=\"M 556.703239 550.8 \nL 571.997894 550.8 \nL 571.997894 508.481564 \nL 556.703239 508.481564 \nz\n\" style=\"fill:#1f77b4;\"/>\n   </g>\n   <g id=\"patch_29\">\n    <path clip-path=\"url(#p7f851fb60d)\" d=\"M 575.821558 550.8 \nL 591.116213 550.8 \nL 591.116213 509.010958 \nL 575.821558 509.010958 \nz\n\" style=\"fill:#1f77b4;\"/>\n   </g>\n   <g id=\"patch_30\">\n    <path clip-path=\"url(#p7f851fb60d)\" d=\"M 594.939876 550.8 \nL 610.234532 550.8 \nL 610.234532 509.308742 \nL 594.939876 509.308742 \nz\n\" style=\"fill:#1f77b4;\"/>\n   </g>\n   <g id=\"patch_31\">\n    <path clip-path=\"url(#p7f851fb60d)\" d=\"M 614.058195 550.8 \nL 629.35285 550.8 \nL 629.35285 509.341829 \nL 614.058195 509.341829 \nz\n\" style=\"fill:#1f77b4;\"/>\n   </g>\n   <g id=\"patch_32\">\n    <path clip-path=\"url(#p7f851fb60d)\" d=\"M 633.176514 550.8 \nL 648.471169 550.8 \nL 648.471169 509.639613 \nL 633.176514 509.639613 \nz\n\" style=\"fill:#1f77b4;\"/>\n   </g>\n   <g id=\"patch_33\">\n    <path clip-path=\"url(#p7f851fb60d)\" d=\"M 652.294833 550.8 \nL 667.589488 550.8 \nL 667.589488 510.069746 \nL 652.294833 510.069746 \nz\n\" style=\"fill:#1f77b4;\"/>\n   </g>\n   <g id=\"patch_34\">\n    <path clip-path=\"url(#p7f851fb60d)\" d=\"M 671.413152 550.8 \nL 686.707807 550.8 \nL 686.707807 510.202094 \nL 671.413152 510.202094 \nz\n\" style=\"fill:#1f77b4;\"/>\n   </g>\n   <g id=\"patch_35\">\n    <path clip-path=\"url(#p7f851fb60d)\" d=\"M 690.531471 550.8 \nL 705.826126 550.8 \nL 705.826126 510.59914 \nL 690.531471 510.59914 \nz\n\" style=\"fill:#1f77b4;\"/>\n   </g>\n   <g id=\"patch_36\">\n    <path clip-path=\"url(#p7f851fb60d)\" d=\"M 709.64979 550.8 \nL 724.944445 550.8 \nL 724.944445 512.121148 \nL 709.64979 512.121148 \nz\n\" style=\"fill:#1f77b4;\"/>\n   </g>\n   <g id=\"patch_37\">\n    <path clip-path=\"url(#p7f851fb60d)\" d=\"M 728.768109 550.8 \nL 744.062764 550.8 \nL 744.062764 512.121148 \nL 728.768109 512.121148 \nz\n\" style=\"fill:#1f77b4;\"/>\n   </g>\n   <g id=\"patch_38\">\n    <path clip-path=\"url(#p7f851fb60d)\" d=\"M 747.886427 550.8 \nL 763.181082 550.8 \nL 763.181082 512.55128 \nL 747.886427 512.55128 \nz\n\" style=\"fill:#1f77b4;\"/>\n   </g>\n   <g id=\"patch_39\">\n    <path clip-path=\"url(#p7f851fb60d)\" d=\"M 767.004746 550.8 \nL 782.299401 550.8 \nL 782.299401 512.716716 \nL 767.004746 512.716716 \nz\n\" style=\"fill:#1f77b4;\"/>\n   </g>\n   <g id=\"patch_40\">\n    <path clip-path=\"url(#p7f851fb60d)\" d=\"M 786.123065 550.8 \nL 801.41772 550.8 \nL 801.41772 513.70933 \nL 786.123065 513.70933 \nz\n\" style=\"fill:#1f77b4;\"/>\n   </g>\n   <g id=\"patch_41\">\n    <path clip-path=\"url(#p7f851fb60d)\" d=\"M 805.241384 550.8 \nL 820.536039 550.8 \nL 820.536039 514.271811 \nL 805.241384 514.271811 \nz\n\" style=\"fill:#1f77b4;\"/>\n   </g>\n   <g id=\"patch_42\">\n    <path clip-path=\"url(#p7f851fb60d)\" d=\"M 824.359703 550.8 \nL 839.654358 550.8 \nL 839.654358 514.966641 \nL 824.359703 514.966641 \nz\n\" style=\"fill:#1f77b4;\"/>\n   </g>\n   <g id=\"matplotlib.axis_1\">\n    <g id=\"xtick_1\">\n     <g id=\"line2d_1\">\n      <defs>\n       <path d=\"M 0 0 \nL 0 3.5 \n\" id=\"m8642593f89\" style=\"stroke:#000000;stroke-width:0.8;\"/>\n      </defs>\n      <g>\n       <use style=\"stroke:#000000;stroke-width:0.8;\" x=\"86.392595\" xlink:href=\"#m8642593f89\" y=\"550.8\"/>\n      </g>\n     </g>\n     <g id=\"text_1\">\n      <!-- vaccine -->\n      <g transform=\"translate(88.691154 589.714313)rotate(-90)scale(0.0833 -0.0833)\">\n       <defs>\n        <path d=\"M 191 3500 \nL 800 3500 \nL 1894 563 \nL 2988 3500 \nL 3597 3500 \nL 2284 0 \nL 1503 0 \nL 191 3500 \nz\n\" id=\"DejaVuSans-76\" transform=\"scale(0.015625)\"/>\n        <path d=\"M 2194 1759 \nQ 1497 1759 1228 1600 \nQ 959 1441 959 1056 \nQ 959 750 1161 570 \nQ 1363 391 1709 391 \nQ 2188 391 2477 730 \nQ 2766 1069 2766 1631 \nL 2766 1759 \nL 2194 1759 \nz\nM 3341 1997 \nL 3341 0 \nL 2766 0 \nL 2766 531 \nQ 2569 213 2275 61 \nQ 1981 -91 1556 -91 \nQ 1019 -91 701 211 \nQ 384 513 384 1019 \nQ 384 1609 779 1909 \nQ 1175 2209 1959 2209 \nL 2766 2209 \nL 2766 2266 \nQ 2766 2663 2505 2880 \nQ 2244 3097 1772 3097 \nQ 1472 3097 1187 3025 \nQ 903 2953 641 2809 \nL 641 3341 \nQ 956 3463 1253 3523 \nQ 1550 3584 1831 3584 \nQ 2591 3584 2966 3190 \nQ 3341 2797 3341 1997 \nz\n\" id=\"DejaVuSans-61\" transform=\"scale(0.015625)\"/>\n        <path d=\"M 3122 3366 \nL 3122 2828 \nQ 2878 2963 2633 3030 \nQ 2388 3097 2138 3097 \nQ 1578 3097 1268 2742 \nQ 959 2388 959 1747 \nQ 959 1106 1268 751 \nQ 1578 397 2138 397 \nQ 2388 397 2633 464 \nQ 2878 531 3122 666 \nL 3122 134 \nQ 2881 22 2623 -34 \nQ 2366 -91 2075 -91 \nQ 1284 -91 818 406 \nQ 353 903 353 1747 \nQ 353 2603 823 3093 \nQ 1294 3584 2113 3584 \nQ 2378 3584 2631 3529 \nQ 2884 3475 3122 3366 \nz\n\" id=\"DejaVuSans-63\" transform=\"scale(0.015625)\"/>\n        <path d=\"M 603 3500 \nL 1178 3500 \nL 1178 0 \nL 603 0 \nL 603 3500 \nz\nM 603 4863 \nL 1178 4863 \nL 1178 4134 \nL 603 4134 \nL 603 4863 \nz\n\" id=\"DejaVuSans-69\" transform=\"scale(0.015625)\"/>\n        <path d=\"M 3513 2113 \nL 3513 0 \nL 2938 0 \nL 2938 2094 \nQ 2938 2591 2744 2837 \nQ 2550 3084 2163 3084 \nQ 1697 3084 1428 2787 \nQ 1159 2491 1159 1978 \nL 1159 0 \nL 581 0 \nL 581 3500 \nL 1159 3500 \nL 1159 2956 \nQ 1366 3272 1645 3428 \nQ 1925 3584 2291 3584 \nQ 2894 3584 3203 3211 \nQ 3513 2838 3513 2113 \nz\n\" id=\"DejaVuSans-6e\" transform=\"scale(0.015625)\"/>\n        <path d=\"M 3597 1894 \nL 3597 1613 \nL 953 1613 \nQ 991 1019 1311 708 \nQ 1631 397 2203 397 \nQ 2534 397 2845 478 \nQ 3156 559 3463 722 \nL 3463 178 \nQ 3153 47 2828 -22 \nQ 2503 -91 2169 -91 \nQ 1331 -91 842 396 \nQ 353 884 353 1716 \nQ 353 2575 817 3079 \nQ 1281 3584 2069 3584 \nQ 2775 3584 3186 3129 \nQ 3597 2675 3597 1894 \nz\nM 3022 2063 \nQ 3016 2534 2758 2815 \nQ 2500 3097 2075 3097 \nQ 1594 3097 1305 2825 \nQ 1016 2553 972 2059 \nL 3022 2063 \nz\n\" id=\"DejaVuSans-65\" transform=\"scale(0.015625)\"/>\n       </defs>\n       <use xlink:href=\"#DejaVuSans-76\"/>\n       <use x=\"59.179688\" xlink:href=\"#DejaVuSans-61\"/>\n       <use x=\"120.458984\" xlink:href=\"#DejaVuSans-63\"/>\n       <use x=\"175.439453\" xlink:href=\"#DejaVuSans-63\"/>\n       <use x=\"230.419922\" xlink:href=\"#DejaVuSans-69\"/>\n       <use x=\"258.203125\" xlink:href=\"#DejaVuSans-6e\"/>\n       <use x=\"321.582031\" xlink:href=\"#DejaVuSans-65\"/>\n      </g>\n     </g>\n    </g>\n    <g id=\"xtick_2\">\n     <g id=\"line2d_2\">\n      <g>\n       <use style=\"stroke:#000000;stroke-width:0.8;\" x=\"105.510913\" xlink:href=\"#m8642593f89\" y=\"550.8\"/>\n      </g>\n     </g>\n     <g id=\"text_2\">\n      <!-- I -->\n      <g transform=\"translate(107.809473 560.25735)rotate(-90)scale(0.0833 -0.0833)\">\n       <defs>\n        <path d=\"M 628 4666 \nL 1259 4666 \nL 1259 0 \nL 628 0 \nL 628 4666 \nz\n\" id=\"DejaVuSans-49\" transform=\"scale(0.015625)\"/>\n       </defs>\n       <use xlink:href=\"#DejaVuSans-49\"/>\n      </g>\n     </g>\n    </g>\n    <g id=\"xtick_3\">\n     <g id=\"line2d_3\">\n      <g>\n       <use style=\"stroke:#000000;stroke-width:0.8;\" x=\"124.629232\" xlink:href=\"#m8642593f89\" y=\"550.8\"/>\n      </g>\n     </g>\n     <g id=\"text_3\">\n      <!-- The -->\n      <g transform=\"translate(126.927792 573.292498)rotate(-90)scale(0.0833 -0.0833)\">\n       <defs>\n        <path d=\"M -19 4666 \nL 3928 4666 \nL 3928 4134 \nL 2272 4134 \nL 2272 0 \nL 1638 0 \nL 1638 4134 \nL -19 4134 \nL -19 4666 \nz\n\" id=\"DejaVuSans-54\" transform=\"scale(0.015625)\"/>\n        <path d=\"M 3513 2113 \nL 3513 0 \nL 2938 0 \nL 2938 2094 \nQ 2938 2591 2744 2837 \nQ 2550 3084 2163 3084 \nQ 1697 3084 1428 2787 \nQ 1159 2491 1159 1978 \nL 1159 0 \nL 581 0 \nL 581 4863 \nL 1159 4863 \nL 1159 2956 \nQ 1366 3272 1645 3428 \nQ 1925 3584 2291 3584 \nQ 2894 3584 3203 3211 \nQ 3513 2838 3513 2113 \nz\n\" id=\"DejaVuSans-68\" transform=\"scale(0.015625)\"/>\n       </defs>\n       <use xlink:href=\"#DejaVuSans-54\"/>\n       <use x=\"61.083984\" xlink:href=\"#DejaVuSans-68\"/>\n       <use x=\"124.462891\" xlink:href=\"#DejaVuSans-65\"/>\n      </g>\n     </g>\n    </g>\n    <g id=\"xtick_4\">\n     <g id=\"line2d_4\">\n      <g>\n       <use style=\"stroke:#000000;stroke-width:0.8;\" x=\"143.747551\" xlink:href=\"#m8642593f89\" y=\"550.8\"/>\n      </g>\n     </g>\n     <g id=\"text_4\">\n      <!-- people -->\n      <g transform=\"translate(146.046111 586.0387)rotate(-90)scale(0.0833 -0.0833)\">\n       <defs>\n        <path d=\"M 1159 525 \nL 1159 -1331 \nL 581 -1331 \nL 581 3500 \nL 1159 3500 \nL 1159 2969 \nQ 1341 3281 1617 3432 \nQ 1894 3584 2278 3584 \nQ 2916 3584 3314 3078 \nQ 3713 2572 3713 1747 \nQ 3713 922 3314 415 \nQ 2916 -91 2278 -91 \nQ 1894 -91 1617 61 \nQ 1341 213 1159 525 \nz\nM 3116 1747 \nQ 3116 2381 2855 2742 \nQ 2594 3103 2138 3103 \nQ 1681 3103 1420 2742 \nQ 1159 2381 1159 1747 \nQ 1159 1113 1420 752 \nQ 1681 391 2138 391 \nQ 2594 391 2855 752 \nQ 3116 1113 3116 1747 \nz\n\" id=\"DejaVuSans-70\" transform=\"scale(0.015625)\"/>\n        <path d=\"M 1959 3097 \nQ 1497 3097 1228 2736 \nQ 959 2375 959 1747 \nQ 959 1119 1226 758 \nQ 1494 397 1959 397 \nQ 2419 397 2687 759 \nQ 2956 1122 2956 1747 \nQ 2956 2369 2687 2733 \nQ 2419 3097 1959 3097 \nz\nM 1959 3584 \nQ 2709 3584 3137 3096 \nQ 3566 2609 3566 1747 \nQ 3566 888 3137 398 \nQ 2709 -91 1959 -91 \nQ 1206 -91 779 398 \nQ 353 888 353 1747 \nQ 353 2609 779 3096 \nQ 1206 3584 1959 3584 \nz\n\" id=\"DejaVuSans-6f\" transform=\"scale(0.015625)\"/>\n        <path d=\"M 603 4863 \nL 1178 4863 \nL 1178 0 \nL 603 0 \nL 603 4863 \nz\n\" id=\"DejaVuSans-6c\" transform=\"scale(0.015625)\"/>\n       </defs>\n       <use xlink:href=\"#DejaVuSans-70\"/>\n       <use x=\"63.476562\" xlink:href=\"#DejaVuSans-65\"/>\n       <use x=\"125\" xlink:href=\"#DejaVuSans-6f\"/>\n       <use x=\"186.181641\" xlink:href=\"#DejaVuSans-70\"/>\n       <use x=\"249.658203\" xlink:href=\"#DejaVuSans-6c\"/>\n       <use x=\"277.441406\" xlink:href=\"#DejaVuSans-65\"/>\n      </g>\n     </g>\n    </g>\n    <g id=\"xtick_5\">\n     <g id=\"line2d_5\">\n      <g>\n       <use style=\"stroke:#000000;stroke-width:0.8;\" x=\"162.86587\" xlink:href=\"#m8642593f89\" y=\"550.8\"/>\n      </g>\n     </g>\n     <g id=\"text_5\">\n      <!-- https -->\n      <g transform=\"translate(165.164429 579.238036)rotate(-90)scale(0.0833 -0.0833)\">\n       <defs>\n        <path d=\"M 1172 4494 \nL 1172 3500 \nL 2356 3500 \nL 2356 3053 \nL 1172 3053 \nL 1172 1153 \nQ 1172 725 1289 603 \nQ 1406 481 1766 481 \nL 2356 481 \nL 2356 0 \nL 1766 0 \nQ 1100 0 847 248 \nQ 594 497 594 1153 \nL 594 3053 \nL 172 3053 \nL 172 3500 \nL 594 3500 \nL 594 4494 \nL 1172 4494 \nz\n\" id=\"DejaVuSans-74\" transform=\"scale(0.015625)\"/>\n        <path d=\"M 2834 3397 \nL 2834 2853 \nQ 2591 2978 2328 3040 \nQ 2066 3103 1784 3103 \nQ 1356 3103 1142 2972 \nQ 928 2841 928 2578 \nQ 928 2378 1081 2264 \nQ 1234 2150 1697 2047 \nL 1894 2003 \nQ 2506 1872 2764 1633 \nQ 3022 1394 3022 966 \nQ 3022 478 2636 193 \nQ 2250 -91 1575 -91 \nQ 1294 -91 989 -36 \nQ 684 19 347 128 \nL 347 722 \nQ 666 556 975 473 \nQ 1284 391 1588 391 \nQ 1994 391 2212 530 \nQ 2431 669 2431 922 \nQ 2431 1156 2273 1281 \nQ 2116 1406 1581 1522 \nL 1381 1569 \nQ 847 1681 609 1914 \nQ 372 2147 372 2553 \nQ 372 3047 722 3315 \nQ 1072 3584 1716 3584 \nQ 2034 3584 2315 3537 \nQ 2597 3491 2834 3397 \nz\n\" id=\"DejaVuSans-73\" transform=\"scale(0.015625)\"/>\n       </defs>\n       <use xlink:href=\"#DejaVuSans-68\"/>\n       <use x=\"63.378906\" xlink:href=\"#DejaVuSans-74\"/>\n       <use x=\"102.587891\" xlink:href=\"#DejaVuSans-74\"/>\n       <use x=\"141.796875\" xlink:href=\"#DejaVuSans-70\"/>\n       <use x=\"205.273438\" xlink:href=\"#DejaVuSans-73\"/>\n      </g>\n     </g>\n    </g>\n    <g id=\"xtick_6\">\n     <g id=\"line2d_6\">\n      <g>\n       <use style=\"stroke:#000000;stroke-width:0.8;\" x=\"181.984189\" xlink:href=\"#m8642593f89\" y=\"550.8\"/>\n      </g>\n     </g>\n     <g id=\"text_6\">\n      <!-- n't -->\n      <g transform=\"translate(184.282748 568.634206)rotate(-90)scale(0.0833 -0.0833)\">\n       <defs>\n        <path d=\"M 1147 4666 \nL 1147 2931 \nL 616 2931 \nL 616 4666 \nL 1147 4666 \nz\n\" id=\"DejaVuSans-27\" transform=\"scale(0.015625)\"/>\n       </defs>\n       <use xlink:href=\"#DejaVuSans-6e\"/>\n       <use x=\"63.378906\" xlink:href=\"#DejaVuSans-27\"/>\n       <use x=\"90.869141\" xlink:href=\"#DejaVuSans-74\"/>\n      </g>\n     </g>\n    </g>\n    <g id=\"xtick_7\">\n     <g id=\"line2d_7\">\n      <g>\n       <use style=\"stroke:#000000;stroke-width:0.8;\" x=\"201.102508\" xlink:href=\"#m8642593f89\" y=\"550.8\"/>\n      </g>\n     </g>\n     <g id=\"text_7\">\n      <!-- `` -->\n      <g transform=\"translate(203.401067 566.13)rotate(-90)scale(0.0833 -0.0833)\">\n       <defs>\n        <path d=\"M 1147 5119 \nL 2028 3950 \nL 1550 3950 \nL 531 5119 \nL 1147 5119 \nz\n\" id=\"DejaVuSans-60\" transform=\"scale(0.015625)\"/>\n       </defs>\n       <use xlink:href=\"#DejaVuSans-60\"/>\n       <use x=\"50\" xlink:href=\"#DejaVuSans-60\"/>\n      </g>\n     </g>\n    </g>\n    <g id=\"xtick_8\">\n     <g id=\"line2d_8\">\n      <g>\n       <use style=\"stroke:#000000;stroke-width:0.8;\" x=\"220.220827\" xlink:href=\"#m8642593f89\" y=\"550.8\"/>\n      </g>\n     </g>\n     <g id=\"text_8\">\n      <!-- '' -->\n      <g transform=\"translate(222.519386 562.378897)rotate(-90)scale(0.0833 -0.0833)\">\n       <use xlink:href=\"#DejaVuSans-27\"/>\n       <use x=\"27.490234\" xlink:href=\"#DejaVuSans-27\"/>\n      </g>\n     </g>\n    </g>\n    <g id=\"xtick_9\">\n     <g id=\"line2d_9\">\n      <g>\n       <use style=\"stroke:#000000;stroke-width:0.8;\" x=\"239.339146\" xlink:href=\"#m8642593f89\" y=\"550.8\"/>\n      </g>\n     </g>\n     <g id=\"text_9\">\n      <!-- get -->\n      <g transform=\"translate(241.637705 571.479422)rotate(-90)scale(0.0833 -0.0833)\">\n       <defs>\n        <path d=\"M 2906 1791 \nQ 2906 2416 2648 2759 \nQ 2391 3103 1925 3103 \nQ 1463 3103 1205 2759 \nQ 947 2416 947 1791 \nQ 947 1169 1205 825 \nQ 1463 481 1925 481 \nQ 2391 481 2648 825 \nQ 2906 1169 2906 1791 \nz\nM 3481 434 \nQ 3481 -459 3084 -895 \nQ 2688 -1331 1869 -1331 \nQ 1566 -1331 1297 -1286 \nQ 1028 -1241 775 -1147 \nL 775 -588 \nQ 1028 -725 1275 -790 \nQ 1522 -856 1778 -856 \nQ 2344 -856 2625 -561 \nQ 2906 -266 2906 331 \nL 2906 616 \nQ 2728 306 2450 153 \nQ 2172 0 1784 0 \nQ 1141 0 747 490 \nQ 353 981 353 1791 \nQ 353 2603 747 3093 \nQ 1141 3584 1784 3584 \nQ 2172 3584 2450 3431 \nQ 2728 3278 2906 2969 \nL 2906 3500 \nL 3481 3500 \nL 3481 434 \nz\n\" id=\"DejaVuSans-67\" transform=\"scale(0.015625)\"/>\n       </defs>\n       <use xlink:href=\"#DejaVuSans-67\"/>\n       <use x=\"63.476562\" xlink:href=\"#DejaVuSans-65\"/>\n       <use x=\"125\" xlink:href=\"#DejaVuSans-74\"/>\n      </g>\n     </g>\n    </g>\n    <g id=\"xtick_10\">\n     <g id=\"line2d_10\">\n      <g>\n       <use style=\"stroke:#000000;stroke-width:0.8;\" x=\"258.457464\" xlink:href=\"#m8642593f89\" y=\"550.8\"/>\n      </g>\n     </g>\n     <g id=\"text_10\">\n      <!-- take -->\n      <g transform=\"translate(260.756024 575.81753)rotate(-90)scale(0.0833 -0.0833)\">\n       <defs>\n        <path d=\"M 581 4863 \nL 1159 4863 \nL 1159 1991 \nL 2875 3500 \nL 3609 3500 \nL 1753 1863 \nL 3688 0 \nL 2938 0 \nL 1159 1709 \nL 1159 0 \nL 581 0 \nL 581 4863 \nz\n\" id=\"DejaVuSans-6b\" transform=\"scale(0.015625)\"/>\n       </defs>\n       <use xlink:href=\"#DejaVuSans-74\"/>\n       <use x=\"39.208984\" xlink:href=\"#DejaVuSans-61\"/>\n       <use x=\"100.488281\" xlink:href=\"#DejaVuSans-6b\"/>\n       <use x=\"154.773438\" xlink:href=\"#DejaVuSans-65\"/>\n      </g>\n     </g>\n    </g>\n    <g id=\"xtick_11\">\n     <g id=\"line2d_11\">\n      <g>\n       <use style=\"stroke:#000000;stroke-width:0.8;\" x=\"277.575783\" xlink:href=\"#m8642593f89\" y=\"550.8\"/>\n      </g>\n     </g>\n     <g id=\"text_11\">\n      <!-- ... -->\n      <g transform=\"translate(279.874343 565.742134)rotate(-90)scale(0.0833 -0.0833)\">\n       <defs>\n        <path d=\"M 684 794 \nL 1344 794 \nL 1344 0 \nL 684 0 \nL 684 794 \nz\n\" id=\"DejaVuSans-2e\" transform=\"scale(0.015625)\"/>\n       </defs>\n       <use xlink:href=\"#DejaVuSans-2e\"/>\n       <use x=\"31.787109\" xlink:href=\"#DejaVuSans-2e\"/>\n       <use x=\"63.574219\" xlink:href=\"#DejaVuSans-2e\"/>\n      </g>\n     </g>\n    </g>\n    <g id=\"xtick_12\">\n     <g id=\"line2d_12\">\n      <g>\n       <use style=\"stroke:#000000;stroke-width:0.8;\" x=\"296.694102\" xlink:href=\"#m8642593f89\" y=\"550.8\"/>\n      </g>\n     </g>\n     <g id=\"text_12\">\n      <!-- virus -->\n      <g transform=\"translate(298.992662 578.087455)rotate(-90)scale(0.0833 -0.0833)\">\n       <defs>\n        <path d=\"M 2631 2963 \nQ 2534 3019 2420 3045 \nQ 2306 3072 2169 3072 \nQ 1681 3072 1420 2755 \nQ 1159 2438 1159 1844 \nL 1159 0 \nL 581 0 \nL 581 3500 \nL 1159 3500 \nL 1159 2956 \nQ 1341 3275 1631 3429 \nQ 1922 3584 2338 3584 \nQ 2397 3584 2469 3576 \nQ 2541 3569 2628 3553 \nL 2631 2963 \nz\n\" id=\"DejaVuSans-72\" transform=\"scale(0.015625)\"/>\n        <path d=\"M 544 1381 \nL 544 3500 \nL 1119 3500 \nL 1119 1403 \nQ 1119 906 1312 657 \nQ 1506 409 1894 409 \nQ 2359 409 2629 706 \nQ 2900 1003 2900 1516 \nL 2900 3500 \nL 3475 3500 \nL 3475 0 \nL 2900 0 \nL 2900 538 \nQ 2691 219 2414 64 \nQ 2138 -91 1772 -91 \nQ 1169 -91 856 284 \nQ 544 659 544 1381 \nz\nM 1991 3584 \nL 1991 3584 \nz\n\" id=\"DejaVuSans-75\" transform=\"scale(0.015625)\"/>\n       </defs>\n       <use xlink:href=\"#DejaVuSans-76\"/>\n       <use x=\"59.179688\" xlink:href=\"#DejaVuSans-69\"/>\n       <use x=\"86.962891\" xlink:href=\"#DejaVuSans-72\"/>\n       <use x=\"128.076172\" xlink:href=\"#DejaVuSans-75\"/>\n       <use x=\"191.455078\" xlink:href=\"#DejaVuSans-73\"/>\n      </g>\n     </g>\n    </g>\n    <g id=\"xtick_13\">\n     <g id=\"line2d_13\">\n      <g>\n       <use style=\"stroke:#000000;stroke-width:0.8;\" x=\"315.812421\" xlink:href=\"#m8642593f89\" y=\"550.8\"/>\n      </g>\n     </g>\n     <g id=\"text_13\">\n      <!-- CNBC -->\n      <g transform=\"translate(318.11098 581.234633)rotate(-90)scale(0.0833 -0.0833)\">\n       <defs>\n        <path d=\"M 4122 4306 \nL 4122 3641 \nQ 3803 3938 3442 4084 \nQ 3081 4231 2675 4231 \nQ 1875 4231 1450 3742 \nQ 1025 3253 1025 2328 \nQ 1025 1406 1450 917 \nQ 1875 428 2675 428 \nQ 3081 428 3442 575 \nQ 3803 722 4122 1019 \nL 4122 359 \nQ 3791 134 3420 21 \nQ 3050 -91 2638 -91 \nQ 1578 -91 968 557 \nQ 359 1206 359 2328 \nQ 359 3453 968 4101 \nQ 1578 4750 2638 4750 \nQ 3056 4750 3426 4639 \nQ 3797 4528 4122 4306 \nz\n\" id=\"DejaVuSans-43\" transform=\"scale(0.015625)\"/>\n        <path d=\"M 628 4666 \nL 1478 4666 \nL 3547 763 \nL 3547 4666 \nL 4159 4666 \nL 4159 0 \nL 3309 0 \nL 1241 3903 \nL 1241 0 \nL 628 0 \nL 628 4666 \nz\n\" id=\"DejaVuSans-4e\" transform=\"scale(0.015625)\"/>\n        <path d=\"M 1259 2228 \nL 1259 519 \nL 2272 519 \nQ 2781 519 3026 730 \nQ 3272 941 3272 1375 \nQ 3272 1813 3026 2020 \nQ 2781 2228 2272 2228 \nL 1259 2228 \nz\nM 1259 4147 \nL 1259 2741 \nL 2194 2741 \nQ 2656 2741 2882 2914 \nQ 3109 3088 3109 3444 \nQ 3109 3797 2882 3972 \nQ 2656 4147 2194 4147 \nL 1259 4147 \nz\nM 628 4666 \nL 2241 4666 \nQ 2963 4666 3353 4366 \nQ 3744 4066 3744 3513 \nQ 3744 3084 3544 2831 \nQ 3344 2578 2956 2516 \nQ 3422 2416 3680 2098 \nQ 3938 1781 3938 1306 \nQ 3938 681 3513 340 \nQ 3088 0 2303 0 \nL 628 0 \nL 628 4666 \nz\n\" id=\"DejaVuSans-42\" transform=\"scale(0.015625)\"/>\n       </defs>\n       <use xlink:href=\"#DejaVuSans-43\"/>\n       <use x=\"69.824219\" xlink:href=\"#DejaVuSans-4e\"/>\n       <use x=\"144.628906\" xlink:href=\"#DejaVuSans-42\"/>\n       <use x=\"211.482422\" xlink:href=\"#DejaVuSans-43\"/>\n      </g>\n     </g>\n    </g>\n    <g id=\"xtick_14\">\n     <g id=\"line2d_14\">\n      <g>\n       <use style=\"stroke:#000000;stroke-width:0.8;\" x=\"334.93074\" xlink:href=\"#m8642593f89\" y=\"550.8\"/>\n      </g>\n     </g>\n     <g id=\"text_14\">\n      <!-- like -->\n      <g transform=\"translate(337.229299 572.075538)rotate(-90)scale(0.0833 -0.0833)\">\n       <use xlink:href=\"#DejaVuSans-6c\"/>\n       <use x=\"27.783203\" xlink:href=\"#DejaVuSans-69\"/>\n       <use x=\"55.566406\" xlink:href=\"#DejaVuSans-6b\"/>\n       <use x=\"109.851562\" xlink:href=\"#DejaVuSans-65\"/>\n      </g>\n     </g>\n    </g>\n    <g id=\"xtick_15\">\n     <g id=\"line2d_15\">\n      <g>\n       <use style=\"stroke:#000000;stroke-width:0.8;\" x=\"354.049059\" xlink:href=\"#m8642593f89\" y=\"550.8\"/>\n      </g>\n     </g>\n     <g id=\"text_15\">\n      <!-- - - -->\n      <g transform=\"translate(356.347618 563.810616)rotate(-90)scale(0.0833 -0.0833)\">\n       <defs>\n        <path d=\"M 313 2009 \nL 1997 2009 \nL 1997 1497 \nL 313 1497 \nL 313 2009 \nz\n\" id=\"DejaVuSans-2d\" transform=\"scale(0.015625)\"/>\n       </defs>\n       <use xlink:href=\"#DejaVuSans-2d\"/>\n       <use x=\"36.083984\" xlink:href=\"#DejaVuSans-2d\"/>\n      </g>\n     </g>\n    </g>\n    <g id=\"xtick_16\">\n     <g id=\"line2d_16\">\n      <g>\n       <use style=\"stroke:#000000;stroke-width:0.8;\" x=\"373.167378\" xlink:href=\"#m8642593f89\" y=\"550.8\"/>\n      </g>\n     </g>\n     <g id=\"text_16\">\n      <!-- vaccines -->\n      <g transform=\"translate(375.465937 594.053722)rotate(-90)scale(0.0833 -0.0833)\">\n       <use xlink:href=\"#DejaVuSans-76\"/>\n       <use x=\"59.179688\" xlink:href=\"#DejaVuSans-61\"/>\n       <use x=\"120.458984\" xlink:href=\"#DejaVuSans-63\"/>\n       <use x=\"175.439453\" xlink:href=\"#DejaVuSans-63\"/>\n       <use x=\"230.419922\" xlink:href=\"#DejaVuSans-69\"/>\n       <use x=\"258.203125\" xlink:href=\"#DejaVuSans-6e\"/>\n       <use x=\"321.582031\" xlink:href=\"#DejaVuSans-65\"/>\n       <use x=\"383.105469\" xlink:href=\"#DejaVuSans-73\"/>\n      </g>\n     </g>\n    </g>\n    <g id=\"xtick_17\">\n     <g id=\"line2d_17\">\n      <g>\n       <use style=\"stroke:#000000;stroke-width:0.8;\" x=\"392.285696\" xlink:href=\"#m8642593f89\" y=\"550.8\"/>\n      </g>\n     </g>\n     <g id=\"text_17\">\n      <!-- would -->\n      <g transform=\"translate(394.584256 582.590861)rotate(-90)scale(0.0833 -0.0833)\">\n       <defs>\n        <path d=\"M 269 3500 \nL 844 3500 \nL 1563 769 \nL 2278 3500 \nL 2956 3500 \nL 3675 769 \nL 4391 3500 \nL 4966 3500 \nL 4050 0 \nL 3372 0 \nL 2619 2869 \nL 1863 0 \nL 1184 0 \nL 269 3500 \nz\n\" id=\"DejaVuSans-77\" transform=\"scale(0.015625)\"/>\n        <path d=\"M 2906 2969 \nL 2906 4863 \nL 3481 4863 \nL 3481 0 \nL 2906 0 \nL 2906 525 \nQ 2725 213 2448 61 \nQ 2172 -91 1784 -91 \nQ 1150 -91 751 415 \nQ 353 922 353 1747 \nQ 353 2572 751 3078 \nQ 1150 3584 1784 3584 \nQ 2172 3584 2448 3432 \nQ 2725 3281 2906 2969 \nz\nM 947 1747 \nQ 947 1113 1208 752 \nQ 1469 391 1925 391 \nQ 2381 391 2643 752 \nQ 2906 1113 2906 1747 \nQ 2906 2381 2643 2742 \nQ 2381 3103 1925 3103 \nQ 1469 3103 1208 2742 \nQ 947 2381 947 1747 \nz\n\" id=\"DejaVuSans-64\" transform=\"scale(0.015625)\"/>\n       </defs>\n       <use xlink:href=\"#DejaVuSans-77\"/>\n       <use x=\"81.787109\" xlink:href=\"#DejaVuSans-6f\"/>\n       <use x=\"142.96875\" xlink:href=\"#DejaVuSans-75\"/>\n       <use x=\"206.347656\" xlink:href=\"#DejaVuSans-6c\"/>\n       <use x=\"234.130859\" xlink:href=\"#DejaVuSans-64\"/>\n      </g>\n     </g>\n    </g>\n    <g id=\"xtick_18\">\n     <g id=\"line2d_18\">\n      <g>\n       <use style=\"stroke:#000000;stroke-width:0.8;\" x=\"411.404015\" xlink:href=\"#m8642593f89\" y=\"550.8\"/>\n      </g>\n     </g>\n     <g id=\"text_18\">\n      <!-- one -->\n      <g transform=\"translate(413.702575 573.301609)rotate(-90)scale(0.0833 -0.0833)\">\n       <use xlink:href=\"#DejaVuSans-6f\"/>\n       <use x=\"61.181641\" xlink:href=\"#DejaVuSans-6e\"/>\n       <use x=\"124.560547\" xlink:href=\"#DejaVuSans-65\"/>\n      </g>\n     </g>\n    </g>\n    <g id=\"xtick_19\">\n     <g id=\"line2d_19\">\n      <g>\n       <use style=\"stroke:#000000;stroke-width:0.8;\" x=\"430.522334\" xlink:href=\"#m8642593f89\" y=\"550.8\"/>\n      </g>\n     </g>\n     <g id=\"text_19\">\n      <!-- know -->\n      <g transform=\"translate(432.820894 579.812025)rotate(-90)scale(0.0833 -0.0833)\">\n       <use xlink:href=\"#DejaVuSans-6b\"/>\n       <use x=\"57.910156\" xlink:href=\"#DejaVuSans-6e\"/>\n       <use x=\"121.289062\" xlink:href=\"#DejaVuSans-6f\"/>\n       <use x=\"182.470703\" xlink:href=\"#DejaVuSans-77\"/>\n      </g>\n     </g>\n    </g>\n    <g id=\"xtick_20\">\n     <g id=\"line2d_20\">\n      <g>\n       <use style=\"stroke:#000000;stroke-width:0.8;\" x=\"449.640653\" xlink:href=\"#m8642593f89\" y=\"550.8\"/>\n      </g>\n     </g>\n     <g id=\"text_20\">\n      <!-- It -->\n      <g transform=\"translate(451.939212 563.52297)rotate(-90)scale(0.0833 -0.0833)\">\n       <use xlink:href=\"#DejaVuSans-49\"/>\n       <use x=\"29.492188\" xlink:href=\"#DejaVuSans-74\"/>\n      </g>\n     </g>\n    </g>\n    <g id=\"xtick_21\">\n     <g id=\"line2d_21\">\n      <g>\n       <use style=\"stroke:#000000;stroke-width:0.8;\" x=\"468.758972\" xlink:href=\"#m8642593f89\" y=\"550.8\"/>\n      </g>\n     </g>\n     <g id=\"text_21\">\n      <!-- new -->\n      <g transform=\"translate(471.057531 575.017069)rotate(-90)scale(0.0833 -0.0833)\">\n       <use xlink:href=\"#DejaVuSans-6e\"/>\n       <use x=\"63.378906\" xlink:href=\"#DejaVuSans-65\"/>\n       <use x=\"124.902344\" xlink:href=\"#DejaVuSans-77\"/>\n      </g>\n     </g>\n    </g>\n    <g id=\"xtick_22\">\n     <g id=\"line2d_22\">\n      <g>\n       <use style=\"stroke:#000000;stroke-width:0.8;\" x=\"487.877291\" xlink:href=\"#m8642593f89\" y=\"550.8\"/>\n      </g>\n     </g>\n     <g id=\"text_22\">\n      <!-- This -->\n      <g transform=\"translate(490.17585 574.820533)rotate(-90)scale(0.0833 -0.0833)\">\n       <use xlink:href=\"#DejaVuSans-54\"/>\n       <use x=\"61.083984\" xlink:href=\"#DejaVuSans-68\"/>\n       <use x=\"124.462891\" xlink:href=\"#DejaVuSans-69\"/>\n       <use x=\"152.246094\" xlink:href=\"#DejaVuSans-73\"/>\n      </g>\n     </g>\n    </g>\n    <g id=\"xtick_23\">\n     <g id=\"line2d_23\">\n      <g>\n       <use style=\"stroke:#000000;stroke-width:0.8;\" x=\"506.99561\" xlink:href=\"#m8642593f89\" y=\"550.8\"/>\n      </g>\n     </g>\n     <g id=\"text_23\">\n      <!-- .. -->\n      <g transform=\"translate(509.294169 563.094756)rotate(-90)scale(0.0833 -0.0833)\">\n       <use xlink:href=\"#DejaVuSans-2e\"/>\n       <use x=\"31.787109\" xlink:href=\"#DejaVuSans-2e\"/>\n      </g>\n     </g>\n    </g>\n    <g id=\"xtick_24\">\n     <g id=\"line2d_24\">\n      <g>\n       <use style=\"stroke:#000000;stroke-width:0.8;\" x=\"526.113929\" xlink:href=\"#m8642593f89\" y=\"550.8\"/>\n      </g>\n     </g>\n     <g id=\"text_24\">\n      <!-- You -->\n      <g transform=\"translate(528.412488 572.160139)rotate(-90)scale(0.0833 -0.0833)\">\n       <defs>\n        <path d=\"M -13 4666 \nL 666 4666 \nL 1959 2747 \nL 3244 4666 \nL 3922 4666 \nL 2272 2222 \nL 2272 0 \nL 1638 0 \nL 1638 2222 \nL -13 4666 \nz\n\" id=\"DejaVuSans-59\" transform=\"scale(0.015625)\"/>\n       </defs>\n       <use xlink:href=\"#DejaVuSans-59\"/>\n       <use x=\"47.833984\" xlink:href=\"#DejaVuSans-6f\"/>\n       <use x=\"109.015625\" xlink:href=\"#DejaVuSans-75\"/>\n      </g>\n     </g>\n    </g>\n    <g id=\"xtick_25\">\n     <g id=\"line2d_25\">\n      <g>\n       <use style=\"stroke:#000000;stroke-width:0.8;\" x=\"545.232247\" xlink:href=\"#m8642593f89\" y=\"550.8\"/>\n      </g>\n     </g>\n     <g id=\"text_25\">\n      <!-- said -->\n      <g transform=\"translate(547.530807 574.846564)rotate(-90)scale(0.0833 -0.0833)\">\n       <use xlink:href=\"#DejaVuSans-73\"/>\n       <use x=\"52.099609\" xlink:href=\"#DejaVuSans-61\"/>\n       <use x=\"113.378906\" xlink:href=\"#DejaVuSans-69\"/>\n       <use x=\"141.162109\" xlink:href=\"#DejaVuSans-64\"/>\n      </g>\n     </g>\n    </g>\n    <g id=\"xtick_26\">\n     <g id=\"line2d_26\">\n      <g>\n       <use style=\"stroke:#000000;stroke-width:0.8;\" x=\"564.350566\" xlink:href=\"#m8642593f89\" y=\"550.8\"/>\n      </g>\n     </g>\n     <g id=\"text_26\">\n      <!-- us -->\n      <g transform=\"translate(566.649126 567.418547)rotate(-90)scale(0.0833 -0.0833)\">\n       <use xlink:href=\"#DejaVuSans-75\"/>\n       <use x=\"63.378906\" xlink:href=\"#DejaVuSans-73\"/>\n      </g>\n     </g>\n    </g>\n    <g id=\"xtick_27\">\n     <g id=\"line2d_27\">\n      <g>\n       <use style=\"stroke:#000000;stroke-width:0.8;\" x=\"583.468885\" xlink:href=\"#m8642593f89\" y=\"550.8\"/>\n      </g>\n     </g>\n     <g id=\"text_27\">\n      <!-- even -->\n      <g transform=\"translate(585.767445 578.260563)rotate(-90)scale(0.0833 -0.0833)\">\n       <use xlink:href=\"#DejaVuSans-65\"/>\n       <use x=\"61.523438\" xlink:href=\"#DejaVuSans-76\"/>\n       <use x=\"120.703125\" xlink:href=\"#DejaVuSans-65\"/>\n       <use x=\"182.226562\" xlink:href=\"#DejaVuSans-6e\"/>\n      </g>\n     </g>\n    </g>\n    <g id=\"xtick_28\">\n     <g id=\"line2d_28\">\n      <g>\n       <use style=\"stroke:#000000;stroke-width:0.8;\" x=\"602.587204\" xlink:href=\"#m8642593f89\" y=\"550.8\"/>\n      </g>\n     </g>\n     <g id=\"text_28\">\n      <!-- first -->\n      <g transform=\"translate(604.885763 574.076039)rotate(-90)scale(0.0833 -0.0833)\">\n       <defs>\n        <path d=\"M 2375 4863 \nL 2375 4384 \nL 1825 4384 \nQ 1516 4384 1395 4259 \nQ 1275 4134 1275 3809 \nL 1275 3500 \nL 2222 3500 \nL 2222 3053 \nL 1275 3053 \nL 1275 0 \nL 697 0 \nL 697 3053 \nL 147 3053 \nL 147 3500 \nL 697 3500 \nL 697 3744 \nQ 697 4328 969 4595 \nQ 1241 4863 1831 4863 \nL 2375 4863 \nz\n\" id=\"DejaVuSans-66\" transform=\"scale(0.015625)\"/>\n       </defs>\n       <use xlink:href=\"#DejaVuSans-66\"/>\n       <use x=\"35.205078\" xlink:href=\"#DejaVuSans-69\"/>\n       <use x=\"62.988281\" xlink:href=\"#DejaVuSans-72\"/>\n       <use x=\"104.101562\" xlink:href=\"#DejaVuSans-73\"/>\n       <use x=\"156.201172\" xlink:href=\"#DejaVuSans-74\"/>\n      </g>\n     </g>\n    </g>\n    <g id=\"xtick_29\">\n     <g id=\"line2d_29\">\n      <g>\n       <use style=\"stroke:#000000;stroke-width:0.8;\" x=\"621.705523\" xlink:href=\"#m8642593f89\" y=\"550.8\"/>\n      </g>\n     </g>\n     <g id=\"text_29\">\n      <!-- If -->\n      <g transform=\"translate(624.004082 563.18977)rotate(-90)scale(0.0833 -0.0833)\">\n       <use xlink:href=\"#DejaVuSans-49\"/>\n       <use x=\"29.492188\" xlink:href=\"#DejaVuSans-66\"/>\n      </g>\n     </g>\n    </g>\n    <g id=\"xtick_30\">\n     <g id=\"line2d_30\">\n      <g>\n       <use style=\"stroke:#000000;stroke-width:0.8;\" x=\"640.823842\" xlink:href=\"#m8642593f89\" y=\"550.8\"/>\n      </g>\n     </g>\n     <g id=\"text_30\">\n      <!-- news -->\n      <g transform=\"translate(643.122401 579.356478)rotate(-90)scale(0.0833 -0.0833)\">\n       <use xlink:href=\"#DejaVuSans-6e\"/>\n       <use x=\"63.378906\" xlink:href=\"#DejaVuSans-65\"/>\n       <use x=\"124.902344\" xlink:href=\"#DejaVuSans-77\"/>\n       <use x=\"206.689453\" xlink:href=\"#DejaVuSans-73\"/>\n      </g>\n     </g>\n    </g>\n    <g id=\"xtick_31\">\n     <g id=\"line2d_31\">\n      <g>\n       <use style=\"stroke:#000000;stroke-width:0.8;\" x=\"659.942161\" xlink:href=\"#m8642593f89\" y=\"550.8\"/>\n      </g>\n     </g>\n     <g id=\"text_31\">\n      <!-- quot -->\n      <g transform=\"translate(662.24072 576.729925)rotate(-90)scale(0.0833 -0.0833)\">\n       <defs>\n        <path d=\"M 947 1747 \nQ 947 1113 1208 752 \nQ 1469 391 1925 391 \nQ 2381 391 2643 752 \nQ 2906 1113 2906 1747 \nQ 2906 2381 2643 2742 \nQ 2381 3103 1925 3103 \nQ 1469 3103 1208 2742 \nQ 947 2381 947 1747 \nz\nM 2906 525 \nQ 2725 213 2448 61 \nQ 2172 -91 1784 -91 \nQ 1150 -91 751 415 \nQ 353 922 353 1747 \nQ 353 2572 751 3078 \nQ 1150 3584 1784 3584 \nQ 2172 3584 2448 3432 \nQ 2725 3281 2906 2969 \nL 2906 3500 \nL 3481 3500 \nL 3481 -1331 \nL 2906 -1331 \nL 2906 525 \nz\n\" id=\"DejaVuSans-71\" transform=\"scale(0.015625)\"/>\n       </defs>\n       <use xlink:href=\"#DejaVuSans-71\"/>\n       <use x=\"63.476562\" xlink:href=\"#DejaVuSans-75\"/>\n       <use x=\"126.855469\" xlink:href=\"#DejaVuSans-6f\"/>\n       <use x=\"188.037109\" xlink:href=\"#DejaVuSans-74\"/>\n      </g>\n     </g>\n    </g>\n    <g id=\"xtick_32\">\n     <g id=\"line2d_32\">\n      <g>\n       <use style=\"stroke:#000000;stroke-width:0.8;\" x=\"679.060479\" xlink:href=\"#m8642593f89\" y=\"550.8\"/>\n      </g>\n     </g>\n     <g id=\"text_32\">\n      <!-- covid -->\n      <g transform=\"translate(681.359039 580.009863)rotate(-90)scale(0.0833 -0.0833)\">\n       <use xlink:href=\"#DejaVuSans-63\"/>\n       <use x=\"54.980469\" xlink:href=\"#DejaVuSans-6f\"/>\n       <use x=\"116.162109\" xlink:href=\"#DejaVuSans-76\"/>\n       <use x=\"175.341797\" xlink:href=\"#DejaVuSans-69\"/>\n       <use x=\"203.125\" xlink:href=\"#DejaVuSans-64\"/>\n      </g>\n     </g>\n    </g>\n    <g id=\"xtick_33\">\n     <g id=\"line2d_33\">\n      <g>\n       <use style=\"stroke:#000000;stroke-width:0.8;\" x=\"698.178798\" xlink:href=\"#m8642593f89\" y=\"550.8\"/>\n      </g>\n     </g>\n     <g id=\"text_33\">\n      <!-- think -->\n      <g transform=\"translate(700.477358 578.761664)rotate(-90)scale(0.0833 -0.0833)\">\n       <use xlink:href=\"#DejaVuSans-74\"/>\n       <use x=\"39.208984\" xlink:href=\"#DejaVuSans-68\"/>\n       <use x=\"102.587891\" xlink:href=\"#DejaVuSans-69\"/>\n       <use x=\"130.371094\" xlink:href=\"#DejaVuSans-6e\"/>\n       <use x=\"193.75\" xlink:href=\"#DejaVuSans-6b\"/>\n      </g>\n     </g>\n    </g>\n    <g id=\"xtick_34\">\n     <g id=\"line2d_34\">\n      <g>\n       <use style=\"stroke:#000000;stroke-width:0.8;\" x=\"717.297117\" xlink:href=\"#m8642593f89\" y=\"550.8\"/>\n      </g>\n     </g>\n     <g id=\"text_34\">\n      <!-- world -->\n      <g transform=\"translate(719.595677 580.736134)rotate(-90)scale(0.0833 -0.0833)\">\n       <use xlink:href=\"#DejaVuSans-77\"/>\n       <use x=\"81.787109\" xlink:href=\"#DejaVuSans-6f\"/>\n       <use x=\"142.96875\" xlink:href=\"#DejaVuSans-72\"/>\n       <use x=\"184.082031\" xlink:href=\"#DejaVuSans-6c\"/>\n       <use x=\"211.865234\" xlink:href=\"#DejaVuSans-64\"/>\n      </g>\n     </g>\n    </g>\n    <g id=\"xtick_35\">\n     <g id=\"line2d_35\">\n      <g>\n       <use style=\"stroke:#000000;stroke-width:0.8;\" x=\"736.415436\" xlink:href=\"#m8642593f89\" y=\"550.8\"/>\n      </g>\n     </g>\n     <g id=\"text_35\">\n      <!-- need -->\n      <g transform=\"translate(738.713995 578.618492)rotate(-90)scale(0.0833 -0.0833)\">\n       <use xlink:href=\"#DejaVuSans-6e\"/>\n       <use x=\"63.378906\" xlink:href=\"#DejaVuSans-65\"/>\n       <use x=\"124.902344\" xlink:href=\"#DejaVuSans-65\"/>\n       <use x=\"186.425781\" xlink:href=\"#DejaVuSans-64\"/>\n      </g>\n     </g>\n    </g>\n    <g id=\"xtick_36\">\n     <g id=\"line2d_36\">\n      <g>\n       <use style=\"stroke:#000000;stroke-width:0.8;\" x=\"755.533755\" xlink:href=\"#m8642593f89\" y=\"550.8\"/>\n      </g>\n     </g>\n     <g id=\"text_36\">\n      <!-- want -->\n      <g transform=\"translate(757.832314 578.261864)rotate(-90)scale(0.0833 -0.0833)\">\n       <use xlink:href=\"#DejaVuSans-77\"/>\n       <use x=\"81.787109\" xlink:href=\"#DejaVuSans-61\"/>\n       <use x=\"143.066406\" xlink:href=\"#DejaVuSans-6e\"/>\n       <use x=\"206.445312\" xlink:href=\"#DejaVuSans-74\"/>\n      </g>\n     </g>\n    </g>\n    <g id=\"xtick_37\">\n     <g id=\"line2d_37\">\n      <g>\n       <use style=\"stroke:#000000;stroke-width:0.8;\" x=\"774.652074\" xlink:href=\"#m8642593f89\" y=\"550.8\"/>\n      </g>\n     </g>\n     <g id=\"text_37\">\n      <!-- They -->\n      <g transform=\"translate(776.950633 578.222817)rotate(-90)scale(0.0833 -0.0833)\">\n       <defs>\n        <path d=\"M 2059 -325 \nQ 1816 -950 1584 -1140 \nQ 1353 -1331 966 -1331 \nL 506 -1331 \nL 506 -850 \nL 844 -850 \nQ 1081 -850 1212 -737 \nQ 1344 -625 1503 -206 \nL 1606 56 \nL 191 3500 \nL 800 3500 \nL 1894 763 \nL 2988 3500 \nL 3597 3500 \nL 2059 -325 \nz\n\" id=\"DejaVuSans-79\" transform=\"scale(0.015625)\"/>\n       </defs>\n       <use xlink:href=\"#DejaVuSans-54\"/>\n       <use x=\"61.083984\" xlink:href=\"#DejaVuSans-68\"/>\n       <use x=\"124.462891\" xlink:href=\"#DejaVuSans-65\"/>\n       <use x=\"185.986328\" xlink:href=\"#DejaVuSans-79\"/>\n      </g>\n     </g>\n    </g>\n    <g id=\"xtick_38\">\n     <g id=\"line2d_38\">\n      <g>\n       <use style=\"stroke:#000000;stroke-width:0.8;\" x=\"793.770393\" xlink:href=\"#m8642593f89\" y=\"550.8\"/>\n      </g>\n     </g>\n     <g id=\"text_38\">\n      <!-- Â -->\n      <g transform=\"translate(796.068952 563.498241)rotate(-90)scale(0.0833 -0.0833)\">\n       <defs>\n        <path d=\"M 2188 4044 \nL 1331 1722 \nL 3047 1722 \nL 2188 4044 \nz\nM 1831 4666 \nL 2547 4666 \nL 4325 0 \nL 3669 0 \nL 3244 1197 \nL 1141 1197 \nL 716 0 \nL 50 0 \nL 1831 4666 \nz\nM 1894 5941 \nL 2481 5941 \nL 3141 5110 \nL 2706 5110 \nL 2188 5666 \nL 1669 5110 \nL 1234 5110 \nL 1894 5941 \nz\n\" id=\"DejaVuSans-c2\" transform=\"scale(0.015625)\"/>\n       </defs>\n       <use xlink:href=\"#DejaVuSans-c2\"/>\n      </g>\n     </g>\n    </g>\n    <g id=\"xtick_39\">\n     <g id=\"line2d_39\">\n      <g>\n       <use style=\"stroke:#000000;stroke-width:0.8;\" x=\"812.888712\" xlink:href=\"#m8642593f89\" y=\"550.8\"/>\n      </g>\n     </g>\n     <g id=\"text_39\">\n      <!-- make -->\n      <g transform=\"translate(815.187271 580.66585)rotate(-90)scale(0.0833 -0.0833)\">\n       <defs>\n        <path d=\"M 3328 2828 \nQ 3544 3216 3844 3400 \nQ 4144 3584 4550 3584 \nQ 5097 3584 5394 3201 \nQ 5691 2819 5691 2113 \nL 5691 0 \nL 5113 0 \nL 5113 2094 \nQ 5113 2597 4934 2840 \nQ 4756 3084 4391 3084 \nQ 3944 3084 3684 2787 \nQ 3425 2491 3425 1978 \nL 3425 0 \nL 2847 0 \nL 2847 2094 \nQ 2847 2600 2669 2842 \nQ 2491 3084 2119 3084 \nQ 1678 3084 1418 2786 \nQ 1159 2488 1159 1978 \nL 1159 0 \nL 581 0 \nL 581 3500 \nL 1159 3500 \nL 1159 2956 \nQ 1356 3278 1631 3431 \nQ 1906 3584 2284 3584 \nQ 2666 3584 2933 3390 \nQ 3200 3197 3328 2828 \nz\n\" id=\"DejaVuSans-6d\" transform=\"scale(0.015625)\"/>\n       </defs>\n       <use xlink:href=\"#DejaVuSans-6d\"/>\n       <use x=\"97.412109\" xlink:href=\"#DejaVuSans-61\"/>\n       <use x=\"158.691406\" xlink:href=\"#DejaVuSans-6b\"/>\n       <use x=\"212.976562\" xlink:href=\"#DejaVuSans-65\"/>\n      </g>\n     </g>\n    </g>\n    <g id=\"xtick_40\">\n     <g id=\"line2d_40\">\n      <g>\n       <use style=\"stroke:#000000;stroke-width:0.8;\" x=\"832.00703\" xlink:href=\"#m8642593f89\" y=\"550.8\"/>\n      </g>\n     </g>\n     <g id=\"text_40\">\n      <!-- A -->\n      <g transform=\"translate(834.30559 563.498241)rotate(-90)scale(0.0833 -0.0833)\">\n       <defs>\n        <path d=\"M 2188 4044 \nL 1331 1722 \nL 3047 1722 \nL 2188 4044 \nz\nM 1831 4666 \nL 2547 4666 \nL 4325 0 \nL 3669 0 \nL 3244 1197 \nL 1141 1197 \nL 716 0 \nL 50 0 \nL 1831 4666 \nz\n\" id=\"DejaVuSans-41\" transform=\"scale(0.015625)\"/>\n       </defs>\n       <use xlink:href=\"#DejaVuSans-41\"/>\n      </g>\n     </g>\n    </g>\n   </g>\n   <g id=\"matplotlib.axis_2\">\n    <g id=\"ytick_1\">\n     <g id=\"line2d_41\">\n      <defs>\n       <path d=\"M 0 0 \nL -3.5 0 \n\" id=\"m6678694b92\" style=\"stroke:#000000;stroke-width:0.8;\"/>\n      </defs>\n      <g>\n       <use style=\"stroke:#000000;stroke-width:0.8;\" x=\"40.699813\" xlink:href=\"#m6678694b92\" y=\"550.8\"/>\n      </g>\n     </g>\n     <g id=\"text_41\">\n      <!-- 0 -->\n      <g transform=\"translate(28.39985 553.964749)scale(0.0833 -0.0833)\">\n       <defs>\n        <path d=\"M 2034 4250 \nQ 1547 4250 1301 3770 \nQ 1056 3291 1056 2328 \nQ 1056 1369 1301 889 \nQ 1547 409 2034 409 \nQ 2525 409 2770 889 \nQ 3016 1369 3016 2328 \nQ 3016 3291 2770 3770 \nQ 2525 4250 2034 4250 \nz\nM 2034 4750 \nQ 2819 4750 3233 4129 \nQ 3647 3509 3647 2328 \nQ 3647 1150 3233 529 \nQ 2819 -91 2034 -91 \nQ 1250 -91 836 529 \nQ 422 1150 422 2328 \nQ 422 3509 836 4129 \nQ 1250 4750 2034 4750 \nz\n\" id=\"DejaVuSans-30\" transform=\"scale(0.015625)\"/>\n       </defs>\n       <use xlink:href=\"#DejaVuSans-30\"/>\n      </g>\n     </g>\n    </g>\n    <g id=\"ytick_2\">\n     <g id=\"line2d_42\">\n      <g>\n       <use style=\"stroke:#000000;stroke-width:0.8;\" x=\"40.699813\" xlink:href=\"#m6678694b92\" y=\"484.625745\"/>\n      </g>\n     </g>\n     <g id=\"text_42\">\n      <!-- 2000 -->\n      <g transform=\"translate(12.499963 487.790494)scale(0.0833 -0.0833)\">\n       <defs>\n        <path d=\"M 1228 531 \nL 3431 531 \nL 3431 0 \nL 469 0 \nL 469 531 \nQ 828 903 1448 1529 \nQ 2069 2156 2228 2338 \nQ 2531 2678 2651 2914 \nQ 2772 3150 2772 3378 \nQ 2772 3750 2511 3984 \nQ 2250 4219 1831 4219 \nQ 1534 4219 1204 4116 \nQ 875 4013 500 3803 \nL 500 4441 \nQ 881 4594 1212 4672 \nQ 1544 4750 1819 4750 \nQ 2544 4750 2975 4387 \nQ 3406 4025 3406 3419 \nQ 3406 3131 3298 2873 \nQ 3191 2616 2906 2266 \nQ 2828 2175 2409 1742 \nQ 1991 1309 1228 531 \nz\n\" id=\"DejaVuSans-32\" transform=\"scale(0.015625)\"/>\n       </defs>\n       <use xlink:href=\"#DejaVuSans-32\"/>\n       <use x=\"63.623047\" xlink:href=\"#DejaVuSans-30\"/>\n       <use x=\"127.246094\" xlink:href=\"#DejaVuSans-30\"/>\n       <use x=\"190.869141\" xlink:href=\"#DejaVuSans-30\"/>\n      </g>\n     </g>\n    </g>\n    <g id=\"ytick_3\">\n     <g id=\"line2d_43\">\n      <g>\n       <use style=\"stroke:#000000;stroke-width:0.8;\" x=\"40.699813\" xlink:href=\"#m6678694b92\" y=\"418.45149\"/>\n      </g>\n     </g>\n     <g id=\"text_43\">\n      <!-- 4000 -->\n      <g transform=\"translate(12.499963 421.616239)scale(0.0833 -0.0833)\">\n       <defs>\n        <path d=\"M 2419 4116 \nL 825 1625 \nL 2419 1625 \nL 2419 4116 \nz\nM 2253 4666 \nL 3047 4666 \nL 3047 1625 \nL 3713 1625 \nL 3713 1100 \nL 3047 1100 \nL 3047 0 \nL 2419 0 \nL 2419 1100 \nL 313 1100 \nL 313 1709 \nL 2253 4666 \nz\n\" id=\"DejaVuSans-34\" transform=\"scale(0.015625)\"/>\n       </defs>\n       <use xlink:href=\"#DejaVuSans-34\"/>\n       <use x=\"63.623047\" xlink:href=\"#DejaVuSans-30\"/>\n       <use x=\"127.246094\" xlink:href=\"#DejaVuSans-30\"/>\n       <use x=\"190.869141\" xlink:href=\"#DejaVuSans-30\"/>\n      </g>\n     </g>\n    </g>\n    <g id=\"ytick_4\">\n     <g id=\"line2d_44\">\n      <g>\n       <use style=\"stroke:#000000;stroke-width:0.8;\" x=\"40.699813\" xlink:href=\"#m6678694b92\" y=\"352.277234\"/>\n      </g>\n     </g>\n     <g id=\"text_44\">\n      <!-- 6000 -->\n      <g transform=\"translate(12.499963 355.441984)scale(0.0833 -0.0833)\">\n       <defs>\n        <path d=\"M 2113 2584 \nQ 1688 2584 1439 2293 \nQ 1191 2003 1191 1497 \nQ 1191 994 1439 701 \nQ 1688 409 2113 409 \nQ 2538 409 2786 701 \nQ 3034 994 3034 1497 \nQ 3034 2003 2786 2293 \nQ 2538 2584 2113 2584 \nz\nM 3366 4563 \nL 3366 3988 \nQ 3128 4100 2886 4159 \nQ 2644 4219 2406 4219 \nQ 1781 4219 1451 3797 \nQ 1122 3375 1075 2522 \nQ 1259 2794 1537 2939 \nQ 1816 3084 2150 3084 \nQ 2853 3084 3261 2657 \nQ 3669 2231 3669 1497 \nQ 3669 778 3244 343 \nQ 2819 -91 2113 -91 \nQ 1303 -91 875 529 \nQ 447 1150 447 2328 \nQ 447 3434 972 4092 \nQ 1497 4750 2381 4750 \nQ 2619 4750 2861 4703 \nQ 3103 4656 3366 4563 \nz\n\" id=\"DejaVuSans-36\" transform=\"scale(0.015625)\"/>\n       </defs>\n       <use xlink:href=\"#DejaVuSans-36\"/>\n       <use x=\"63.623047\" xlink:href=\"#DejaVuSans-30\"/>\n       <use x=\"127.246094\" xlink:href=\"#DejaVuSans-30\"/>\n       <use x=\"190.869141\" xlink:href=\"#DejaVuSans-30\"/>\n      </g>\n     </g>\n    </g>\n    <g id=\"ytick_5\">\n     <g id=\"line2d_45\">\n      <g>\n       <use style=\"stroke:#000000;stroke-width:0.8;\" x=\"40.699813\" xlink:href=\"#m6678694b92\" y=\"286.102979\"/>\n      </g>\n     </g>\n     <g id=\"text_45\">\n      <!-- 8000 -->\n      <g transform=\"translate(12.499963 289.267728)scale(0.0833 -0.0833)\">\n       <defs>\n        <path d=\"M 2034 2216 \nQ 1584 2216 1326 1975 \nQ 1069 1734 1069 1313 \nQ 1069 891 1326 650 \nQ 1584 409 2034 409 \nQ 2484 409 2743 651 \nQ 3003 894 3003 1313 \nQ 3003 1734 2745 1975 \nQ 2488 2216 2034 2216 \nz\nM 1403 2484 \nQ 997 2584 770 2862 \nQ 544 3141 544 3541 \nQ 544 4100 942 4425 \nQ 1341 4750 2034 4750 \nQ 2731 4750 3128 4425 \nQ 3525 4100 3525 3541 \nQ 3525 3141 3298 2862 \nQ 3072 2584 2669 2484 \nQ 3125 2378 3379 2068 \nQ 3634 1759 3634 1313 \nQ 3634 634 3220 271 \nQ 2806 -91 2034 -91 \nQ 1263 -91 848 271 \nQ 434 634 434 1313 \nQ 434 1759 690 2068 \nQ 947 2378 1403 2484 \nz\nM 1172 3481 \nQ 1172 3119 1398 2916 \nQ 1625 2713 2034 2713 \nQ 2441 2713 2670 2916 \nQ 2900 3119 2900 3481 \nQ 2900 3844 2670 4047 \nQ 2441 4250 2034 4250 \nQ 1625 4250 1398 4047 \nQ 1172 3844 1172 3481 \nz\n\" id=\"DejaVuSans-38\" transform=\"scale(0.015625)\"/>\n       </defs>\n       <use xlink:href=\"#DejaVuSans-38\"/>\n       <use x=\"63.623047\" xlink:href=\"#DejaVuSans-30\"/>\n       <use x=\"127.246094\" xlink:href=\"#DejaVuSans-30\"/>\n       <use x=\"190.869141\" xlink:href=\"#DejaVuSans-30\"/>\n      </g>\n     </g>\n    </g>\n    <g id=\"ytick_6\">\n     <g id=\"line2d_46\">\n      <g>\n       <use style=\"stroke:#000000;stroke-width:0.8;\" x=\"40.699813\" xlink:href=\"#m6678694b92\" y=\"219.928724\"/>\n      </g>\n     </g>\n     <g id=\"text_46\">\n      <!-- 10000 -->\n      <g transform=\"translate(7.2 223.093473)scale(0.0833 -0.0833)\">\n       <defs>\n        <path d=\"M 794 531 \nL 1825 531 \nL 1825 4091 \nL 703 3866 \nL 703 4441 \nL 1819 4666 \nL 2450 4666 \nL 2450 531 \nL 3481 531 \nL 3481 0 \nL 794 0 \nL 794 531 \nz\n\" id=\"DejaVuSans-31\" transform=\"scale(0.015625)\"/>\n       </defs>\n       <use xlink:href=\"#DejaVuSans-31\"/>\n       <use x=\"63.623047\" xlink:href=\"#DejaVuSans-30\"/>\n       <use x=\"127.246094\" xlink:href=\"#DejaVuSans-30\"/>\n       <use x=\"190.869141\" xlink:href=\"#DejaVuSans-30\"/>\n       <use x=\"254.492188\" xlink:href=\"#DejaVuSans-30\"/>\n      </g>\n     </g>\n    </g>\n    <g id=\"ytick_7\">\n     <g id=\"line2d_47\">\n      <g>\n       <use style=\"stroke:#000000;stroke-width:0.8;\" x=\"40.699813\" xlink:href=\"#m6678694b92\" y=\"153.754469\"/>\n      </g>\n     </g>\n     <g id=\"text_47\">\n      <!-- 12000 -->\n      <g transform=\"translate(7.2 156.919218)scale(0.0833 -0.0833)\">\n       <use xlink:href=\"#DejaVuSans-31\"/>\n       <use x=\"63.623047\" xlink:href=\"#DejaVuSans-32\"/>\n       <use x=\"127.246094\" xlink:href=\"#DejaVuSans-30\"/>\n       <use x=\"190.869141\" xlink:href=\"#DejaVuSans-30\"/>\n       <use x=\"254.492188\" xlink:href=\"#DejaVuSans-30\"/>\n      </g>\n     </g>\n    </g>\n    <g id=\"ytick_8\">\n     <g id=\"line2d_48\">\n      <g>\n       <use style=\"stroke:#000000;stroke-width:0.8;\" x=\"40.699813\" xlink:href=\"#m6678694b92\" y=\"87.580213\"/>\n      </g>\n     </g>\n     <g id=\"text_48\">\n      <!-- 14000 -->\n      <g transform=\"translate(7.2 90.744963)scale(0.0833 -0.0833)\">\n       <use xlink:href=\"#DejaVuSans-31\"/>\n       <use x=\"63.623047\" xlink:href=\"#DejaVuSans-34\"/>\n       <use x=\"127.246094\" xlink:href=\"#DejaVuSans-30\"/>\n       <use x=\"190.869141\" xlink:href=\"#DejaVuSans-30\"/>\n       <use x=\"254.492188\" xlink:href=\"#DejaVuSans-30\"/>\n      </g>\n     </g>\n    </g>\n    <g id=\"ytick_9\">\n     <g id=\"line2d_49\">\n      <g>\n       <use style=\"stroke:#000000;stroke-width:0.8;\" x=\"40.699813\" xlink:href=\"#m6678694b92\" y=\"21.405958\"/>\n      </g>\n     </g>\n     <g id=\"text_49\">\n      <!-- 16000 -->\n      <g transform=\"translate(7.2 24.570707)scale(0.0833 -0.0833)\">\n       <use xlink:href=\"#DejaVuSans-31\"/>\n       <use x=\"63.623047\" xlink:href=\"#DejaVuSans-36\"/>\n       <use x=\"127.246094\" xlink:href=\"#DejaVuSans-30\"/>\n       <use x=\"190.869141\" xlink:href=\"#DejaVuSans-30\"/>\n       <use x=\"254.492188\" xlink:href=\"#DejaVuSans-30\"/>\n      </g>\n     </g>\n    </g>\n   </g>\n   <g id=\"patch_43\">\n    <path d=\"M 40.699813 550.8 \nL 40.699813 7.2 \n\" style=\"fill:none;stroke:#000000;stroke-linecap:square;stroke-linejoin:miter;stroke-width:0.8;\"/>\n   </g>\n   <g id=\"patch_44\">\n    <path d=\"M 877.699813 550.8 \nL 877.699813 7.2 \n\" style=\"fill:none;stroke:#000000;stroke-linecap:square;stroke-linejoin:miter;stroke-width:0.8;\"/>\n   </g>\n   <g id=\"patch_45\">\n    <path d=\"M 40.699813 550.8 \nL 877.699813 550.8 \n\" style=\"fill:none;stroke:#000000;stroke-linecap:square;stroke-linejoin:miter;stroke-width:0.8;\"/>\n   </g>\n   <g id=\"patch_46\">\n    <path d=\"M 40.699813 7.2 \nL 877.699813 7.2 \n\" style=\"fill:none;stroke:#000000;stroke-linecap:square;stroke-linejoin:miter;stroke-width:0.8;\"/>\n   </g>\n  </g>\n </g>\n <defs>\n  <clipPath id=\"p7f851fb60d\">\n   <rect height=\"543.6\" width=\"837\" x=\"40.699813\" y=\"7.2\"/>\n  </clipPath>\n </defs>\n</svg>\n",
      "image/png": "[encoded data removed]"
     },
     "metadata": {
      "needs_background": "light"
     }
    }
   ],
   "metadata": {}
  },
  {
   "cell_type": "markdown",
   "source": [
    "Above is just a graph to display the top most used words."
   ],
   "metadata": {}
  },
  {
   "cell_type": "markdown",
   "source": [
    "## Conclusion\n",
    "\n",
    "To conclude with NLTK we see that vaccine was said the most which is not surprising since this whole dataset is about the vaccine being released to the public and these are all of users thoghts on the idea of the vaccine."
   ],
   "metadata": {}
  }
 ],
 "metadata": {
  "kernelspec": {
   "name": "python3",
   "display_name": "Python 3.9.1 64-bit ('base': conda)"
  },
  "language_info": {
   "name": "python",
   "version": "3.9.6",
   "mimetype": "text/x-python",
   "codemirror_mode": {
    "name": "ipython",
    "version": 3
   },
   "pygments_lexer": "ipython3",
   "nbconvert_exporter": "python",
   "file_extension": ".py"
  },
  "interpreter": {
   "hash": "569d6b7e9215e11aba41c6454007e5c1b78bad7df09dab765d8cf00362c40f03"
  }
 },
 "nbformat": 4,
 "nbformat_minor": 5
}